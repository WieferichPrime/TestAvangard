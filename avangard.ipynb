{
 "cells": [
  {
   "cell_type": "code",
   "execution_count": 1,
   "id": "20108639-14a4-4b5e-b058-7f8dbf799b93",
   "metadata": {},
   "outputs": [],
   "source": [
    "#!pip install hvplot"
   ]
  },
  {
   "cell_type": "code",
   "execution_count": 2,
   "id": "f1a17950-7671-4e0b-b836-4c7bb9709a98",
   "metadata": {},
   "outputs": [
    {
     "data": {
      "application/javascript": [
       "(function(root) {\n",
       "  function now() {\n",
       "    return new Date();\n",
       "  }\n",
       "\n",
       "  var force = true;\n",
       "  var py_version = '3.4.1'.replace('rc', '-rc.').replace('.dev', '-dev.');\n",
       "  var reloading = false;\n",
       "  var Bokeh = root.Bokeh;\n",
       "\n",
       "  if (typeof (root._bokeh_timeout) === \"undefined\" || force) {\n",
       "    root._bokeh_timeout = Date.now() + 5000;\n",
       "    root._bokeh_failed_load = false;\n",
       "  }\n",
       "\n",
       "  function run_callbacks() {\n",
       "    try {\n",
       "      root._bokeh_onload_callbacks.forEach(function(callback) {\n",
       "        if (callback != null)\n",
       "          callback();\n",
       "      });\n",
       "    } finally {\n",
       "      delete root._bokeh_onload_callbacks;\n",
       "    }\n",
       "    console.debug(\"Bokeh: all callbacks have finished\");\n",
       "  }\n",
       "\n",
       "  function load_libs(css_urls, js_urls, js_modules, js_exports, callback) {\n",
       "    if (css_urls == null) css_urls = [];\n",
       "    if (js_urls == null) js_urls = [];\n",
       "    if (js_modules == null) js_modules = [];\n",
       "    if (js_exports == null) js_exports = {};\n",
       "\n",
       "    root._bokeh_onload_callbacks.push(callback);\n",
       "\n",
       "    if (root._bokeh_is_loading > 0) {\n",
       "      console.debug(\"Bokeh: BokehJS is being loaded, scheduling callback at\", now());\n",
       "      return null;\n",
       "    }\n",
       "    if (js_urls.length === 0 && js_modules.length === 0 && Object.keys(js_exports).length === 0) {\n",
       "      run_callbacks();\n",
       "      return null;\n",
       "    }\n",
       "    if (!reloading) {\n",
       "      console.debug(\"Bokeh: BokehJS not loaded, scheduling load and callback at\", now());\n",
       "    }\n",
       "\n",
       "    function on_load() {\n",
       "      root._bokeh_is_loading--;\n",
       "      if (root._bokeh_is_loading === 0) {\n",
       "        console.debug(\"Bokeh: all BokehJS libraries/stylesheets loaded\");\n",
       "        run_callbacks()\n",
       "      }\n",
       "    }\n",
       "    window._bokeh_on_load = on_load\n",
       "\n",
       "    function on_error() {\n",
       "      console.error(\"failed to load \" + url);\n",
       "    }\n",
       "\n",
       "    var skip = [];\n",
       "    if (window.requirejs) {\n",
       "      window.requirejs.config({'packages': {}, 'paths': {}, 'shim': {}});\n",
       "      root._bokeh_is_loading = css_urls.length + 0;\n",
       "    } else {\n",
       "      root._bokeh_is_loading = css_urls.length + js_urls.length + js_modules.length + Object.keys(js_exports).length;\n",
       "    }\n",
       "\n",
       "    var existing_stylesheets = []\n",
       "    var links = document.getElementsByTagName('link')\n",
       "    for (var i = 0; i < links.length; i++) {\n",
       "      var link = links[i]\n",
       "      if (link.href != null) {\n",
       "\texisting_stylesheets.push(link.href)\n",
       "      }\n",
       "    }\n",
       "    for (var i = 0; i < css_urls.length; i++) {\n",
       "      var url = css_urls[i];\n",
       "      if (existing_stylesheets.indexOf(url) !== -1) {\n",
       "\ton_load()\n",
       "\tcontinue;\n",
       "      }\n",
       "      const element = document.createElement(\"link\");\n",
       "      element.onload = on_load;\n",
       "      element.onerror = on_error;\n",
       "      element.rel = \"stylesheet\";\n",
       "      element.type = \"text/css\";\n",
       "      element.href = url;\n",
       "      console.debug(\"Bokeh: injecting link tag for BokehJS stylesheet: \", url);\n",
       "      document.body.appendChild(element);\n",
       "    }    var existing_scripts = []\n",
       "    var scripts = document.getElementsByTagName('script')\n",
       "    for (var i = 0; i < scripts.length; i++) {\n",
       "      var script = scripts[i]\n",
       "      if (script.src != null) {\n",
       "\texisting_scripts.push(script.src)\n",
       "      }\n",
       "    }\n",
       "    for (var i = 0; i < js_urls.length; i++) {\n",
       "      var url = js_urls[i];\n",
       "      if (skip.indexOf(url) !== -1 || existing_scripts.indexOf(url) !== -1) {\n",
       "\tif (!window.requirejs) {\n",
       "\t  on_load();\n",
       "\t}\n",
       "\tcontinue;\n",
       "      }\n",
       "      var element = document.createElement('script');\n",
       "      element.onload = on_load;\n",
       "      element.onerror = on_error;\n",
       "      element.async = false;\n",
       "      element.src = url;\n",
       "      console.debug(\"Bokeh: injecting script tag for BokehJS library: \", url);\n",
       "      document.head.appendChild(element);\n",
       "    }\n",
       "    for (var i = 0; i < js_modules.length; i++) {\n",
       "      var url = js_modules[i];\n",
       "      if (skip.indexOf(url) !== -1 || existing_scripts.indexOf(url) !== -1) {\n",
       "\tif (!window.requirejs) {\n",
       "\t  on_load();\n",
       "\t}\n",
       "\tcontinue;\n",
       "      }\n",
       "      var element = document.createElement('script');\n",
       "      element.onload = on_load;\n",
       "      element.onerror = on_error;\n",
       "      element.async = false;\n",
       "      element.src = url;\n",
       "      element.type = \"module\";\n",
       "      console.debug(\"Bokeh: injecting script tag for BokehJS library: \", url);\n",
       "      document.head.appendChild(element);\n",
       "    }\n",
       "    for (const name in js_exports) {\n",
       "      var url = js_exports[name];\n",
       "      if (skip.indexOf(url) >= 0 || root[name] != null) {\n",
       "\tif (!window.requirejs) {\n",
       "\t  on_load();\n",
       "\t}\n",
       "\tcontinue;\n",
       "      }\n",
       "      var element = document.createElement('script');\n",
       "      element.onerror = on_error;\n",
       "      element.async = false;\n",
       "      element.type = \"module\";\n",
       "      console.debug(\"Bokeh: injecting script tag for BokehJS library: \", url);\n",
       "      element.textContent = `\n",
       "      import ${name} from \"${url}\"\n",
       "      window.${name} = ${name}\n",
       "      window._bokeh_on_load()\n",
       "      `\n",
       "      document.head.appendChild(element);\n",
       "    }\n",
       "    if (!js_urls.length && !js_modules.length) {\n",
       "      on_load()\n",
       "    }\n",
       "  };\n",
       "\n",
       "  function inject_raw_css(css) {\n",
       "    const element = document.createElement(\"style\");\n",
       "    element.appendChild(document.createTextNode(css));\n",
       "    document.body.appendChild(element);\n",
       "  }\n",
       "\n",
       "  var js_urls = [\"https://cdn.bokeh.org/bokeh/release/bokeh-3.4.1.min.js\", \"https://cdn.bokeh.org/bokeh/release/bokeh-gl-3.4.1.min.js\", \"https://cdn.bokeh.org/bokeh/release/bokeh-widgets-3.4.1.min.js\", \"https://cdn.bokeh.org/bokeh/release/bokeh-tables-3.4.1.min.js\", \"https://cdn.holoviz.org/panel/1.4.4/dist/panel.min.js\"];\n",
       "  var js_modules = [];\n",
       "  var js_exports = {};\n",
       "  var css_urls = [];\n",
       "  var inline_js = [    function(Bokeh) {\n",
       "      Bokeh.set_log_level(\"info\");\n",
       "    },\n",
       "function(Bokeh) {} // ensure no trailing comma for IE\n",
       "  ];\n",
       "\n",
       "  function run_inline_js() {\n",
       "    if ((root.Bokeh !== undefined) || (force === true)) {\n",
       "      for (var i = 0; i < inline_js.length; i++) {\n",
       "\ttry {\n",
       "          inline_js[i].call(root, root.Bokeh);\n",
       "\t} catch(e) {\n",
       "\t  if (!reloading) {\n",
       "\t    throw e;\n",
       "\t  }\n",
       "\t}\n",
       "      }\n",
       "      // Cache old bokeh versions\n",
       "      if (Bokeh != undefined && !reloading) {\n",
       "\tvar NewBokeh = root.Bokeh;\n",
       "\tif (Bokeh.versions === undefined) {\n",
       "\t  Bokeh.versions = new Map();\n",
       "\t}\n",
       "\tif (NewBokeh.version !== Bokeh.version) {\n",
       "\t  Bokeh.versions.set(NewBokeh.version, NewBokeh)\n",
       "\t}\n",
       "\troot.Bokeh = Bokeh;\n",
       "      }} else if (Date.now() < root._bokeh_timeout) {\n",
       "      setTimeout(run_inline_js, 100);\n",
       "    } else if (!root._bokeh_failed_load) {\n",
       "      console.log(\"Bokeh: BokehJS failed to load within specified timeout.\");\n",
       "      root._bokeh_failed_load = true;\n",
       "    }\n",
       "    root._bokeh_is_initializing = false\n",
       "  }\n",
       "\n",
       "  function load_or_wait() {\n",
       "    // Implement a backoff loop that tries to ensure we do not load multiple\n",
       "    // versions of Bokeh and its dependencies at the same time.\n",
       "    // In recent versions we use the root._bokeh_is_initializing flag\n",
       "    // to determine whether there is an ongoing attempt to initialize\n",
       "    // bokeh, however for backward compatibility we also try to ensure\n",
       "    // that we do not start loading a newer (Panel>=1.0 and Bokeh>3) version\n",
       "    // before older versions are fully initialized.\n",
       "    if (root._bokeh_is_initializing && Date.now() > root._bokeh_timeout) {\n",
       "      root._bokeh_is_initializing = false;\n",
       "      root._bokeh_onload_callbacks = undefined;\n",
       "      console.log(\"Bokeh: BokehJS was loaded multiple times but one version failed to initialize.\");\n",
       "      load_or_wait();\n",
       "    } else if (root._bokeh_is_initializing || (typeof root._bokeh_is_initializing === \"undefined\" && root._bokeh_onload_callbacks !== undefined)) {\n",
       "      setTimeout(load_or_wait, 100);\n",
       "    } else {\n",
       "      root._bokeh_is_initializing = true\n",
       "      root._bokeh_onload_callbacks = []\n",
       "      var bokeh_loaded = Bokeh != null && (Bokeh.version === py_version || (Bokeh.versions !== undefined && Bokeh.versions.has(py_version)));\n",
       "      if (!reloading && !bokeh_loaded) {\n",
       "\troot.Bokeh = undefined;\n",
       "      }\n",
       "      load_libs(css_urls, js_urls, js_modules, js_exports, function() {\n",
       "\tconsole.debug(\"Bokeh: BokehJS plotting callback run at\", now());\n",
       "\trun_inline_js();\n",
       "      });\n",
       "    }\n",
       "  }\n",
       "  // Give older versions of the autoload script a head-start to ensure\n",
       "  // they initialize before we start loading newer version.\n",
       "  setTimeout(load_or_wait, 100)\n",
       "}(window));"
      ],
      "application/vnd.holoviews_load.v0+json": "(function(root) {\n  function now() {\n    return new Date();\n  }\n\n  var force = true;\n  var py_version = '3.4.1'.replace('rc', '-rc.').replace('.dev', '-dev.');\n  var reloading = false;\n  var Bokeh = root.Bokeh;\n\n  if (typeof (root._bokeh_timeout) === \"undefined\" || force) {\n    root._bokeh_timeout = Date.now() + 5000;\n    root._bokeh_failed_load = false;\n  }\n\n  function run_callbacks() {\n    try {\n      root._bokeh_onload_callbacks.forEach(function(callback) {\n        if (callback != null)\n          callback();\n      });\n    } finally {\n      delete root._bokeh_onload_callbacks;\n    }\n    console.debug(\"Bokeh: all callbacks have finished\");\n  }\n\n  function load_libs(css_urls, js_urls, js_modules, js_exports, callback) {\n    if (css_urls == null) css_urls = [];\n    if (js_urls == null) js_urls = [];\n    if (js_modules == null) js_modules = [];\n    if (js_exports == null) js_exports = {};\n\n    root._bokeh_onload_callbacks.push(callback);\n\n    if (root._bokeh_is_loading > 0) {\n      console.debug(\"Bokeh: BokehJS is being loaded, scheduling callback at\", now());\n      return null;\n    }\n    if (js_urls.length === 0 && js_modules.length === 0 && Object.keys(js_exports).length === 0) {\n      run_callbacks();\n      return null;\n    }\n    if (!reloading) {\n      console.debug(\"Bokeh: BokehJS not loaded, scheduling load and callback at\", now());\n    }\n\n    function on_load() {\n      root._bokeh_is_loading--;\n      if (root._bokeh_is_loading === 0) {\n        console.debug(\"Bokeh: all BokehJS libraries/stylesheets loaded\");\n        run_callbacks()\n      }\n    }\n    window._bokeh_on_load = on_load\n\n    function on_error() {\n      console.error(\"failed to load \" + url);\n    }\n\n    var skip = [];\n    if (window.requirejs) {\n      window.requirejs.config({'packages': {}, 'paths': {}, 'shim': {}});\n      root._bokeh_is_loading = css_urls.length + 0;\n    } else {\n      root._bokeh_is_loading = css_urls.length + js_urls.length + js_modules.length + Object.keys(js_exports).length;\n    }\n\n    var existing_stylesheets = []\n    var links = document.getElementsByTagName('link')\n    for (var i = 0; i < links.length; i++) {\n      var link = links[i]\n      if (link.href != null) {\n\texisting_stylesheets.push(link.href)\n      }\n    }\n    for (var i = 0; i < css_urls.length; i++) {\n      var url = css_urls[i];\n      if (existing_stylesheets.indexOf(url) !== -1) {\n\ton_load()\n\tcontinue;\n      }\n      const element = document.createElement(\"link\");\n      element.onload = on_load;\n      element.onerror = on_error;\n      element.rel = \"stylesheet\";\n      element.type = \"text/css\";\n      element.href = url;\n      console.debug(\"Bokeh: injecting link tag for BokehJS stylesheet: \", url);\n      document.body.appendChild(element);\n    }    var existing_scripts = []\n    var scripts = document.getElementsByTagName('script')\n    for (var i = 0; i < scripts.length; i++) {\n      var script = scripts[i]\n      if (script.src != null) {\n\texisting_scripts.push(script.src)\n      }\n    }\n    for (var i = 0; i < js_urls.length; i++) {\n      var url = js_urls[i];\n      if (skip.indexOf(url) !== -1 || existing_scripts.indexOf(url) !== -1) {\n\tif (!window.requirejs) {\n\t  on_load();\n\t}\n\tcontinue;\n      }\n      var element = document.createElement('script');\n      element.onload = on_load;\n      element.onerror = on_error;\n      element.async = false;\n      element.src = url;\n      console.debug(\"Bokeh: injecting script tag for BokehJS library: \", url);\n      document.head.appendChild(element);\n    }\n    for (var i = 0; i < js_modules.length; i++) {\n      var url = js_modules[i];\n      if (skip.indexOf(url) !== -1 || existing_scripts.indexOf(url) !== -1) {\n\tif (!window.requirejs) {\n\t  on_load();\n\t}\n\tcontinue;\n      }\n      var element = document.createElement('script');\n      element.onload = on_load;\n      element.onerror = on_error;\n      element.async = false;\n      element.src = url;\n      element.type = \"module\";\n      console.debug(\"Bokeh: injecting script tag for BokehJS library: \", url);\n      document.head.appendChild(element);\n    }\n    for (const name in js_exports) {\n      var url = js_exports[name];\n      if (skip.indexOf(url) >= 0 || root[name] != null) {\n\tif (!window.requirejs) {\n\t  on_load();\n\t}\n\tcontinue;\n      }\n      var element = document.createElement('script');\n      element.onerror = on_error;\n      element.async = false;\n      element.type = \"module\";\n      console.debug(\"Bokeh: injecting script tag for BokehJS library: \", url);\n      element.textContent = `\n      import ${name} from \"${url}\"\n      window.${name} = ${name}\n      window._bokeh_on_load()\n      `\n      document.head.appendChild(element);\n    }\n    if (!js_urls.length && !js_modules.length) {\n      on_load()\n    }\n  };\n\n  function inject_raw_css(css) {\n    const element = document.createElement(\"style\");\n    element.appendChild(document.createTextNode(css));\n    document.body.appendChild(element);\n  }\n\n  var js_urls = [\"https://cdn.bokeh.org/bokeh/release/bokeh-3.4.1.min.js\", \"https://cdn.bokeh.org/bokeh/release/bokeh-gl-3.4.1.min.js\", \"https://cdn.bokeh.org/bokeh/release/bokeh-widgets-3.4.1.min.js\", \"https://cdn.bokeh.org/bokeh/release/bokeh-tables-3.4.1.min.js\", \"https://cdn.holoviz.org/panel/1.4.4/dist/panel.min.js\"];\n  var js_modules = [];\n  var js_exports = {};\n  var css_urls = [];\n  var inline_js = [    function(Bokeh) {\n      Bokeh.set_log_level(\"info\");\n    },\nfunction(Bokeh) {} // ensure no trailing comma for IE\n  ];\n\n  function run_inline_js() {\n    if ((root.Bokeh !== undefined) || (force === true)) {\n      for (var i = 0; i < inline_js.length; i++) {\n\ttry {\n          inline_js[i].call(root, root.Bokeh);\n\t} catch(e) {\n\t  if (!reloading) {\n\t    throw e;\n\t  }\n\t}\n      }\n      // Cache old bokeh versions\n      if (Bokeh != undefined && !reloading) {\n\tvar NewBokeh = root.Bokeh;\n\tif (Bokeh.versions === undefined) {\n\t  Bokeh.versions = new Map();\n\t}\n\tif (NewBokeh.version !== Bokeh.version) {\n\t  Bokeh.versions.set(NewBokeh.version, NewBokeh)\n\t}\n\troot.Bokeh = Bokeh;\n      }} else if (Date.now() < root._bokeh_timeout) {\n      setTimeout(run_inline_js, 100);\n    } else if (!root._bokeh_failed_load) {\n      console.log(\"Bokeh: BokehJS failed to load within specified timeout.\");\n      root._bokeh_failed_load = true;\n    }\n    root._bokeh_is_initializing = false\n  }\n\n  function load_or_wait() {\n    // Implement a backoff loop that tries to ensure we do not load multiple\n    // versions of Bokeh and its dependencies at the same time.\n    // In recent versions we use the root._bokeh_is_initializing flag\n    // to determine whether there is an ongoing attempt to initialize\n    // bokeh, however for backward compatibility we also try to ensure\n    // that we do not start loading a newer (Panel>=1.0 and Bokeh>3) version\n    // before older versions are fully initialized.\n    if (root._bokeh_is_initializing && Date.now() > root._bokeh_timeout) {\n      root._bokeh_is_initializing = false;\n      root._bokeh_onload_callbacks = undefined;\n      console.log(\"Bokeh: BokehJS was loaded multiple times but one version failed to initialize.\");\n      load_or_wait();\n    } else if (root._bokeh_is_initializing || (typeof root._bokeh_is_initializing === \"undefined\" && root._bokeh_onload_callbacks !== undefined)) {\n      setTimeout(load_or_wait, 100);\n    } else {\n      root._bokeh_is_initializing = true\n      root._bokeh_onload_callbacks = []\n      var bokeh_loaded = Bokeh != null && (Bokeh.version === py_version || (Bokeh.versions !== undefined && Bokeh.versions.has(py_version)));\n      if (!reloading && !bokeh_loaded) {\n\troot.Bokeh = undefined;\n      }\n      load_libs(css_urls, js_urls, js_modules, js_exports, function() {\n\tconsole.debug(\"Bokeh: BokehJS plotting callback run at\", now());\n\trun_inline_js();\n      });\n    }\n  }\n  // Give older versions of the autoload script a head-start to ensure\n  // they initialize before we start loading newer version.\n  setTimeout(load_or_wait, 100)\n}(window));"
     },
     "metadata": {},
     "output_type": "display_data"
    },
    {
     "data": {
      "application/javascript": [
       "\n",
       "if ((window.PyViz === undefined) || (window.PyViz instanceof HTMLElement)) {\n",
       "  window.PyViz = {comms: {}, comm_status:{}, kernels:{}, receivers: {}, plot_index: []}\n",
       "}\n",
       "\n",
       "\n",
       "    function JupyterCommManager() {\n",
       "    }\n",
       "\n",
       "    JupyterCommManager.prototype.register_target = function(plot_id, comm_id, msg_handler) {\n",
       "      if (window.comm_manager || ((window.Jupyter !== undefined) && (Jupyter.notebook.kernel != null))) {\n",
       "        var comm_manager = window.comm_manager || Jupyter.notebook.kernel.comm_manager;\n",
       "        comm_manager.register_target(comm_id, function(comm) {\n",
       "          comm.on_msg(msg_handler);\n",
       "        });\n",
       "      } else if ((plot_id in window.PyViz.kernels) && (window.PyViz.kernels[plot_id])) {\n",
       "        window.PyViz.kernels[plot_id].registerCommTarget(comm_id, function(comm) {\n",
       "          comm.onMsg = msg_handler;\n",
       "        });\n",
       "      } else if (typeof google != 'undefined' && google.colab.kernel != null) {\n",
       "        google.colab.kernel.comms.registerTarget(comm_id, (comm) => {\n",
       "          var messages = comm.messages[Symbol.asyncIterator]();\n",
       "          function processIteratorResult(result) {\n",
       "            var message = result.value;\n",
       "            console.log(message)\n",
       "            var content = {data: message.data, comm_id};\n",
       "            var buffers = []\n",
       "            for (var buffer of message.buffers || []) {\n",
       "              buffers.push(new DataView(buffer))\n",
       "            }\n",
       "            var metadata = message.metadata || {};\n",
       "            var msg = {content, buffers, metadata}\n",
       "            msg_handler(msg);\n",
       "            return messages.next().then(processIteratorResult);\n",
       "          }\n",
       "          return messages.next().then(processIteratorResult);\n",
       "        })\n",
       "      }\n",
       "    }\n",
       "\n",
       "    JupyterCommManager.prototype.get_client_comm = function(plot_id, comm_id, msg_handler) {\n",
       "      if (comm_id in window.PyViz.comms) {\n",
       "        return window.PyViz.comms[comm_id];\n",
       "      } else if (window.comm_manager || ((window.Jupyter !== undefined) && (Jupyter.notebook.kernel != null))) {\n",
       "        var comm_manager = window.comm_manager || Jupyter.notebook.kernel.comm_manager;\n",
       "        var comm = comm_manager.new_comm(comm_id, {}, {}, {}, comm_id);\n",
       "        if (msg_handler) {\n",
       "          comm.on_msg(msg_handler);\n",
       "        }\n",
       "      } else if ((plot_id in window.PyViz.kernels) && (window.PyViz.kernels[plot_id])) {\n",
       "        var comm = window.PyViz.kernels[plot_id].connectToComm(comm_id);\n",
       "        comm.open();\n",
       "        if (msg_handler) {\n",
       "          comm.onMsg = msg_handler;\n",
       "        }\n",
       "      } else if (typeof google != 'undefined' && google.colab.kernel != null) {\n",
       "        var comm_promise = google.colab.kernel.comms.open(comm_id)\n",
       "        comm_promise.then((comm) => {\n",
       "          window.PyViz.comms[comm_id] = comm;\n",
       "          if (msg_handler) {\n",
       "            var messages = comm.messages[Symbol.asyncIterator]();\n",
       "            function processIteratorResult(result) {\n",
       "              var message = result.value;\n",
       "              var content = {data: message.data};\n",
       "              var metadata = message.metadata || {comm_id};\n",
       "              var msg = {content, metadata}\n",
       "              msg_handler(msg);\n",
       "              return messages.next().then(processIteratorResult);\n",
       "            }\n",
       "            return messages.next().then(processIteratorResult);\n",
       "          }\n",
       "        }) \n",
       "        var sendClosure = (data, metadata, buffers, disposeOnDone) => {\n",
       "          return comm_promise.then((comm) => {\n",
       "            comm.send(data, metadata, buffers, disposeOnDone);\n",
       "          });\n",
       "        };\n",
       "        var comm = {\n",
       "          send: sendClosure\n",
       "        };\n",
       "      }\n",
       "      window.PyViz.comms[comm_id] = comm;\n",
       "      return comm;\n",
       "    }\n",
       "    window.PyViz.comm_manager = new JupyterCommManager();\n",
       "    \n",
       "\n",
       "\n",
       "var JS_MIME_TYPE = 'application/javascript';\n",
       "var HTML_MIME_TYPE = 'text/html';\n",
       "var EXEC_MIME_TYPE = 'application/vnd.holoviews_exec.v0+json';\n",
       "var CLASS_NAME = 'output';\n",
       "\n",
       "/**\n",
       " * Render data to the DOM node\n",
       " */\n",
       "function render(props, node) {\n",
       "  var div = document.createElement(\"div\");\n",
       "  var script = document.createElement(\"script\");\n",
       "  node.appendChild(div);\n",
       "  node.appendChild(script);\n",
       "}\n",
       "\n",
       "/**\n",
       " * Handle when a new output is added\n",
       " */\n",
       "function handle_add_output(event, handle) {\n",
       "  var output_area = handle.output_area;\n",
       "  var output = handle.output;\n",
       "  if ((output.data == undefined) || (!output.data.hasOwnProperty(EXEC_MIME_TYPE))) {\n",
       "    return\n",
       "  }\n",
       "  var id = output.metadata[EXEC_MIME_TYPE][\"id\"];\n",
       "  var toinsert = output_area.element.find(\".\" + CLASS_NAME.split(' ')[0]);\n",
       "  if (id !== undefined) {\n",
       "    var nchildren = toinsert.length;\n",
       "    var html_node = toinsert[nchildren-1].children[0];\n",
       "    html_node.innerHTML = output.data[HTML_MIME_TYPE];\n",
       "    var scripts = [];\n",
       "    var nodelist = html_node.querySelectorAll(\"script\");\n",
       "    for (var i in nodelist) {\n",
       "      if (nodelist.hasOwnProperty(i)) {\n",
       "        scripts.push(nodelist[i])\n",
       "      }\n",
       "    }\n",
       "\n",
       "    scripts.forEach( function (oldScript) {\n",
       "      var newScript = document.createElement(\"script\");\n",
       "      var attrs = [];\n",
       "      var nodemap = oldScript.attributes;\n",
       "      for (var j in nodemap) {\n",
       "        if (nodemap.hasOwnProperty(j)) {\n",
       "          attrs.push(nodemap[j])\n",
       "        }\n",
       "      }\n",
       "      attrs.forEach(function(attr) { newScript.setAttribute(attr.name, attr.value) });\n",
       "      newScript.appendChild(document.createTextNode(oldScript.innerHTML));\n",
       "      oldScript.parentNode.replaceChild(newScript, oldScript);\n",
       "    });\n",
       "    if (JS_MIME_TYPE in output.data) {\n",
       "      toinsert[nchildren-1].children[1].textContent = output.data[JS_MIME_TYPE];\n",
       "    }\n",
       "    output_area._hv_plot_id = id;\n",
       "    if ((window.Bokeh !== undefined) && (id in Bokeh.index)) {\n",
       "      window.PyViz.plot_index[id] = Bokeh.index[id];\n",
       "    } else {\n",
       "      window.PyViz.plot_index[id] = null;\n",
       "    }\n",
       "  } else if (output.metadata[EXEC_MIME_TYPE][\"server_id\"] !== undefined) {\n",
       "    var bk_div = document.createElement(\"div\");\n",
       "    bk_div.innerHTML = output.data[HTML_MIME_TYPE];\n",
       "    var script_attrs = bk_div.children[0].attributes;\n",
       "    for (var i = 0; i < script_attrs.length; i++) {\n",
       "      toinsert[toinsert.length - 1].childNodes[1].setAttribute(script_attrs[i].name, script_attrs[i].value);\n",
       "    }\n",
       "    // store reference to server id on output_area\n",
       "    output_area._bokeh_server_id = output.metadata[EXEC_MIME_TYPE][\"server_id\"];\n",
       "  }\n",
       "}\n",
       "\n",
       "/**\n",
       " * Handle when an output is cleared or removed\n",
       " */\n",
       "function handle_clear_output(event, handle) {\n",
       "  var id = handle.cell.output_area._hv_plot_id;\n",
       "  var server_id = handle.cell.output_area._bokeh_server_id;\n",
       "  if (((id === undefined) || !(id in PyViz.plot_index)) && (server_id !== undefined)) { return; }\n",
       "  var comm = window.PyViz.comm_manager.get_client_comm(\"hv-extension-comm\", \"hv-extension-comm\", function () {});\n",
       "  if (server_id !== null) {\n",
       "    comm.send({event_type: 'server_delete', 'id': server_id});\n",
       "    return;\n",
       "  } else if (comm !== null) {\n",
       "    comm.send({event_type: 'delete', 'id': id});\n",
       "  }\n",
       "  delete PyViz.plot_index[id];\n",
       "  if ((window.Bokeh !== undefined) & (id in window.Bokeh.index)) {\n",
       "    var doc = window.Bokeh.index[id].model.document\n",
       "    doc.clear();\n",
       "    const i = window.Bokeh.documents.indexOf(doc);\n",
       "    if (i > -1) {\n",
       "      window.Bokeh.documents.splice(i, 1);\n",
       "    }\n",
       "  }\n",
       "}\n",
       "\n",
       "/**\n",
       " * Handle kernel restart event\n",
       " */\n",
       "function handle_kernel_cleanup(event, handle) {\n",
       "  delete PyViz.comms[\"hv-extension-comm\"];\n",
       "  window.PyViz.plot_index = {}\n",
       "}\n",
       "\n",
       "/**\n",
       " * Handle update_display_data messages\n",
       " */\n",
       "function handle_update_output(event, handle) {\n",
       "  handle_clear_output(event, {cell: {output_area: handle.output_area}})\n",
       "  handle_add_output(event, handle)\n",
       "}\n",
       "\n",
       "function register_renderer(events, OutputArea) {\n",
       "  function append_mime(data, metadata, element) {\n",
       "    // create a DOM node to render to\n",
       "    var toinsert = this.create_output_subarea(\n",
       "    metadata,\n",
       "    CLASS_NAME,\n",
       "    EXEC_MIME_TYPE\n",
       "    );\n",
       "    this.keyboard_manager.register_events(toinsert);\n",
       "    // Render to node\n",
       "    var props = {data: data, metadata: metadata[EXEC_MIME_TYPE]};\n",
       "    render(props, toinsert[0]);\n",
       "    element.append(toinsert);\n",
       "    return toinsert\n",
       "  }\n",
       "\n",
       "  events.on('output_added.OutputArea', handle_add_output);\n",
       "  events.on('output_updated.OutputArea', handle_update_output);\n",
       "  events.on('clear_output.CodeCell', handle_clear_output);\n",
       "  events.on('delete.Cell', handle_clear_output);\n",
       "  events.on('kernel_ready.Kernel', handle_kernel_cleanup);\n",
       "\n",
       "  OutputArea.prototype.register_mime_type(EXEC_MIME_TYPE, append_mime, {\n",
       "    safe: true,\n",
       "    index: 0\n",
       "  });\n",
       "}\n",
       "\n",
       "if (window.Jupyter !== undefined) {\n",
       "  try {\n",
       "    var events = require('base/js/events');\n",
       "    var OutputArea = require('notebook/js/outputarea').OutputArea;\n",
       "    if (OutputArea.prototype.mime_types().indexOf(EXEC_MIME_TYPE) == -1) {\n",
       "      register_renderer(events, OutputArea);\n",
       "    }\n",
       "  } catch(err) {\n",
       "  }\n",
       "}\n"
      ],
      "application/vnd.holoviews_load.v0+json": "\nif ((window.PyViz === undefined) || (window.PyViz instanceof HTMLElement)) {\n  window.PyViz = {comms: {}, comm_status:{}, kernels:{}, receivers: {}, plot_index: []}\n}\n\n\n    function JupyterCommManager() {\n    }\n\n    JupyterCommManager.prototype.register_target = function(plot_id, comm_id, msg_handler) {\n      if (window.comm_manager || ((window.Jupyter !== undefined) && (Jupyter.notebook.kernel != null))) {\n        var comm_manager = window.comm_manager || Jupyter.notebook.kernel.comm_manager;\n        comm_manager.register_target(comm_id, function(comm) {\n          comm.on_msg(msg_handler);\n        });\n      } else if ((plot_id in window.PyViz.kernels) && (window.PyViz.kernels[plot_id])) {\n        window.PyViz.kernels[plot_id].registerCommTarget(comm_id, function(comm) {\n          comm.onMsg = msg_handler;\n        });\n      } else if (typeof google != 'undefined' && google.colab.kernel != null) {\n        google.colab.kernel.comms.registerTarget(comm_id, (comm) => {\n          var messages = comm.messages[Symbol.asyncIterator]();\n          function processIteratorResult(result) {\n            var message = result.value;\n            console.log(message)\n            var content = {data: message.data, comm_id};\n            var buffers = []\n            for (var buffer of message.buffers || []) {\n              buffers.push(new DataView(buffer))\n            }\n            var metadata = message.metadata || {};\n            var msg = {content, buffers, metadata}\n            msg_handler(msg);\n            return messages.next().then(processIteratorResult);\n          }\n          return messages.next().then(processIteratorResult);\n        })\n      }\n    }\n\n    JupyterCommManager.prototype.get_client_comm = function(plot_id, comm_id, msg_handler) {\n      if (comm_id in window.PyViz.comms) {\n        return window.PyViz.comms[comm_id];\n      } else if (window.comm_manager || ((window.Jupyter !== undefined) && (Jupyter.notebook.kernel != null))) {\n        var comm_manager = window.comm_manager || Jupyter.notebook.kernel.comm_manager;\n        var comm = comm_manager.new_comm(comm_id, {}, {}, {}, comm_id);\n        if (msg_handler) {\n          comm.on_msg(msg_handler);\n        }\n      } else if ((plot_id in window.PyViz.kernels) && (window.PyViz.kernels[plot_id])) {\n        var comm = window.PyViz.kernels[plot_id].connectToComm(comm_id);\n        comm.open();\n        if (msg_handler) {\n          comm.onMsg = msg_handler;\n        }\n      } else if (typeof google != 'undefined' && google.colab.kernel != null) {\n        var comm_promise = google.colab.kernel.comms.open(comm_id)\n        comm_promise.then((comm) => {\n          window.PyViz.comms[comm_id] = comm;\n          if (msg_handler) {\n            var messages = comm.messages[Symbol.asyncIterator]();\n            function processIteratorResult(result) {\n              var message = result.value;\n              var content = {data: message.data};\n              var metadata = message.metadata || {comm_id};\n              var msg = {content, metadata}\n              msg_handler(msg);\n              return messages.next().then(processIteratorResult);\n            }\n            return messages.next().then(processIteratorResult);\n          }\n        }) \n        var sendClosure = (data, metadata, buffers, disposeOnDone) => {\n          return comm_promise.then((comm) => {\n            comm.send(data, metadata, buffers, disposeOnDone);\n          });\n        };\n        var comm = {\n          send: sendClosure\n        };\n      }\n      window.PyViz.comms[comm_id] = comm;\n      return comm;\n    }\n    window.PyViz.comm_manager = new JupyterCommManager();\n    \n\n\nvar JS_MIME_TYPE = 'application/javascript';\nvar HTML_MIME_TYPE = 'text/html';\nvar EXEC_MIME_TYPE = 'application/vnd.holoviews_exec.v0+json';\nvar CLASS_NAME = 'output';\n\n/**\n * Render data to the DOM node\n */\nfunction render(props, node) {\n  var div = document.createElement(\"div\");\n  var script = document.createElement(\"script\");\n  node.appendChild(div);\n  node.appendChild(script);\n}\n\n/**\n * Handle when a new output is added\n */\nfunction handle_add_output(event, handle) {\n  var output_area = handle.output_area;\n  var output = handle.output;\n  if ((output.data == undefined) || (!output.data.hasOwnProperty(EXEC_MIME_TYPE))) {\n    return\n  }\n  var id = output.metadata[EXEC_MIME_TYPE][\"id\"];\n  var toinsert = output_area.element.find(\".\" + CLASS_NAME.split(' ')[0]);\n  if (id !== undefined) {\n    var nchildren = toinsert.length;\n    var html_node = toinsert[nchildren-1].children[0];\n    html_node.innerHTML = output.data[HTML_MIME_TYPE];\n    var scripts = [];\n    var nodelist = html_node.querySelectorAll(\"script\");\n    for (var i in nodelist) {\n      if (nodelist.hasOwnProperty(i)) {\n        scripts.push(nodelist[i])\n      }\n    }\n\n    scripts.forEach( function (oldScript) {\n      var newScript = document.createElement(\"script\");\n      var attrs = [];\n      var nodemap = oldScript.attributes;\n      for (var j in nodemap) {\n        if (nodemap.hasOwnProperty(j)) {\n          attrs.push(nodemap[j])\n        }\n      }\n      attrs.forEach(function(attr) { newScript.setAttribute(attr.name, attr.value) });\n      newScript.appendChild(document.createTextNode(oldScript.innerHTML));\n      oldScript.parentNode.replaceChild(newScript, oldScript);\n    });\n    if (JS_MIME_TYPE in output.data) {\n      toinsert[nchildren-1].children[1].textContent = output.data[JS_MIME_TYPE];\n    }\n    output_area._hv_plot_id = id;\n    if ((window.Bokeh !== undefined) && (id in Bokeh.index)) {\n      window.PyViz.plot_index[id] = Bokeh.index[id];\n    } else {\n      window.PyViz.plot_index[id] = null;\n    }\n  } else if (output.metadata[EXEC_MIME_TYPE][\"server_id\"] !== undefined) {\n    var bk_div = document.createElement(\"div\");\n    bk_div.innerHTML = output.data[HTML_MIME_TYPE];\n    var script_attrs = bk_div.children[0].attributes;\n    for (var i = 0; i < script_attrs.length; i++) {\n      toinsert[toinsert.length - 1].childNodes[1].setAttribute(script_attrs[i].name, script_attrs[i].value);\n    }\n    // store reference to server id on output_area\n    output_area._bokeh_server_id = output.metadata[EXEC_MIME_TYPE][\"server_id\"];\n  }\n}\n\n/**\n * Handle when an output is cleared or removed\n */\nfunction handle_clear_output(event, handle) {\n  var id = handle.cell.output_area._hv_plot_id;\n  var server_id = handle.cell.output_area._bokeh_server_id;\n  if (((id === undefined) || !(id in PyViz.plot_index)) && (server_id !== undefined)) { return; }\n  var comm = window.PyViz.comm_manager.get_client_comm(\"hv-extension-comm\", \"hv-extension-comm\", function () {});\n  if (server_id !== null) {\n    comm.send({event_type: 'server_delete', 'id': server_id});\n    return;\n  } else if (comm !== null) {\n    comm.send({event_type: 'delete', 'id': id});\n  }\n  delete PyViz.plot_index[id];\n  if ((window.Bokeh !== undefined) & (id in window.Bokeh.index)) {\n    var doc = window.Bokeh.index[id].model.document\n    doc.clear();\n    const i = window.Bokeh.documents.indexOf(doc);\n    if (i > -1) {\n      window.Bokeh.documents.splice(i, 1);\n    }\n  }\n}\n\n/**\n * Handle kernel restart event\n */\nfunction handle_kernel_cleanup(event, handle) {\n  delete PyViz.comms[\"hv-extension-comm\"];\n  window.PyViz.plot_index = {}\n}\n\n/**\n * Handle update_display_data messages\n */\nfunction handle_update_output(event, handle) {\n  handle_clear_output(event, {cell: {output_area: handle.output_area}})\n  handle_add_output(event, handle)\n}\n\nfunction register_renderer(events, OutputArea) {\n  function append_mime(data, metadata, element) {\n    // create a DOM node to render to\n    var toinsert = this.create_output_subarea(\n    metadata,\n    CLASS_NAME,\n    EXEC_MIME_TYPE\n    );\n    this.keyboard_manager.register_events(toinsert);\n    // Render to node\n    var props = {data: data, metadata: metadata[EXEC_MIME_TYPE]};\n    render(props, toinsert[0]);\n    element.append(toinsert);\n    return toinsert\n  }\n\n  events.on('output_added.OutputArea', handle_add_output);\n  events.on('output_updated.OutputArea', handle_update_output);\n  events.on('clear_output.CodeCell', handle_clear_output);\n  events.on('delete.Cell', handle_clear_output);\n  events.on('kernel_ready.Kernel', handle_kernel_cleanup);\n\n  OutputArea.prototype.register_mime_type(EXEC_MIME_TYPE, append_mime, {\n    safe: true,\n    index: 0\n  });\n}\n\nif (window.Jupyter !== undefined) {\n  try {\n    var events = require('base/js/events');\n    var OutputArea = require('notebook/js/outputarea').OutputArea;\n    if (OutputArea.prototype.mime_types().indexOf(EXEC_MIME_TYPE) == -1) {\n      register_renderer(events, OutputArea);\n    }\n  } catch(err) {\n  }\n}\n"
     },
     "metadata": {},
     "output_type": "display_data"
    },
    {
     "data": {
      "text/html": [
       "<style>*[data-root-id],\n",
       "*[data-root-id] > * {\n",
       "  box-sizing: border-box;\n",
       "  font-family: var(--jp-ui-font-family);\n",
       "  font-size: var(--jp-ui-font-size1);\n",
       "  color: var(--vscode-editor-foreground, var(--jp-ui-font-color1));\n",
       "}\n",
       "\n",
       "/* Override VSCode background color */\n",
       ".cell-output-ipywidget-background:has(\n",
       "    > .cell-output-ipywidget-background > .lm-Widget > *[data-root-id]\n",
       "  ),\n",
       ".cell-output-ipywidget-background:has(> .lm-Widget > *[data-root-id]) {\n",
       "  background-color: transparent !important;\n",
       "}\n",
       "</style>"
      ]
     },
     "metadata": {},
     "output_type": "display_data"
    },
    {
     "data": {
      "application/vnd.holoviews_exec.v0+json": "",
      "text/html": [
       "<div id='p1002'>\n",
       "  <div id=\"dac2533d-607a-4e08-a3a4-e1259be6789a\" data-root-id=\"p1002\" style=\"display: contents;\"></div>\n",
       "</div>\n",
       "<script type=\"application/javascript\">(function(root) {\n",
       "  var docs_json = {\"93699d83-c2bb-48bc-8d9d-573ee3580b0c\":{\"version\":\"3.4.1\",\"title\":\"Bokeh Application\",\"roots\":[{\"type\":\"object\",\"name\":\"panel.models.browser.BrowserInfo\",\"id\":\"p1002\"},{\"type\":\"object\",\"name\":\"panel.models.comm_manager.CommManager\",\"id\":\"p1003\",\"attributes\":{\"plot_id\":\"p1002\",\"comm_id\":\"1e862f4a96a34703a0b80cdcc5247660\",\"client_comm_id\":\"6201896afb0c432397641ca7ee4d9465\"}}],\"defs\":[{\"type\":\"model\",\"name\":\"ReactiveHTML1\"},{\"type\":\"model\",\"name\":\"FlexBox1\",\"properties\":[{\"name\":\"align_content\",\"kind\":\"Any\",\"default\":\"flex-start\"},{\"name\":\"align_items\",\"kind\":\"Any\",\"default\":\"flex-start\"},{\"name\":\"flex_direction\",\"kind\":\"Any\",\"default\":\"row\"},{\"name\":\"flex_wrap\",\"kind\":\"Any\",\"default\":\"wrap\"},{\"name\":\"gap\",\"kind\":\"Any\",\"default\":\"\"},{\"name\":\"justify_content\",\"kind\":\"Any\",\"default\":\"flex-start\"}]},{\"type\":\"model\",\"name\":\"FloatPanel1\",\"properties\":[{\"name\":\"config\",\"kind\":\"Any\",\"default\":{\"type\":\"map\"}},{\"name\":\"contained\",\"kind\":\"Any\",\"default\":true},{\"name\":\"position\",\"kind\":\"Any\",\"default\":\"right-top\"},{\"name\":\"offsetx\",\"kind\":\"Any\",\"default\":null},{\"name\":\"offsety\",\"kind\":\"Any\",\"default\":null},{\"name\":\"theme\",\"kind\":\"Any\",\"default\":\"primary\"},{\"name\":\"status\",\"kind\":\"Any\",\"default\":\"normalized\"}]},{\"type\":\"model\",\"name\":\"GridStack1\",\"properties\":[{\"name\":\"mode\",\"kind\":\"Any\",\"default\":\"warn\"},{\"name\":\"ncols\",\"kind\":\"Any\",\"default\":null},{\"name\":\"nrows\",\"kind\":\"Any\",\"default\":null},{\"name\":\"allow_resize\",\"kind\":\"Any\",\"default\":true},{\"name\":\"allow_drag\",\"kind\":\"Any\",\"default\":true},{\"name\":\"state\",\"kind\":\"Any\",\"default\":[]}]},{\"type\":\"model\",\"name\":\"drag1\",\"properties\":[{\"name\":\"slider_width\",\"kind\":\"Any\",\"default\":5},{\"name\":\"slider_color\",\"kind\":\"Any\",\"default\":\"black\"},{\"name\":\"value\",\"kind\":\"Any\",\"default\":50}]},{\"type\":\"model\",\"name\":\"click1\",\"properties\":[{\"name\":\"terminal_output\",\"kind\":\"Any\",\"default\":\"\"},{\"name\":\"debug_name\",\"kind\":\"Any\",\"default\":\"\"},{\"name\":\"clears\",\"kind\":\"Any\",\"default\":0}]},{\"type\":\"model\",\"name\":\"FastWrapper1\",\"properties\":[{\"name\":\"object\",\"kind\":\"Any\",\"default\":null},{\"name\":\"style\",\"kind\":\"Any\",\"default\":null}]},{\"type\":\"model\",\"name\":\"NotificationAreaBase1\",\"properties\":[{\"name\":\"js_events\",\"kind\":\"Any\",\"default\":{\"type\":\"map\"}},{\"name\":\"position\",\"kind\":\"Any\",\"default\":\"bottom-right\"},{\"name\":\"_clear\",\"kind\":\"Any\",\"default\":0}]},{\"type\":\"model\",\"name\":\"NotificationArea1\",\"properties\":[{\"name\":\"js_events\",\"kind\":\"Any\",\"default\":{\"type\":\"map\"}},{\"name\":\"notifications\",\"kind\":\"Any\",\"default\":[]},{\"name\":\"position\",\"kind\":\"Any\",\"default\":\"bottom-right\"},{\"name\":\"_clear\",\"kind\":\"Any\",\"default\":0},{\"name\":\"types\",\"kind\":\"Any\",\"default\":[{\"type\":\"map\",\"entries\":[[\"type\",\"warning\"],[\"background\",\"#ffc107\"],[\"icon\",{\"type\":\"map\",\"entries\":[[\"className\",\"fas fa-exclamation-triangle\"],[\"tagName\",\"i\"],[\"color\",\"white\"]]}]]},{\"type\":\"map\",\"entries\":[[\"type\",\"info\"],[\"background\",\"#007bff\"],[\"icon\",{\"type\":\"map\",\"entries\":[[\"className\",\"fas fa-info-circle\"],[\"tagName\",\"i\"],[\"color\",\"white\"]]}]]}]}]},{\"type\":\"model\",\"name\":\"Notification\",\"properties\":[{\"name\":\"background\",\"kind\":\"Any\",\"default\":null},{\"name\":\"duration\",\"kind\":\"Any\",\"default\":3000},{\"name\":\"icon\",\"kind\":\"Any\",\"default\":null},{\"name\":\"message\",\"kind\":\"Any\",\"default\":\"\"},{\"name\":\"notification_type\",\"kind\":\"Any\",\"default\":null},{\"name\":\"_destroyed\",\"kind\":\"Any\",\"default\":false}]},{\"type\":\"model\",\"name\":\"TemplateActions1\",\"properties\":[{\"name\":\"open_modal\",\"kind\":\"Any\",\"default\":0},{\"name\":\"close_modal\",\"kind\":\"Any\",\"default\":0}]},{\"type\":\"model\",\"name\":\"BootstrapTemplateActions1\",\"properties\":[{\"name\":\"open_modal\",\"kind\":\"Any\",\"default\":0},{\"name\":\"close_modal\",\"kind\":\"Any\",\"default\":0}]},{\"type\":\"model\",\"name\":\"TemplateEditor1\",\"properties\":[{\"name\":\"layout\",\"kind\":\"Any\",\"default\":[]}]},{\"type\":\"model\",\"name\":\"MaterialTemplateActions1\",\"properties\":[{\"name\":\"open_modal\",\"kind\":\"Any\",\"default\":0},{\"name\":\"close_modal\",\"kind\":\"Any\",\"default\":0}]},{\"type\":\"model\",\"name\":\"copy_to_clipboard1\",\"properties\":[{\"name\":\"fill\",\"kind\":\"Any\",\"default\":\"none\"},{\"name\":\"value\",\"kind\":\"Any\",\"default\":null}]}]}};\n",
       "  var render_items = [{\"docid\":\"93699d83-c2bb-48bc-8d9d-573ee3580b0c\",\"roots\":{\"p1002\":\"dac2533d-607a-4e08-a3a4-e1259be6789a\"},\"root_ids\":[\"p1002\"]}];\n",
       "  var docs = Object.values(docs_json)\n",
       "  if (!docs) {\n",
       "    return\n",
       "  }\n",
       "  const py_version = docs[0].version.replace('rc', '-rc.').replace('.dev', '-dev.')\n",
       "  async function embed_document(root) {\n",
       "    var Bokeh = get_bokeh(root)\n",
       "    await Bokeh.embed.embed_items_notebook(docs_json, render_items);\n",
       "    for (const render_item of render_items) {\n",
       "      for (const root_id of render_item.root_ids) {\n",
       "\tconst id_el = document.getElementById(root_id)\n",
       "\tif (id_el.children.length && id_el.children[0].hasAttribute('data-root-id')) {\n",
       "\t  const root_el = id_el.children[0]\n",
       "\t  root_el.id = root_el.id + '-rendered'\n",
       "\t  for (const child of root_el.children) {\n",
       "            // Ensure JupyterLab does not capture keyboard shortcuts\n",
       "            // see: https://jupyterlab.readthedocs.io/en/4.1.x/extension/notebook.html#keyboard-interaction-model\n",
       "\t    child.setAttribute('data-lm-suppress-shortcuts', 'true')\n",
       "\t  }\n",
       "\t}\n",
       "      }\n",
       "    }\n",
       "  }\n",
       "  function get_bokeh(root) {\n",
       "    if (root.Bokeh === undefined) {\n",
       "      return null\n",
       "    } else if (root.Bokeh.version !== py_version) {\n",
       "      if (root.Bokeh.versions === undefined || !root.Bokeh.versions.has(py_version)) {\n",
       "\treturn null\n",
       "      }\n",
       "      return root.Bokeh.versions.get(py_version);\n",
       "    } else if (root.Bokeh.version === py_version) {\n",
       "      return root.Bokeh\n",
       "    }\n",
       "    return null\n",
       "  }\n",
       "  function is_loaded(root) {\n",
       "    var Bokeh = get_bokeh(root)\n",
       "    return (Bokeh != null && Bokeh.Panel !== undefined)\n",
       "  }\n",
       "  if (is_loaded(root)) {\n",
       "    embed_document(root);\n",
       "  } else {\n",
       "    var attempts = 0;\n",
       "    var timer = setInterval(function(root) {\n",
       "      if (is_loaded(root)) {\n",
       "        clearInterval(timer);\n",
       "        embed_document(root);\n",
       "      } else if (document.readyState == \"complete\") {\n",
       "        attempts++;\n",
       "        if (attempts > 200) {\n",
       "          clearInterval(timer);\n",
       "\t  var Bokeh = get_bokeh(root)\n",
       "\t  if (Bokeh == null || Bokeh.Panel == null) {\n",
       "            console.warn(\"Panel: ERROR: Unable to run Panel code because Bokeh or Panel library is missing\");\n",
       "\t  } else {\n",
       "\t    console.warn(\"Panel: WARNING: Attempting to render but not all required libraries could be resolved.\")\n",
       "\t    embed_document(root)\n",
       "\t  }\n",
       "        }\n",
       "      }\n",
       "    }, 25, root)\n",
       "  }\n",
       "})(window);</script>"
      ]
     },
     "metadata": {
      "application/vnd.holoviews_exec.v0+json": {
       "id": "p1002"
      }
     },
     "output_type": "display_data"
    }
   ],
   "source": [
    "import pandas as pd\n",
    "import seaborn as sn\n",
    "from os import getcwd, path\n",
    "import hvplot.pandas\n",
    "from bokeh.models import NumeralTickFormatter\n",
    "import hvplot as hv\n",
    "import numpy as np\n",
    "import requests\n",
    "from io import StringIO"
   ]
  },
  {
   "cell_type": "markdown",
   "id": "0fe69bb8-25f9-442e-8c9d-60f918b51ab2",
   "metadata": {},
   "source": [
    "Импорт библиотек и зависимостей"
   ]
  },
  {
   "cell_type": "code",
   "execution_count": 3,
   "id": "9b1a2d68-374a-44a3-bdc2-443620b8b885",
   "metadata": {},
   "outputs": [
    {
     "name": "stdout",
     "output_type": "stream",
     "text": [
      "Файл trains.csv не найден в рабочей директории, попытка загрузки из источника...\n",
      "Данные загружены\n"
     ]
    }
   ],
   "source": [
    "try:\n",
    "    df = pd.read_csv(path.join(getcwd(), \"train.csv\"), na_values=[\"\"])\n",
    "except FileNotFoundError:\n",
    "    print(\"Файл trains.csv не найден в рабочей директории, попытка загрузки из источника...\")\n",
    "    res = requests.get('https://docs.google.com/spreadsheet/ccc?key=1DkdhWMrVjtflQfmCIKl8hCjSlIxph1L42_fgyFo0QPs&output=csv&gid=1477722452')\n",
    "    if res.status_code != 200:\n",
    "        print(\"Не удалось загрузить файл из источника\")\n",
    "        raise requests.exceptions.HTTPError\n",
    "    df = pd.read_csv(StringIO(str(res.content,'utf-8')))\n",
    "    print(\"Данные загружены\")"
   ]
  },
  {
   "cell_type": "markdown",
   "id": "e16c0eec-d000-43ea-a69d-35a2cd490ed5",
   "metadata": {},
   "source": [
    "Загрузка датасета из текущей рабочей директории или google sheets таблицы."
   ]
  },
  {
   "cell_type": "code",
   "execution_count": 4,
   "id": "f9e111b2-ad7d-4db7-a85d-c3d3ff8e4ba5",
   "metadata": {},
   "outputs": [],
   "source": [
    "float_format = NumeralTickFormatter(format=\"0.00\")"
   ]
  },
  {
   "cell_type": "markdown",
   "id": "2d8be19a-f2a9-4f38-9cd0-1be918cbd03e",
   "metadata": {},
   "source": [
    "Формат вещественных чисел для графиков"
   ]
  },
  {
   "cell_type": "markdown",
   "id": "4568ee85-3d78-4402-8f56-2259373abe4c",
   "metadata": {},
   "source": [
    "## Обзор датасета"
   ]
  },
  {
   "cell_type": "code",
   "execution_count": 5,
   "id": "72e9bd13-a5fd-4d00-9607-c1b08dc6fd7e",
   "metadata": {},
   "outputs": [
    {
     "data": {
      "text/html": [
       "<div>\n",
       "<style scoped>\n",
       "    .dataframe tbody tr th:only-of-type {\n",
       "        vertical-align: middle;\n",
       "    }\n",
       "\n",
       "    .dataframe tbody tr th {\n",
       "        vertical-align: top;\n",
       "    }\n",
       "\n",
       "    .dataframe thead th {\n",
       "        text-align: right;\n",
       "    }\n",
       "</style>\n",
       "<table border=\"1\" class=\"dataframe\">\n",
       "  <thead>\n",
       "    <tr style=\"text-align: right;\">\n",
       "      <th></th>\n",
       "      <th>ID</th>\n",
       "      <th>Order Date</th>\n",
       "      <th>Class</th>\n",
       "      <th>Region</th>\n",
       "      <th>Sub-Category</th>\n",
       "      <th>Sales</th>\n",
       "    </tr>\n",
       "  </thead>\n",
       "  <tbody>\n",
       "    <tr>\n",
       "      <th>0</th>\n",
       "      <td>646</td>\n",
       "      <td>30/12/2018</td>\n",
       "      <td>Стандарт</td>\n",
       "      <td>Урал</td>\n",
       "      <td>Appliances</td>\n",
       "      <td>37229,08</td>\n",
       "    </tr>\n",
       "    <tr>\n",
       "      <th>1</th>\n",
       "      <td>907</td>\n",
       "      <td>30/12/2018</td>\n",
       "      <td>Стандарт</td>\n",
       "      <td>Владивосток</td>\n",
       "      <td>Bookcases</td>\n",
       "      <td>20994,61</td>\n",
       "    </tr>\n",
       "    <tr>\n",
       "      <th>2</th>\n",
       "      <td>908</td>\n",
       "      <td>30/12/2018</td>\n",
       "      <td>Стандарт</td>\n",
       "      <td>Владивосток</td>\n",
       "      <td>Phones</td>\n",
       "      <td>42133,86</td>\n",
       "    </tr>\n",
       "    <tr>\n",
       "      <th>3</th>\n",
       "      <td>909</td>\n",
       "      <td>30/12/2018</td>\n",
       "      <td>Стандарт</td>\n",
       "      <td>Владивосток</td>\n",
       "      <td>Binders</td>\n",
       "      <td>10612</td>\n",
       "    </tr>\n",
       "    <tr>\n",
       "      <th>4</th>\n",
       "      <td>1297</td>\n",
       "      <td>30/12/2018</td>\n",
       "      <td>Стандарт</td>\n",
       "      <td>Калиниград</td>\n",
       "      <td>Binders</td>\n",
       "      <td>28781,13</td>\n",
       "    </tr>\n",
       "  </tbody>\n",
       "</table>\n",
       "</div>"
      ],
      "text/plain": [
       "     ID  Order Date     Class       Region Sub-Category     Sales\n",
       "0   646  30/12/2018  Стандарт         Урал   Appliances  37229,08\n",
       "1   907  30/12/2018  Стандарт  Владивосток    Bookcases  20994,61\n",
       "2   908  30/12/2018  Стандарт  Владивосток       Phones  42133,86\n",
       "3   909  30/12/2018  Стандарт  Владивосток      Binders     10612\n",
       "4  1297  30/12/2018  Стандарт   Калиниград      Binders  28781,13"
      ]
     },
     "execution_count": 5,
     "metadata": {},
     "output_type": "execute_result"
    }
   ],
   "source": [
    "df.head()"
   ]
  },
  {
   "cell_type": "code",
   "execution_count": 6,
   "id": "23bc06fe-9807-4ed5-8c44-76857bdfed8a",
   "metadata": {},
   "outputs": [
    {
     "name": "stdout",
     "output_type": "stream",
     "text": [
      "<class 'pandas.core.frame.DataFrame'>\n",
      "RangeIndex: 9800 entries, 0 to 9799\n",
      "Data columns (total 6 columns):\n",
      " #   Column        Non-Null Count  Dtype \n",
      "---  ------        --------------  ----- \n",
      " 0   ID            9800 non-null   int64 \n",
      " 1   Order Date    9800 non-null   object\n",
      " 2   Class         9800 non-null   object\n",
      " 3   Region        9800 non-null   object\n",
      " 4   Sub-Category  9800 non-null   object\n",
      " 5   Sales         9800 non-null   object\n",
      "dtypes: int64(1), object(5)\n",
      "memory usage: 459.5+ KB\n"
     ]
    }
   ],
   "source": [
    "df.info()"
   ]
  },
  {
   "cell_type": "markdown",
   "id": "e085578d-c63f-4b43-8ada-678e15be3d67",
   "metadata": {},
   "source": [
    "Датасет не содержит пропусков, объём - 9800 записей."
   ]
  },
  {
   "cell_type": "markdown",
   "id": "b48dee12-f27a-4517-a226-f34e13cab2c0",
   "metadata": {},
   "source": [
    "## Приведение типов данных и индексов"
   ]
  },
  {
   "cell_type": "code",
   "execution_count": 7,
   "id": "5fd8f0b3-5d07-400e-9e8b-fcc9bac76dd2",
   "metadata": {},
   "outputs": [],
   "source": [
    "df.columns = df.columns.str.replace(r\"-| \", \"_\", regex=True).str.lower()"
   ]
  },
  {
   "cell_type": "markdown",
   "id": "472c4dc9-e52f-47bc-97bd-2bff55bebf96",
   "metadata": {},
   "source": [
    "Приведение названия заголовков к стилю snake_case"
   ]
  },
  {
   "cell_type": "code",
   "execution_count": 8,
   "id": "35c98604-cd05-4f44-8c6b-eb0340ef699f",
   "metadata": {},
   "outputs": [],
   "source": [
    "df['sales'] = df['sales'].str.replace(\",\", \".\")"
   ]
  },
  {
   "cell_type": "code",
   "execution_count": 9,
   "id": "a816fa79-d73a-44be-baf3-0bd8de284bb1",
   "metadata": {},
   "outputs": [],
   "source": [
    "df[\"sales\"] = df[\"sales\"].astype(\"float64\")\n",
    "df[\"order_date\"] = df[\"order_date\"].astype(\"datetime64[ns]\")"
   ]
  },
  {
   "cell_type": "code",
   "execution_count": 10,
   "id": "5d8f1c1f-cca2-4987-97ec-329615141715",
   "metadata": {},
   "outputs": [
    {
     "data": {
      "text/html": [
       "<div>\n",
       "<style scoped>\n",
       "    .dataframe tbody tr th:only-of-type {\n",
       "        vertical-align: middle;\n",
       "    }\n",
       "\n",
       "    .dataframe tbody tr th {\n",
       "        vertical-align: top;\n",
       "    }\n",
       "\n",
       "    .dataframe thead th {\n",
       "        text-align: right;\n",
       "    }\n",
       "</style>\n",
       "<table border=\"1\" class=\"dataframe\">\n",
       "  <thead>\n",
       "    <tr style=\"text-align: right;\">\n",
       "      <th></th>\n",
       "      <th>id</th>\n",
       "      <th>order_date</th>\n",
       "      <th>sales</th>\n",
       "    </tr>\n",
       "  </thead>\n",
       "  <tbody>\n",
       "    <tr>\n",
       "      <th>count</th>\n",
       "      <td>9800.000000</td>\n",
       "      <td>9800</td>\n",
       "      <td>9800.000000</td>\n",
       "    </tr>\n",
       "    <tr>\n",
       "      <th>mean</th>\n",
       "      <td>4900.500000</td>\n",
       "      <td>2017-04-12 14:24:35.265306112</td>\n",
       "      <td>22921.757737</td>\n",
       "    </tr>\n",
       "    <tr>\n",
       "      <th>min</th>\n",
       "      <td>1.000000</td>\n",
       "      <td>2015-01-02 00:00:00</td>\n",
       "      <td>1002.794000</td>\n",
       "    </tr>\n",
       "    <tr>\n",
       "      <th>25%</th>\n",
       "      <td>2450.750000</td>\n",
       "      <td>2016-05-02 12:00:00</td>\n",
       "      <td>12135.625000</td>\n",
       "    </tr>\n",
       "    <tr>\n",
       "      <th>50%</th>\n",
       "      <td>4900.500000</td>\n",
       "      <td>2017-05-30 00:00:00</td>\n",
       "      <td>22882.060000</td>\n",
       "    </tr>\n",
       "    <tr>\n",
       "      <th>75%</th>\n",
       "      <td>7350.250000</td>\n",
       "      <td>2018-04-11 00:00:00</td>\n",
       "      <td>33730.130000</td>\n",
       "    </tr>\n",
       "    <tr>\n",
       "      <th>max</th>\n",
       "      <td>9800.000000</td>\n",
       "      <td>2018-12-30 00:00:00</td>\n",
       "      <td>44995.410000</td>\n",
       "    </tr>\n",
       "    <tr>\n",
       "      <th>std</th>\n",
       "      <td>2829.160653</td>\n",
       "      <td>NaN</td>\n",
       "      <td>12601.999815</td>\n",
       "    </tr>\n",
       "  </tbody>\n",
       "</table>\n",
       "</div>"
      ],
      "text/plain": [
       "                id                     order_date         sales\n",
       "count  9800.000000                           9800   9800.000000\n",
       "mean   4900.500000  2017-04-12 14:24:35.265306112  22921.757737\n",
       "min       1.000000            2015-01-02 00:00:00   1002.794000\n",
       "25%    2450.750000            2016-05-02 12:00:00  12135.625000\n",
       "50%    4900.500000            2017-05-30 00:00:00  22882.060000\n",
       "75%    7350.250000            2018-04-11 00:00:00  33730.130000\n",
       "max    9800.000000            2018-12-30 00:00:00  44995.410000\n",
       "std    2829.160653                            NaN  12601.999815"
      ]
     },
     "execution_count": 10,
     "metadata": {},
     "output_type": "execute_result"
    }
   ],
   "source": [
    "df.describe()"
   ]
  },
  {
   "cell_type": "code",
   "execution_count": 11,
   "id": "e0e2e18c-b249-4610-b57a-f941734ec857",
   "metadata": {},
   "outputs": [
    {
     "data": {
      "text/plain": [
       "0"
      ]
     },
     "execution_count": 11,
     "metadata": {},
     "output_type": "execute_result"
    }
   ],
   "source": [
    "df.duplicated(subset=[\"id\", \"order_date\", \"class\", \"sub_category\", \"region\"]).sum()"
   ]
  },
  {
   "cell_type": "markdown",
   "id": "eed558d8-7c5d-4ef0-af3d-6b3346155252",
   "metadata": {},
   "source": [
    "Количество явных дубликатов"
   ]
  },
  {
   "cell_type": "markdown",
   "id": "57668e7b-647e-494a-aa9d-8088e6150897",
   "metadata": {},
   "source": [
    "# Задание 1\n",
    "\n",
    "а) Какие подгруппы товаров наиболее часто покупают за все время продаж (минимум 4 группы)?\n",
    "\n",
    "б) Какие подгруппы товаров наиболее часто покупают за последние два года (минимум 4 группы)?\n",
    "\n",
    "в) Какие подгруппы товаров наиболее часто покупают за последний год(минимум 4 группы)?\n",
    "\n",
    "Подгруппа – Sub-Category\n",
    " \n",
    "Дата – Order_date\n",
    " \n",
    "Сделать вывод на основе полученных результатов."
   ]
  },
  {
   "cell_type": "code",
   "execution_count": 12,
   "id": "ddaeeddd-418b-4aca-9e74-0cf1ccab0d5d",
   "metadata": {},
   "outputs": [
    {
     "data": {},
     "metadata": {},
     "output_type": "display_data"
    },
    {
     "data": {
      "application/vnd.holoviews_exec.v0+json": "",
      "text/html": [
       "<div id='p1005'>\n",
       "  <div id=\"c1972445-f117-42cb-b805-34e6389e71c3\" data-root-id=\"p1005\" style=\"display: contents;\"></div>\n",
       "</div>\n",
       "<script type=\"application/javascript\">(function(root) {\n",
       "  var docs_json = {\"8c752752-2e0c-4141-b20c-997b256d1140\":{\"version\":\"3.4.1\",\"title\":\"Bokeh Application\",\"roots\":[{\"type\":\"object\",\"name\":\"Row\",\"id\":\"p1005\",\"attributes\":{\"name\":\"Row00938\",\"tags\":[\"embedded\"],\"stylesheets\":[\"\\n:host(.pn-loading):before, .pn-loading:before {\\n  background-color: #c3c3c3;\\n  mask-size: auto calc(min(50%, 400px));\\n  -webkit-mask-size: auto calc(min(50%, 400px));\\n}\",{\"type\":\"object\",\"name\":\"ImportedStyleSheet\",\"id\":\"p1008\",\"attributes\":{\"url\":\"https://cdn.holoviz.org/panel/1.4.4/dist/css/loading.css\"}},{\"type\":\"object\",\"name\":\"ImportedStyleSheet\",\"id\":\"p1064\",\"attributes\":{\"url\":\"https://cdn.holoviz.org/panel/1.4.4/dist/css/listpanel.css\"}},{\"type\":\"object\",\"name\":\"ImportedStyleSheet\",\"id\":\"p1006\",\"attributes\":{\"url\":\"https://cdn.holoviz.org/panel/1.4.4/dist/bundled/theme/default.css\"}},{\"type\":\"object\",\"name\":\"ImportedStyleSheet\",\"id\":\"p1007\",\"attributes\":{\"url\":\"https://cdn.holoviz.org/panel/1.4.4/dist/bundled/theme/native.css\"}}],\"min_width\":700,\"margin\":0,\"sizing_mode\":\"stretch_width\",\"align\":\"start\",\"children\":[{\"type\":\"object\",\"name\":\"Spacer\",\"id\":\"p1009\",\"attributes\":{\"name\":\"HSpacer00945\",\"stylesheets\":[\"\\n:host(.pn-loading):before, .pn-loading:before {\\n  background-color: #c3c3c3;\\n  mask-size: auto calc(min(50%, 400px));\\n  -webkit-mask-size: auto calc(min(50%, 400px));\\n}\",{\"id\":\"p1008\"},{\"id\":\"p1006\"},{\"id\":\"p1007\"}],\"margin\":0,\"sizing_mode\":\"stretch_width\",\"align\":\"start\"}},{\"type\":\"object\",\"name\":\"Figure\",\"id\":\"p1017\",\"attributes\":{\"width\":700,\"height\":300,\"margin\":[5,10],\"sizing_mode\":\"fixed\",\"align\":\"start\",\"x_range\":{\"type\":\"object\",\"name\":\"FactorRange\",\"id\":\"p1010\",\"attributes\":{\"tags\":[[[\"sub_category\",null]],[]],\"factors\":[\"Copiers\",\"Machines\",\"Supplies\",\"Fasteners\",\"Bookcases\",\"Envelopes\",\"Tables\",\"Labels\",\"Appliances\",\"Chairs\",\"Accessories\",\"Art\",\"Storage\",\"Phones\",\"Furnishings\",\"Paper\",\"Binders\"]}},\"y_range\":{\"type\":\"object\",\"name\":\"Range1d\",\"id\":\"p1011\",\"attributes\":{\"tags\":[[[\"sales\",null]],{\"type\":\"map\",\"entries\":[[\"invert_yaxis\",false],[\"autorange\",false]]}],\"end\":1634.6,\"reset_start\":0.0,\"reset_end\":1634.6}},\"x_scale\":{\"type\":\"object\",\"name\":\"CategoricalScale\",\"id\":\"p1027\"},\"y_scale\":{\"type\":\"object\",\"name\":\"LinearScale\",\"id\":\"p1028\"},\"title\":{\"type\":\"object\",\"name\":\"Title\",\"id\":\"p1020\",\"attributes\":{\"text\":\"All sales\",\"text_color\":\"black\",\"text_font_size\":\"12pt\"}},\"renderers\":[{\"type\":\"object\",\"name\":\"GlyphRenderer\",\"id\":\"p1057\",\"attributes\":{\"data_source\":{\"type\":\"object\",\"name\":\"ColumnDataSource\",\"id\":\"p1048\",\"attributes\":{\"selected\":{\"type\":\"object\",\"name\":\"Selection\",\"id\":\"p1049\",\"attributes\":{\"indices\":[],\"line_indices\":[]}},\"selection_policy\":{\"type\":\"object\",\"name\":\"UnionRenderers\",\"id\":\"p1050\"},\"data\":{\"type\":\"map\",\"entries\":[[\"sub_category\",[\"Copiers\",\"Machines\",\"Supplies\",\"Fasteners\",\"Bookcases\",\"Envelopes\",\"Tables\",\"Labels\",\"Appliances\",\"Chairs\",\"Accessories\",\"Art\",\"Storage\",\"Phones\",\"Furnishings\",\"Paper\",\"Binders\"]],[\"sales\",{\"type\":\"ndarray\",\"array\":{\"type\":\"bytes\",\"data\":\"QgAAAHMAAAC4AAAA1gAAAOIAAAD4AAAAOgEAAGUBAADLAQAAXwIAAPQCAAARAwAAQAMAAGwDAACjAwAAOgUAANQFAAA=\"},\"shape\":[17],\"dtype\":\"int32\",\"order\":\"little\"}]]}}},\"view\":{\"type\":\"object\",\"name\":\"CDSView\",\"id\":\"p1058\",\"attributes\":{\"filter\":{\"type\":\"object\",\"name\":\"AllIndices\",\"id\":\"p1059\"}}},\"glyph\":{\"type\":\"object\",\"name\":\"VBar\",\"id\":\"p1054\",\"attributes\":{\"tags\":[\"apply_ranges\"],\"x\":{\"type\":\"field\",\"field\":\"sub_category\"},\"width\":{\"type\":\"value\",\"value\":0.8},\"top\":{\"type\":\"field\",\"field\":\"sales\"},\"fill_color\":{\"type\":\"value\",\"value\":\"#30a2da\"},\"hatch_color\":{\"type\":\"value\",\"value\":\"#30a2da\"}}},\"selection_glyph\":{\"type\":\"object\",\"name\":\"VBar\",\"id\":\"p1060\",\"attributes\":{\"tags\":[\"apply_ranges\"],\"x\":{\"type\":\"field\",\"field\":\"sub_category\"},\"width\":{\"type\":\"value\",\"value\":0.8},\"bottom\":{\"type\":\"value\",\"value\":0},\"top\":{\"type\":\"field\",\"field\":\"sales\"},\"line_color\":{\"type\":\"value\",\"value\":\"black\"},\"line_alpha\":{\"type\":\"value\",\"value\":1.0},\"line_width\":{\"type\":\"value\",\"value\":1},\"line_join\":{\"type\":\"value\",\"value\":\"bevel\"},\"line_cap\":{\"type\":\"value\",\"value\":\"butt\"},\"line_dash\":{\"type\":\"value\",\"value\":[]},\"line_dash_offset\":{\"type\":\"value\",\"value\":0},\"fill_color\":{\"type\":\"value\",\"value\":\"#30a2da\"},\"fill_alpha\":{\"type\":\"value\",\"value\":1.0},\"hatch_color\":{\"type\":\"value\",\"value\":\"#30a2da\"},\"hatch_alpha\":{\"type\":\"value\",\"value\":1.0},\"hatch_scale\":{\"type\":\"value\",\"value\":12.0},\"hatch_pattern\":{\"type\":\"value\",\"value\":null},\"hatch_weight\":{\"type\":\"value\",\"value\":1.0}}},\"nonselection_glyph\":{\"type\":\"object\",\"name\":\"VBar\",\"id\":\"p1055\",\"attributes\":{\"tags\":[\"apply_ranges\"],\"x\":{\"type\":\"field\",\"field\":\"sub_category\"},\"width\":{\"type\":\"value\",\"value\":0.8},\"top\":{\"type\":\"field\",\"field\":\"sales\"},\"line_alpha\":{\"type\":\"value\",\"value\":0.1},\"fill_color\":{\"type\":\"value\",\"value\":\"#30a2da\"},\"fill_alpha\":{\"type\":\"value\",\"value\":0.1},\"hatch_color\":{\"type\":\"value\",\"value\":\"#30a2da\"},\"hatch_alpha\":{\"type\":\"value\",\"value\":0.1}}},\"muted_glyph\":{\"type\":\"object\",\"name\":\"VBar\",\"id\":\"p1056\",\"attributes\":{\"tags\":[\"apply_ranges\"],\"x\":{\"type\":\"field\",\"field\":\"sub_category\"},\"width\":{\"type\":\"value\",\"value\":0.8},\"top\":{\"type\":\"field\",\"field\":\"sales\"},\"line_alpha\":{\"type\":\"value\",\"value\":0.2},\"fill_color\":{\"type\":\"value\",\"value\":\"#30a2da\"},\"fill_alpha\":{\"type\":\"value\",\"value\":0.2},\"hatch_color\":{\"type\":\"value\",\"value\":\"#30a2da\"},\"hatch_alpha\":{\"type\":\"value\",\"value\":0.2}}}}}],\"toolbar\":{\"type\":\"object\",\"name\":\"Toolbar\",\"id\":\"p1026\",\"attributes\":{\"tools\":[{\"type\":\"object\",\"name\":\"WheelZoomTool\",\"id\":\"p1015\",\"attributes\":{\"tags\":[\"hv_created\"],\"renderers\":\"auto\",\"zoom_together\":\"none\"}},{\"type\":\"object\",\"name\":\"HoverTool\",\"id\":\"p1016\",\"attributes\":{\"tags\":[\"hv_created\"],\"renderers\":[{\"id\":\"p1057\"}],\"tooltips\":[[\"sub_category\",\"@{sub_category}\"],[\"sales\",\"@{sales}\"]]}},{\"type\":\"object\",\"name\":\"SaveTool\",\"id\":\"p1039\"},{\"type\":\"object\",\"name\":\"PanTool\",\"id\":\"p1040\"},{\"type\":\"object\",\"name\":\"BoxZoomTool\",\"id\":\"p1041\",\"attributes\":{\"overlay\":{\"type\":\"object\",\"name\":\"BoxAnnotation\",\"id\":\"p1042\",\"attributes\":{\"syncable\":false,\"level\":\"overlay\",\"visible\":false,\"left\":{\"type\":\"number\",\"value\":\"nan\"},\"right\":{\"type\":\"number\",\"value\":\"nan\"},\"top\":{\"type\":\"number\",\"value\":\"nan\"},\"bottom\":{\"type\":\"number\",\"value\":\"nan\"},\"left_units\":\"canvas\",\"right_units\":\"canvas\",\"top_units\":\"canvas\",\"bottom_units\":\"canvas\",\"line_color\":\"black\",\"line_alpha\":1.0,\"line_width\":2,\"line_dash\":[4,4],\"fill_color\":\"lightgrey\",\"fill_alpha\":0.5}}}},{\"type\":\"object\",\"name\":\"ResetTool\",\"id\":\"p1047\"}],\"active_drag\":{\"id\":\"p1040\"},\"active_scroll\":{\"id\":\"p1015\"}}},\"left\":[{\"type\":\"object\",\"name\":\"LinearAxis\",\"id\":\"p1034\",\"attributes\":{\"ticker\":{\"type\":\"object\",\"name\":\"BasicTicker\",\"id\":\"p1035\",\"attributes\":{\"mantissas\":[1,2,5]}},\"formatter\":{\"type\":\"object\",\"name\":\"NumeralTickFormatter\",\"id\":\"p1004\",\"attributes\":{\"format\":\"0.00\"}},\"axis_label\":\"sales\",\"major_label_policy\":{\"type\":\"object\",\"name\":\"AllLabels\",\"id\":\"p1037\"}}}],\"below\":[{\"type\":\"object\",\"name\":\"CategoricalAxis\",\"id\":\"p1029\",\"attributes\":{\"ticker\":{\"type\":\"object\",\"name\":\"CategoricalTicker\",\"id\":\"p1030\"},\"formatter\":{\"type\":\"object\",\"name\":\"CategoricalTickFormatter\",\"id\":\"p1031\"},\"axis_label\":\"sub_category\",\"major_label_policy\":{\"type\":\"object\",\"name\":\"AllLabels\",\"id\":\"p1032\"}}}],\"center\":[{\"type\":\"object\",\"name\":\"Grid\",\"id\":\"p1033\",\"attributes\":{\"axis\":{\"id\":\"p1029\"},\"grid_line_color\":null}},{\"type\":\"object\",\"name\":\"Grid\",\"id\":\"p1038\",\"attributes\":{\"dimension\":1,\"axis\":{\"id\":\"p1034\"},\"grid_line_color\":null}}],\"min_border_top\":10,\"min_border_bottom\":10,\"min_border_left\":10,\"min_border_right\":10,\"output_backend\":\"webgl\"}},{\"type\":\"object\",\"name\":\"Spacer\",\"id\":\"p1062\",\"attributes\":{\"name\":\"HSpacer00946\",\"stylesheets\":[\"\\n:host(.pn-loading):before, .pn-loading:before {\\n  background-color: #c3c3c3;\\n  mask-size: auto calc(min(50%, 400px));\\n  -webkit-mask-size: auto calc(min(50%, 400px));\\n}\",{\"id\":\"p1008\"},{\"id\":\"p1006\"},{\"id\":\"p1007\"}],\"margin\":0,\"sizing_mode\":\"stretch_width\",\"align\":\"start\"}}]}}],\"defs\":[{\"type\":\"model\",\"name\":\"ReactiveHTML1\"},{\"type\":\"model\",\"name\":\"FlexBox1\",\"properties\":[{\"name\":\"align_content\",\"kind\":\"Any\",\"default\":\"flex-start\"},{\"name\":\"align_items\",\"kind\":\"Any\",\"default\":\"flex-start\"},{\"name\":\"flex_direction\",\"kind\":\"Any\",\"default\":\"row\"},{\"name\":\"flex_wrap\",\"kind\":\"Any\",\"default\":\"wrap\"},{\"name\":\"gap\",\"kind\":\"Any\",\"default\":\"\"},{\"name\":\"justify_content\",\"kind\":\"Any\",\"default\":\"flex-start\"}]},{\"type\":\"model\",\"name\":\"FloatPanel1\",\"properties\":[{\"name\":\"config\",\"kind\":\"Any\",\"default\":{\"type\":\"map\"}},{\"name\":\"contained\",\"kind\":\"Any\",\"default\":true},{\"name\":\"position\",\"kind\":\"Any\",\"default\":\"right-top\"},{\"name\":\"offsetx\",\"kind\":\"Any\",\"default\":null},{\"name\":\"offsety\",\"kind\":\"Any\",\"default\":null},{\"name\":\"theme\",\"kind\":\"Any\",\"default\":\"primary\"},{\"name\":\"status\",\"kind\":\"Any\",\"default\":\"normalized\"}]},{\"type\":\"model\",\"name\":\"GridStack1\",\"properties\":[{\"name\":\"mode\",\"kind\":\"Any\",\"default\":\"warn\"},{\"name\":\"ncols\",\"kind\":\"Any\",\"default\":null},{\"name\":\"nrows\",\"kind\":\"Any\",\"default\":null},{\"name\":\"allow_resize\",\"kind\":\"Any\",\"default\":true},{\"name\":\"allow_drag\",\"kind\":\"Any\",\"default\":true},{\"name\":\"state\",\"kind\":\"Any\",\"default\":[]}]},{\"type\":\"model\",\"name\":\"drag1\",\"properties\":[{\"name\":\"slider_width\",\"kind\":\"Any\",\"default\":5},{\"name\":\"slider_color\",\"kind\":\"Any\",\"default\":\"black\"},{\"name\":\"value\",\"kind\":\"Any\",\"default\":50}]},{\"type\":\"model\",\"name\":\"click1\",\"properties\":[{\"name\":\"terminal_output\",\"kind\":\"Any\",\"default\":\"\"},{\"name\":\"debug_name\",\"kind\":\"Any\",\"default\":\"\"},{\"name\":\"clears\",\"kind\":\"Any\",\"default\":0}]},{\"type\":\"model\",\"name\":\"FastWrapper1\",\"properties\":[{\"name\":\"object\",\"kind\":\"Any\",\"default\":null},{\"name\":\"style\",\"kind\":\"Any\",\"default\":null}]},{\"type\":\"model\",\"name\":\"NotificationAreaBase1\",\"properties\":[{\"name\":\"js_events\",\"kind\":\"Any\",\"default\":{\"type\":\"map\"}},{\"name\":\"position\",\"kind\":\"Any\",\"default\":\"bottom-right\"},{\"name\":\"_clear\",\"kind\":\"Any\",\"default\":0}]},{\"type\":\"model\",\"name\":\"NotificationArea1\",\"properties\":[{\"name\":\"js_events\",\"kind\":\"Any\",\"default\":{\"type\":\"map\"}},{\"name\":\"notifications\",\"kind\":\"Any\",\"default\":[]},{\"name\":\"position\",\"kind\":\"Any\",\"default\":\"bottom-right\"},{\"name\":\"_clear\",\"kind\":\"Any\",\"default\":0},{\"name\":\"types\",\"kind\":\"Any\",\"default\":[{\"type\":\"map\",\"entries\":[[\"type\",\"warning\"],[\"background\",\"#ffc107\"],[\"icon\",{\"type\":\"map\",\"entries\":[[\"className\",\"fas fa-exclamation-triangle\"],[\"tagName\",\"i\"],[\"color\",\"white\"]]}]]},{\"type\":\"map\",\"entries\":[[\"type\",\"info\"],[\"background\",\"#007bff\"],[\"icon\",{\"type\":\"map\",\"entries\":[[\"className\",\"fas fa-info-circle\"],[\"tagName\",\"i\"],[\"color\",\"white\"]]}]]}]}]},{\"type\":\"model\",\"name\":\"Notification\",\"properties\":[{\"name\":\"background\",\"kind\":\"Any\",\"default\":null},{\"name\":\"duration\",\"kind\":\"Any\",\"default\":3000},{\"name\":\"icon\",\"kind\":\"Any\",\"default\":null},{\"name\":\"message\",\"kind\":\"Any\",\"default\":\"\"},{\"name\":\"notification_type\",\"kind\":\"Any\",\"default\":null},{\"name\":\"_destroyed\",\"kind\":\"Any\",\"default\":false}]},{\"type\":\"model\",\"name\":\"TemplateActions1\",\"properties\":[{\"name\":\"open_modal\",\"kind\":\"Any\",\"default\":0},{\"name\":\"close_modal\",\"kind\":\"Any\",\"default\":0}]},{\"type\":\"model\",\"name\":\"BootstrapTemplateActions1\",\"properties\":[{\"name\":\"open_modal\",\"kind\":\"Any\",\"default\":0},{\"name\":\"close_modal\",\"kind\":\"Any\",\"default\":0}]},{\"type\":\"model\",\"name\":\"TemplateEditor1\",\"properties\":[{\"name\":\"layout\",\"kind\":\"Any\",\"default\":[]}]},{\"type\":\"model\",\"name\":\"MaterialTemplateActions1\",\"properties\":[{\"name\":\"open_modal\",\"kind\":\"Any\",\"default\":0},{\"name\":\"close_modal\",\"kind\":\"Any\",\"default\":0}]},{\"type\":\"model\",\"name\":\"copy_to_clipboard1\",\"properties\":[{\"name\":\"fill\",\"kind\":\"Any\",\"default\":\"none\"},{\"name\":\"value\",\"kind\":\"Any\",\"default\":null}]}]}};\n",
       "  var render_items = [{\"docid\":\"8c752752-2e0c-4141-b20c-997b256d1140\",\"roots\":{\"p1005\":\"c1972445-f117-42cb-b805-34e6389e71c3\"},\"root_ids\":[\"p1005\"]}];\n",
       "  var docs = Object.values(docs_json)\n",
       "  if (!docs) {\n",
       "    return\n",
       "  }\n",
       "  const py_version = docs[0].version.replace('rc', '-rc.').replace('.dev', '-dev.')\n",
       "  async function embed_document(root) {\n",
       "    var Bokeh = get_bokeh(root)\n",
       "    await Bokeh.embed.embed_items_notebook(docs_json, render_items);\n",
       "    for (const render_item of render_items) {\n",
       "      for (const root_id of render_item.root_ids) {\n",
       "\tconst id_el = document.getElementById(root_id)\n",
       "\tif (id_el.children.length && id_el.children[0].hasAttribute('data-root-id')) {\n",
       "\t  const root_el = id_el.children[0]\n",
       "\t  root_el.id = root_el.id + '-rendered'\n",
       "\t  for (const child of root_el.children) {\n",
       "            // Ensure JupyterLab does not capture keyboard shortcuts\n",
       "            // see: https://jupyterlab.readthedocs.io/en/4.1.x/extension/notebook.html#keyboard-interaction-model\n",
       "\t    child.setAttribute('data-lm-suppress-shortcuts', 'true')\n",
       "\t  }\n",
       "\t}\n",
       "      }\n",
       "    }\n",
       "  }\n",
       "  function get_bokeh(root) {\n",
       "    if (root.Bokeh === undefined) {\n",
       "      return null\n",
       "    } else if (root.Bokeh.version !== py_version) {\n",
       "      if (root.Bokeh.versions === undefined || !root.Bokeh.versions.has(py_version)) {\n",
       "\treturn null\n",
       "      }\n",
       "      return root.Bokeh.versions.get(py_version);\n",
       "    } else if (root.Bokeh.version === py_version) {\n",
       "      return root.Bokeh\n",
       "    }\n",
       "    return null\n",
       "  }\n",
       "  function is_loaded(root) {\n",
       "    var Bokeh = get_bokeh(root)\n",
       "    return (Bokeh != null && Bokeh.Panel !== undefined)\n",
       "  }\n",
       "  if (is_loaded(root)) {\n",
       "    embed_document(root);\n",
       "  } else {\n",
       "    var attempts = 0;\n",
       "    var timer = setInterval(function(root) {\n",
       "      if (is_loaded(root)) {\n",
       "        clearInterval(timer);\n",
       "        embed_document(root);\n",
       "      } else if (document.readyState == \"complete\") {\n",
       "        attempts++;\n",
       "        if (attempts > 200) {\n",
       "          clearInterval(timer);\n",
       "\t  var Bokeh = get_bokeh(root)\n",
       "\t  if (Bokeh == null || Bokeh.Panel == null) {\n",
       "            console.warn(\"Panel: ERROR: Unable to run Panel code because Bokeh or Panel library is missing\");\n",
       "\t  } else {\n",
       "\t    console.warn(\"Panel: WARNING: Attempting to render but not all required libraries could be resolved.\")\n",
       "\t    embed_document(root)\n",
       "\t  }\n",
       "        }\n",
       "      }\n",
       "    }, 25, root)\n",
       "  }\n",
       "})(window);</script>"
      ],
      "text/plain": [
       ":Bars   [sub_category]   (sales)"
      ]
     },
     "execution_count": 12,
     "metadata": {
      "application/vnd.holoviews_exec.v0+json": {
       "id": "p1005"
      }
     },
     "output_type": "execute_result"
    }
   ],
   "source": [
    "a_df = df.pivot_table(index=\"sub_category\", values=[\"sales\"], aggfunc=\"count\")\n",
    "a_plot = a_df.sort_values(\"sales\").hvplot(kind=\"bar\", yformatter=float_format, title=\"All sales\")\n",
    "a_plot"
   ]
  },
  {
   "cell_type": "markdown",
   "id": "3fa2a497-2764-4872-b6de-944619dab0e2",
   "metadata": {},
   "source": [
    "а) За всё время продаж чаще всего покупают товары из подгрупп: Binders, Paper, Furnishings, Phones."
   ]
  },
  {
   "cell_type": "code",
   "execution_count": 13,
   "id": "1cf9560c-dfcc-4c13-925f-310ee97fba7e",
   "metadata": {},
   "outputs": [
    {
     "data": {
      "text/plain": [
       "(Timestamp('2018-12-30 00:00:00'),\n",
       " Timestamp('2016-12-30 00:00:00'),\n",
       " Timestamp('2017-12-30 00:00:00'))"
      ]
     },
     "execution_count": 13,
     "metadata": {},
     "output_type": "execute_result"
    }
   ],
   "source": [
    "last_date = df[\"order_date\"].max()\n",
    "two_years_below_date = pd.Timestamp(year=last_date.year - 2, month=last_date.month, day=last_date.day)\n",
    "year_below_date = pd.Timestamp(year=last_date.year - 1, month=last_date.month, day=last_date.day)\n",
    "last_date, two_years_below_date, year_below_date"
   ]
  },
  {
   "cell_type": "code",
   "execution_count": 14,
   "id": "d6aeeab1-c034-4c2e-9cb4-b71cbd0f5757",
   "metadata": {},
   "outputs": [],
   "source": [
    "last_two_years_df = df[df[\"order_date\"] >= two_years_below_date]"
   ]
  },
  {
   "cell_type": "code",
   "execution_count": 15,
   "id": "59ed5a00-a3db-4859-b461-7715879f4b20",
   "metadata": {},
   "outputs": [],
   "source": [
    "last_year_df = df[df[\"order_date\"] >= year_below_date]"
   ]
  },
  {
   "cell_type": "code",
   "execution_count": 16,
   "id": "c0704e3e-da1c-48df-bcb4-37cfd41b8680",
   "metadata": {
    "scrolled": true
   },
   "outputs": [
    {
     "data": {},
     "metadata": {},
     "output_type": "display_data"
    },
    {
     "data": {
      "application/vnd.holoviews_exec.v0+json": "",
      "text/html": [
       "<div id='p1067'>\n",
       "  <div id=\"cda6fb9d-2868-4dee-9195-622079fcda6b\" data-root-id=\"p1067\" style=\"display: contents;\"></div>\n",
       "</div>\n",
       "<script type=\"application/javascript\">(function(root) {\n",
       "  var docs_json = {\"dbe879d8-1677-4df2-977b-b806044af85f\":{\"version\":\"3.4.1\",\"title\":\"Bokeh Application\",\"roots\":[{\"type\":\"object\",\"name\":\"Row\",\"id\":\"p1067\",\"attributes\":{\"name\":\"Row01047\",\"tags\":[\"embedded\"],\"stylesheets\":[\"\\n:host(.pn-loading):before, .pn-loading:before {\\n  background-color: #c3c3c3;\\n  mask-size: auto calc(min(50%, 400px));\\n  -webkit-mask-size: auto calc(min(50%, 400px));\\n}\",{\"type\":\"object\",\"name\":\"ImportedStyleSheet\",\"id\":\"p1070\",\"attributes\":{\"url\":\"https://cdn.holoviz.org/panel/1.4.4/dist/css/loading.css\"}},{\"type\":\"object\",\"name\":\"ImportedStyleSheet\",\"id\":\"p1126\",\"attributes\":{\"url\":\"https://cdn.holoviz.org/panel/1.4.4/dist/css/listpanel.css\"}},{\"type\":\"object\",\"name\":\"ImportedStyleSheet\",\"id\":\"p1068\",\"attributes\":{\"url\":\"https://cdn.holoviz.org/panel/1.4.4/dist/bundled/theme/default.css\"}},{\"type\":\"object\",\"name\":\"ImportedStyleSheet\",\"id\":\"p1069\",\"attributes\":{\"url\":\"https://cdn.holoviz.org/panel/1.4.4/dist/bundled/theme/native.css\"}}],\"min_width\":700,\"margin\":0,\"sizing_mode\":\"stretch_width\",\"align\":\"start\",\"children\":[{\"type\":\"object\",\"name\":\"Spacer\",\"id\":\"p1071\",\"attributes\":{\"name\":\"HSpacer01054\",\"stylesheets\":[\"\\n:host(.pn-loading):before, .pn-loading:before {\\n  background-color: #c3c3c3;\\n  mask-size: auto calc(min(50%, 400px));\\n  -webkit-mask-size: auto calc(min(50%, 400px));\\n}\",{\"id\":\"p1070\"},{\"id\":\"p1068\"},{\"id\":\"p1069\"}],\"margin\":0,\"sizing_mode\":\"stretch_width\",\"align\":\"start\"}},{\"type\":\"object\",\"name\":\"Figure\",\"id\":\"p1079\",\"attributes\":{\"width\":700,\"height\":300,\"margin\":[5,10],\"sizing_mode\":\"fixed\",\"align\":\"start\",\"x_range\":{\"type\":\"object\",\"name\":\"FactorRange\",\"id\":\"p1072\",\"attributes\":{\"tags\":[[[\"sub_category\",null]],[]],\"factors\":[\"Copiers\",\"Machines\",\"Supplies\",\"Fasteners\",\"Bookcases\",\"Envelopes\",\"Tables\",\"Labels\",\"Appliances\",\"Chairs\",\"Accessories\",\"Art\",\"Storage\",\"Phones\",\"Furnishings\",\"Paper\",\"Binders\"]}},\"y_range\":{\"type\":\"object\",\"name\":\"Range1d\",\"id\":\"p1073\",\"attributes\":{\"tags\":[[[\"sales\",null]],{\"type\":\"map\",\"entries\":[[\"invert_yaxis\",false],[\"autorange\",false]]}],\"end\":994.1,\"reset_start\":0.0,\"reset_end\":994.1}},\"x_scale\":{\"type\":\"object\",\"name\":\"CategoricalScale\",\"id\":\"p1089\"},\"y_scale\":{\"type\":\"object\",\"name\":\"LinearScale\",\"id\":\"p1090\"},\"title\":{\"type\":\"object\",\"name\":\"Title\",\"id\":\"p1082\",\"attributes\":{\"text\":\"Last 2 years sales\",\"text_color\":\"black\",\"text_font_size\":\"12pt\"}},\"renderers\":[{\"type\":\"object\",\"name\":\"GlyphRenderer\",\"id\":\"p1119\",\"attributes\":{\"data_source\":{\"type\":\"object\",\"name\":\"ColumnDataSource\",\"id\":\"p1110\",\"attributes\":{\"selected\":{\"type\":\"object\",\"name\":\"Selection\",\"id\":\"p1111\",\"attributes\":{\"indices\":[],\"line_indices\":[]}},\"selection_policy\":{\"type\":\"object\",\"name\":\"UnionRenderers\",\"id\":\"p1112\"},\"data\":{\"type\":\"map\",\"entries\":[[\"sub_category\",[\"Copiers\",\"Machines\",\"Supplies\",\"Fasteners\",\"Bookcases\",\"Envelopes\",\"Tables\",\"Labels\",\"Appliances\",\"Chairs\",\"Accessories\",\"Art\",\"Storage\",\"Phones\",\"Furnishings\",\"Paper\",\"Binders\"]],[\"sales\",{\"type\":\"ndarray\",\"array\":{\"type\":\"bytes\",\"data\":\"JAAAAEIAAAB2AAAAegAAAIIAAACDAAAAvQAAANAAAAASAQAAXAEAAMIBAADKAQAA7AEAAP8BAAAuAgAAKgMAAIsDAAA=\"},\"shape\":[17],\"dtype\":\"int32\",\"order\":\"little\"}]]}}},\"view\":{\"type\":\"object\",\"name\":\"CDSView\",\"id\":\"p1120\",\"attributes\":{\"filter\":{\"type\":\"object\",\"name\":\"AllIndices\",\"id\":\"p1121\"}}},\"glyph\":{\"type\":\"object\",\"name\":\"VBar\",\"id\":\"p1116\",\"attributes\":{\"tags\":[\"apply_ranges\"],\"x\":{\"type\":\"field\",\"field\":\"sub_category\"},\"width\":{\"type\":\"value\",\"value\":0.8},\"top\":{\"type\":\"field\",\"field\":\"sales\"},\"fill_color\":{\"type\":\"value\",\"value\":\"#30a2da\"},\"hatch_color\":{\"type\":\"value\",\"value\":\"#30a2da\"}}},\"selection_glyph\":{\"type\":\"object\",\"name\":\"VBar\",\"id\":\"p1122\",\"attributes\":{\"tags\":[\"apply_ranges\"],\"x\":{\"type\":\"field\",\"field\":\"sub_category\"},\"width\":{\"type\":\"value\",\"value\":0.8},\"bottom\":{\"type\":\"value\",\"value\":0},\"top\":{\"type\":\"field\",\"field\":\"sales\"},\"line_color\":{\"type\":\"value\",\"value\":\"black\"},\"line_alpha\":{\"type\":\"value\",\"value\":1.0},\"line_width\":{\"type\":\"value\",\"value\":1},\"line_join\":{\"type\":\"value\",\"value\":\"bevel\"},\"line_cap\":{\"type\":\"value\",\"value\":\"butt\"},\"line_dash\":{\"type\":\"value\",\"value\":[]},\"line_dash_offset\":{\"type\":\"value\",\"value\":0},\"fill_color\":{\"type\":\"value\",\"value\":\"#30a2da\"},\"fill_alpha\":{\"type\":\"value\",\"value\":1.0},\"hatch_color\":{\"type\":\"value\",\"value\":\"#30a2da\"},\"hatch_alpha\":{\"type\":\"value\",\"value\":1.0},\"hatch_scale\":{\"type\":\"value\",\"value\":12.0},\"hatch_pattern\":{\"type\":\"value\",\"value\":null},\"hatch_weight\":{\"type\":\"value\",\"value\":1.0}}},\"nonselection_glyph\":{\"type\":\"object\",\"name\":\"VBar\",\"id\":\"p1117\",\"attributes\":{\"tags\":[\"apply_ranges\"],\"x\":{\"type\":\"field\",\"field\":\"sub_category\"},\"width\":{\"type\":\"value\",\"value\":0.8},\"top\":{\"type\":\"field\",\"field\":\"sales\"},\"line_alpha\":{\"type\":\"value\",\"value\":0.1},\"fill_color\":{\"type\":\"value\",\"value\":\"#30a2da\"},\"fill_alpha\":{\"type\":\"value\",\"value\":0.1},\"hatch_color\":{\"type\":\"value\",\"value\":\"#30a2da\"},\"hatch_alpha\":{\"type\":\"value\",\"value\":0.1}}},\"muted_glyph\":{\"type\":\"object\",\"name\":\"VBar\",\"id\":\"p1118\",\"attributes\":{\"tags\":[\"apply_ranges\"],\"x\":{\"type\":\"field\",\"field\":\"sub_category\"},\"width\":{\"type\":\"value\",\"value\":0.8},\"top\":{\"type\":\"field\",\"field\":\"sales\"},\"line_alpha\":{\"type\":\"value\",\"value\":0.2},\"fill_color\":{\"type\":\"value\",\"value\":\"#30a2da\"},\"fill_alpha\":{\"type\":\"value\",\"value\":0.2},\"hatch_color\":{\"type\":\"value\",\"value\":\"#30a2da\"},\"hatch_alpha\":{\"type\":\"value\",\"value\":0.2}}}}}],\"toolbar\":{\"type\":\"object\",\"name\":\"Toolbar\",\"id\":\"p1088\",\"attributes\":{\"tools\":[{\"type\":\"object\",\"name\":\"WheelZoomTool\",\"id\":\"p1077\",\"attributes\":{\"tags\":[\"hv_created\"],\"renderers\":\"auto\",\"zoom_together\":\"none\"}},{\"type\":\"object\",\"name\":\"HoverTool\",\"id\":\"p1078\",\"attributes\":{\"tags\":[\"hv_created\"],\"renderers\":[{\"id\":\"p1119\"}],\"tooltips\":[[\"sub_category\",\"@{sub_category}\"],[\"sales\",\"@{sales}\"]]}},{\"type\":\"object\",\"name\":\"SaveTool\",\"id\":\"p1101\"},{\"type\":\"object\",\"name\":\"PanTool\",\"id\":\"p1102\"},{\"type\":\"object\",\"name\":\"BoxZoomTool\",\"id\":\"p1103\",\"attributes\":{\"overlay\":{\"type\":\"object\",\"name\":\"BoxAnnotation\",\"id\":\"p1104\",\"attributes\":{\"syncable\":false,\"level\":\"overlay\",\"visible\":false,\"left\":{\"type\":\"number\",\"value\":\"nan\"},\"right\":{\"type\":\"number\",\"value\":\"nan\"},\"top\":{\"type\":\"number\",\"value\":\"nan\"},\"bottom\":{\"type\":\"number\",\"value\":\"nan\"},\"left_units\":\"canvas\",\"right_units\":\"canvas\",\"top_units\":\"canvas\",\"bottom_units\":\"canvas\",\"line_color\":\"black\",\"line_alpha\":1.0,\"line_width\":2,\"line_dash\":[4,4],\"fill_color\":\"lightgrey\",\"fill_alpha\":0.5}}}},{\"type\":\"object\",\"name\":\"ResetTool\",\"id\":\"p1109\"}],\"active_drag\":{\"id\":\"p1102\"},\"active_scroll\":{\"id\":\"p1077\"}}},\"left\":[{\"type\":\"object\",\"name\":\"LinearAxis\",\"id\":\"p1096\",\"attributes\":{\"ticker\":{\"type\":\"object\",\"name\":\"BasicTicker\",\"id\":\"p1097\",\"attributes\":{\"mantissas\":[1,2,5]}},\"formatter\":{\"type\":\"object\",\"name\":\"NumeralTickFormatter\",\"id\":\"p1004\",\"attributes\":{\"format\":\"0.00\"}},\"axis_label\":\"last_2_years_sales\",\"major_label_policy\":{\"type\":\"object\",\"name\":\"AllLabels\",\"id\":\"p1099\"}}}],\"below\":[{\"type\":\"object\",\"name\":\"CategoricalAxis\",\"id\":\"p1091\",\"attributes\":{\"ticker\":{\"type\":\"object\",\"name\":\"CategoricalTicker\",\"id\":\"p1092\"},\"formatter\":{\"type\":\"object\",\"name\":\"CategoricalTickFormatter\",\"id\":\"p1093\"},\"axis_label\":\"sub_category\",\"major_label_policy\":{\"type\":\"object\",\"name\":\"AllLabels\",\"id\":\"p1094\"}}}],\"center\":[{\"type\":\"object\",\"name\":\"Grid\",\"id\":\"p1095\",\"attributes\":{\"axis\":{\"id\":\"p1091\"},\"grid_line_color\":null}},{\"type\":\"object\",\"name\":\"Grid\",\"id\":\"p1100\",\"attributes\":{\"dimension\":1,\"axis\":{\"id\":\"p1096\"},\"grid_line_color\":null}}],\"min_border_top\":10,\"min_border_bottom\":10,\"min_border_left\":10,\"min_border_right\":10,\"output_backend\":\"webgl\"}},{\"type\":\"object\",\"name\":\"Spacer\",\"id\":\"p1124\",\"attributes\":{\"name\":\"HSpacer01055\",\"stylesheets\":[\"\\n:host(.pn-loading):before, .pn-loading:before {\\n  background-color: #c3c3c3;\\n  mask-size: auto calc(min(50%, 400px));\\n  -webkit-mask-size: auto calc(min(50%, 400px));\\n}\",{\"id\":\"p1070\"},{\"id\":\"p1068\"},{\"id\":\"p1069\"}],\"margin\":0,\"sizing_mode\":\"stretch_width\",\"align\":\"start\"}}]}}],\"defs\":[{\"type\":\"model\",\"name\":\"ReactiveHTML1\"},{\"type\":\"model\",\"name\":\"FlexBox1\",\"properties\":[{\"name\":\"align_content\",\"kind\":\"Any\",\"default\":\"flex-start\"},{\"name\":\"align_items\",\"kind\":\"Any\",\"default\":\"flex-start\"},{\"name\":\"flex_direction\",\"kind\":\"Any\",\"default\":\"row\"},{\"name\":\"flex_wrap\",\"kind\":\"Any\",\"default\":\"wrap\"},{\"name\":\"gap\",\"kind\":\"Any\",\"default\":\"\"},{\"name\":\"justify_content\",\"kind\":\"Any\",\"default\":\"flex-start\"}]},{\"type\":\"model\",\"name\":\"FloatPanel1\",\"properties\":[{\"name\":\"config\",\"kind\":\"Any\",\"default\":{\"type\":\"map\"}},{\"name\":\"contained\",\"kind\":\"Any\",\"default\":true},{\"name\":\"position\",\"kind\":\"Any\",\"default\":\"right-top\"},{\"name\":\"offsetx\",\"kind\":\"Any\",\"default\":null},{\"name\":\"offsety\",\"kind\":\"Any\",\"default\":null},{\"name\":\"theme\",\"kind\":\"Any\",\"default\":\"primary\"},{\"name\":\"status\",\"kind\":\"Any\",\"default\":\"normalized\"}]},{\"type\":\"model\",\"name\":\"GridStack1\",\"properties\":[{\"name\":\"mode\",\"kind\":\"Any\",\"default\":\"warn\"},{\"name\":\"ncols\",\"kind\":\"Any\",\"default\":null},{\"name\":\"nrows\",\"kind\":\"Any\",\"default\":null},{\"name\":\"allow_resize\",\"kind\":\"Any\",\"default\":true},{\"name\":\"allow_drag\",\"kind\":\"Any\",\"default\":true},{\"name\":\"state\",\"kind\":\"Any\",\"default\":[]}]},{\"type\":\"model\",\"name\":\"drag1\",\"properties\":[{\"name\":\"slider_width\",\"kind\":\"Any\",\"default\":5},{\"name\":\"slider_color\",\"kind\":\"Any\",\"default\":\"black\"},{\"name\":\"value\",\"kind\":\"Any\",\"default\":50}]},{\"type\":\"model\",\"name\":\"click1\",\"properties\":[{\"name\":\"terminal_output\",\"kind\":\"Any\",\"default\":\"\"},{\"name\":\"debug_name\",\"kind\":\"Any\",\"default\":\"\"},{\"name\":\"clears\",\"kind\":\"Any\",\"default\":0}]},{\"type\":\"model\",\"name\":\"FastWrapper1\",\"properties\":[{\"name\":\"object\",\"kind\":\"Any\",\"default\":null},{\"name\":\"style\",\"kind\":\"Any\",\"default\":null}]},{\"type\":\"model\",\"name\":\"NotificationAreaBase1\",\"properties\":[{\"name\":\"js_events\",\"kind\":\"Any\",\"default\":{\"type\":\"map\"}},{\"name\":\"position\",\"kind\":\"Any\",\"default\":\"bottom-right\"},{\"name\":\"_clear\",\"kind\":\"Any\",\"default\":0}]},{\"type\":\"model\",\"name\":\"NotificationArea1\",\"properties\":[{\"name\":\"js_events\",\"kind\":\"Any\",\"default\":{\"type\":\"map\"}},{\"name\":\"notifications\",\"kind\":\"Any\",\"default\":[]},{\"name\":\"position\",\"kind\":\"Any\",\"default\":\"bottom-right\"},{\"name\":\"_clear\",\"kind\":\"Any\",\"default\":0},{\"name\":\"types\",\"kind\":\"Any\",\"default\":[{\"type\":\"map\",\"entries\":[[\"type\",\"warning\"],[\"background\",\"#ffc107\"],[\"icon\",{\"type\":\"map\",\"entries\":[[\"className\",\"fas fa-exclamation-triangle\"],[\"tagName\",\"i\"],[\"color\",\"white\"]]}]]},{\"type\":\"map\",\"entries\":[[\"type\",\"info\"],[\"background\",\"#007bff\"],[\"icon\",{\"type\":\"map\",\"entries\":[[\"className\",\"fas fa-info-circle\"],[\"tagName\",\"i\"],[\"color\",\"white\"]]}]]}]}]},{\"type\":\"model\",\"name\":\"Notification\",\"properties\":[{\"name\":\"background\",\"kind\":\"Any\",\"default\":null},{\"name\":\"duration\",\"kind\":\"Any\",\"default\":3000},{\"name\":\"icon\",\"kind\":\"Any\",\"default\":null},{\"name\":\"message\",\"kind\":\"Any\",\"default\":\"\"},{\"name\":\"notification_type\",\"kind\":\"Any\",\"default\":null},{\"name\":\"_destroyed\",\"kind\":\"Any\",\"default\":false}]},{\"type\":\"model\",\"name\":\"TemplateActions1\",\"properties\":[{\"name\":\"open_modal\",\"kind\":\"Any\",\"default\":0},{\"name\":\"close_modal\",\"kind\":\"Any\",\"default\":0}]},{\"type\":\"model\",\"name\":\"BootstrapTemplateActions1\",\"properties\":[{\"name\":\"open_modal\",\"kind\":\"Any\",\"default\":0},{\"name\":\"close_modal\",\"kind\":\"Any\",\"default\":0}]},{\"type\":\"model\",\"name\":\"TemplateEditor1\",\"properties\":[{\"name\":\"layout\",\"kind\":\"Any\",\"default\":[]}]},{\"type\":\"model\",\"name\":\"MaterialTemplateActions1\",\"properties\":[{\"name\":\"open_modal\",\"kind\":\"Any\",\"default\":0},{\"name\":\"close_modal\",\"kind\":\"Any\",\"default\":0}]},{\"type\":\"model\",\"name\":\"copy_to_clipboard1\",\"properties\":[{\"name\":\"fill\",\"kind\":\"Any\",\"default\":\"none\"},{\"name\":\"value\",\"kind\":\"Any\",\"default\":null}]}]}};\n",
       "  var render_items = [{\"docid\":\"dbe879d8-1677-4df2-977b-b806044af85f\",\"roots\":{\"p1067\":\"cda6fb9d-2868-4dee-9195-622079fcda6b\"},\"root_ids\":[\"p1067\"]}];\n",
       "  var docs = Object.values(docs_json)\n",
       "  if (!docs) {\n",
       "    return\n",
       "  }\n",
       "  const py_version = docs[0].version.replace('rc', '-rc.').replace('.dev', '-dev.')\n",
       "  async function embed_document(root) {\n",
       "    var Bokeh = get_bokeh(root)\n",
       "    await Bokeh.embed.embed_items_notebook(docs_json, render_items);\n",
       "    for (const render_item of render_items) {\n",
       "      for (const root_id of render_item.root_ids) {\n",
       "\tconst id_el = document.getElementById(root_id)\n",
       "\tif (id_el.children.length && id_el.children[0].hasAttribute('data-root-id')) {\n",
       "\t  const root_el = id_el.children[0]\n",
       "\t  root_el.id = root_el.id + '-rendered'\n",
       "\t  for (const child of root_el.children) {\n",
       "            // Ensure JupyterLab does not capture keyboard shortcuts\n",
       "            // see: https://jupyterlab.readthedocs.io/en/4.1.x/extension/notebook.html#keyboard-interaction-model\n",
       "\t    child.setAttribute('data-lm-suppress-shortcuts', 'true')\n",
       "\t  }\n",
       "\t}\n",
       "      }\n",
       "    }\n",
       "  }\n",
       "  function get_bokeh(root) {\n",
       "    if (root.Bokeh === undefined) {\n",
       "      return null\n",
       "    } else if (root.Bokeh.version !== py_version) {\n",
       "      if (root.Bokeh.versions === undefined || !root.Bokeh.versions.has(py_version)) {\n",
       "\treturn null\n",
       "      }\n",
       "      return root.Bokeh.versions.get(py_version);\n",
       "    } else if (root.Bokeh.version === py_version) {\n",
       "      return root.Bokeh\n",
       "    }\n",
       "    return null\n",
       "  }\n",
       "  function is_loaded(root) {\n",
       "    var Bokeh = get_bokeh(root)\n",
       "    return (Bokeh != null && Bokeh.Panel !== undefined)\n",
       "  }\n",
       "  if (is_loaded(root)) {\n",
       "    embed_document(root);\n",
       "  } else {\n",
       "    var attempts = 0;\n",
       "    var timer = setInterval(function(root) {\n",
       "      if (is_loaded(root)) {\n",
       "        clearInterval(timer);\n",
       "        embed_document(root);\n",
       "      } else if (document.readyState == \"complete\") {\n",
       "        attempts++;\n",
       "        if (attempts > 200) {\n",
       "          clearInterval(timer);\n",
       "\t  var Bokeh = get_bokeh(root)\n",
       "\t  if (Bokeh == null || Bokeh.Panel == null) {\n",
       "            console.warn(\"Panel: ERROR: Unable to run Panel code because Bokeh or Panel library is missing\");\n",
       "\t  } else {\n",
       "\t    console.warn(\"Panel: WARNING: Attempting to render but not all required libraries could be resolved.\")\n",
       "\t    embed_document(root)\n",
       "\t  }\n",
       "        }\n",
       "      }\n",
       "    }, 25, root)\n",
       "  }\n",
       "})(window);</script>"
      ],
      "text/plain": [
       ":Bars   [sub_category]   (sales)"
      ]
     },
     "execution_count": 16,
     "metadata": {
      "application/vnd.holoviews_exec.v0+json": {
       "id": "p1067"
      }
     },
     "output_type": "execute_result"
    }
   ],
   "source": [
    "b_df = last_two_years_df.pivot_table(index=\"sub_category\", values=[\"sales\"], aggfunc=\"count\")\n",
    "b_plot = b_df.sort_values(\"sales\").hvplot(kind=\"bar\",title=\"Last 2 years sales\",yformatter=float_format,ylabel=\"last_2_years_sales\")\n",
    "b_plot"
   ]
  },
  {
   "cell_type": "markdown",
   "id": "a15e4fdd-3ffa-41c1-94a2-a98297ca5c7f",
   "metadata": {},
   "source": [
    "б) За последние 2 года чаще всего покупают товары из подгрупп: Binders, Paper, Furnishings, Phones. Они совпадают с популярными группами за весь рассматриваемый период."
   ]
  },
  {
   "cell_type": "code",
   "execution_count": 17,
   "id": "66ef6164-38ea-47f2-b928-3955e31081fe",
   "metadata": {
    "scrolled": true
   },
   "outputs": [
    {
     "data": {},
     "metadata": {},
     "output_type": "display_data"
    },
    {
     "data": {
      "application/vnd.holoviews_exec.v0+json": "",
      "text/html": [
       "<div id='p1129'>\n",
       "  <div id=\"c461b3fd-d48c-422b-8c7d-036f6282f0b9\" data-root-id=\"p1129\" style=\"display: contents;\"></div>\n",
       "</div>\n",
       "<script type=\"application/javascript\">(function(root) {\n",
       "  var docs_json = {\"3c74ef6d-e045-4e87-a186-17967e53f1fc\":{\"version\":\"3.4.1\",\"title\":\"Bokeh Application\",\"roots\":[{\"type\":\"object\",\"name\":\"Row\",\"id\":\"p1129\",\"attributes\":{\"name\":\"Row01156\",\"tags\":[\"embedded\"],\"stylesheets\":[\"\\n:host(.pn-loading):before, .pn-loading:before {\\n  background-color: #c3c3c3;\\n  mask-size: auto calc(min(50%, 400px));\\n  -webkit-mask-size: auto calc(min(50%, 400px));\\n}\",{\"type\":\"object\",\"name\":\"ImportedStyleSheet\",\"id\":\"p1132\",\"attributes\":{\"url\":\"https://cdn.holoviz.org/panel/1.4.4/dist/css/loading.css\"}},{\"type\":\"object\",\"name\":\"ImportedStyleSheet\",\"id\":\"p1188\",\"attributes\":{\"url\":\"https://cdn.holoviz.org/panel/1.4.4/dist/css/listpanel.css\"}},{\"type\":\"object\",\"name\":\"ImportedStyleSheet\",\"id\":\"p1130\",\"attributes\":{\"url\":\"https://cdn.holoviz.org/panel/1.4.4/dist/bundled/theme/default.css\"}},{\"type\":\"object\",\"name\":\"ImportedStyleSheet\",\"id\":\"p1131\",\"attributes\":{\"url\":\"https://cdn.holoviz.org/panel/1.4.4/dist/bundled/theme/native.css\"}}],\"min_width\":700,\"margin\":0,\"sizing_mode\":\"stretch_width\",\"align\":\"start\",\"children\":[{\"type\":\"object\",\"name\":\"Spacer\",\"id\":\"p1133\",\"attributes\":{\"name\":\"HSpacer01163\",\"stylesheets\":[\"\\n:host(.pn-loading):before, .pn-loading:before {\\n  background-color: #c3c3c3;\\n  mask-size: auto calc(min(50%, 400px));\\n  -webkit-mask-size: auto calc(min(50%, 400px));\\n}\",{\"id\":\"p1132\"},{\"id\":\"p1130\"},{\"id\":\"p1131\"}],\"margin\":0,\"sizing_mode\":\"stretch_width\",\"align\":\"start\"}},{\"type\":\"object\",\"name\":\"Figure\",\"id\":\"p1141\",\"attributes\":{\"width\":700,\"height\":300,\"margin\":[5,10],\"sizing_mode\":\"fixed\",\"align\":\"start\",\"x_range\":{\"type\":\"object\",\"name\":\"FactorRange\",\"id\":\"p1134\",\"attributes\":{\"tags\":[[[\"sub_category\",null]],[]],\"factors\":[\"Copiers\",\"Machines\",\"Supplies\",\"Fasteners\",\"Envelopes\",\"Bookcases\",\"Tables\",\"Labels\",\"Appliances\",\"Chairs\",\"Accessories\",\"Art\",\"Storage\",\"Phones\",\"Furnishings\",\"Paper\",\"Binders\"]}},\"y_range\":{\"type\":\"object\",\"name\":\"Range1d\",\"id\":\"p1135\",\"attributes\":{\"tags\":[[[\"sales\",null]],{\"type\":\"map\",\"entries\":[[\"invert_yaxis\",false],[\"autorange\",false]]}],\"end\":543.4,\"reset_start\":0.0,\"reset_end\":543.4}},\"x_scale\":{\"type\":\"object\",\"name\":\"CategoricalScale\",\"id\":\"p1151\"},\"y_scale\":{\"type\":\"object\",\"name\":\"LinearScale\",\"id\":\"p1152\"},\"title\":{\"type\":\"object\",\"name\":\"Title\",\"id\":\"p1144\",\"attributes\":{\"text\":\"Last year sales\",\"text_color\":\"black\",\"text_font_size\":\"12pt\"}},\"renderers\":[{\"type\":\"object\",\"name\":\"GlyphRenderer\",\"id\":\"p1181\",\"attributes\":{\"data_source\":{\"type\":\"object\",\"name\":\"ColumnDataSource\",\"id\":\"p1172\",\"attributes\":{\"selected\":{\"type\":\"object\",\"name\":\"Selection\",\"id\":\"p1173\",\"attributes\":{\"indices\":[],\"line_indices\":[]}},\"selection_policy\":{\"type\":\"object\",\"name\":\"UnionRenderers\",\"id\":\"p1174\"},\"data\":{\"type\":\"map\",\"entries\":[[\"sub_category\",[\"Copiers\",\"Machines\",\"Supplies\",\"Fasteners\",\"Envelopes\",\"Bookcases\",\"Tables\",\"Labels\",\"Appliances\",\"Chairs\",\"Accessories\",\"Art\",\"Storage\",\"Phones\",\"Furnishings\",\"Paper\",\"Binders\"]],[\"sales\",{\"type\":\"ndarray\",\"array\":{\"type\":\"bytes\",\"data\":\"FgAAACEAAAA7AAAAPwAAAEcAAABMAAAAaAAAAHIAAAChAAAAvAAAAAoBAAAaAQAAGwEAACMBAAA2AQAAxgEAAPABAAA=\"},\"shape\":[17],\"dtype\":\"int32\",\"order\":\"little\"}]]}}},\"view\":{\"type\":\"object\",\"name\":\"CDSView\",\"id\":\"p1182\",\"attributes\":{\"filter\":{\"type\":\"object\",\"name\":\"AllIndices\",\"id\":\"p1183\"}}},\"glyph\":{\"type\":\"object\",\"name\":\"VBar\",\"id\":\"p1178\",\"attributes\":{\"tags\":[\"apply_ranges\"],\"x\":{\"type\":\"field\",\"field\":\"sub_category\"},\"width\":{\"type\":\"value\",\"value\":0.8},\"top\":{\"type\":\"field\",\"field\":\"sales\"},\"fill_color\":{\"type\":\"value\",\"value\":\"#30a2da\"},\"hatch_color\":{\"type\":\"value\",\"value\":\"#30a2da\"}}},\"selection_glyph\":{\"type\":\"object\",\"name\":\"VBar\",\"id\":\"p1184\",\"attributes\":{\"tags\":[\"apply_ranges\"],\"x\":{\"type\":\"field\",\"field\":\"sub_category\"},\"width\":{\"type\":\"value\",\"value\":0.8},\"bottom\":{\"type\":\"value\",\"value\":0},\"top\":{\"type\":\"field\",\"field\":\"sales\"},\"line_color\":{\"type\":\"value\",\"value\":\"black\"},\"line_alpha\":{\"type\":\"value\",\"value\":1.0},\"line_width\":{\"type\":\"value\",\"value\":1},\"line_join\":{\"type\":\"value\",\"value\":\"bevel\"},\"line_cap\":{\"type\":\"value\",\"value\":\"butt\"},\"line_dash\":{\"type\":\"value\",\"value\":[]},\"line_dash_offset\":{\"type\":\"value\",\"value\":0},\"fill_color\":{\"type\":\"value\",\"value\":\"#30a2da\"},\"fill_alpha\":{\"type\":\"value\",\"value\":1.0},\"hatch_color\":{\"type\":\"value\",\"value\":\"#30a2da\"},\"hatch_alpha\":{\"type\":\"value\",\"value\":1.0},\"hatch_scale\":{\"type\":\"value\",\"value\":12.0},\"hatch_pattern\":{\"type\":\"value\",\"value\":null},\"hatch_weight\":{\"type\":\"value\",\"value\":1.0}}},\"nonselection_glyph\":{\"type\":\"object\",\"name\":\"VBar\",\"id\":\"p1179\",\"attributes\":{\"tags\":[\"apply_ranges\"],\"x\":{\"type\":\"field\",\"field\":\"sub_category\"},\"width\":{\"type\":\"value\",\"value\":0.8},\"top\":{\"type\":\"field\",\"field\":\"sales\"},\"line_alpha\":{\"type\":\"value\",\"value\":0.1},\"fill_color\":{\"type\":\"value\",\"value\":\"#30a2da\"},\"fill_alpha\":{\"type\":\"value\",\"value\":0.1},\"hatch_color\":{\"type\":\"value\",\"value\":\"#30a2da\"},\"hatch_alpha\":{\"type\":\"value\",\"value\":0.1}}},\"muted_glyph\":{\"type\":\"object\",\"name\":\"VBar\",\"id\":\"p1180\",\"attributes\":{\"tags\":[\"apply_ranges\"],\"x\":{\"type\":\"field\",\"field\":\"sub_category\"},\"width\":{\"type\":\"value\",\"value\":0.8},\"top\":{\"type\":\"field\",\"field\":\"sales\"},\"line_alpha\":{\"type\":\"value\",\"value\":0.2},\"fill_color\":{\"type\":\"value\",\"value\":\"#30a2da\"},\"fill_alpha\":{\"type\":\"value\",\"value\":0.2},\"hatch_color\":{\"type\":\"value\",\"value\":\"#30a2da\"},\"hatch_alpha\":{\"type\":\"value\",\"value\":0.2}}}}}],\"toolbar\":{\"type\":\"object\",\"name\":\"Toolbar\",\"id\":\"p1150\",\"attributes\":{\"tools\":[{\"type\":\"object\",\"name\":\"WheelZoomTool\",\"id\":\"p1139\",\"attributes\":{\"tags\":[\"hv_created\"],\"renderers\":\"auto\",\"zoom_together\":\"none\"}},{\"type\":\"object\",\"name\":\"HoverTool\",\"id\":\"p1140\",\"attributes\":{\"tags\":[\"hv_created\"],\"renderers\":[{\"id\":\"p1181\"}],\"tooltips\":[[\"sub_category\",\"@{sub_category}\"],[\"sales\",\"@{sales}\"]]}},{\"type\":\"object\",\"name\":\"SaveTool\",\"id\":\"p1163\"},{\"type\":\"object\",\"name\":\"PanTool\",\"id\":\"p1164\"},{\"type\":\"object\",\"name\":\"BoxZoomTool\",\"id\":\"p1165\",\"attributes\":{\"overlay\":{\"type\":\"object\",\"name\":\"BoxAnnotation\",\"id\":\"p1166\",\"attributes\":{\"syncable\":false,\"level\":\"overlay\",\"visible\":false,\"left\":{\"type\":\"number\",\"value\":\"nan\"},\"right\":{\"type\":\"number\",\"value\":\"nan\"},\"top\":{\"type\":\"number\",\"value\":\"nan\"},\"bottom\":{\"type\":\"number\",\"value\":\"nan\"},\"left_units\":\"canvas\",\"right_units\":\"canvas\",\"top_units\":\"canvas\",\"bottom_units\":\"canvas\",\"line_color\":\"black\",\"line_alpha\":1.0,\"line_width\":2,\"line_dash\":[4,4],\"fill_color\":\"lightgrey\",\"fill_alpha\":0.5}}}},{\"type\":\"object\",\"name\":\"ResetTool\",\"id\":\"p1171\"}],\"active_drag\":{\"id\":\"p1164\"},\"active_scroll\":{\"id\":\"p1139\"}}},\"left\":[{\"type\":\"object\",\"name\":\"LinearAxis\",\"id\":\"p1158\",\"attributes\":{\"ticker\":{\"type\":\"object\",\"name\":\"BasicTicker\",\"id\":\"p1159\",\"attributes\":{\"mantissas\":[1,2,5]}},\"formatter\":{\"type\":\"object\",\"name\":\"NumeralTickFormatter\",\"id\":\"p1004\",\"attributes\":{\"format\":\"0.00\"}},\"axis_label\":\"last_year_sales\",\"major_label_policy\":{\"type\":\"object\",\"name\":\"AllLabels\",\"id\":\"p1161\"}}}],\"below\":[{\"type\":\"object\",\"name\":\"CategoricalAxis\",\"id\":\"p1153\",\"attributes\":{\"ticker\":{\"type\":\"object\",\"name\":\"CategoricalTicker\",\"id\":\"p1154\"},\"formatter\":{\"type\":\"object\",\"name\":\"CategoricalTickFormatter\",\"id\":\"p1155\"},\"axis_label\":\"sub_category\",\"major_label_policy\":{\"type\":\"object\",\"name\":\"AllLabels\",\"id\":\"p1156\"}}}],\"center\":[{\"type\":\"object\",\"name\":\"Grid\",\"id\":\"p1157\",\"attributes\":{\"axis\":{\"id\":\"p1153\"},\"grid_line_color\":null}},{\"type\":\"object\",\"name\":\"Grid\",\"id\":\"p1162\",\"attributes\":{\"dimension\":1,\"axis\":{\"id\":\"p1158\"},\"grid_line_color\":null}}],\"min_border_top\":10,\"min_border_bottom\":10,\"min_border_left\":10,\"min_border_right\":10,\"output_backend\":\"webgl\"}},{\"type\":\"object\",\"name\":\"Spacer\",\"id\":\"p1186\",\"attributes\":{\"name\":\"HSpacer01164\",\"stylesheets\":[\"\\n:host(.pn-loading):before, .pn-loading:before {\\n  background-color: #c3c3c3;\\n  mask-size: auto calc(min(50%, 400px));\\n  -webkit-mask-size: auto calc(min(50%, 400px));\\n}\",{\"id\":\"p1132\"},{\"id\":\"p1130\"},{\"id\":\"p1131\"}],\"margin\":0,\"sizing_mode\":\"stretch_width\",\"align\":\"start\"}}]}}],\"defs\":[{\"type\":\"model\",\"name\":\"ReactiveHTML1\"},{\"type\":\"model\",\"name\":\"FlexBox1\",\"properties\":[{\"name\":\"align_content\",\"kind\":\"Any\",\"default\":\"flex-start\"},{\"name\":\"align_items\",\"kind\":\"Any\",\"default\":\"flex-start\"},{\"name\":\"flex_direction\",\"kind\":\"Any\",\"default\":\"row\"},{\"name\":\"flex_wrap\",\"kind\":\"Any\",\"default\":\"wrap\"},{\"name\":\"gap\",\"kind\":\"Any\",\"default\":\"\"},{\"name\":\"justify_content\",\"kind\":\"Any\",\"default\":\"flex-start\"}]},{\"type\":\"model\",\"name\":\"FloatPanel1\",\"properties\":[{\"name\":\"config\",\"kind\":\"Any\",\"default\":{\"type\":\"map\"}},{\"name\":\"contained\",\"kind\":\"Any\",\"default\":true},{\"name\":\"position\",\"kind\":\"Any\",\"default\":\"right-top\"},{\"name\":\"offsetx\",\"kind\":\"Any\",\"default\":null},{\"name\":\"offsety\",\"kind\":\"Any\",\"default\":null},{\"name\":\"theme\",\"kind\":\"Any\",\"default\":\"primary\"},{\"name\":\"status\",\"kind\":\"Any\",\"default\":\"normalized\"}]},{\"type\":\"model\",\"name\":\"GridStack1\",\"properties\":[{\"name\":\"mode\",\"kind\":\"Any\",\"default\":\"warn\"},{\"name\":\"ncols\",\"kind\":\"Any\",\"default\":null},{\"name\":\"nrows\",\"kind\":\"Any\",\"default\":null},{\"name\":\"allow_resize\",\"kind\":\"Any\",\"default\":true},{\"name\":\"allow_drag\",\"kind\":\"Any\",\"default\":true},{\"name\":\"state\",\"kind\":\"Any\",\"default\":[]}]},{\"type\":\"model\",\"name\":\"drag1\",\"properties\":[{\"name\":\"slider_width\",\"kind\":\"Any\",\"default\":5},{\"name\":\"slider_color\",\"kind\":\"Any\",\"default\":\"black\"},{\"name\":\"value\",\"kind\":\"Any\",\"default\":50}]},{\"type\":\"model\",\"name\":\"click1\",\"properties\":[{\"name\":\"terminal_output\",\"kind\":\"Any\",\"default\":\"\"},{\"name\":\"debug_name\",\"kind\":\"Any\",\"default\":\"\"},{\"name\":\"clears\",\"kind\":\"Any\",\"default\":0}]},{\"type\":\"model\",\"name\":\"FastWrapper1\",\"properties\":[{\"name\":\"object\",\"kind\":\"Any\",\"default\":null},{\"name\":\"style\",\"kind\":\"Any\",\"default\":null}]},{\"type\":\"model\",\"name\":\"NotificationAreaBase1\",\"properties\":[{\"name\":\"js_events\",\"kind\":\"Any\",\"default\":{\"type\":\"map\"}},{\"name\":\"position\",\"kind\":\"Any\",\"default\":\"bottom-right\"},{\"name\":\"_clear\",\"kind\":\"Any\",\"default\":0}]},{\"type\":\"model\",\"name\":\"NotificationArea1\",\"properties\":[{\"name\":\"js_events\",\"kind\":\"Any\",\"default\":{\"type\":\"map\"}},{\"name\":\"notifications\",\"kind\":\"Any\",\"default\":[]},{\"name\":\"position\",\"kind\":\"Any\",\"default\":\"bottom-right\"},{\"name\":\"_clear\",\"kind\":\"Any\",\"default\":0},{\"name\":\"types\",\"kind\":\"Any\",\"default\":[{\"type\":\"map\",\"entries\":[[\"type\",\"warning\"],[\"background\",\"#ffc107\"],[\"icon\",{\"type\":\"map\",\"entries\":[[\"className\",\"fas fa-exclamation-triangle\"],[\"tagName\",\"i\"],[\"color\",\"white\"]]}]]},{\"type\":\"map\",\"entries\":[[\"type\",\"info\"],[\"background\",\"#007bff\"],[\"icon\",{\"type\":\"map\",\"entries\":[[\"className\",\"fas fa-info-circle\"],[\"tagName\",\"i\"],[\"color\",\"white\"]]}]]}]}]},{\"type\":\"model\",\"name\":\"Notification\",\"properties\":[{\"name\":\"background\",\"kind\":\"Any\",\"default\":null},{\"name\":\"duration\",\"kind\":\"Any\",\"default\":3000},{\"name\":\"icon\",\"kind\":\"Any\",\"default\":null},{\"name\":\"message\",\"kind\":\"Any\",\"default\":\"\"},{\"name\":\"notification_type\",\"kind\":\"Any\",\"default\":null},{\"name\":\"_destroyed\",\"kind\":\"Any\",\"default\":false}]},{\"type\":\"model\",\"name\":\"TemplateActions1\",\"properties\":[{\"name\":\"open_modal\",\"kind\":\"Any\",\"default\":0},{\"name\":\"close_modal\",\"kind\":\"Any\",\"default\":0}]},{\"type\":\"model\",\"name\":\"BootstrapTemplateActions1\",\"properties\":[{\"name\":\"open_modal\",\"kind\":\"Any\",\"default\":0},{\"name\":\"close_modal\",\"kind\":\"Any\",\"default\":0}]},{\"type\":\"model\",\"name\":\"TemplateEditor1\",\"properties\":[{\"name\":\"layout\",\"kind\":\"Any\",\"default\":[]}]},{\"type\":\"model\",\"name\":\"MaterialTemplateActions1\",\"properties\":[{\"name\":\"open_modal\",\"kind\":\"Any\",\"default\":0},{\"name\":\"close_modal\",\"kind\":\"Any\",\"default\":0}]},{\"type\":\"model\",\"name\":\"copy_to_clipboard1\",\"properties\":[{\"name\":\"fill\",\"kind\":\"Any\",\"default\":\"none\"},{\"name\":\"value\",\"kind\":\"Any\",\"default\":null}]}]}};\n",
       "  var render_items = [{\"docid\":\"3c74ef6d-e045-4e87-a186-17967e53f1fc\",\"roots\":{\"p1129\":\"c461b3fd-d48c-422b-8c7d-036f6282f0b9\"},\"root_ids\":[\"p1129\"]}];\n",
       "  var docs = Object.values(docs_json)\n",
       "  if (!docs) {\n",
       "    return\n",
       "  }\n",
       "  const py_version = docs[0].version.replace('rc', '-rc.').replace('.dev', '-dev.')\n",
       "  async function embed_document(root) {\n",
       "    var Bokeh = get_bokeh(root)\n",
       "    await Bokeh.embed.embed_items_notebook(docs_json, render_items);\n",
       "    for (const render_item of render_items) {\n",
       "      for (const root_id of render_item.root_ids) {\n",
       "\tconst id_el = document.getElementById(root_id)\n",
       "\tif (id_el.children.length && id_el.children[0].hasAttribute('data-root-id')) {\n",
       "\t  const root_el = id_el.children[0]\n",
       "\t  root_el.id = root_el.id + '-rendered'\n",
       "\t  for (const child of root_el.children) {\n",
       "            // Ensure JupyterLab does not capture keyboard shortcuts\n",
       "            // see: https://jupyterlab.readthedocs.io/en/4.1.x/extension/notebook.html#keyboard-interaction-model\n",
       "\t    child.setAttribute('data-lm-suppress-shortcuts', 'true')\n",
       "\t  }\n",
       "\t}\n",
       "      }\n",
       "    }\n",
       "  }\n",
       "  function get_bokeh(root) {\n",
       "    if (root.Bokeh === undefined) {\n",
       "      return null\n",
       "    } else if (root.Bokeh.version !== py_version) {\n",
       "      if (root.Bokeh.versions === undefined || !root.Bokeh.versions.has(py_version)) {\n",
       "\treturn null\n",
       "      }\n",
       "      return root.Bokeh.versions.get(py_version);\n",
       "    } else if (root.Bokeh.version === py_version) {\n",
       "      return root.Bokeh\n",
       "    }\n",
       "    return null\n",
       "  }\n",
       "  function is_loaded(root) {\n",
       "    var Bokeh = get_bokeh(root)\n",
       "    return (Bokeh != null && Bokeh.Panel !== undefined)\n",
       "  }\n",
       "  if (is_loaded(root)) {\n",
       "    embed_document(root);\n",
       "  } else {\n",
       "    var attempts = 0;\n",
       "    var timer = setInterval(function(root) {\n",
       "      if (is_loaded(root)) {\n",
       "        clearInterval(timer);\n",
       "        embed_document(root);\n",
       "      } else if (document.readyState == \"complete\") {\n",
       "        attempts++;\n",
       "        if (attempts > 200) {\n",
       "          clearInterval(timer);\n",
       "\t  var Bokeh = get_bokeh(root)\n",
       "\t  if (Bokeh == null || Bokeh.Panel == null) {\n",
       "            console.warn(\"Panel: ERROR: Unable to run Panel code because Bokeh or Panel library is missing\");\n",
       "\t  } else {\n",
       "\t    console.warn(\"Panel: WARNING: Attempting to render but not all required libraries could be resolved.\")\n",
       "\t    embed_document(root)\n",
       "\t  }\n",
       "        }\n",
       "      }\n",
       "    }, 25, root)\n",
       "  }\n",
       "})(window);</script>"
      ],
      "text/plain": [
       ":Bars   [sub_category]   (sales)"
      ]
     },
     "execution_count": 17,
     "metadata": {
      "application/vnd.holoviews_exec.v0+json": {
       "id": "p1129"
      }
     },
     "output_type": "execute_result"
    }
   ],
   "source": [
    "c_df = last_year_df.pivot_table(index=\"sub_category\", values=[\"sales\"], aggfunc=\"count\")\n",
    "c_plot = c_df.sort_values(\"sales\").hvplot(kind=\"bar\", title=\"Last year sales\", yformatter=float_format, ylabel=\"last_year_sales\")\n",
    "c_plot"
   ]
  },
  {
   "cell_type": "code",
   "execution_count": 18,
   "id": "a29777c8-0f93-4b89-80e5-93961ead566c",
   "metadata": {},
   "outputs": [
    {
     "data": {
      "text/html": [
       "<div>\n",
       "<style scoped>\n",
       "    .dataframe tbody tr th:only-of-type {\n",
       "        vertical-align: middle;\n",
       "    }\n",
       "\n",
       "    .dataframe tbody tr th {\n",
       "        vertical-align: top;\n",
       "    }\n",
       "\n",
       "    .dataframe thead th {\n",
       "        text-align: right;\n",
       "    }\n",
       "</style>\n",
       "<table border=\"1\" class=\"dataframe\">\n",
       "  <thead>\n",
       "    <tr style=\"text-align: right;\">\n",
       "      <th></th>\n",
       "      <th>all_sales</th>\n",
       "      <th>last_2_years_sales</th>\n",
       "      <th>last_year_sales</th>\n",
       "    </tr>\n",
       "    <tr>\n",
       "      <th>sub_category</th>\n",
       "      <th></th>\n",
       "      <th></th>\n",
       "      <th></th>\n",
       "    </tr>\n",
       "  </thead>\n",
       "  <tbody>\n",
       "    <tr>\n",
       "      <th>Accessories</th>\n",
       "      <td>756</td>\n",
       "      <td>450</td>\n",
       "      <td>266</td>\n",
       "    </tr>\n",
       "    <tr>\n",
       "      <th>Appliances</th>\n",
       "      <td>459</td>\n",
       "      <td>274</td>\n",
       "      <td>161</td>\n",
       "    </tr>\n",
       "    <tr>\n",
       "      <th>Art</th>\n",
       "      <td>785</td>\n",
       "      <td>458</td>\n",
       "      <td>282</td>\n",
       "    </tr>\n",
       "    <tr>\n",
       "      <th>Binders</th>\n",
       "      <td>1492</td>\n",
       "      <td>907</td>\n",
       "      <td>496</td>\n",
       "    </tr>\n",
       "    <tr>\n",
       "      <th>Bookcases</th>\n",
       "      <td>226</td>\n",
       "      <td>130</td>\n",
       "      <td>76</td>\n",
       "    </tr>\n",
       "    <tr>\n",
       "      <th>Chairs</th>\n",
       "      <td>607</td>\n",
       "      <td>348</td>\n",
       "      <td>188</td>\n",
       "    </tr>\n",
       "    <tr>\n",
       "      <th>Copiers</th>\n",
       "      <td>66</td>\n",
       "      <td>36</td>\n",
       "      <td>22</td>\n",
       "    </tr>\n",
       "    <tr>\n",
       "      <th>Envelopes</th>\n",
       "      <td>248</td>\n",
       "      <td>131</td>\n",
       "      <td>71</td>\n",
       "    </tr>\n",
       "    <tr>\n",
       "      <th>Fasteners</th>\n",
       "      <td>214</td>\n",
       "      <td>122</td>\n",
       "      <td>63</td>\n",
       "    </tr>\n",
       "    <tr>\n",
       "      <th>Furnishings</th>\n",
       "      <td>931</td>\n",
       "      <td>558</td>\n",
       "      <td>310</td>\n",
       "    </tr>\n",
       "    <tr>\n",
       "      <th>Labels</th>\n",
       "      <td>357</td>\n",
       "      <td>208</td>\n",
       "      <td>114</td>\n",
       "    </tr>\n",
       "    <tr>\n",
       "      <th>Machines</th>\n",
       "      <td>115</td>\n",
       "      <td>66</td>\n",
       "      <td>33</td>\n",
       "    </tr>\n",
       "    <tr>\n",
       "      <th>Paper</th>\n",
       "      <td>1338</td>\n",
       "      <td>810</td>\n",
       "      <td>454</td>\n",
       "    </tr>\n",
       "    <tr>\n",
       "      <th>Phones</th>\n",
       "      <td>876</td>\n",
       "      <td>511</td>\n",
       "      <td>291</td>\n",
       "    </tr>\n",
       "    <tr>\n",
       "      <th>Storage</th>\n",
       "      <td>832</td>\n",
       "      <td>492</td>\n",
       "      <td>283</td>\n",
       "    </tr>\n",
       "    <tr>\n",
       "      <th>Supplies</th>\n",
       "      <td>184</td>\n",
       "      <td>118</td>\n",
       "      <td>59</td>\n",
       "    </tr>\n",
       "    <tr>\n",
       "      <th>Tables</th>\n",
       "      <td>314</td>\n",
       "      <td>189</td>\n",
       "      <td>104</td>\n",
       "    </tr>\n",
       "  </tbody>\n",
       "</table>\n",
       "</div>"
      ],
      "text/plain": [
       "              all_sales  last_2_years_sales  last_year_sales\n",
       "sub_category                                                \n",
       "Accessories         756                 450              266\n",
       "Appliances          459                 274              161\n",
       "Art                 785                 458              282\n",
       "Binders            1492                 907              496\n",
       "Bookcases           226                 130               76\n",
       "Chairs              607                 348              188\n",
       "Copiers              66                  36               22\n",
       "Envelopes           248                 131               71\n",
       "Fasteners           214                 122               63\n",
       "Furnishings         931                 558              310\n",
       "Labels              357                 208              114\n",
       "Machines            115                  66               33\n",
       "Paper              1338                 810              454\n",
       "Phones              876                 511              291\n",
       "Storage             832                 492              283\n",
       "Supplies            184                 118               59\n",
       "Tables              314                 189              104"
      ]
     },
     "execution_count": 18,
     "metadata": {},
     "output_type": "execute_result"
    }
   ],
   "source": [
    "res_df = pd.concat([a_df, b_df, c_df], axis=1)\n",
    "res_df.columns=[\"all_sales\", \"last_2_years_sales\", \"last_year_sales\"]\n",
    "res_df"
   ]
  },
  {
   "cell_type": "code",
   "execution_count": 19,
   "id": "60d75164-cea4-47bf-9ead-6ec311b971cf",
   "metadata": {
    "scrolled": true
   },
   "outputs": [
    {
     "data": {},
     "metadata": {},
     "output_type": "display_data"
    },
    {
     "data": {
      "application/vnd.holoviews_exec.v0+json": "",
      "text/html": [
       "<div id='p1191'>\n",
       "  <div id=\"c1694770-877a-44e1-9df9-9e75d590d78a\" data-root-id=\"p1191\" style=\"display: contents;\"></div>\n",
       "</div>\n",
       "<script type=\"application/javascript\">(function(root) {\n",
       "  var docs_json = {\"69bb04ac-1308-4f7f-b471-81276a27702e\":{\"version\":\"3.4.1\",\"title\":\"Bokeh Application\",\"roots\":[{\"type\":\"object\",\"name\":\"Row\",\"id\":\"p1191\",\"attributes\":{\"name\":\"Row01234\",\"tags\":[\"embedded\"],\"stylesheets\":[\"\\n:host(.pn-loading):before, .pn-loading:before {\\n  background-color: #c3c3c3;\\n  mask-size: auto calc(min(50%, 400px));\\n  -webkit-mask-size: auto calc(min(50%, 400px));\\n}\",{\"type\":\"object\",\"name\":\"ImportedStyleSheet\",\"id\":\"p1194\",\"attributes\":{\"url\":\"https://cdn.holoviz.org/panel/1.4.4/dist/css/loading.css\"}},{\"type\":\"object\",\"name\":\"ImportedStyleSheet\",\"id\":\"p1253\",\"attributes\":{\"url\":\"https://cdn.holoviz.org/panel/1.4.4/dist/css/listpanel.css\"}},{\"type\":\"object\",\"name\":\"ImportedStyleSheet\",\"id\":\"p1192\",\"attributes\":{\"url\":\"https://cdn.holoviz.org/panel/1.4.4/dist/bundled/theme/default.css\"}},{\"type\":\"object\",\"name\":\"ImportedStyleSheet\",\"id\":\"p1193\",\"attributes\":{\"url\":\"https://cdn.holoviz.org/panel/1.4.4/dist/bundled/theme/native.css\"}}],\"min_width\":700,\"margin\":0,\"sizing_mode\":\"stretch_width\",\"align\":\"start\",\"children\":[{\"type\":\"object\",\"name\":\"Spacer\",\"id\":\"p1195\",\"attributes\":{\"name\":\"HSpacer01241\",\"stylesheets\":[\"\\n:host(.pn-loading):before, .pn-loading:before {\\n  background-color: #c3c3c3;\\n  mask-size: auto calc(min(50%, 400px));\\n  -webkit-mask-size: auto calc(min(50%, 400px));\\n}\",{\"id\":\"p1194\"},{\"id\":\"p1192\"},{\"id\":\"p1193\"}],\"margin\":0,\"sizing_mode\":\"stretch_width\",\"align\":\"start\"}},{\"type\":\"object\",\"name\":\"Figure\",\"id\":\"p1203\",\"attributes\":{\"width\":700,\"height\":300,\"margin\":[5,10],\"sizing_mode\":\"fixed\",\"align\":\"start\",\"x_range\":{\"type\":\"object\",\"name\":\"FactorRange\",\"id\":\"p1196\",\"attributes\":{\"tags\":[[[\"sub_category\",null]],[]],\"factors\":[\"Copiers\",\"Machines\",\"Supplies\",\"Fasteners\",\"Bookcases\",\"Envelopes\",\"Tables\",\"Labels\",\"Appliances\",\"Chairs\",\"Accessories\",\"Art\",\"Storage\",\"Phones\",\"Furnishings\",\"Paper\",\"Binders\"]}},\"y_range\":{\"type\":\"object\",\"name\":\"Range1d\",\"id\":\"p1197\",\"attributes\":{\"tags\":[[[\"value\",null]],{\"type\":\"map\",\"entries\":[[\"invert_yaxis\",false],[\"autorange\",false]]}],\"end\":3172.1,\"reset_start\":0.0,\"reset_end\":3172.1}},\"x_scale\":{\"type\":\"object\",\"name\":\"CategoricalScale\",\"id\":\"p1213\"},\"y_scale\":{\"type\":\"object\",\"name\":\"LinearScale\",\"id\":\"p1214\"},\"title\":{\"type\":\"object\",\"name\":\"Title\",\"id\":\"p1206\",\"attributes\":{\"text_color\":\"black\",\"text_font_size\":\"12pt\"}},\"renderers\":[{\"type\":\"object\",\"name\":\"GlyphRenderer\",\"id\":\"p1244\",\"attributes\":{\"data_source\":{\"type\":\"object\",\"name\":\"ColumnDataSource\",\"id\":\"p1235\",\"attributes\":{\"selected\":{\"type\":\"object\",\"name\":\"Selection\",\"id\":\"p1236\",\"attributes\":{\"indices\":[],\"line_indices\":[]}},\"selection_policy\":{\"type\":\"object\",\"name\":\"UnionRenderers\",\"id\":\"p1237\"},\"data\":{\"type\":\"map\",\"entries\":[[\"bottom\",{\"type\":\"ndarray\",\"array\":{\"type\":\"bytes\",\"data\":\"AAAAAAAAAAAAAAAAAAAAAAAAAAAAAAAAAAAAAAAAAAAAAAAAAAAAAAAAAAAAAAAAAAAAAAAAAAAAAAAAAAAAAAAAAAAAAAAAAAAAAAAAAAAAAAAAAAAAAAAAAAAAAAAAAAAAAAAAAAAAAAAAAAAAAAAAAAAAAAAAAAAAAAAAAAAAAAAAAAAAAAAAAAAAoIdAAAAAAABQl0AAAAAAAOiUQAAAAAAAGI1AAAAAAABgi0AAAAAAAACKQAAAAAAAiIhAAAAAAAD4gkAAAAAAALB8QAAAAAAAUHZAAAAAAACgc0AAAAAAAABvQAAAAAAAQGxAAAAAAADAakAAAAAAAABnQAAAAAAAwFxAAAAAAACAUEAAAAAAAESXQAAAAAAArJVAAAAAAACwlEAAAAAAAGyTQAAAAAAA2JJAAAAAAADYjUAAAAAAAOiGQAAAAAAAQHZAAAAAAABwf0AAAAAAALB3QAAAAAAAyKBAAAAAAAAAdUAAAAAAAOByQAAAAAAAoGZAAAAAAACAWUAAAAAAAKiBQAAAAAAAvqJA\"},\"shape\":[51],\"dtype\":\"float64\",\"order\":\"little\"}],[\"top\",{\"type\":\"ndarray\",\"array\":{\"type\":\"bytes\",\"data\":\"AAAAAACAUEAAAAAAAFCXQAAAAAAA6JRAAAAAAAAYjUAAAAAAAGCLQAAAAAAAiIhAAAAAAACgh0AAAAAAAPiCQAAAAAAAAIpAAAAAAABQdkAAAAAAAKBzQAAAAAAAAG9AAAAAAABAbEAAAAAAAMBqQAAAAAAAAGdAAAAAAADAXEAAAAAAALB8QAAAAAAA2JJAAAAAAAC+okAAAAAAAMigQAAAAAAARJdAAAAAAACslUAAAAAAALCUQAAAAAAAbJNAAAAAAADYjUAAAAAAAOiGQAAAAAAAqIFAAAAAAABwf0AAAAAAALB3QAAAAAAAQHZAAAAAAAAAdUAAAAAAAOByQAAAAAAAoGZAAAAAAACAWUAAAAAAABycQAAAAAAAOJpAAAAAAAAcmUAAAAAAANSXQAAAAAAAAJdAAAAAAADckUAAAAAAAPCLQAAAAAAAAHtAAAAAAAD4gkAAAAAAACB8QAAAAAAAVKRAAAAAAADweEAAAAAAAJB2QAAAAAAAwGpAAAAAAAAAX0AAAAAAADiFQAAAAAAAnqZA\"},\"shape\":[51],\"dtype\":\"float64\",\"order\":\"little\"}],[\"sub_category\",[\"Copiers\",\"Binders\",\"Paper\",\"Furnishings\",\"Phones\",\"Art\",\"Accessories\",\"Chairs\",\"Storage\",\"Labels\",\"Tables\",\"Envelopes\",\"Bookcases\",\"Fasteners\",\"Supplies\",\"Machines\",\"Appliances\",\"Accessories\",\"Binders\",\"Paper\",\"Furnishings\",\"Phones\",\"Storage\",\"Art\",\"Chairs\",\"Appliances\",\"Labels\",\"Tables\",\"Envelopes\",\"Bookcases\",\"Fasteners\",\"Supplies\",\"Machines\",\"Copiers\",\"Furnishings\",\"Phones\",\"Storage\",\"Art\",\"Accessories\",\"Chairs\",\"Appliances\",\"Bookcases\",\"Tables\",\"Envelopes\",\"Paper\",\"Fasteners\",\"Supplies\",\"Machines\",\"Copiers\",\"Labels\",\"Binders\"]],[\"Variable\",[\"all_sales\",\"all_sales\",\"all_sales\",\"all_sales\",\"all_sales\",\"all_sales\",\"all_sales\",\"all_sales\",\"all_sales\",\"all_sales\",\"all_sales\",\"all_sales\",\"all_sales\",\"all_sales\",\"all_sales\",\"all_sales\",\"all_sales\",\"last_2_years_sales\",\"last_2_years_sales\",\"last_2_years_sales\",\"last_2_years_sales\",\"last_2_years_sales\",\"last_2_years_sales\",\"last_2_years_sales\",\"last_2_years_sales\",\"last_2_years_sales\",\"last_2_years_sales\",\"last_2_years_sales\",\"last_2_years_sales\",\"last_2_years_sales\",\"last_2_years_sales\",\"last_2_years_sales\",\"last_2_years_sales\",\"last_2_years_sales\",\"last_year_sales\",\"last_year_sales\",\"last_year_sales\",\"last_year_sales\",\"last_year_sales\",\"last_year_sales\",\"last_year_sales\",\"last_year_sales\",\"last_year_sales\",\"last_year_sales\",\"last_year_sales\",\"last_year_sales\",\"last_year_sales\",\"last_year_sales\",\"last_year_sales\",\"last_year_sales\",\"last_year_sales\"]],[\"value\",{\"type\":\"ndarray\",\"array\":{\"type\":\"bytes\",\"data\":\"QgAAANQFAAA6BQAAowMAAGwDAAARAwAA9AIAAF8CAABAAwAAZQEAADoBAAD4AAAA4gAAANYAAAC4AAAAcwAAAMsBAADCAQAAiwMAACoDAAAuAgAA/wEAAOwBAADKAQAAXAEAABIBAADQAAAAvQAAAIMAAACCAAAAegAAAHYAAABCAAAAJAAAADYBAAAjAQAAGwEAABoBAAAKAQAAvAAAAKEAAABMAAAAaAAAAEcAAADGAQAAPwAAADsAAAAhAAAAFgAAAHIAAADwAQAA\"},\"shape\":[51],\"dtype\":\"int32\",\"order\":\"little\"}]]}}},\"view\":{\"type\":\"object\",\"name\":\"CDSView\",\"id\":\"p1245\",\"attributes\":{\"filter\":{\"type\":\"object\",\"name\":\"AllIndices\",\"id\":\"p1246\"}}},\"glyph\":{\"type\":\"object\",\"name\":\"VBar\",\"id\":\"p1241\",\"attributes\":{\"tags\":[\"apply_ranges\"],\"x\":{\"type\":\"field\",\"field\":\"sub_category\"},\"width\":{\"type\":\"value\",\"value\":0.8},\"bottom\":{\"type\":\"field\",\"field\":\"bottom\"},\"top\":{\"type\":\"field\",\"field\":\"top\"},\"fill_color\":{\"type\":\"field\",\"field\":\"Variable\",\"transform\":{\"type\":\"object\",\"name\":\"CategoricalColorMapper\",\"id\":\"p1234\",\"attributes\":{\"palette\":[\"#30a2da\",\"#fc4f30\",\"#e5ae38\"],\"factors\":[\"all_sales\",\"last_2_years_sales\",\"last_year_sales\"]}}},\"hatch_color\":{\"type\":\"field\",\"field\":\"Variable\",\"transform\":{\"id\":\"p1234\"}}}},\"selection_glyph\":{\"type\":\"object\",\"name\":\"VBar\",\"id\":\"p1249\",\"attributes\":{\"tags\":[\"apply_ranges\"],\"x\":{\"type\":\"field\",\"field\":\"sub_category\"},\"width\":{\"type\":\"value\",\"value\":0.8},\"bottom\":{\"type\":\"field\",\"field\":\"bottom\"},\"top\":{\"type\":\"field\",\"field\":\"top\"},\"line_color\":{\"type\":\"value\",\"value\":\"black\"},\"line_alpha\":{\"type\":\"value\",\"value\":1.0},\"line_width\":{\"type\":\"value\",\"value\":1},\"line_join\":{\"type\":\"value\",\"value\":\"bevel\"},\"line_cap\":{\"type\":\"value\",\"value\":\"butt\"},\"line_dash\":{\"type\":\"value\",\"value\":[]},\"line_dash_offset\":{\"type\":\"value\",\"value\":0},\"fill_color\":{\"type\":\"field\",\"field\":\"Variable\",\"transform\":{\"id\":\"p1234\"}},\"fill_alpha\":{\"type\":\"value\",\"value\":1.0},\"hatch_color\":{\"type\":\"field\",\"field\":\"Variable\",\"transform\":{\"id\":\"p1234\"}},\"hatch_alpha\":{\"type\":\"value\",\"value\":1.0},\"hatch_scale\":{\"type\":\"value\",\"value\":12.0},\"hatch_pattern\":{\"type\":\"value\",\"value\":null},\"hatch_weight\":{\"type\":\"value\",\"value\":1.0}}},\"nonselection_glyph\":{\"type\":\"object\",\"name\":\"VBar\",\"id\":\"p1242\",\"attributes\":{\"tags\":[\"apply_ranges\"],\"x\":{\"type\":\"field\",\"field\":\"sub_category\"},\"width\":{\"type\":\"value\",\"value\":0.8},\"bottom\":{\"type\":\"field\",\"field\":\"bottom\"},\"top\":{\"type\":\"field\",\"field\":\"top\"},\"line_alpha\":{\"type\":\"value\",\"value\":0.1},\"fill_color\":{\"type\":\"field\",\"field\":\"Variable\",\"transform\":{\"id\":\"p1234\"}},\"fill_alpha\":{\"type\":\"value\",\"value\":0.1},\"hatch_color\":{\"type\":\"field\",\"field\":\"Variable\",\"transform\":{\"id\":\"p1234\"}},\"hatch_alpha\":{\"type\":\"value\",\"value\":0.1}}},\"muted_glyph\":{\"type\":\"object\",\"name\":\"VBar\",\"id\":\"p1243\",\"attributes\":{\"tags\":[\"apply_ranges\"],\"x\":{\"type\":\"field\",\"field\":\"sub_category\"},\"width\":{\"type\":\"value\",\"value\":0.8},\"bottom\":{\"type\":\"field\",\"field\":\"bottom\"},\"top\":{\"type\":\"field\",\"field\":\"top\"},\"line_alpha\":{\"type\":\"value\",\"value\":0.2},\"fill_color\":{\"type\":\"field\",\"field\":\"Variable\",\"transform\":{\"id\":\"p1234\"}},\"fill_alpha\":{\"type\":\"value\",\"value\":0.2},\"hatch_color\":{\"type\":\"field\",\"field\":\"Variable\",\"transform\":{\"id\":\"p1234\"}},\"hatch_alpha\":{\"type\":\"value\",\"value\":0.2}}}}}],\"toolbar\":{\"type\":\"object\",\"name\":\"Toolbar\",\"id\":\"p1212\",\"attributes\":{\"tools\":[{\"type\":\"object\",\"name\":\"WheelZoomTool\",\"id\":\"p1201\",\"attributes\":{\"tags\":[\"hv_created\"],\"renderers\":\"auto\",\"zoom_together\":\"none\"}},{\"type\":\"object\",\"name\":\"HoverTool\",\"id\":\"p1202\",\"attributes\":{\"tags\":[\"hv_created\"],\"renderers\":[{\"id\":\"p1244\"}],\"tooltips\":[[\"sub_category\",\"@{sub_category}\"],[\"Variable\",\"@{Variable}\"],[\"value\",\"@{value}\"]]}},{\"type\":\"object\",\"name\":\"SaveTool\",\"id\":\"p1225\"},{\"type\":\"object\",\"name\":\"PanTool\",\"id\":\"p1226\"},{\"type\":\"object\",\"name\":\"BoxZoomTool\",\"id\":\"p1227\",\"attributes\":{\"overlay\":{\"type\":\"object\",\"name\":\"BoxAnnotation\",\"id\":\"p1228\",\"attributes\":{\"syncable\":false,\"level\":\"overlay\",\"visible\":false,\"left\":{\"type\":\"number\",\"value\":\"nan\"},\"right\":{\"type\":\"number\",\"value\":\"nan\"},\"top\":{\"type\":\"number\",\"value\":\"nan\"},\"bottom\":{\"type\":\"number\",\"value\":\"nan\"},\"left_units\":\"canvas\",\"right_units\":\"canvas\",\"top_units\":\"canvas\",\"bottom_units\":\"canvas\",\"line_color\":\"black\",\"line_alpha\":1.0,\"line_width\":2,\"line_dash\":[4,4],\"fill_color\":\"lightgrey\",\"fill_alpha\":0.5}}}},{\"type\":\"object\",\"name\":\"ResetTool\",\"id\":\"p1233\"}],\"active_drag\":{\"id\":\"p1226\"},\"active_scroll\":{\"id\":\"p1201\"}}},\"left\":[{\"type\":\"object\",\"name\":\"LinearAxis\",\"id\":\"p1220\",\"attributes\":{\"ticker\":{\"type\":\"object\",\"name\":\"BasicTicker\",\"id\":\"p1221\",\"attributes\":{\"mantissas\":[1,2,5]}},\"formatter\":{\"type\":\"object\",\"name\":\"NumeralTickFormatter\",\"id\":\"p1004\",\"attributes\":{\"format\":\"0.00\"}},\"axis_label\":\"\",\"major_label_policy\":{\"type\":\"object\",\"name\":\"AllLabels\",\"id\":\"p1223\"}}}],\"right\":[{\"type\":\"object\",\"name\":\"Legend\",\"id\":\"p1247\",\"attributes\":{\"location\":[0,0],\"items\":[{\"type\":\"object\",\"name\":\"LegendItem\",\"id\":\"p1248\",\"attributes\":{\"label\":{\"type\":\"field\",\"field\":\"Variable\"},\"renderers\":[{\"id\":\"p1244\"}]}}]}}],\"below\":[{\"type\":\"object\",\"name\":\"CategoricalAxis\",\"id\":\"p1215\",\"attributes\":{\"ticker\":{\"type\":\"object\",\"name\":\"CategoricalTicker\",\"id\":\"p1216\"},\"formatter\":{\"type\":\"object\",\"name\":\"CategoricalTickFormatter\",\"id\":\"p1217\"},\"axis_label\":\"sub_category\",\"major_label_policy\":{\"type\":\"object\",\"name\":\"AllLabels\",\"id\":\"p1218\"}}}],\"center\":[{\"type\":\"object\",\"name\":\"Grid\",\"id\":\"p1219\",\"attributes\":{\"axis\":{\"id\":\"p1215\"},\"grid_line_color\":null}},{\"type\":\"object\",\"name\":\"Grid\",\"id\":\"p1224\",\"attributes\":{\"dimension\":1,\"axis\":{\"id\":\"p1220\"},\"grid_line_color\":null}},{\"id\":\"p1247\"}],\"min_border_top\":10,\"min_border_bottom\":10,\"min_border_left\":10,\"min_border_right\":10,\"output_backend\":\"webgl\"}},{\"type\":\"object\",\"name\":\"Spacer\",\"id\":\"p1251\",\"attributes\":{\"name\":\"HSpacer01242\",\"stylesheets\":[\"\\n:host(.pn-loading):before, .pn-loading:before {\\n  background-color: #c3c3c3;\\n  mask-size: auto calc(min(50%, 400px));\\n  -webkit-mask-size: auto calc(min(50%, 400px));\\n}\",{\"id\":\"p1194\"},{\"id\":\"p1192\"},{\"id\":\"p1193\"}],\"margin\":0,\"sizing_mode\":\"stretch_width\",\"align\":\"start\"}}]}}],\"defs\":[{\"type\":\"model\",\"name\":\"ReactiveHTML1\"},{\"type\":\"model\",\"name\":\"FlexBox1\",\"properties\":[{\"name\":\"align_content\",\"kind\":\"Any\",\"default\":\"flex-start\"},{\"name\":\"align_items\",\"kind\":\"Any\",\"default\":\"flex-start\"},{\"name\":\"flex_direction\",\"kind\":\"Any\",\"default\":\"row\"},{\"name\":\"flex_wrap\",\"kind\":\"Any\",\"default\":\"wrap\"},{\"name\":\"gap\",\"kind\":\"Any\",\"default\":\"\"},{\"name\":\"justify_content\",\"kind\":\"Any\",\"default\":\"flex-start\"}]},{\"type\":\"model\",\"name\":\"FloatPanel1\",\"properties\":[{\"name\":\"config\",\"kind\":\"Any\",\"default\":{\"type\":\"map\"}},{\"name\":\"contained\",\"kind\":\"Any\",\"default\":true},{\"name\":\"position\",\"kind\":\"Any\",\"default\":\"right-top\"},{\"name\":\"offsetx\",\"kind\":\"Any\",\"default\":null},{\"name\":\"offsety\",\"kind\":\"Any\",\"default\":null},{\"name\":\"theme\",\"kind\":\"Any\",\"default\":\"primary\"},{\"name\":\"status\",\"kind\":\"Any\",\"default\":\"normalized\"}]},{\"type\":\"model\",\"name\":\"GridStack1\",\"properties\":[{\"name\":\"mode\",\"kind\":\"Any\",\"default\":\"warn\"},{\"name\":\"ncols\",\"kind\":\"Any\",\"default\":null},{\"name\":\"nrows\",\"kind\":\"Any\",\"default\":null},{\"name\":\"allow_resize\",\"kind\":\"Any\",\"default\":true},{\"name\":\"allow_drag\",\"kind\":\"Any\",\"default\":true},{\"name\":\"state\",\"kind\":\"Any\",\"default\":[]}]},{\"type\":\"model\",\"name\":\"drag1\",\"properties\":[{\"name\":\"slider_width\",\"kind\":\"Any\",\"default\":5},{\"name\":\"slider_color\",\"kind\":\"Any\",\"default\":\"black\"},{\"name\":\"value\",\"kind\":\"Any\",\"default\":50}]},{\"type\":\"model\",\"name\":\"click1\",\"properties\":[{\"name\":\"terminal_output\",\"kind\":\"Any\",\"default\":\"\"},{\"name\":\"debug_name\",\"kind\":\"Any\",\"default\":\"\"},{\"name\":\"clears\",\"kind\":\"Any\",\"default\":0}]},{\"type\":\"model\",\"name\":\"FastWrapper1\",\"properties\":[{\"name\":\"object\",\"kind\":\"Any\",\"default\":null},{\"name\":\"style\",\"kind\":\"Any\",\"default\":null}]},{\"type\":\"model\",\"name\":\"NotificationAreaBase1\",\"properties\":[{\"name\":\"js_events\",\"kind\":\"Any\",\"default\":{\"type\":\"map\"}},{\"name\":\"position\",\"kind\":\"Any\",\"default\":\"bottom-right\"},{\"name\":\"_clear\",\"kind\":\"Any\",\"default\":0}]},{\"type\":\"model\",\"name\":\"NotificationArea1\",\"properties\":[{\"name\":\"js_events\",\"kind\":\"Any\",\"default\":{\"type\":\"map\"}},{\"name\":\"notifications\",\"kind\":\"Any\",\"default\":[]},{\"name\":\"position\",\"kind\":\"Any\",\"default\":\"bottom-right\"},{\"name\":\"_clear\",\"kind\":\"Any\",\"default\":0},{\"name\":\"types\",\"kind\":\"Any\",\"default\":[{\"type\":\"map\",\"entries\":[[\"type\",\"warning\"],[\"background\",\"#ffc107\"],[\"icon\",{\"type\":\"map\",\"entries\":[[\"className\",\"fas fa-exclamation-triangle\"],[\"tagName\",\"i\"],[\"color\",\"white\"]]}]]},{\"type\":\"map\",\"entries\":[[\"type\",\"info\"],[\"background\",\"#007bff\"],[\"icon\",{\"type\":\"map\",\"entries\":[[\"className\",\"fas fa-info-circle\"],[\"tagName\",\"i\"],[\"color\",\"white\"]]}]]}]}]},{\"type\":\"model\",\"name\":\"Notification\",\"properties\":[{\"name\":\"background\",\"kind\":\"Any\",\"default\":null},{\"name\":\"duration\",\"kind\":\"Any\",\"default\":3000},{\"name\":\"icon\",\"kind\":\"Any\",\"default\":null},{\"name\":\"message\",\"kind\":\"Any\",\"default\":\"\"},{\"name\":\"notification_type\",\"kind\":\"Any\",\"default\":null},{\"name\":\"_destroyed\",\"kind\":\"Any\",\"default\":false}]},{\"type\":\"model\",\"name\":\"TemplateActions1\",\"properties\":[{\"name\":\"open_modal\",\"kind\":\"Any\",\"default\":0},{\"name\":\"close_modal\",\"kind\":\"Any\",\"default\":0}]},{\"type\":\"model\",\"name\":\"BootstrapTemplateActions1\",\"properties\":[{\"name\":\"open_modal\",\"kind\":\"Any\",\"default\":0},{\"name\":\"close_modal\",\"kind\":\"Any\",\"default\":0}]},{\"type\":\"model\",\"name\":\"TemplateEditor1\",\"properties\":[{\"name\":\"layout\",\"kind\":\"Any\",\"default\":[]}]},{\"type\":\"model\",\"name\":\"MaterialTemplateActions1\",\"properties\":[{\"name\":\"open_modal\",\"kind\":\"Any\",\"default\":0},{\"name\":\"close_modal\",\"kind\":\"Any\",\"default\":0}]},{\"type\":\"model\",\"name\":\"copy_to_clipboard1\",\"properties\":[{\"name\":\"fill\",\"kind\":\"Any\",\"default\":\"none\"},{\"name\":\"value\",\"kind\":\"Any\",\"default\":null}]}]}};\n",
       "  var render_items = [{\"docid\":\"69bb04ac-1308-4f7f-b471-81276a27702e\",\"roots\":{\"p1191\":\"c1694770-877a-44e1-9df9-9e75d590d78a\"},\"root_ids\":[\"p1191\"]}];\n",
       "  var docs = Object.values(docs_json)\n",
       "  if (!docs) {\n",
       "    return\n",
       "  }\n",
       "  const py_version = docs[0].version.replace('rc', '-rc.').replace('.dev', '-dev.')\n",
       "  async function embed_document(root) {\n",
       "    var Bokeh = get_bokeh(root)\n",
       "    await Bokeh.embed.embed_items_notebook(docs_json, render_items);\n",
       "    for (const render_item of render_items) {\n",
       "      for (const root_id of render_item.root_ids) {\n",
       "\tconst id_el = document.getElementById(root_id)\n",
       "\tif (id_el.children.length && id_el.children[0].hasAttribute('data-root-id')) {\n",
       "\t  const root_el = id_el.children[0]\n",
       "\t  root_el.id = root_el.id + '-rendered'\n",
       "\t  for (const child of root_el.children) {\n",
       "            // Ensure JupyterLab does not capture keyboard shortcuts\n",
       "            // see: https://jupyterlab.readthedocs.io/en/4.1.x/extension/notebook.html#keyboard-interaction-model\n",
       "\t    child.setAttribute('data-lm-suppress-shortcuts', 'true')\n",
       "\t  }\n",
       "\t}\n",
       "      }\n",
       "    }\n",
       "  }\n",
       "  function get_bokeh(root) {\n",
       "    if (root.Bokeh === undefined) {\n",
       "      return null\n",
       "    } else if (root.Bokeh.version !== py_version) {\n",
       "      if (root.Bokeh.versions === undefined || !root.Bokeh.versions.has(py_version)) {\n",
       "\treturn null\n",
       "      }\n",
       "      return root.Bokeh.versions.get(py_version);\n",
       "    } else if (root.Bokeh.version === py_version) {\n",
       "      return root.Bokeh\n",
       "    }\n",
       "    return null\n",
       "  }\n",
       "  function is_loaded(root) {\n",
       "    var Bokeh = get_bokeh(root)\n",
       "    return (Bokeh != null && Bokeh.Panel !== undefined)\n",
       "  }\n",
       "  if (is_loaded(root)) {\n",
       "    embed_document(root);\n",
       "  } else {\n",
       "    var attempts = 0;\n",
       "    var timer = setInterval(function(root) {\n",
       "      if (is_loaded(root)) {\n",
       "        clearInterval(timer);\n",
       "        embed_document(root);\n",
       "      } else if (document.readyState == \"complete\") {\n",
       "        attempts++;\n",
       "        if (attempts > 200) {\n",
       "          clearInterval(timer);\n",
       "\t  var Bokeh = get_bokeh(root)\n",
       "\t  if (Bokeh == null || Bokeh.Panel == null) {\n",
       "            console.warn(\"Panel: ERROR: Unable to run Panel code because Bokeh or Panel library is missing\");\n",
       "\t  } else {\n",
       "\t    console.warn(\"Panel: WARNING: Attempting to render but not all required libraries could be resolved.\")\n",
       "\t    embed_document(root)\n",
       "\t  }\n",
       "        }\n",
       "      }\n",
       "    }, 25, root)\n",
       "  }\n",
       "})(window);</script>"
      ],
      "text/plain": [
       ":Bars   [sub_category,Variable]   (value)"
      ]
     },
     "execution_count": 19,
     "metadata": {
      "application/vnd.holoviews_exec.v0+json": {
       "id": "p1191"
      }
     },
     "output_type": "execute_result"
    }
   ],
   "source": [
    "res_df.sort_values(\"all_sales\").hvplot.bar(stacked=True, yformatter=float_format)"
   ]
  },
  {
   "cell_type": "markdown",
   "id": "f344caff-eede-484d-8dce-dee03acd2e3b",
   "metadata": {},
   "source": [
    "в) За последний год чаще всего покупают товары из подгрупп: Binders, Paper, Furnishings, Phones. Они совпадают с популярными группами за весь рассматриваемый период."
   ]
  },
  {
   "cell_type": "markdown",
   "id": "36a556e8-360b-4a50-8b4c-aedd37b718c9",
   "metadata": {
    "jp-MarkdownHeadingCollapsed": true
   },
   "source": [
    "### Вывод\n",
    "\n",
    "За последние 2 года группа популярных подгрупп и порядок в ней не изменились."
   ]
  },
  {
   "cell_type": "markdown",
   "id": "7bdf3e01-98ae-4795-b41e-aa422920bde7",
   "metadata": {},
   "source": [
    "# Задание 2\n",
    "    \n",
    "Построить boxplot («Ящик с усами») на основе продаж (Sales). Найти мажоритарную черту (т.е. избавиться от аномалий и представить четкую картину распределения величин)."
   ]
  },
  {
   "cell_type": "code",
   "execution_count": 20,
   "id": "7306843f-75ff-46b7-9dfa-faf647b10a9a",
   "metadata": {},
   "outputs": [
    {
     "data": {},
     "metadata": {},
     "output_type": "display_data"
    },
    {
     "data": {
      "application/vnd.holoviews_exec.v0+json": "",
      "text/html": [
       "<div id='p1258'>\n",
       "  <div id=\"fc6f02aa-ce16-40d9-9084-eede743f73f5\" data-root-id=\"p1258\" style=\"display: contents;\"></div>\n",
       "</div>\n",
       "<script type=\"application/javascript\">(function(root) {\n",
       "  var docs_json = {\"e37a5f35-e892-477b-bf13-12f13936ac9a\":{\"version\":\"3.4.1\",\"title\":\"Bokeh Application\",\"roots\":[{\"type\":\"object\",\"name\":\"Row\",\"id\":\"p1258\",\"attributes\":{\"name\":\"Row01459\",\"tags\":[\"embedded\"],\"stylesheets\":[\"\\n:host(.pn-loading):before, .pn-loading:before {\\n  background-color: #c3c3c3;\\n  mask-size: auto calc(min(50%, 400px));\\n  -webkit-mask-size: auto calc(min(50%, 400px));\\n}\",{\"type\":\"object\",\"name\":\"ImportedStyleSheet\",\"id\":\"p1261\",\"attributes\":{\"url\":\"https://cdn.holoviz.org/panel/1.4.4/dist/css/loading.css\"}},{\"type\":\"object\",\"name\":\"ImportedStyleSheet\",\"id\":\"p1394\",\"attributes\":{\"url\":\"https://cdn.holoviz.org/panel/1.4.4/dist/css/listpanel.css\"}},{\"type\":\"object\",\"name\":\"ImportedStyleSheet\",\"id\":\"p1259\",\"attributes\":{\"url\":\"https://cdn.holoviz.org/panel/1.4.4/dist/bundled/theme/default.css\"}},{\"type\":\"object\",\"name\":\"ImportedStyleSheet\",\"id\":\"p1260\",\"attributes\":{\"url\":\"https://cdn.holoviz.org/panel/1.4.4/dist/bundled/theme/native.css\"}}],\"min_width\":700,\"margin\":0,\"sizing_mode\":\"stretch_width\",\"align\":\"start\",\"children\":[{\"type\":\"object\",\"name\":\"Spacer\",\"id\":\"p1262\",\"attributes\":{\"name\":\"HSpacer01466\",\"stylesheets\":[\"\\n:host(.pn-loading):before, .pn-loading:before {\\n  background-color: #c3c3c3;\\n  mask-size: auto calc(min(50%, 400px));\\n  -webkit-mask-size: auto calc(min(50%, 400px));\\n}\",{\"id\":\"p1261\"},{\"id\":\"p1259\"},{\"id\":\"p1260\"}],\"margin\":0,\"sizing_mode\":\"stretch_width\",\"align\":\"start\"}},{\"type\":\"object\",\"name\":\"Figure\",\"id\":\"p1269\",\"attributes\":{\"width\":700,\"height\":300,\"margin\":[5,10],\"sizing_mode\":\"fixed\",\"align\":\"start\",\"x_range\":{\"type\":\"object\",\"name\":\"FactorRange\",\"id\":\"p1263\",\"attributes\":{\"factors\":[\"\"]}},\"y_range\":{\"type\":\"object\",\"name\":\"Range1d\",\"id\":\"p1264\",\"attributes\":{\"tags\":[[[\"sales\",null]],{\"type\":\"map\",\"entries\":[[\"invert_yaxis\",false],[\"autorange\",false]]}],\"start\":-3396.467600000001,\"end\":49394.6716,\"reset_start\":-3396.467600000001,\"reset_end\":49394.6716}},\"x_scale\":{\"type\":\"object\",\"name\":\"CategoricalScale\",\"id\":\"p1279\"},\"y_scale\":{\"type\":\"object\",\"name\":\"LinearScale\",\"id\":\"p1280\"},\"title\":{\"type\":\"object\",\"name\":\"Title\",\"id\":\"p1272\",\"attributes\":{\"text_color\":\"black\",\"text_font_size\":\"12pt\"}},\"renderers\":[{\"type\":\"object\",\"name\":\"GlyphRenderer\",\"id\":\"p1309\",\"attributes\":{\"data_source\":{\"type\":\"object\",\"name\":\"ColumnDataSource\",\"id\":\"p1300\",\"attributes\":{\"selected\":{\"type\":\"object\",\"name\":\"Selection\",\"id\":\"p1301\",\"attributes\":{\"indices\":[],\"line_indices\":[]}},\"selection_policy\":{\"type\":\"object\",\"name\":\"UnionRenderers\",\"id\":\"p1302\"},\"data\":{\"type\":\"map\",\"entries\":[[\"index\",{\"type\":\"ndarray\",\"array\":{\"type\":\"bytes\",\"data\":\"\"},\"shape\":[0],\"dtype\":\"float64\",\"order\":\"little\"}],[\"sales\",{\"type\":\"ndarray\",\"array\":{\"type\":\"bytes\",\"data\":\"\"},\"shape\":[0],\"dtype\":\"float64\",\"order\":\"little\"}]]}}},\"view\":{\"type\":\"object\",\"name\":\"CDSView\",\"id\":\"p1310\",\"attributes\":{\"filter\":{\"type\":\"object\",\"name\":\"AllIndices\",\"id\":\"p1311\"}}},\"glyph\":{\"type\":\"object\",\"name\":\"Circle\",\"id\":\"p1306\",\"attributes\":{\"x\":{\"type\":\"field\",\"field\":\"index\"},\"y\":{\"type\":\"field\",\"field\":\"sales\"},\"radius\":{\"type\":\"value\",\"value\":0.01},\"fill_color\":{\"type\":\"value\",\"value\":\"black\"}}},\"selection_glyph\":{\"type\":\"object\",\"name\":\"Circle\",\"id\":\"p1312\",\"attributes\":{\"x\":{\"type\":\"field\",\"field\":\"index\"},\"y\":{\"type\":\"field\",\"field\":\"sales\"},\"radius\":{\"type\":\"value\",\"value\":0.01},\"line_color\":{\"type\":\"value\",\"value\":\"black\"},\"line_alpha\":{\"type\":\"value\",\"value\":1.0},\"line_width\":{\"type\":\"value\",\"value\":1},\"line_join\":{\"type\":\"value\",\"value\":\"bevel\"},\"line_cap\":{\"type\":\"value\",\"value\":\"butt\"},\"line_dash\":{\"type\":\"value\",\"value\":[]},\"line_dash_offset\":{\"type\":\"value\",\"value\":0},\"fill_color\":{\"type\":\"value\",\"value\":\"black\"},\"fill_alpha\":{\"type\":\"value\",\"value\":1.0},\"hatch_color\":{\"type\":\"value\",\"value\":\"black\"},\"hatch_alpha\":{\"type\":\"value\",\"value\":1.0},\"hatch_scale\":{\"type\":\"value\",\"value\":12.0},\"hatch_pattern\":{\"type\":\"value\",\"value\":null},\"hatch_weight\":{\"type\":\"value\",\"value\":1.0}}},\"nonselection_glyph\":{\"type\":\"object\",\"name\":\"Circle\",\"id\":\"p1307\",\"attributes\":{\"x\":{\"type\":\"field\",\"field\":\"index\"},\"y\":{\"type\":\"field\",\"field\":\"sales\"},\"radius\":{\"type\":\"value\",\"value\":0.01},\"line_alpha\":{\"type\":\"value\",\"value\":0.1},\"fill_color\":{\"type\":\"value\",\"value\":\"black\"},\"fill_alpha\":{\"type\":\"value\",\"value\":0.1},\"hatch_alpha\":{\"type\":\"value\",\"value\":0.1}}},\"muted_glyph\":{\"type\":\"object\",\"name\":\"Circle\",\"id\":\"p1308\",\"attributes\":{\"x\":{\"type\":\"field\",\"field\":\"index\"},\"y\":{\"type\":\"field\",\"field\":\"sales\"},\"radius\":{\"type\":\"value\",\"value\":0.01},\"line_alpha\":{\"type\":\"value\",\"value\":0.2},\"fill_color\":{\"type\":\"value\",\"value\":\"black\"},\"fill_alpha\":{\"type\":\"value\",\"value\":0.2},\"hatch_alpha\":{\"type\":\"value\",\"value\":0.2}}}}},{\"type\":\"object\",\"name\":\"GlyphRenderer\",\"id\":\"p1322\",\"attributes\":{\"data_source\":{\"type\":\"object\",\"name\":\"ColumnDataSource\",\"id\":\"p1313\",\"attributes\":{\"selected\":{\"type\":\"object\",\"name\":\"Selection\",\"id\":\"p1314\",\"attributes\":{\"indices\":[],\"line_indices\":[]}},\"selection_policy\":{\"type\":\"object\",\"name\":\"UnionRenderers\",\"id\":\"p1315\"},\"data\":{\"type\":\"map\",\"entries\":[[\"x0\",[\"\"]],[\"y0\",{\"type\":\"ndarray\",\"array\":{\"type\":\"bytes\",\"data\":\"7FG4Hm345UA=\"},\"shape\":[1],\"dtype\":\"float64\",\"order\":\"little\"}],[\"x1\",[\"\"]],[\"y1\",{\"type\":\"ndarray\",\"array\":{\"type\":\"bytes\",\"data\":\"j8L1KER44EA=\"},\"shape\":[1],\"dtype\":\"float64\",\"order\":\"little\"}]]}}},\"view\":{\"type\":\"object\",\"name\":\"CDSView\",\"id\":\"p1323\",\"attributes\":{\"filter\":{\"type\":\"object\",\"name\":\"AllIndices\",\"id\":\"p1324\"}}},\"glyph\":{\"type\":\"object\",\"name\":\"Segment\",\"id\":\"p1319\",\"attributes\":{\"x0\":{\"type\":\"field\",\"field\":\"x0\"},\"y0\":{\"type\":\"field\",\"field\":\"y0\"},\"x1\":{\"type\":\"field\",\"field\":\"x1\"},\"y1\":{\"type\":\"field\",\"field\":\"y1\"}}},\"selection_glyph\":{\"type\":\"object\",\"name\":\"Segment\",\"id\":\"p1325\",\"attributes\":{\"x0\":{\"type\":\"field\",\"field\":\"x0\"},\"y0\":{\"type\":\"field\",\"field\":\"y0\"},\"x1\":{\"type\":\"field\",\"field\":\"x1\"},\"y1\":{\"type\":\"field\",\"field\":\"y1\"},\"line_color\":{\"type\":\"value\",\"value\":\"black\"},\"line_alpha\":{\"type\":\"value\",\"value\":1.0},\"line_width\":{\"type\":\"value\",\"value\":1},\"line_join\":{\"type\":\"value\",\"value\":\"bevel\"},\"line_cap\":{\"type\":\"value\",\"value\":\"butt\"},\"line_dash\":{\"type\":\"value\",\"value\":[]},\"line_dash_offset\":{\"type\":\"value\",\"value\":0}}},\"nonselection_glyph\":{\"type\":\"object\",\"name\":\"Segment\",\"id\":\"p1320\",\"attributes\":{\"x0\":{\"type\":\"field\",\"field\":\"x0\"},\"y0\":{\"type\":\"field\",\"field\":\"y0\"},\"x1\":{\"type\":\"field\",\"field\":\"x1\"},\"y1\":{\"type\":\"field\",\"field\":\"y1\"},\"line_alpha\":{\"type\":\"value\",\"value\":0.1}}},\"muted_glyph\":{\"type\":\"object\",\"name\":\"Segment\",\"id\":\"p1321\",\"attributes\":{\"x0\":{\"type\":\"field\",\"field\":\"x0\"},\"y0\":{\"type\":\"field\",\"field\":\"y0\"},\"x1\":{\"type\":\"field\",\"field\":\"x1\"},\"y1\":{\"type\":\"field\",\"field\":\"y1\"},\"line_alpha\":{\"type\":\"value\",\"value\":0.2}}}}},{\"type\":\"object\",\"name\":\"GlyphRenderer\",\"id\":\"p1335\",\"attributes\":{\"data_source\":{\"type\":\"object\",\"name\":\"ColumnDataSource\",\"id\":\"p1326\",\"attributes\":{\"selected\":{\"type\":\"object\",\"name\":\"Selection\",\"id\":\"p1327\",\"attributes\":{\"indices\":[],\"line_indices\":[]}},\"selection_policy\":{\"type\":\"object\",\"name\":\"UnionRenderers\",\"id\":\"p1328\"},\"data\":{\"type\":\"map\",\"entries\":[[\"x0\",[\"\"]],[\"y0\",{\"type\":\"ndarray\",\"array\":{\"type\":\"bytes\",\"data\":\"MQisHFpWj0A=\"},\"shape\":[1],\"dtype\":\"float64\",\"order\":\"little\"}],[\"x1\",[\"\"]],[\"y1\",{\"type\":\"ndarray\",\"array\":{\"type\":\"bytes\",\"data\":\"AAAAANCzx0A=\"},\"shape\":[1],\"dtype\":\"float64\",\"order\":\"little\"}]]}}},\"view\":{\"type\":\"object\",\"name\":\"CDSView\",\"id\":\"p1336\",\"attributes\":{\"filter\":{\"type\":\"object\",\"name\":\"AllIndices\",\"id\":\"p1337\"}}},\"glyph\":{\"type\":\"object\",\"name\":\"Segment\",\"id\":\"p1332\",\"attributes\":{\"x0\":{\"type\":\"field\",\"field\":\"x0\"},\"y0\":{\"type\":\"field\",\"field\":\"y0\"},\"x1\":{\"type\":\"field\",\"field\":\"x1\"},\"y1\":{\"type\":\"field\",\"field\":\"y1\"}}},\"selection_glyph\":{\"type\":\"object\",\"name\":\"Segment\",\"id\":\"p1338\",\"attributes\":{\"x0\":{\"type\":\"field\",\"field\":\"x0\"},\"y0\":{\"type\":\"field\",\"field\":\"y0\"},\"x1\":{\"type\":\"field\",\"field\":\"x1\"},\"y1\":{\"type\":\"field\",\"field\":\"y1\"},\"line_color\":{\"type\":\"value\",\"value\":\"black\"},\"line_alpha\":{\"type\":\"value\",\"value\":1.0},\"line_width\":{\"type\":\"value\",\"value\":1},\"line_join\":{\"type\":\"value\",\"value\":\"bevel\"},\"line_cap\":{\"type\":\"value\",\"value\":\"butt\"},\"line_dash\":{\"type\":\"value\",\"value\":[]},\"line_dash_offset\":{\"type\":\"value\",\"value\":0}}},\"nonselection_glyph\":{\"type\":\"object\",\"name\":\"Segment\",\"id\":\"p1333\",\"attributes\":{\"x0\":{\"type\":\"field\",\"field\":\"x0\"},\"y0\":{\"type\":\"field\",\"field\":\"y0\"},\"x1\":{\"type\":\"field\",\"field\":\"x1\"},\"y1\":{\"type\":\"field\",\"field\":\"y1\"},\"line_alpha\":{\"type\":\"value\",\"value\":0.1}}},\"muted_glyph\":{\"type\":\"object\",\"name\":\"Segment\",\"id\":\"p1334\",\"attributes\":{\"x0\":{\"type\":\"field\",\"field\":\"x0\"},\"y0\":{\"type\":\"field\",\"field\":\"y0\"},\"x1\":{\"type\":\"field\",\"field\":\"x1\"},\"y1\":{\"type\":\"field\",\"field\":\"y1\"},\"line_alpha\":{\"type\":\"value\",\"value\":0.2}}}}},{\"type\":\"object\",\"name\":\"GlyphRenderer\",\"id\":\"p1348\",\"attributes\":{\"data_source\":{\"type\":\"object\",\"name\":\"ColumnDataSource\",\"id\":\"p1339\",\"attributes\":{\"selected\":{\"type\":\"object\",\"name\":\"Selection\",\"id\":\"p1340\",\"attributes\":{\"indices\":[],\"line_indices\":[]}},\"selection_policy\":{\"type\":\"object\",\"name\":\"UnionRenderers\",\"id\":\"p1341\"},\"data\":{\"type\":\"map\",\"entries\":[[\"x0\",[[\"\",-0.2]]],[\"y0\",[1002.794]],[\"x1\",[[\"\",0.2]]],[\"y1\",[1002.794]]]}}},\"view\":{\"type\":\"object\",\"name\":\"CDSView\",\"id\":\"p1349\",\"attributes\":{\"filter\":{\"type\":\"object\",\"name\":\"AllIndices\",\"id\":\"p1350\"}}},\"glyph\":{\"type\":\"object\",\"name\":\"Segment\",\"id\":\"p1345\",\"attributes\":{\"x0\":{\"type\":\"field\",\"field\":\"x0\"},\"y0\":{\"type\":\"field\",\"field\":\"y0\"},\"x1\":{\"type\":\"field\",\"field\":\"x1\"},\"y1\":{\"type\":\"field\",\"field\":\"y1\"}}},\"selection_glyph\":{\"type\":\"object\",\"name\":\"Segment\",\"id\":\"p1351\",\"attributes\":{\"x0\":{\"type\":\"field\",\"field\":\"x0\"},\"y0\":{\"type\":\"field\",\"field\":\"y0\"},\"x1\":{\"type\":\"field\",\"field\":\"x1\"},\"y1\":{\"type\":\"field\",\"field\":\"y1\"},\"line_color\":{\"type\":\"value\",\"value\":\"black\"},\"line_alpha\":{\"type\":\"value\",\"value\":1.0},\"line_width\":{\"type\":\"value\",\"value\":1},\"line_join\":{\"type\":\"value\",\"value\":\"bevel\"},\"line_cap\":{\"type\":\"value\",\"value\":\"butt\"},\"line_dash\":{\"type\":\"value\",\"value\":[]},\"line_dash_offset\":{\"type\":\"value\",\"value\":0}}},\"nonselection_glyph\":{\"type\":\"object\",\"name\":\"Segment\",\"id\":\"p1346\",\"attributes\":{\"x0\":{\"type\":\"field\",\"field\":\"x0\"},\"y0\":{\"type\":\"field\",\"field\":\"y0\"},\"x1\":{\"type\":\"field\",\"field\":\"x1\"},\"y1\":{\"type\":\"field\",\"field\":\"y1\"},\"line_alpha\":{\"type\":\"value\",\"value\":0.1}}},\"muted_glyph\":{\"type\":\"object\",\"name\":\"Segment\",\"id\":\"p1347\",\"attributes\":{\"x0\":{\"type\":\"field\",\"field\":\"x0\"},\"y0\":{\"type\":\"field\",\"field\":\"y0\"},\"x1\":{\"type\":\"field\",\"field\":\"x1\"},\"y1\":{\"type\":\"field\",\"field\":\"y1\"},\"line_alpha\":{\"type\":\"value\",\"value\":0.2}}}}},{\"type\":\"object\",\"name\":\"GlyphRenderer\",\"id\":\"p1361\",\"attributes\":{\"data_source\":{\"type\":\"object\",\"name\":\"ColumnDataSource\",\"id\":\"p1352\",\"attributes\":{\"selected\":{\"type\":\"object\",\"name\":\"Selection\",\"id\":\"p1353\",\"attributes\":{\"indices\":[],\"line_indices\":[]}},\"selection_policy\":{\"type\":\"object\",\"name\":\"UnionRenderers\",\"id\":\"p1354\"},\"data\":{\"type\":\"map\",\"entries\":[[\"x0\",[[\"\",-0.2]]],[\"y0\",[44995.41]],[\"x1\",[[\"\",0.2]]],[\"y1\",[44995.41]]]}}},\"view\":{\"type\":\"object\",\"name\":\"CDSView\",\"id\":\"p1362\",\"attributes\":{\"filter\":{\"type\":\"object\",\"name\":\"AllIndices\",\"id\":\"p1363\"}}},\"glyph\":{\"type\":\"object\",\"name\":\"Segment\",\"id\":\"p1358\",\"attributes\":{\"x0\":{\"type\":\"field\",\"field\":\"x0\"},\"y0\":{\"type\":\"field\",\"field\":\"y0\"},\"x1\":{\"type\":\"field\",\"field\":\"x1\"},\"y1\":{\"type\":\"field\",\"field\":\"y1\"}}},\"selection_glyph\":{\"type\":\"object\",\"name\":\"Segment\",\"id\":\"p1364\",\"attributes\":{\"x0\":{\"type\":\"field\",\"field\":\"x0\"},\"y0\":{\"type\":\"field\",\"field\":\"y0\"},\"x1\":{\"type\":\"field\",\"field\":\"x1\"},\"y1\":{\"type\":\"field\",\"field\":\"y1\"},\"line_color\":{\"type\":\"value\",\"value\":\"black\"},\"line_alpha\":{\"type\":\"value\",\"value\":1.0},\"line_width\":{\"type\":\"value\",\"value\":1},\"line_join\":{\"type\":\"value\",\"value\":\"bevel\"},\"line_cap\":{\"type\":\"value\",\"value\":\"butt\"},\"line_dash\":{\"type\":\"value\",\"value\":[]},\"line_dash_offset\":{\"type\":\"value\",\"value\":0}}},\"nonselection_glyph\":{\"type\":\"object\",\"name\":\"Segment\",\"id\":\"p1359\",\"attributes\":{\"x0\":{\"type\":\"field\",\"field\":\"x0\"},\"y0\":{\"type\":\"field\",\"field\":\"y0\"},\"x1\":{\"type\":\"field\",\"field\":\"x1\"},\"y1\":{\"type\":\"field\",\"field\":\"y1\"},\"line_alpha\":{\"type\":\"value\",\"value\":0.1}}},\"muted_glyph\":{\"type\":\"object\",\"name\":\"Segment\",\"id\":\"p1360\",\"attributes\":{\"x0\":{\"type\":\"field\",\"field\":\"x0\"},\"y0\":{\"type\":\"field\",\"field\":\"y0\"},\"x1\":{\"type\":\"field\",\"field\":\"x1\"},\"y1\":{\"type\":\"field\",\"field\":\"y1\"},\"line_alpha\":{\"type\":\"value\",\"value\":0.2}}}}},{\"type\":\"object\",\"name\":\"GlyphRenderer\",\"id\":\"p1374\",\"attributes\":{\"data_source\":{\"type\":\"object\",\"name\":\"ColumnDataSource\",\"id\":\"p1365\",\"attributes\":{\"selected\":{\"type\":\"object\",\"name\":\"Selection\",\"id\":\"p1366\",\"attributes\":{\"indices\":[],\"line_indices\":[]}},\"selection_policy\":{\"type\":\"object\",\"name\":\"UnionRenderers\",\"id\":\"p1367\"},\"data\":{\"type\":\"map\",\"entries\":[[\"index\",[\"\"]],[\"top\",{\"type\":\"ndarray\",\"array\":{\"type\":\"bytes\",\"data\":\"cT0K14NY1kA=\"},\"shape\":[1],\"dtype\":\"float64\",\"order\":\"little\"}],[\"bottom\",{\"type\":\"ndarray\",\"array\":{\"type\":\"bytes\",\"data\":\"j8L1KER44EA=\"},\"shape\":[1],\"dtype\":\"float64\",\"order\":\"little\"}]]}}},\"view\":{\"type\":\"object\",\"name\":\"CDSView\",\"id\":\"p1375\",\"attributes\":{\"filter\":{\"type\":\"object\",\"name\":\"AllIndices\",\"id\":\"p1376\"}}},\"glyph\":{\"type\":\"object\",\"name\":\"VBar\",\"id\":\"p1371\",\"attributes\":{\"x\":{\"type\":\"field\",\"field\":\"index\"},\"width\":{\"type\":\"value\",\"value\":0.7},\"bottom\":{\"type\":\"field\",\"field\":\"bottom\"},\"top\":{\"type\":\"field\",\"field\":\"top\"},\"fill_color\":{\"type\":\"value\",\"value\":\"#30a2da\"}}},\"selection_glyph\":{\"type\":\"object\",\"name\":\"VBar\",\"id\":\"p1377\",\"attributes\":{\"x\":{\"type\":\"field\",\"field\":\"index\"},\"width\":{\"type\":\"value\",\"value\":0.7},\"bottom\":{\"type\":\"field\",\"field\":\"bottom\"},\"top\":{\"type\":\"field\",\"field\":\"top\"},\"line_color\":{\"type\":\"value\",\"value\":\"black\"},\"line_alpha\":{\"type\":\"value\",\"value\":1.0},\"line_width\":{\"type\":\"value\",\"value\":1},\"line_join\":{\"type\":\"value\",\"value\":\"bevel\"},\"line_cap\":{\"type\":\"value\",\"value\":\"butt\"},\"line_dash\":{\"type\":\"value\",\"value\":[]},\"line_dash_offset\":{\"type\":\"value\",\"value\":0},\"fill_color\":{\"type\":\"value\",\"value\":\"#30a2da\"},\"fill_alpha\":{\"type\":\"value\",\"value\":1.0},\"hatch_color\":{\"type\":\"value\",\"value\":\"black\"},\"hatch_alpha\":{\"type\":\"value\",\"value\":1.0},\"hatch_scale\":{\"type\":\"value\",\"value\":12.0},\"hatch_pattern\":{\"type\":\"value\",\"value\":null},\"hatch_weight\":{\"type\":\"value\",\"value\":1.0}}},\"nonselection_glyph\":{\"type\":\"object\",\"name\":\"VBar\",\"id\":\"p1372\",\"attributes\":{\"x\":{\"type\":\"field\",\"field\":\"index\"},\"width\":{\"type\":\"value\",\"value\":0.7},\"bottom\":{\"type\":\"field\",\"field\":\"bottom\"},\"top\":{\"type\":\"field\",\"field\":\"top\"},\"line_alpha\":{\"type\":\"value\",\"value\":0.1},\"fill_color\":{\"type\":\"value\",\"value\":\"#30a2da\"},\"fill_alpha\":{\"type\":\"value\",\"value\":0.1},\"hatch_alpha\":{\"type\":\"value\",\"value\":0.1}}},\"muted_glyph\":{\"type\":\"object\",\"name\":\"VBar\",\"id\":\"p1373\",\"attributes\":{\"x\":{\"type\":\"field\",\"field\":\"index\"},\"width\":{\"type\":\"value\",\"value\":0.7},\"bottom\":{\"type\":\"field\",\"field\":\"bottom\"},\"top\":{\"type\":\"field\",\"field\":\"top\"},\"line_alpha\":{\"type\":\"value\",\"value\":0.2},\"fill_color\":{\"type\":\"value\",\"value\":\"#30a2da\"},\"fill_alpha\":{\"type\":\"value\",\"value\":0.2},\"hatch_alpha\":{\"type\":\"value\",\"value\":0.2}}}}},{\"type\":\"object\",\"name\":\"GlyphRenderer\",\"id\":\"p1387\",\"attributes\":{\"data_source\":{\"type\":\"object\",\"name\":\"ColumnDataSource\",\"id\":\"p1378\",\"attributes\":{\"selected\":{\"type\":\"object\",\"name\":\"Selection\",\"id\":\"p1379\",\"attributes\":{\"indices\":[],\"line_indices\":[]}},\"selection_policy\":{\"type\":\"object\",\"name\":\"UnionRenderers\",\"id\":\"p1380\"},\"data\":{\"type\":\"map\",\"entries\":[[\"index\",[\"\"]],[\"top\",{\"type\":\"ndarray\",\"array\":{\"type\":\"bytes\",\"data\":\"AAAAANCzx0A=\"},\"shape\":[1],\"dtype\":\"float64\",\"order\":\"little\"}],[\"bottom\",{\"type\":\"ndarray\",\"array\":{\"type\":\"bytes\",\"data\":\"cT0K14NY1kA=\"},\"shape\":[1],\"dtype\":\"float64\",\"order\":\"little\"}]]}}},\"view\":{\"type\":\"object\",\"name\":\"CDSView\",\"id\":\"p1388\",\"attributes\":{\"filter\":{\"type\":\"object\",\"name\":\"AllIndices\",\"id\":\"p1389\"}}},\"glyph\":{\"type\":\"object\",\"name\":\"VBar\",\"id\":\"p1384\",\"attributes\":{\"x\":{\"type\":\"field\",\"field\":\"index\"},\"width\":{\"type\":\"value\",\"value\":0.7},\"bottom\":{\"type\":\"field\",\"field\":\"bottom\"},\"top\":{\"type\":\"field\",\"field\":\"top\"},\"fill_color\":{\"type\":\"value\",\"value\":\"#30a2da\"}}},\"selection_glyph\":{\"type\":\"object\",\"name\":\"VBar\",\"id\":\"p1390\",\"attributes\":{\"x\":{\"type\":\"field\",\"field\":\"index\"},\"width\":{\"type\":\"value\",\"value\":0.7},\"bottom\":{\"type\":\"field\",\"field\":\"bottom\"},\"top\":{\"type\":\"field\",\"field\":\"top\"},\"line_color\":{\"type\":\"value\",\"value\":\"black\"},\"line_alpha\":{\"type\":\"value\",\"value\":1.0},\"line_width\":{\"type\":\"value\",\"value\":1},\"line_join\":{\"type\":\"value\",\"value\":\"bevel\"},\"line_cap\":{\"type\":\"value\",\"value\":\"butt\"},\"line_dash\":{\"type\":\"value\",\"value\":[]},\"line_dash_offset\":{\"type\":\"value\",\"value\":0},\"fill_color\":{\"type\":\"value\",\"value\":\"#30a2da\"},\"fill_alpha\":{\"type\":\"value\",\"value\":1.0},\"hatch_color\":{\"type\":\"value\",\"value\":\"black\"},\"hatch_alpha\":{\"type\":\"value\",\"value\":1.0},\"hatch_scale\":{\"type\":\"value\",\"value\":12.0},\"hatch_pattern\":{\"type\":\"value\",\"value\":null},\"hatch_weight\":{\"type\":\"value\",\"value\":1.0}}},\"nonselection_glyph\":{\"type\":\"object\",\"name\":\"VBar\",\"id\":\"p1385\",\"attributes\":{\"x\":{\"type\":\"field\",\"field\":\"index\"},\"width\":{\"type\":\"value\",\"value\":0.7},\"bottom\":{\"type\":\"field\",\"field\":\"bottom\"},\"top\":{\"type\":\"field\",\"field\":\"top\"},\"line_alpha\":{\"type\":\"value\",\"value\":0.1},\"fill_color\":{\"type\":\"value\",\"value\":\"#30a2da\"},\"fill_alpha\":{\"type\":\"value\",\"value\":0.1},\"hatch_alpha\":{\"type\":\"value\",\"value\":0.1}}},\"muted_glyph\":{\"type\":\"object\",\"name\":\"VBar\",\"id\":\"p1386\",\"attributes\":{\"x\":{\"type\":\"field\",\"field\":\"index\"},\"width\":{\"type\":\"value\",\"value\":0.7},\"bottom\":{\"type\":\"field\",\"field\":\"bottom\"},\"top\":{\"type\":\"field\",\"field\":\"top\"},\"line_alpha\":{\"type\":\"value\",\"value\":0.2},\"fill_color\":{\"type\":\"value\",\"value\":\"#30a2da\"},\"fill_alpha\":{\"type\":\"value\",\"value\":0.2},\"hatch_alpha\":{\"type\":\"value\",\"value\":0.2}}}}}],\"toolbar\":{\"type\":\"object\",\"name\":\"Toolbar\",\"id\":\"p1278\",\"attributes\":{\"tools\":[{\"type\":\"object\",\"name\":\"WheelZoomTool\",\"id\":\"p1268\",\"attributes\":{\"tags\":[\"hv_created\"],\"renderers\":\"auto\",\"zoom_together\":\"none\"}},{\"type\":\"object\",\"name\":\"SaveTool\",\"id\":\"p1291\"},{\"type\":\"object\",\"name\":\"PanTool\",\"id\":\"p1292\"},{\"type\":\"object\",\"name\":\"BoxZoomTool\",\"id\":\"p1293\",\"attributes\":{\"overlay\":{\"type\":\"object\",\"name\":\"BoxAnnotation\",\"id\":\"p1294\",\"attributes\":{\"syncable\":false,\"level\":\"overlay\",\"visible\":false,\"left\":{\"type\":\"number\",\"value\":\"nan\"},\"right\":{\"type\":\"number\",\"value\":\"nan\"},\"top\":{\"type\":\"number\",\"value\":\"nan\"},\"bottom\":{\"type\":\"number\",\"value\":\"nan\"},\"left_units\":\"canvas\",\"right_units\":\"canvas\",\"top_units\":\"canvas\",\"bottom_units\":\"canvas\",\"line_color\":\"black\",\"line_alpha\":1.0,\"line_width\":2,\"line_dash\":[4,4],\"fill_color\":\"lightgrey\",\"fill_alpha\":0.5}}}},{\"type\":\"object\",\"name\":\"ResetTool\",\"id\":\"p1299\"}],\"active_drag\":{\"id\":\"p1292\"},\"active_scroll\":{\"id\":\"p1268\"}}},\"left\":[{\"type\":\"object\",\"name\":\"LinearAxis\",\"id\":\"p1286\",\"attributes\":{\"ticker\":{\"type\":\"object\",\"name\":\"BasicTicker\",\"id\":\"p1287\",\"attributes\":{\"mantissas\":[1,2,5]}},\"formatter\":{\"type\":\"object\",\"name\":\"BasicTickFormatter\",\"id\":\"p1288\"},\"axis_label\":\"sales\",\"major_label_policy\":{\"type\":\"object\",\"name\":\"AllLabels\",\"id\":\"p1289\"}}}],\"below\":[{\"type\":\"object\",\"name\":\"CategoricalAxis\",\"id\":\"p1281\",\"attributes\":{\"ticker\":{\"type\":\"object\",\"name\":\"CategoricalTicker\",\"id\":\"p1282\"},\"formatter\":{\"type\":\"object\",\"name\":\"CategoricalTickFormatter\",\"id\":\"p1283\"},\"axis_label\":\"\",\"major_label_policy\":{\"type\":\"object\",\"name\":\"AllLabels\",\"id\":\"p1284\"}}}],\"center\":[{\"type\":\"object\",\"name\":\"Grid\",\"id\":\"p1285\",\"attributes\":{\"axis\":{\"id\":\"p1281\"},\"grid_line_color\":null}},{\"type\":\"object\",\"name\":\"Grid\",\"id\":\"p1290\",\"attributes\":{\"dimension\":1,\"axis\":{\"id\":\"p1286\"},\"grid_line_color\":null}}],\"min_border_top\":10,\"min_border_bottom\":10,\"min_border_left\":10,\"min_border_right\":10,\"output_backend\":\"webgl\"}},{\"type\":\"object\",\"name\":\"Spacer\",\"id\":\"p1392\",\"attributes\":{\"name\":\"HSpacer01467\",\"stylesheets\":[\"\\n:host(.pn-loading):before, .pn-loading:before {\\n  background-color: #c3c3c3;\\n  mask-size: auto calc(min(50%, 400px));\\n  -webkit-mask-size: auto calc(min(50%, 400px));\\n}\",{\"id\":\"p1261\"},{\"id\":\"p1259\"},{\"id\":\"p1260\"}],\"margin\":0,\"sizing_mode\":\"stretch_width\",\"align\":\"start\"}}]}}],\"defs\":[{\"type\":\"model\",\"name\":\"ReactiveHTML1\"},{\"type\":\"model\",\"name\":\"FlexBox1\",\"properties\":[{\"name\":\"align_content\",\"kind\":\"Any\",\"default\":\"flex-start\"},{\"name\":\"align_items\",\"kind\":\"Any\",\"default\":\"flex-start\"},{\"name\":\"flex_direction\",\"kind\":\"Any\",\"default\":\"row\"},{\"name\":\"flex_wrap\",\"kind\":\"Any\",\"default\":\"wrap\"},{\"name\":\"gap\",\"kind\":\"Any\",\"default\":\"\"},{\"name\":\"justify_content\",\"kind\":\"Any\",\"default\":\"flex-start\"}]},{\"type\":\"model\",\"name\":\"FloatPanel1\",\"properties\":[{\"name\":\"config\",\"kind\":\"Any\",\"default\":{\"type\":\"map\"}},{\"name\":\"contained\",\"kind\":\"Any\",\"default\":true},{\"name\":\"position\",\"kind\":\"Any\",\"default\":\"right-top\"},{\"name\":\"offsetx\",\"kind\":\"Any\",\"default\":null},{\"name\":\"offsety\",\"kind\":\"Any\",\"default\":null},{\"name\":\"theme\",\"kind\":\"Any\",\"default\":\"primary\"},{\"name\":\"status\",\"kind\":\"Any\",\"default\":\"normalized\"}]},{\"type\":\"model\",\"name\":\"GridStack1\",\"properties\":[{\"name\":\"mode\",\"kind\":\"Any\",\"default\":\"warn\"},{\"name\":\"ncols\",\"kind\":\"Any\",\"default\":null},{\"name\":\"nrows\",\"kind\":\"Any\",\"default\":null},{\"name\":\"allow_resize\",\"kind\":\"Any\",\"default\":true},{\"name\":\"allow_drag\",\"kind\":\"Any\",\"default\":true},{\"name\":\"state\",\"kind\":\"Any\",\"default\":[]}]},{\"type\":\"model\",\"name\":\"drag1\",\"properties\":[{\"name\":\"slider_width\",\"kind\":\"Any\",\"default\":5},{\"name\":\"slider_color\",\"kind\":\"Any\",\"default\":\"black\"},{\"name\":\"value\",\"kind\":\"Any\",\"default\":50}]},{\"type\":\"model\",\"name\":\"click1\",\"properties\":[{\"name\":\"terminal_output\",\"kind\":\"Any\",\"default\":\"\"},{\"name\":\"debug_name\",\"kind\":\"Any\",\"default\":\"\"},{\"name\":\"clears\",\"kind\":\"Any\",\"default\":0}]},{\"type\":\"model\",\"name\":\"FastWrapper1\",\"properties\":[{\"name\":\"object\",\"kind\":\"Any\",\"default\":null},{\"name\":\"style\",\"kind\":\"Any\",\"default\":null}]},{\"type\":\"model\",\"name\":\"NotificationAreaBase1\",\"properties\":[{\"name\":\"js_events\",\"kind\":\"Any\",\"default\":{\"type\":\"map\"}},{\"name\":\"position\",\"kind\":\"Any\",\"default\":\"bottom-right\"},{\"name\":\"_clear\",\"kind\":\"Any\",\"default\":0}]},{\"type\":\"model\",\"name\":\"NotificationArea1\",\"properties\":[{\"name\":\"js_events\",\"kind\":\"Any\",\"default\":{\"type\":\"map\"}},{\"name\":\"notifications\",\"kind\":\"Any\",\"default\":[]},{\"name\":\"position\",\"kind\":\"Any\",\"default\":\"bottom-right\"},{\"name\":\"_clear\",\"kind\":\"Any\",\"default\":0},{\"name\":\"types\",\"kind\":\"Any\",\"default\":[{\"type\":\"map\",\"entries\":[[\"type\",\"warning\"],[\"background\",\"#ffc107\"],[\"icon\",{\"type\":\"map\",\"entries\":[[\"className\",\"fas fa-exclamation-triangle\"],[\"tagName\",\"i\"],[\"color\",\"white\"]]}]]},{\"type\":\"map\",\"entries\":[[\"type\",\"info\"],[\"background\",\"#007bff\"],[\"icon\",{\"type\":\"map\",\"entries\":[[\"className\",\"fas fa-info-circle\"],[\"tagName\",\"i\"],[\"color\",\"white\"]]}]]}]}]},{\"type\":\"model\",\"name\":\"Notification\",\"properties\":[{\"name\":\"background\",\"kind\":\"Any\",\"default\":null},{\"name\":\"duration\",\"kind\":\"Any\",\"default\":3000},{\"name\":\"icon\",\"kind\":\"Any\",\"default\":null},{\"name\":\"message\",\"kind\":\"Any\",\"default\":\"\"},{\"name\":\"notification_type\",\"kind\":\"Any\",\"default\":null},{\"name\":\"_destroyed\",\"kind\":\"Any\",\"default\":false}]},{\"type\":\"model\",\"name\":\"TemplateActions1\",\"properties\":[{\"name\":\"open_modal\",\"kind\":\"Any\",\"default\":0},{\"name\":\"close_modal\",\"kind\":\"Any\",\"default\":0}]},{\"type\":\"model\",\"name\":\"BootstrapTemplateActions1\",\"properties\":[{\"name\":\"open_modal\",\"kind\":\"Any\",\"default\":0},{\"name\":\"close_modal\",\"kind\":\"Any\",\"default\":0}]},{\"type\":\"model\",\"name\":\"TemplateEditor1\",\"properties\":[{\"name\":\"layout\",\"kind\":\"Any\",\"default\":[]}]},{\"type\":\"model\",\"name\":\"MaterialTemplateActions1\",\"properties\":[{\"name\":\"open_modal\",\"kind\":\"Any\",\"default\":0},{\"name\":\"close_modal\",\"kind\":\"Any\",\"default\":0}]},{\"type\":\"model\",\"name\":\"copy_to_clipboard1\",\"properties\":[{\"name\":\"fill\",\"kind\":\"Any\",\"default\":\"none\"},{\"name\":\"value\",\"kind\":\"Any\",\"default\":null}]}]}};\n",
       "  var render_items = [{\"docid\":\"e37a5f35-e892-477b-bf13-12f13936ac9a\",\"roots\":{\"p1258\":\"fc6f02aa-ce16-40d9-9084-eede743f73f5\"},\"root_ids\":[\"p1258\"]}];\n",
       "  var docs = Object.values(docs_json)\n",
       "  if (!docs) {\n",
       "    return\n",
       "  }\n",
       "  const py_version = docs[0].version.replace('rc', '-rc.').replace('.dev', '-dev.')\n",
       "  async function embed_document(root) {\n",
       "    var Bokeh = get_bokeh(root)\n",
       "    await Bokeh.embed.embed_items_notebook(docs_json, render_items);\n",
       "    for (const render_item of render_items) {\n",
       "      for (const root_id of render_item.root_ids) {\n",
       "\tconst id_el = document.getElementById(root_id)\n",
       "\tif (id_el.children.length && id_el.children[0].hasAttribute('data-root-id')) {\n",
       "\t  const root_el = id_el.children[0]\n",
       "\t  root_el.id = root_el.id + '-rendered'\n",
       "\t  for (const child of root_el.children) {\n",
       "            // Ensure JupyterLab does not capture keyboard shortcuts\n",
       "            // see: https://jupyterlab.readthedocs.io/en/4.1.x/extension/notebook.html#keyboard-interaction-model\n",
       "\t    child.setAttribute('data-lm-suppress-shortcuts', 'true')\n",
       "\t  }\n",
       "\t}\n",
       "      }\n",
       "    }\n",
       "  }\n",
       "  function get_bokeh(root) {\n",
       "    if (root.Bokeh === undefined) {\n",
       "      return null\n",
       "    } else if (root.Bokeh.version !== py_version) {\n",
       "      if (root.Bokeh.versions === undefined || !root.Bokeh.versions.has(py_version)) {\n",
       "\treturn null\n",
       "      }\n",
       "      return root.Bokeh.versions.get(py_version);\n",
       "    } else if (root.Bokeh.version === py_version) {\n",
       "      return root.Bokeh\n",
       "    }\n",
       "    return null\n",
       "  }\n",
       "  function is_loaded(root) {\n",
       "    var Bokeh = get_bokeh(root)\n",
       "    return (Bokeh != null && Bokeh.Panel !== undefined)\n",
       "  }\n",
       "  if (is_loaded(root)) {\n",
       "    embed_document(root);\n",
       "  } else {\n",
       "    var attempts = 0;\n",
       "    var timer = setInterval(function(root) {\n",
       "      if (is_loaded(root)) {\n",
       "        clearInterval(timer);\n",
       "        embed_document(root);\n",
       "      } else if (document.readyState == \"complete\") {\n",
       "        attempts++;\n",
       "        if (attempts > 200) {\n",
       "          clearInterval(timer);\n",
       "\t  var Bokeh = get_bokeh(root)\n",
       "\t  if (Bokeh == null || Bokeh.Panel == null) {\n",
       "            console.warn(\"Panel: ERROR: Unable to run Panel code because Bokeh or Panel library is missing\");\n",
       "\t  } else {\n",
       "\t    console.warn(\"Panel: WARNING: Attempting to render but not all required libraries could be resolved.\")\n",
       "\t    embed_document(root)\n",
       "\t  }\n",
       "        }\n",
       "      }\n",
       "    }, 25, root)\n",
       "  }\n",
       "})(window);</script>"
      ],
      "text/plain": [
       ":BoxWhisker   (sales)"
      ]
     },
     "execution_count": 20,
     "metadata": {
      "application/vnd.holoviews_exec.v0+json": {
       "id": "p1258"
      }
     },
     "output_type": "execute_result"
    }
   ],
   "source": [
    "df.hvplot.box(y=\"sales\")"
   ]
  },
  {
   "cell_type": "code",
   "execution_count": 21,
   "id": "d2fa3eb3-d9cc-4e27-bebd-b4ea6d33ed05",
   "metadata": {},
   "outputs": [
    {
     "data": {
      "text/plain": [
       "count     9800.000000\n",
       "mean     22921.757737\n",
       "std      12601.999815\n",
       "min       1002.794000\n",
       "25%      12135.625000\n",
       "50%      22882.060000\n",
       "75%      33730.130000\n",
       "max      44995.410000\n",
       "Name: sales, dtype: float64"
      ]
     },
     "execution_count": 21,
     "metadata": {},
     "output_type": "execute_result"
    }
   ],
   "source": [
    "df['sales'].describe()"
   ]
  },
  {
   "cell_type": "code",
   "execution_count": 22,
   "id": "03862c37-b452-495c-8172-a1c14589b3e0",
   "metadata": {},
   "outputs": [
    {
     "data": {},
     "metadata": {},
     "output_type": "display_data"
    },
    {
     "data": {
      "application/vnd.holoviews_exec.v0+json": "",
      "text/html": [
       "<div id='p1406'>\n",
       "  <div id=\"c3ec7c54-fa38-481d-92fe-1df44b1a3441\" data-root-id=\"p1406\" style=\"display: contents;\"></div>\n",
       "</div>\n",
       "<script type=\"application/javascript\">(function(root) {\n",
       "  var docs_json = {\"f11fcae7-195a-47cc-9fb1-ddf3e2dfee98\":{\"version\":\"3.4.1\",\"title\":\"Bokeh Application\",\"roots\":[{\"type\":\"object\",\"name\":\"Row\",\"id\":\"p1406\",\"attributes\":{\"name\":\"Row01916\",\"tags\":[\"embedded\"],\"stylesheets\":[\"\\n:host(.pn-loading):before, .pn-loading:before {\\n  background-color: #c3c3c3;\\n  mask-size: auto calc(min(50%, 400px));\\n  -webkit-mask-size: auto calc(min(50%, 400px));\\n}\",{\"type\":\"object\",\"name\":\"ImportedStyleSheet\",\"id\":\"p1409\",\"attributes\":{\"url\":\"https://cdn.holoviz.org/panel/1.4.4/dist/css/loading.css\"}},{\"type\":\"object\",\"name\":\"ImportedStyleSheet\",\"id\":\"p2259\",\"attributes\":{\"url\":\"https://cdn.holoviz.org/panel/1.4.4/dist/css/listpanel.css\"}},{\"type\":\"object\",\"name\":\"ImportedStyleSheet\",\"id\":\"p1407\",\"attributes\":{\"url\":\"https://cdn.holoviz.org/panel/1.4.4/dist/bundled/theme/default.css\"}},{\"type\":\"object\",\"name\":\"ImportedStyleSheet\",\"id\":\"p1408\",\"attributes\":{\"url\":\"https://cdn.holoviz.org/panel/1.4.4/dist/bundled/theme/native.css\"}}],\"margin\":0,\"sizing_mode\":\"stretch_width\",\"align\":\"start\",\"children\":[{\"type\":\"object\",\"name\":\"Spacer\",\"id\":\"p1410\",\"attributes\":{\"name\":\"HSpacer01923\",\"stylesheets\":[\"\\n:host(.pn-loading):before, .pn-loading:before {\\n  background-color: #c3c3c3;\\n  mask-size: auto calc(min(50%, 400px));\\n  -webkit-mask-size: auto calc(min(50%, 400px));\\n}\",{\"id\":\"p1409\"},{\"id\":\"p1407\"},{\"id\":\"p1408\"}],\"margin\":0,\"sizing_mode\":\"stretch_width\",\"align\":\"start\"}},{\"type\":\"object\",\"name\":\"GridPlot\",\"id\":\"p2247\",\"attributes\":{\"rows\":null,\"cols\":null,\"toolbar\":{\"type\":\"object\",\"name\":\"Toolbar\",\"id\":\"p2255\",\"attributes\":{\"tools\":[{\"type\":\"object\",\"name\":\"ToolProxy\",\"id\":\"p2249\",\"attributes\":{\"tools\":[{\"type\":\"object\",\"name\":\"WheelZoomTool\",\"id\":\"p1416\",\"attributes\":{\"tags\":[\"hv_created\"],\"renderers\":\"auto\",\"zoom_together\":\"none\"}},{\"type\":\"object\",\"name\":\"WheelZoomTool\",\"id\":\"p1465\",\"attributes\":{\"tags\":[\"hv_created\"],\"renderers\":\"auto\",\"zoom_together\":\"none\"}},{\"type\":\"object\",\"name\":\"WheelZoomTool\",\"id\":\"p1514\",\"attributes\":{\"tags\":[\"hv_created\"],\"renderers\":\"auto\",\"zoom_together\":\"none\"}},{\"type\":\"object\",\"name\":\"WheelZoomTool\",\"id\":\"p1563\",\"attributes\":{\"tags\":[\"hv_created\"],\"renderers\":\"auto\",\"zoom_together\":\"none\"}},{\"type\":\"object\",\"name\":\"WheelZoomTool\",\"id\":\"p1612\",\"attributes\":{\"tags\":[\"hv_created\"],\"renderers\":\"auto\",\"zoom_together\":\"none\"}},{\"type\":\"object\",\"name\":\"WheelZoomTool\",\"id\":\"p1661\",\"attributes\":{\"tags\":[\"hv_created\"],\"renderers\":\"auto\",\"zoom_together\":\"none\"}},{\"type\":\"object\",\"name\":\"WheelZoomTool\",\"id\":\"p1710\",\"attributes\":{\"tags\":[\"hv_created\"],\"renderers\":\"auto\",\"zoom_together\":\"none\"}},{\"type\":\"object\",\"name\":\"WheelZoomTool\",\"id\":\"p1759\",\"attributes\":{\"tags\":[\"hv_created\"],\"renderers\":\"auto\",\"zoom_together\":\"none\"}},{\"type\":\"object\",\"name\":\"WheelZoomTool\",\"id\":\"p1808\",\"attributes\":{\"tags\":[\"hv_created\"],\"renderers\":\"auto\",\"zoom_together\":\"none\"}},{\"type\":\"object\",\"name\":\"WheelZoomTool\",\"id\":\"p1857\",\"attributes\":{\"tags\":[\"hv_created\"],\"renderers\":\"auto\",\"zoom_together\":\"none\"}},{\"type\":\"object\",\"name\":\"WheelZoomTool\",\"id\":\"p1906\",\"attributes\":{\"tags\":[\"hv_created\"],\"renderers\":\"auto\",\"zoom_together\":\"none\"}},{\"type\":\"object\",\"name\":\"WheelZoomTool\",\"id\":\"p1955\",\"attributes\":{\"tags\":[\"hv_created\"],\"renderers\":\"auto\",\"zoom_together\":\"none\"}},{\"type\":\"object\",\"name\":\"WheelZoomTool\",\"id\":\"p2004\",\"attributes\":{\"tags\":[\"hv_created\"],\"renderers\":\"auto\",\"zoom_together\":\"none\"}},{\"type\":\"object\",\"name\":\"WheelZoomTool\",\"id\":\"p2053\",\"attributes\":{\"tags\":[\"hv_created\"],\"renderers\":\"auto\",\"zoom_together\":\"none\"}},{\"type\":\"object\",\"name\":\"WheelZoomTool\",\"id\":\"p2102\",\"attributes\":{\"tags\":[\"hv_created\"],\"renderers\":\"auto\",\"zoom_together\":\"none\"}},{\"type\":\"object\",\"name\":\"WheelZoomTool\",\"id\":\"p2151\",\"attributes\":{\"tags\":[\"hv_created\"],\"renderers\":\"auto\",\"zoom_together\":\"none\"}},{\"type\":\"object\",\"name\":\"WheelZoomTool\",\"id\":\"p2200\",\"attributes\":{\"tags\":[\"hv_created\"],\"renderers\":\"auto\",\"zoom_together\":\"none\"}}]}},{\"type\":\"object\",\"name\":\"ToolProxy\",\"id\":\"p2250\",\"attributes\":{\"tools\":[{\"type\":\"object\",\"name\":\"HoverTool\",\"id\":\"p1417\",\"attributes\":{\"tags\":[\"hv_created\"],\"renderers\":[{\"type\":\"object\",\"name\":\"GlyphRenderer\",\"id\":\"p1458\",\"attributes\":{\"data_source\":{\"type\":\"object\",\"name\":\"ColumnDataSource\",\"id\":\"p1449\",\"attributes\":{\"selected\":{\"type\":\"object\",\"name\":\"Selection\",\"id\":\"p1450\",\"attributes\":{\"indices\":[],\"line_indices\":[]}},\"selection_policy\":{\"type\":\"object\",\"name\":\"UnionRenderers\",\"id\":\"p1451\"},\"data\":{\"type\":\"map\",\"entries\":[[\"x\",{\"type\":\"ndarray\",\"array\":{\"type\":\"bytes\",\"data\":\"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\"},\"shape\":[200],\"dtype\":\"float64\",\"order\":\"little\"}],[\"y\",{\"type\":\"ndarray\",\"array\":{\"type\":\"bytes\",\"data\":\"AAAAAAAAAAAAAAAAAAAAAAAAAAAAAAAAAAAAAAAAAAAAAAAAAAAAAAAAAAAAAAAAAAAAAAAAAAAAAAAAAAAAAAAAAAAAAAAAAAAAAAAAAAAAAAAAAAAAAAAAAAAAAAAAAAAAAAAAAAAAAAAAAAAAAAAAAAAAAAAAAAAAAAAAAAAAAAAAAAAAAAAAAAAAAAAAAAAAAAAAAAAAAAAAAAAAAAAAAAAAAAAAAAAAAAAAAAAAAAAAAAAAAAAAAAAAAAAAAAAAAAAAAAAAAAAAAAAAAAAAAAAAAAAAAAAAAAAAAAAAAAAAAAAAAAAAAAAAAAAAAAAAAAAAAAAAAAAAAAAAAAAAAAAAAAAAAAAAAAAAAAAAAAAAAAAAAAAAAAAAAAAAAAAAAAAAAAAAAAAAAAAAAAAAAAAAAAAAAAAAAAAAAAAAAAAAAAAAAAAAAAAAAAAAAAAAAAAAAAAAAAAAAAAAAAAAAAAAAAAAAAAAAAAAAAAAAAAAAAAAAAAAAAAAAAAAAAAAAAAAAAAAAAAAAAAAAAAAAAAAAAAAAAAAAAAAAAAAAAAAAAAAAAAAAAAAAAAAAAAAAAAAAAAAAAAAAAAAAAAAAAAAAAAAAAAAAAAAAAAAAAAAAAAAAAAAAAAAAAAAAAAAAAAAAAAAAAAAAAAAAAAAAAAAAAAAAAAAAAAAAAAAAAAAAAAAAAAAAAAAAAAAAAAAAAAAAAAAAAAAAAAAAAAAAAAAAAAAAAAAAAAAAAAAAAAAAAAAAAAAAAAAAAAAAAAAAAAAAAAAAAAAAAAAAAAAAAAAAAAAAAAAAAAAAAAAAAAAAAAAAAAAAAAAAAAAAAAAAAAAAAAAAAAAAAAAAAAAAAAAAAAAAAAAAAAAAAAAAAAAAAAAAAAAAAAAAAAAAAAAAAAAAAAAAAAAAAAAAAAAAAAAAAAAAAAAAAAAAAAAAAAAAAAAAAAAAAAAAAAAAAAAAAAAAAAAAAAAAAAAAAAAAAAAAAAAAAAAAAAAAAAAAAAAAAAAAAAAAAAAAAAAAAAAAAAAAAAAAAAAAAAAAAAAAAAAAAAAAAAAAAAAAABt0ZoaTWBgPtwQ45EmJm4+dqupTJ/Sej7iyTD5xhGHPoQg6LK8L5M+w9UQ2eHenj5pTry9KQioPhfsmsxbHLI+v7+mi0Zwuj4D0YXRo7PCPv6SRQBoqMk+4ye9WfYU0T42/IGQPxjWPhybO7qqyts+BEIxfMgE4T6wuuq47lLkPtV/u1+TtOc+0D0kuRoO6z4KAZzW20buPgXVbyjypfA+LugFy8wI8j7miSPT90nzPmOMdLGgavQ+ZDk9cBFu9T5NERh0W1j2PqHLbmQOLfc+Qfm3qjru9z7MJEBn6Jv4Pg59lwYRNPk+qti5FRGz+T6Mh1RXdRT6PvpNaa36U/o+wH2bw5Nu+j4sSLirSGP6PoBlDC/LM/o+7WU8Cabk+T7WjLjS/Hz5PlsSeVzkBfk+DdTXymyJ+D4+DetRhBH4PiecYN7fpvc+QAEuexRQ9z6i5XJ4ARH3Pk2ROh2b6vY+6xlXXRTb9j4bIS/9V972PkUO44u57vY+oHyX+cQF9z59Oxg4Fh33PrlhqfUlL/c+W67ITPo39z7z0+B1qTX3Ph1B0vyaKPc+ET/oW3UT9z689Duvrfr2PvVCvqq+4/Y+mf/pnSDU9j4S+T0zMND2Ps3R9mo92vY+mFNWRfrx9j7qbksLbxT3Pjn3M8l8PPc+eb5EPdVj9z7lKd+KM4T3Po8IWwKSmPc+N4CJjhqe9z5/c+lWn5T3Pp4xeamCfvc+3UI6phFg9z6QY4Cabj73PmTrGsM6Hvc+FfztzjkC9z42ExDzK+r2Pg0Elh0W0vY+n0ZjGiOy9j6PluKCNH/2PoI8y/gfLPY+swHx9Xar9T51Iv4RmvH0PuC37nTC9vM+38J7/qO48j7tryg5VTvxPhcjWwuQEu8+AV/qUJRk6z6s5gyna5PnPpXOHMFHyOM+iieF5REq4D7MSO7MmLLZPsbMz3d62tM+m+vOKNHKzT5hMTvwm7HFPvJAC1t6pL4+sj8PXXT6tD6TYsrSotSrPmfTEEja4KE+912la5k8lj5gC3X61sOKPqTUSCtiKn8+XLdkx12McT4tqsfDYBtjPg==\"},\"shape\":[200],\"dtype\":\"float64\",\"order\":\"little\"}]]}}},\"view\":{\"type\":\"object\",\"name\":\"CDSView\",\"id\":\"p1459\",\"attributes\":{\"filter\":{\"type\":\"object\",\"name\":\"AllIndices\",\"id\":\"p1460\"}}},\"glyph\":{\"type\":\"object\",\"name\":\"Patch\",\"id\":\"p1455\",\"attributes\":{\"tags\":[\"apply_ranges\"],\"x\":{\"type\":\"field\",\"field\":\"x\"},\"y\":{\"type\":\"field\",\"field\":\"y\"},\"fill_color\":\"#30a2da\",\"fill_alpha\":0.5,\"hatch_color\":\"#30a2da\"}},\"selection_glyph\":{\"type\":\"object\",\"name\":\"Patch\",\"id\":\"p1461\",\"attributes\":{\"tags\":[\"apply_ranges\"],\"x\":{\"type\":\"field\",\"field\":\"x\"},\"y\":{\"type\":\"field\",\"field\":\"y\"},\"fill_color\":\"#30a2da\",\"fill_alpha\":0.5,\"hatch_color\":\"#30a2da\"}},\"nonselection_glyph\":{\"type\":\"object\",\"name\":\"Patch\",\"id\":\"p1456\",\"attributes\":{\"tags\":[\"apply_ranges\"],\"x\":{\"type\":\"field\",\"field\":\"x\"},\"y\":{\"type\":\"field\",\"field\":\"y\"},\"line_alpha\":1,\"fill_color\":\"#30a2da\",\"fill_alpha\":0.5,\"hatch_color\":\"#30a2da\",\"hatch_alpha\":0.1}},\"muted_glyph\":{\"type\":\"object\",\"name\":\"Patch\",\"id\":\"p1457\",\"attributes\":{\"tags\":[\"apply_ranges\"],\"x\":{\"type\":\"field\",\"field\":\"x\"},\"y\":{\"type\":\"field\",\"field\":\"y\"},\"line_alpha\":0.2,\"fill_color\":\"#30a2da\",\"fill_alpha\":0.2,\"hatch_color\":\"#30a2da\",\"hatch_alpha\":0.2}}}}],\"tooltips\":[[\"sales\",\"@{sales}\"],[\"Density\",\"@{sales_density}\"]]}},{\"type\":\"object\",\"name\":\"HoverTool\",\"id\":\"p1466\",\"attributes\":{\"tags\":[\"hv_created\"],\"renderers\":[{\"type\":\"object\",\"name\":\"GlyphRenderer\",\"id\":\"p1507\",\"attributes\":{\"data_source\":{\"type\":\"object\",\"name\":\"ColumnDataSource\",\"id\":\"p1498\",\"attributes\":{\"selected\":{\"type\":\"object\",\"name\":\"Selection\",\"id\":\"p1499\",\"attributes\":{\"indices\":[],\"line_indices\":[]}},\"selection_policy\":{\"type\":\"object\",\"name\":\"UnionRenderers\",\"id\":\"p1500\"},\"data\":{\"type\":\"map\",\"entries\":[[\"x\",{\"type\":\"ndarray\",\"array\":{\"type\":\"bytes\",\"data\":\"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\"},\"shape\":[200],\"dtype\":\"float64\",\"order\":\"little\"}],[\"y\",{\"type\":\"ndarray\",\"array\":{\"type\":\"bytes\",\"data\":\"AAAAAAAAAAAAAAAAAAAAAAAAAAAAAAAAAAAAAAAAAAAAAAAAAAAAAAAAAAAAAAAAAAAAAAAAAAAAAAAAAAAAAAAAAAAAAAAAAAAAAAAAAAAAAAAAAAAAAAAAAAAAAAAAAAAAAAAAAAAAAAAAAAAAAAAAAAAAAAAAAAAAAAAAAAAAAAAAAAAAAAAAAAAAAAAAAAAAAAAAAAAAAAAAAAAAAAAAAAAAAAAAAAAAAAAAAAAAAAAAAAAAAAAAAAAAAAAAAAAAAAAAAAAAAAAAAAAAAAAAAAAAAAAAAAAAAAAAAAAAAAAAAAAAAAAAAAAAAAAAAAAAAAAAAAAAAAAAAAAAAAAAAAAAAAAAAAAAAAAAAAAAAAAAAAAAAAAAAAAAAAAAAAAAAAAAAAAAAAAAAAAAAAAAAAAAAAAAAAAAAAAAAAAAAAAAAAAAAAAAAAAAAAAAAAAAAAAAAAAAAAAAAAAAAAAAAAAAAAAAAAAAAAAAAAAAAAAAAAAAAAAAAAAAAAAAAAAAAAAAAAAAAAAAAAAAAAAAAAAAAAAAAAAAAAAAAAAAAAAAAAAAAAAAAAAAAAAAAAAAAAAAAAAAAAAAAAAAAAAAAAAAAAAAAAAAAAAAAAAAAAAAAAAAAAAAAAAAAAAAAAAAAAAAAAAAAAAAAAAAAAAAAAAAAAAAAAAAAAAAAAAAAAAAAAAAAAAAAAAAAAAAAAAAAAAAAAAAAAAAAAAAAAAAAAAAAAAAAAAAAAAAAAAAAAAAAAAAAAAAAAAAAAAAAAAAAAAAAAAAAAAAAAAAAAAAAAAAAAAAAAAAAAAAAAAAAAAAAAAAAAAAAAAAAAAAAAAAAAAAAAAAAAAAAAAAAAAAAAAAAAAAAAAAAAAAAAAAAAAAAAAAAAAAAAAAAAAAAAAAAAAAAAAAAAAAAAAAAAAAAAAAAAAAAAAAAAAAAAAAAAAAAAAAAAAAAAAAAAAAAAAAAAAAAAAAAAAAAAAAAAAAAAAAAAAAAAAAAAAAAAAAAAAAAAAAAAAAAAAAAAAAAAAAAAAAAAAAAAAAAAAAAAAAAAAAAAAAAAAAAAAAAAAaPwn3A2tgPtzkiaGaNm0+GxmWqVk5eT6yCReoIySFPsoYvZsINJE+/Djfekgwmz5e+Xxijd6kPneBWxL8IK8+E/UXY6KQtj6C8j11Is+/PuS2MXE8z8U+vWrofXIbzT6fSrGjT+rSPoAlbG0V9dc+5RZ5FNeX3T6BkYrLaNfhPuxzBxF9BeU+//Q/XgM76D4GFi7u1FvrPk4o7WKXTe4+OipoGiR98D7LQG2dEanxPq6BVXZUpvI+7qeLslx08z6DxrlL8hX0PkxCzXCVkPQ+4ImJRLfr9D7WlSM55S/1Plo8CCX3ZfU+FinE2UeW9T56uX5N/cf1Pt5pqNJoAPY+zax8jI5C9j4c0Oh66I72PgtHD5h44/Y+JdqEYzQ89z52rgkCxJP3PmuKc/N75Pc+/taN/2cp+D55cWWsNV/4Pn46TIbPhPg+JsR414ib+D4Vgecg0Kb4PmP9hmp4q/g+Xld1HsCu+D5ugTcRSrX4PrlVlSw/wvg+pEkSjsTW+D7qiDei3fH4PqOTwCa5EPk+chB8TVEv+T6lgfDqN0n5Pvq25MJiWvk+R6JgmdFf+T5J2pnY9Ff5PkRZCuXLQvk+BlCXIcEh+T4lbCcEVPf4PqaueUimxvg+a5F2AwGT+D4bX/PoYl/4Pju2inkkLvg+7ADWXboA+D5RubxWmtf3PoV/5IBDsvc+Xj8mkWaP9z64gdDcJW33PnI+luxfSfc+pUZcXPMh9z4uSNrD6fT2Pshh3AV7wPY+JKR4VeOC9j434/ptEzr2PkTTN+VQ4/U+vw0byud69T4Ep/5pEvz0PtBlvBg1YfQ+umBbFHqk8z4cri2HwMDyPl0Tzbe3svE+xi7vZOx58D6VA3djETPuPvL3H/cjMes+jWzbXRMD6D7rxCWo8MLkPkxJV90WjeE+0Y/8jRn63D5odYw5OVXXPrT71Pk8T9I+lwcgmhL7yz6tVplZ9s3EPtVEQJxEFr4+12vQd48ltT4cvpoUveGsPmq5DHXkJ6M+R5+1bOOrmD5mqI4/w9eOPrF49jtxtYI+zkCUv1oFdj6SOIpGkyRpPg==\"},\"shape\":[200],\"dtype\":\"float64\",\"order\":\"little\"}]]}}},\"view\":{\"type\":\"object\",\"name\":\"CDSView\",\"id\":\"p1508\",\"attributes\":{\"filter\":{\"type\":\"object\",\"name\":\"AllIndices\",\"id\":\"p1509\"}}},\"glyph\":{\"type\":\"object\",\"name\":\"Patch\",\"id\":\"p1504\",\"attributes\":{\"tags\":[\"apply_ranges\"],\"x\":{\"type\":\"field\",\"field\":\"x\"},\"y\":{\"type\":\"field\",\"field\":\"y\"},\"fill_color\":\"#30a2da\",\"fill_alpha\":0.5,\"hatch_color\":\"#30a2da\"}},\"selection_glyph\":{\"type\":\"object\",\"name\":\"Patch\",\"id\":\"p1510\",\"attributes\":{\"tags\":[\"apply_ranges\"],\"x\":{\"type\":\"field\",\"field\":\"x\"},\"y\":{\"type\":\"field\",\"field\":\"y\"},\"fill_color\":\"#30a2da\",\"fill_alpha\":0.5,\"hatch_color\":\"#30a2da\"}},\"nonselection_glyph\":{\"type\":\"object\",\"name\":\"Patch\",\"id\":\"p1505\",\"attributes\":{\"tags\":[\"apply_ranges\"],\"x\":{\"type\":\"field\",\"field\":\"x\"},\"y\":{\"type\":\"field\",\"field\":\"y\"},\"line_alpha\":1,\"fill_color\":\"#30a2da\",\"fill_alpha\":0.5,\"hatch_color\":\"#30a2da\",\"hatch_alpha\":0.1}},\"muted_glyph\":{\"type\":\"object\",\"name\":\"Patch\",\"id\":\"p1506\",\"attributes\":{\"tags\":[\"apply_ranges\"],\"x\":{\"type\":\"field\",\"field\":\"x\"},\"y\":{\"type\":\"field\",\"field\":\"y\"},\"line_alpha\":0.2,\"fill_color\":\"#30a2da\",\"fill_alpha\":0.2,\"hatch_color\":\"#30a2da\",\"hatch_alpha\":0.2}}}}],\"tooltips\":[[\"sales\",\"@{sales}\"],[\"Density\",\"@{sales_density}\"]]}},{\"type\":\"object\",\"name\":\"HoverTool\",\"id\":\"p1515\",\"attributes\":{\"tags\":[\"hv_created\"],\"renderers\":[{\"type\":\"object\",\"name\":\"GlyphRenderer\",\"id\":\"p1556\",\"attributes\":{\"data_source\":{\"type\":\"object\",\"name\":\"ColumnDataSource\",\"id\":\"p1547\",\"attributes\":{\"selected\":{\"type\":\"object\",\"name\":\"Selection\",\"id\":\"p1548\",\"attributes\":{\"indices\":[],\"line_indices\":[]}},\"selection_policy\":{\"type\":\"object\",\"name\":\"UnionRenderers\",\"id\":\"p1549\"},\"data\":{\"type\":\"map\",\"entries\":[[\"x\",{\"type\":\"ndarray\",\"array\":{\"type\":\"bytes\",\"data\":\"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\"},\"shape\":[200],\"dtype\":\"float64\",\"order\":\"little\"}],[\"y\",{\"type\":\"ndarray\",\"array\":{\"type\":\"bytes\",\"data\":\"AAAAAAAAAAAAAAAAAAAAAAAAAAAAAAAAAAAAAAAAAAAAAAAAAAAAAAAAAAAAAAAAAAAAAAAAAAAAAAAAAAAAAAAAAAAAAAAAAAAAAAAAAAAAAAAAAAAAAAAAAAAAAAAAAAAAAAAAAAAAAAAAAAAAAAAAAAAAAAAAAAAAAAAAAAAAAAAAAAAAAAAAAAAAAAAAAAAAAAAAAAAAAAAAAAAAAAAAAAAAAAAAAAAAAAAAAAAAAAAAAAAAAAAAAAAAAAAAAAAAAAAAAAAAAAAAAAAAAAAAAAAAAAAAAAAAAAAAAAAAAAAAAAAAAAAAAAAAAAAAAAAAAAAAAAAAAAAAAAAAAAAAAAAAAAAAAAAAAAAAAAAAAAAAAAAAAAAAAAAAAAAAAAAAAAAAAAAAAAAAAAAAAAAAAAAAAAAAAAAAAAAAAAAAAAAAAAAAAAAAAAAAAAAAAAAAAAAAAAAAAAAAAAAAAAAAAAAAAAAAAAAAAAAAAAAAAAAAAAAAAAAAAAAAAAAAAAAAAAAAAAAAAAAAAAAAAAAAAAAAAAAAAAAAAAAAAAAAAAAAAAAAAAAAAAAAAAAAAAAAAAAAAAAAAAAAAAAAAAAAAAAAAAAAAAAAAAAAAAAAAAAAAAAAAAAAAAAAAAAAAAAAAAAAAAAAAAAAAAAAAAAAAAAAAAAAAAAAAAAAAAAAAAAAAAAAAAAAAAAAAAAAAAAAAAAAAAAAAAAAAAAAAAAAAAAAAAAAAAAAAAAAAAAAAAAAAAAAAAAAAAAAAAAAAAAAAAAAAAAAAAAAAAAAAAAAAAAAAAAAAAAAAAAAAAAAAAAAAAAAAAAAAAAAAAAAAAAAAAAAAAAAAAAAAAAAAAAAAAAAAAAAAAAAAAAAAAAAAAAAAAAAAAAAAAAAAAAAAAAAAAAAAAAAAAAAAAAAAAAAAAAAAAAAAAAAAAAAAAAAAAAAAAAAAAAAAAAAAAAAAAAAAAAAAAAAAAAAAAAAAAAAAAAAAAAAAAAAAAAAAAAAAAAAAAAAAAAAAAAAAAAAAAAAAAAAAAAAAAAAAAAAAAAAAAAAAAAAAAAAAAAAAAAFlQ/KzC5bPrg8/O0xXWk+rhLY20Tddj5agU8iB+uDPpiII3IgxpA++psL541Smz7B9XjFj4elPsE3z3sJbLA+j1/Efr5DuD5s0AH5uV/BPg5zwRyfIcg+H8NOFoxE0D4vReAdr0/VPgFRP+fLJ9s+nkxwVyPZ4D698CInqGLkPgcMx9l6Feg+5dd7cN/S6z4UBUJBA3vvPrKUOVHId/E+FOiy7+cK8z5dIlr9FWz0PigsM4uSk/U+yok0J+189j77dHmOKif3Po5KavXRlPc+FFJfndTL9z49964jNNX3PkzY591MvPc+TQPvWryN9z54KYc++1X3PuRWUaHhH/c+norWE2Hz9j53yYZDvtT2PkkAkSt8xPY+ppr5pQHA9j69gajN08L2Ph2TiokZyPY+Q+0XFArM9j7zVIH87sz2PtNBNTyAy/Y+I5Gp8Y3K9j5okrgqGs72Pn6xcIco2vY+jST+0Jfx9j7vUdcnUBX3Ppivj9/zQ/c+b/zDoBt69z6/K0+kA7P3PmPHmud46fc+SdUUCM4Y+D4MiP6Npj34Plb/CMZ3Vvg+AVwo0LFj+D4/L6ZKlWf4PhQURv3GZfg+CyEj9bli+D430ADACWP4PsCpcv3aavg+Y/QRPFJ9+D4cR4yLKpz4PkSYv5dwx/g+jTn0jGX9+D5LLu2IjTr5Pu64q2jtefk+ZTwUgHi1+T6ddQ/opub5PqxIZP8hB/o+7PbTcGoR+j55SzhoVgH6Pg3y4RBL1Pk+TpV8WyKJ+T7M101Cwh/5PvWao9B/mPg+JLb7Hnjz9z4vBbWjDzD3Ppgn637CTPY+gvbqXl9H9T68o+BgrR30PiuIFhphzvI+s3kNWCxa8T6FHmzlS4nvPiXA4R2RKew+6OtxTLSp6D5Stu2kXiPlPhRwxifJsuE+zs7BUSjn3D7NF1N7RvvWPuh+s2szxdE+cGO+Z6Kxyj7gHk36aXTDPnGZvXkFfrs+FKzxZWbRsj5E3qOqbfCoPg/psex7+p8+yozc2KTTkz6fuJaZycOHPvbDKpwkhns+25u4QsnKbj6jKSbm+aFgPg==\"},\"shape\":[200],\"dtype\":\"float64\",\"order\":\"little\"}]]}}},\"view\":{\"type\":\"object\",\"name\":\"CDSView\",\"id\":\"p1557\",\"attributes\":{\"filter\":{\"type\":\"object\",\"name\":\"AllIndices\",\"id\":\"p1558\"}}},\"glyph\":{\"type\":\"object\",\"name\":\"Patch\",\"id\":\"p1553\",\"attributes\":{\"tags\":[\"apply_ranges\"],\"x\":{\"type\":\"field\",\"field\":\"x\"},\"y\":{\"type\":\"field\",\"field\":\"y\"},\"fill_color\":\"#30a2da\",\"fill_alpha\":0.5,\"hatch_color\":\"#30a2da\"}},\"selection_glyph\":{\"type\":\"object\",\"name\":\"Patch\",\"id\":\"p1559\",\"attributes\":{\"tags\":[\"apply_ranges\"],\"x\":{\"type\":\"field\",\"field\":\"x\"},\"y\":{\"type\":\"field\",\"field\":\"y\"},\"fill_color\":\"#30a2da\",\"fill_alpha\":0.5,\"hatch_color\":\"#30a2da\"}},\"nonselection_glyph\":{\"type\":\"object\",\"name\":\"Patch\",\"id\":\"p1554\",\"attributes\":{\"tags\":[\"apply_ranges\"],\"x\":{\"type\":\"field\",\"field\":\"x\"},\"y\":{\"type\":\"field\",\"field\":\"y\"},\"line_alpha\":1,\"fill_color\":\"#30a2da\",\"fill_alpha\":0.5,\"hatch_color\":\"#30a2da\",\"hatch_alpha\":0.1}},\"muted_glyph\":{\"type\":\"object\",\"name\":\"Patch\",\"id\":\"p1555\",\"attributes\":{\"tags\":[\"apply_ranges\"],\"x\":{\"type\":\"field\",\"field\":\"x\"},\"y\":{\"type\":\"field\",\"field\":\"y\"},\"line_alpha\":0.2,\"fill_color\":\"#30a2da\",\"fill_alpha\":0.2,\"hatch_color\":\"#30a2da\",\"hatch_alpha\":0.2}}}}],\"tooltips\":[[\"sales\",\"@{sales}\"],[\"Density\",\"@{sales_density}\"]]}},{\"type\":\"object\",\"name\":\"HoverTool\",\"id\":\"p1564\",\"attributes\":{\"tags\":[\"hv_created\"],\"renderers\":[{\"type\":\"object\",\"name\":\"GlyphRenderer\",\"id\":\"p1605\",\"attributes\":{\"data_source\":{\"type\":\"object\",\"name\":\"ColumnDataSource\",\"id\":\"p1596\",\"attributes\":{\"selected\":{\"type\":\"object\",\"name\":\"Selection\",\"id\":\"p1597\",\"attributes\":{\"indices\":[],\"line_indices\":[]}},\"selection_policy\":{\"type\":\"object\",\"name\":\"UnionRenderers\",\"id\":\"p1598\"},\"data\":{\"type\":\"map\",\"entries\":[[\"x\",{\"type\":\"ndarray\",\"array\":{\"type\":\"bytes\",\"data\":\"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\"},\"shape\":[200],\"dtype\":\"float64\",\"order\":\"little\"}],[\"y\",{\"type\":\"ndarray\",\"array\":{\"type\":\"bytes\",\"data\":\"AAAAAAAAAAAAAAAAAAAAAAAAAAAAAAAAAAAAAAAAAAAAAAAAAAAAAAAAAAAAAAAAAAAAAAAAAAAAAAAAAAAAAAAAAAAAAAAAAAAAAAAAAAAAAAAAAAAAAAAAAAAAAAAAAAAAAAAAAAAAAAAAAAAAAAAAAAAAAAAAAAAAAAAAAAAAAAAAAAAAAAAAAAAAAAAAAAAAAAAAAAAAAAAAAAAAAAAAAAAAAAAAAAAAAAAAAAAAAAAAAAAAAAAAAAAAAAAAAAAAAAAAAAAAAAAAAAAAAAAAAAAAAAAAAAAAAAAAAAAAAAAAAAAAAAAAAAAAAAAAAAAAAAAAAAAAAAAAAAAAAAAAAAAAAAAAAAAAAAAAAAAAAAAAAAAAAAAAAAAAAAAAAAAAAAAAAAAAAAAAAAAAAAAAAAAAAAAAAAAAAAAAAAAAAAAAAAAAAAAAAAAAAAAAAAAAAAAAAAAAAAAAAAAAAAAAAAAAAAAAAAAAAAAAAAAAAAAAAAAAAAAAAAAAAAAAAAAAAAAAAAAAAAAAAAAAAAAAAAAAAAAAAAAAAAAAAAAAAAAAAAAAAAAAAAAAAAAAAAAAAAAAAAAAAAAAAAAAAAAAAAAAAAAAAAAAAAAAAAAAAAAAAAAAAAAAAAAAAAAAAAAAAAAAAAAAAAAAAAAAAAAAAAAAAAAAAAAAAAAAAAAAAAAAAAAAAAAAAAAAAAAAAAAAAAAAAAAAAAAAAAAAAAAAAAAAAAAAAAAAAAAAAAAAAAAAAAAAAAAAAAAAAAAAAAAAAAAAAAAAAAAAAAAAAAAAAAAAAAAAAAAAAAAAAAAAAAAAAAAAAAAAAAAAAAAAAAAAAAAAAAAAAAAAAAAAAAAAAAAAAAAAAAAAAAAAAAAAAAAAAAAAAAAAAAAAAAAAAAAAAAAAAAAAAAAAAAAAAAAAAAAAAAAAAAAAAAAAAAAAAAAAAAAAAAAAAAAAAAAAAAAAAAAAAAAAAAAAAAAAAAAAAAAAAAAAAAAAAAAAAAAAAAAAAAAAAAAAAAAAAAAAAAAAAAAAAAAAAAAAAAAAAAAAAAAAAAAAAAAAAAAAAAAt4nWXjjpiPjj3hm3Mz3E+LA0IbWWwgD54pH91vv+NPt/SfDVT35k+qwc7DsprpT7q8L+a+gixPntqtcYvCro+xjmgEyckwz6zaxRKWBbLPoaLX8WTd9I+XUQlDYBK2D78nsQq6N3ePmycr8M9+uI+FNC1jU+g5j4GIwbRrDfqPg1yw2Jkmu0+vua/HcRV8D6j4rdOQK3xPtSqkRW60fI+H0dCM27G8z6C7KYimZH0PpfbJ/YPOvU+gQR751TF9T7EpKBupzb2PoJw6rIxj/Y+6uG23xTP9j4WQDcM1Pb2PtobFXyNCPc+Xl1AZpQI9z7wUlXKQP32PiAk094T7vY+Br2cAYTi9j5mzvFD0+D2Pl0J3Jg/7fY+cVYW9bAJ9z7/W9p43DX3PuDF1Ji1b/c+fCiQD/+z9z48dfFH2f73PpDWa9U+TPg+OKKpfGyY+D60kFTMMuD4PsxdYbomIfk+KtBH9J9Z+T45rLJ+eYj5Pu5rSv6erPk+PeqEHo7E+T5cYf9yB875Pngd+nwlxvk+0y46+u6p+T7gRIjFRnf5PgcCvRHuLfk+J0t9HDzQ+D7FYQWxQmP4PmJ9eP5I7vc+3CtXgsB59z6+epS0AQ73PlWDXrsosvY+BJuv3lVr9j4ePRR7bjz2Pu83oc5SJvY+wh+rF2Ao9j5o9poeCkH2PoALzfZZbvY+zHa2ji2u9j64V0XfKP72PkcwkadiW/c+KH2qeO7B9z4W4l3zdCz4Pg50py8KlPg+fRNgtF7w+D40+Jy+Rjj5PqyY3OtyYvk+u60/uiNm+T6/vBYoqDv5Prk/LkOV3Pg+x9jLo8tD+D52H+DnfW33PhqnvoBwV/Y+y0aHMZIB9T4tFiGb3W7zPgSzbxBCpvE+YTnf4WVm7z5jWdqCAkvrPhaGgwicIOc+kN4f9k8Q4z6z2sObsoLePszM8fjBqNc+wMpHm9K/0T7bB59dRbrJPpcxjnqi/cE+F0fnWBNAuD6QwLslhnmvPmXyYjvRpqM+4i7PjciXlz6va6DGJjeLPnWs3H0cJn4+FVVoZo0HcD40GM4n3lpgPg==\"},\"shape\":[200],\"dtype\":\"float64\",\"order\":\"little\"}]]}}},\"view\":{\"type\":\"object\",\"name\":\"CDSView\",\"id\":\"p1606\",\"attributes\":{\"filter\":{\"type\":\"object\",\"name\":\"AllIndices\",\"id\":\"p1607\"}}},\"glyph\":{\"type\":\"object\",\"name\":\"Patch\",\"id\":\"p1602\",\"attributes\":{\"tags\":[\"apply_ranges\"],\"x\":{\"type\":\"field\",\"field\":\"x\"},\"y\":{\"type\":\"field\",\"field\":\"y\"},\"fill_color\":\"#30a2da\",\"fill_alpha\":0.5,\"hatch_color\":\"#30a2da\"}},\"selection_glyph\":{\"type\":\"object\",\"name\":\"Patch\",\"id\":\"p1608\",\"attributes\":{\"tags\":[\"apply_ranges\"],\"x\":{\"type\":\"field\",\"field\":\"x\"},\"y\":{\"type\":\"field\",\"field\":\"y\"},\"fill_color\":\"#30a2da\",\"fill_alpha\":0.5,\"hatch_color\":\"#30a2da\"}},\"nonselection_glyph\":{\"type\":\"object\",\"name\":\"Patch\",\"id\":\"p1603\",\"attributes\":{\"tags\":[\"apply_ranges\"],\"x\":{\"type\":\"field\",\"field\":\"x\"},\"y\":{\"type\":\"field\",\"field\":\"y\"},\"line_alpha\":1,\"fill_color\":\"#30a2da\",\"fill_alpha\":0.5,\"hatch_color\":\"#30a2da\",\"hatch_alpha\":0.1}},\"muted_glyph\":{\"type\":\"object\",\"name\":\"Patch\",\"id\":\"p1604\",\"attributes\":{\"tags\":[\"apply_ranges\"],\"x\":{\"type\":\"field\",\"field\":\"x\"},\"y\":{\"type\":\"field\",\"field\":\"y\"},\"line_alpha\":0.2,\"fill_color\":\"#30a2da\",\"fill_alpha\":0.2,\"hatch_color\":\"#30a2da\",\"hatch_alpha\":0.2}}}}],\"tooltips\":[[\"sales\",\"@{sales}\"],[\"Density\",\"@{sales_density}\"]]}},{\"type\":\"object\",\"name\":\"HoverTool\",\"id\":\"p1613\",\"attributes\":{\"tags\":[\"hv_created\"],\"renderers\":[{\"type\":\"object\",\"name\":\"GlyphRenderer\",\"id\":\"p1654\",\"attributes\":{\"data_source\":{\"type\":\"object\",\"name\":\"ColumnDataSource\",\"id\":\"p1645\",\"attributes\":{\"selected\":{\"type\":\"object\",\"name\":\"Selection\",\"id\":\"p1646\",\"attributes\":{\"indices\":[],\"line_indices\":[]}},\"selection_policy\":{\"type\":\"object\",\"name\":\"UnionRenderers\",\"id\":\"p1647\"},\"data\":{\"type\":\"map\",\"entries\":[[\"x\",{\"type\":\"ndarray\",\"array\":{\"type\":\"bytes\",\"data\":\"P1JMDwZwxcDSBdYYThnEwGa5XyKWwsLA+mzpK95rwcCNIHM1JhXAwEGo+X3cfL3AaA8NkWzPusCPdiCk/CG4wLbdM7eMdLXA3URHyhzHssAErFrdrBmwwFYm3OB52KrApPQCB5p9pcD0wiktuiKgwIAioaa0j5XAMH7d5emzhcAA3C2enxoiwFAP7OgUI4VAEGsoKEpHlUB4ztrbCf2fQOyYxsdkWaVAnMqfoUS0qkAofrw9kgewQAIXqSoCtbJA2q+VF3JitUCySIIE4g+4QIrhbvFRvbpAZnpb3sFqvUCfCaTlGAzAQAtWGtzQYsFAeaKQ0oi5wkDl7gbJQBDEQFE7fb/4ZsVAvYfztbC9xkAp1GmsaBTIQJcg4KIga8lAA21WmdjBykBvucyPkBjMQN0FQ4ZIb81ASVK5fADGzkBaz5c5XA7QQJD10jS4udBAxhsOMBRl0UD+QUkrcBDSQDRohCbMu9JAao6/IShn00CgtPochBLUQNbaNRjgvdRADAFxEzxp1UBCJ6wOmBTWQHhN5wn0v9ZArnMiBVBr10DkmV0ArBbYQBzAmPsHwthAUubT9mNt2UCIDA/yvxjaQL4ySu0bxNpA9FiF6Hdv20Aqf8Dj0xrcQGCl+94vxtxAmMs22otx3UDO8XHV5xzeQAQYrdBDyN5AOj7oy59z30A4spHjfQ/gQFNFL+ErZeBAbtjM3tm64ECJa2rchxDhQKT+B9o1ZuFAwJGl1+O74UDbJEPVkRHiQPa34NI/Z+JAEUt+0O284kAs3hvOmxLjQEdxuctJaONAYgRXyfe940B+l/TGpRPkQJkqksRTaeRAtL0vwgG/5EDPUM2/rxTlQOrjar1dauVABXcIuwvA5UAgCqa4uRXmQDudQ7Zna+ZAVjDhsxXB5kByw36xwxbnQI1WHK9xbOdAqOm5rB/C50DDfFeqzRfoQN4P9ad7behA+aKSpSnD6EAUNjCj1xjpQDDJzaCFbulAS1xrnjPE6UBm7wic4RnqQIGCppmPb+pAnBVElz3F6kC4qOGU6xrrQNI7f5KZcOtA7s4ckEfG60DuzhyQR8brQNI7f5KZcOtAuKjhlOsa60CcFUSXPcXqQIGCppmPb+pAZu8InOEZ6kBLXGueM8TpQDDJzaCFbulAFDYwo9cY6UD5opKlKcPoQN4P9ad7behAw3xXqs0X6ECo6bmsH8LnQI1WHK9xbOdAcsN+scMW50BWMOGzFcHmQDudQ7Zna+ZAIAqmuLkV5kAFdwi7C8DlQOrjar1dauVAz1DNv68U5UC0vS/CAb/kQJkqksRTaeRAfpf0xqUT5EBiBFfJ973jQEdxuctJaONALN4bzpsS40ARS37Q7bziQPa34NI/Z+JA2yRD1ZER4kDAkaXX47vhQKT+B9o1ZuFAiWtq3IcQ4UBu2Mze2brgQFNFL+ErZeBAOLKR430P4EA6PujLn3PfQAQYrdBDyN5AzvFx1ecc3kCYyzbai3HdQGCl+94vxtxAKn/A49Ma3ED0WIXod2/bQL4ySu0bxNpAiAwP8r8Y2kBS5tP2Y23ZQBzAmPsHwthA5JldAKwW2ECucyIFUGvXQHhN5wn0v9ZAQiesDpgU1kAMAXETPGnVQNbaNRjgvdRAoLT6HIQS1EBqjr8hKGfTQDRohCbMu9JA/kFJK3AQ0kDGGw4wFGXRQJD10jS4udBAWs+XOVwO0EBJUrl8AMbOQN0FQ4ZIb81Ab7nMj5AYzEADbVaZ2MHKQJcg4KIga8lAKdRprGgUyEC9h/O1sL3GQFE7fb/4ZsVA5e4GyUAQxEB5opDSiLnCQAtWGtzQYsFAnwmk5RgMwEBmelvewWq9QIrhbvFRvbpAskiCBOIPuEDar5UXcmK1QAIXqSoCtbJAKH68PZIHsECcyp+hRLSqQOyYxsdkWaVAeM7a2wn9n0AQaygoSkeVQFAP7OgUI4VAANwtnp8aIsAwft3l6bOFwIAioaa0j5XA9MIpLboioMCk9AIHmn2lwFYm3OB52KrABKxa3awZsMDdREfKHMeywLbdM7eMdLXAj3YgpPwhuMBoDw2RbM+6wEGo+X3cfL3AjSBzNSYVwMD6bOkr3mvBwGa5XyKWwsLA0gXWGE4ZxMA/UkwPBnDFwA==\"},\"shape\":[200],\"dtype\":\"float64\",\"order\":\"little\"}],[\"y\",{\"type\":\"ndarray\",\"array\":{\"type\":\"bytes\",\"data\":\"AAAAAAAAAAAAAAAAAAAAAAAAAAAAAAAAAAAAAAAAAAAAAAAAAAAAAAAAAAAAAAAAAAAAAAAAAAAAAAAAAAAAAAAAAAAAAAAAAAAAAAAAAAAAAAAAAAAAAAAAAAAAAAAAAAAAAAAAAAAAAAAAAAAAAAAAAAAAAAAAAAAAAAAAAAAAAAAAAAAAAAAAAAAAAAAAAAAAAAAAAAAAAAAAAAAAAAAAAAAAAAAAAAAAAAAAAAAAAAAAAAAAAAAAAAAAAAAAAAAAAAAAAAAAAAAAAAAAAAAAAAAAAAAAAAAAAAAAAAAAAAAAAAAAAAAAAAAAAAAAAAAAAAAAAAAAAAAAAAAAAAAAAAAAAAAAAAAAAAAAAAAAAAAAAAAAAAAAAAAAAAAAAAAAAAAAAAAAAAAAAAAAAAAAAAAAAAAAAAAAAAAAAAAAAAAAAAAAAAAAAAAAAAAAAAAAAAAAAAAAAAAAAAAAAAAAAAAAAAAAAAAAAAAAAAAAAAAAAAAAAAAAAAAAAAAAAAAAAAAAAAAAAAAAAAAAAAAAAAAAAAAAAAAAAAAAAAAAAAAAAAAAAAAAAAAAAAAAAAAAAAAAAAAAAAAAAAAAAAAAAAAAAAAAAAAAAAAAAAAAAAAAAAAAAAAAAAAAAAAAAAAAAAAAAAAAAAAAAAAAAAAAAAAAAAAAAAAAAAAAAAAAAAAAAAAAAAAAAAAAAAAAAAAAAAAAAAAAAAAAAAAAAAAAAAAAAAAAAAAAAAAAAAAAAAAAAAAAAAAAAAAAAAAAAAAAAAAAAAAAAAAAAAAAAAAAAAAAAAAAAAAAAAAAAAAAAAAAAAAAAAAAAAAAAAAAAAAAAAAAAAAAAAAAAAAAAAAAAAAAAAAAAAAAAAAAAAAAAAAAAAAAAAAAAAAAAAAAAAAAAAAAAAAAAAAAAAAAAAAAAAAAAAAAAAAAAAAAAAAAAAAAAAAAAAAAAAAAAAAAAAAAAAAAAAAAAAAAAAAAAAAAAAAAAAAAAAAAAAAAAAAAAAAAAAAAAAAAAAAAAAAAAAAAAAAAAAAAAAAAAAAAAAAAAAAAAAAAAAAAAAAAAADbl4w1GzhhPmKVPuJOrW0+Sfa7JcrjeD493yR0jFGEPiZGHeqVJZA+THZoZm38mD7cs9gPQNOiPrMfoaT8oKs+zgwGl5DAsz6U1XVHwoW7Pp5gURFiscI+j7G/0cHDyD530KXd8AHQPh9z98HlNNQ+iL/0/uTs2D4P/hP1ihLePvdJXF1Zw+E+ZU1QDsaS5D54ZVffRmXnPnVhHltJKuo+5w74fazU7D7vDYxZ1lvvPtoCL6T03fA+ytstmYr68T61XG3tGwXzPgbHo+mU//M+UvW8HJTr9D57SWkT4Mn1Pj5qnjQ9mvY+OjZkq6db9z6OTH1G2Qz4Phd/Vl3urPg+nOHLvvQ7+T5IQaNwNrv5PmXnw3YlLfo+dhABcOiU+j5g7iREovX6Pi1eK1aiUfs+sfJ8xbGp+z6lJnS5q/z7PuFkl5t8R/w+L45dl4uF/D66zPs2ebH8PpzFxaoLxvw+C5yRWhm//D6a1dH1RZr8PoMw/V9zV/w+L4q7VNr4+z5HjDZD0YL7Pikt8gxW+/o+HabpMXZp+j5duX//r9T5Pk2dr0RgRPk+VOmAC0a/+D4ZYYCJHEv4Pt1qQeZF7Pc+PDDaNIGl9z7Q2qu/qnf3PvZaWW+NYfc+8l/US9Nf9z4/xYlAJm33PvJm0MmOgvc+pMhaaxOY9z5y+TTJi6X3Pob/+1KJo/c+ixS1NCuM9z50RtG0sFv3PqJPq+imEPc+N9NEr6Or9j5DteNdmy72PvD+CRL5m/U+EeB3WrP19D4H5o4amjz0Pt4I6XYNcPM+i9aESTOO8j6S3Q8SoJTxPrEBVHlKgfA+UeBUzhqn7j4UiOB+8hnsPhcgv/GCY+k+uNjvrFiR5j5PLfIWELXjPprGnVuG4uA+VotKJF9b3D5qtvDD9VDXPrvT9e4+wtI+6V3uQzeEzT7wOlemaLLGPh5dS/VBDcE+c0VK/kEGuT49bnOgB+6xPq96nbUQFak+a1OS76gfoT4+V2F8EdGWPls29Qkfqo0+XtWkJynQgj4pqGMh3UZ3PjMHmsTLFmw+Bm49xBqHYD7UKhjPEvdSPg==\"},\"shape\":[200],\"dtype\":\"float64\",\"order\":\"little\"}]]}}},\"view\":{\"type\":\"object\",\"name\":\"CDSView\",\"id\":\"p1655\",\"attributes\":{\"filter\":{\"type\":\"object\",\"name\":\"AllIndices\",\"id\":\"p1656\"}}},\"glyph\":{\"type\":\"object\",\"name\":\"Patch\",\"id\":\"p1651\",\"attributes\":{\"tags\":[\"apply_ranges\"],\"x\":{\"type\":\"field\",\"field\":\"x\"},\"y\":{\"type\":\"field\",\"field\":\"y\"},\"fill_color\":\"#30a2da\",\"fill_alpha\":0.5,\"hatch_color\":\"#30a2da\"}},\"selection_glyph\":{\"type\":\"object\",\"name\":\"Patch\",\"id\":\"p1657\",\"attributes\":{\"tags\":[\"apply_ranges\"],\"x\":{\"type\":\"field\",\"field\":\"x\"},\"y\":{\"type\":\"field\",\"field\":\"y\"},\"fill_color\":\"#30a2da\",\"fill_alpha\":0.5,\"hatch_color\":\"#30a2da\"}},\"nonselection_glyph\":{\"type\":\"object\",\"name\":\"Patch\",\"id\":\"p1652\",\"attributes\":{\"tags\":[\"apply_ranges\"],\"x\":{\"type\":\"field\",\"field\":\"x\"},\"y\":{\"type\":\"field\",\"field\":\"y\"},\"line_alpha\":1,\"fill_color\":\"#30a2da\",\"fill_alpha\":0.5,\"hatch_color\":\"#30a2da\",\"hatch_alpha\":0.1}},\"muted_glyph\":{\"type\":\"object\",\"name\":\"Patch\",\"id\":\"p1653\",\"attributes\":{\"tags\":[\"apply_ranges\"],\"x\":{\"type\":\"field\",\"field\":\"x\"},\"y\":{\"type\":\"field\",\"field\":\"y\"},\"line_alpha\":0.2,\"fill_color\":\"#30a2da\",\"fill_alpha\":0.2,\"hatch_color\":\"#30a2da\",\"hatch_alpha\":0.2}}}}],\"tooltips\":[[\"sales\",\"@{sales}\"],[\"Density\",\"@{sales_density}\"]]}},{\"type\":\"object\",\"name\":\"HoverTool\",\"id\":\"p1662\",\"attributes\":{\"tags\":[\"hv_created\"],\"renderers\":[{\"type\":\"object\",\"name\":\"GlyphRenderer\",\"id\":\"p1703\",\"attributes\":{\"data_source\":{\"type\":\"object\",\"name\":\"ColumnDataSource\",\"id\":\"p1694\",\"attributes\":{\"selected\":{\"type\":\"object\",\"name\":\"Selection\",\"id\":\"p1695\",\"attributes\":{\"indices\":[],\"line_indices\":[]}},\"selection_policy\":{\"type\":\"object\",\"name\":\"UnionRenderers\",\"id\":\"p1696\"},\"data\":{\"type\":\"map\",\"entries\":[[\"x\",{\"type\":\"ndarray\",\"array\":{\"type\":\"bytes\",\"data\":\"6MKYjX/1wcBoCDeoDrDAwNGbqoU71b7A0ibnullKvMDSsSPwd7+5wNI8YCWWNLfA08ecWrSptMDUUtmP0h6ywKi7K4rhJ6/AqNGk9B0SqsCq5x1fWvykwFj7LZMtzZ/AWCcgaKahlcCwpiR6PuyGwAD2RyCBqVTAQKkSMt7BgUCgKBdEdgyTQKD8JG/9N51AUGgZTcKxo0BMUqDihceoQEw8J3hJ3a1AJhPXhoZ5sUAkiJpRaAS0QCT9XRxKj7ZAJHIh5ysauUAk5+SxDaW7QCRcqHzvL75Akui1o2hdwEAQoxeJ2aLBQJBdeW5K6MJAEBjbU7stxECQ0jw5LHPFQBCNnh6duMZAkEcABA7+x0AQAmLpfkPJQJC8w87viMpAEHcltGDOy0COMYeZ0RPNQA7s6H5CWc5AjqZKZLOez0CHMNYkEnLQQMcNh5fKFNFAB+s3CoO30UBHyOh8O1rSQIalme/z/NJAxoJKYqyf00AGYPvUZELUQEY9rEcd5dRAhhpdutWH1UDG9w0tjirWQAbVvp9GzdZARrJvEv9v10CGjyCFtxLYQMZs0fdvtdhABkqCaihY2UBGJzPd4PrZQIQE5E+ZndpAxOGUwlFA20AEv0U1CuPbQESc9qfChdxAhHmnGnso3UDEVliNM8vdQAQ0CQDsbd5ARBG6cqQQ30CE7mrlXLPfQOLlDawKK+BAglRm5WZ84EAiw74ew83gQMIxF1gfH+FAYqBvkXtw4UACD8jK18HhQKJ9IAQ0E+JAQux4PZBk4kDhWtF27LXiQIHJKbBIB+NAITiC6aRY40DBptoiAarjQGEVM1xd++NAAYSLlblM5ECh8uPOFZ7kQEFhPAhy7+RA4c+UQc5A5UCBPu16KpLlQCGtRbSG4+VAwRue7eI05kBhivYmP4bmQAH5TmCb1+ZAoWenmfco50BA1v/SU3rnQOBEWAywy+dAgLOwRQwd6EAgIgl/aG7oQMCQYbjEv+hAYP+58SAR6UAAbhIrfWLpQKDcamTZs+lAQEvDnTUF6kDguRvXkVbqQIAodBDup+pAIJfMSUr56kAgl8xJSvnqQIAodBDup+pA4Lkb15FW6kBAS8OdNQXqQKDcamTZs+lAAG4SK31i6UBg/7nxIBHpQMCQYbjEv+hAICIJf2hu6ECAs7BFDB3oQOBEWAywy+dAQNb/0lN650ChZ6eZ9yjnQAH5TmCb1+ZAYYr2Jj+G5kDBG57t4jTmQCGtRbSG4+VAgT7teiqS5UDhz5RBzkDlQEFhPAhy7+RAofLjzhWe5EABhIuVuUzkQGEVM1xd++NAwabaIgGq40AhOILppFjjQIHJKbBIB+NA4VrRduy14kBC7Hg9kGTiQKJ9IAQ0E+JAAg/IytfB4UBioG+Re3DhQMIxF1gfH+FAIsO+HsPN4ECCVGblZnzgQOLlDawKK+BAhO5q5Vyz30BEEbpypBDfQAQ0CQDsbd5AxFZYjTPL3UCEeacaeyjdQESc9qfChdxABL9FNQrj20DE4ZTCUUDbQIQE5E+ZndpARicz3eD62UAGSoJqKFjZQMZs0fdvtdhAho8ghbcS2EBGsm8S/2/XQAbVvp9GzdZAxvcNLY4q1kCGGl261YfVQEY9rEcd5dRABmD71GRC1EDGgkpirJ/TQIalme/z/NJAR8jofDta0kAH6zcKg7fRQMcNh5fKFNFAhzDWJBJy0ECOpkpks57PQA7s6H5CWc5AjjGHmdETzUAQdyW0YM7LQJC8w87viMpAEAJi6X5DyUCQRwAEDv7HQBCNnh6duMZAkNI8OSxzxUAQGNtTuy3EQJBdeW5K6MJAEKMXidmiwUCS6LWjaF3AQCRcqHzvL75AJOfksQ2lu0AkciHnKxq5QCT9XRxKj7ZAJIiaUWgEtEAmE9eGhnmxQEw8J3hJ3a1ATFKg4oXHqEBQaBlNwrGjQKD8JG/9N51AoCgXRHYMk0BAqRIy3sGBQAD2RyCBqVTAsKYkej7shsBYJyBopqGVwFj7LZMtzZ/AqucdX1r8pMCo0aT0HRKqwKi7K4rhJ6/A1FLZj9IessDTx5xatKm0wNI8YCWWNLfA0rEj8He/ucDSJue6WUq8wNGbqoU71b7AaAg3qA6wwMDowpiNf/XBwA==\"},\"shape\":[200],\"dtype\":\"float64\",\"order\":\"little\"}],[\"y\",{\"type\":\"ndarray\",\"array\":{\"type\":\"bytes\",\"data\":\"AAAAAAAAAAAAAAAAAAAAAAAAAAAAAAAAAAAAAAAAAAAAAAAAAAAAAAAAAAAAAAAAAAAAAAAAAAAAAAAAAAAAAAAAAAAAAAAAAAAAAAAAAAAAAAAAAAAAAAAAAAAAAAAAAAAAAAAAAAAAAAAAAAAAAAAAAAAAAAAAAAAAAAAAAAAAAAAAAAAAAAAAAAAAAAAAAAAAAAAAAAAAAAAAAAAAAAAAAAAAAAAAAAAAAAAAAAAAAAAAAAAAAAAAAAAAAAAAAAAAAAAAAAAAAAAAAAAAAAAAAAAAAAAAAAAAAAAAAAAAAAAAAAAAAAAAAAAAAAAAAAAAAAAAAAAAAAAAAAAAAAAAAAAAAAAAAAAAAAAAAAAAAAAAAAAAAAAAAAAAAAAAAAAAAAAAAAAAAAAAAAAAAAAAAAAAAAAAAAAAAAAAAAAAAAAAAAAAAAAAAAAAAAAAAAAAAAAAAAAAAAAAAAAAAAAAAAAAAAAAAAAAAAAAAAAAAAAAAAAAAAAAAAAAAAAAAAAAAAAAAAAAAAAAAAAAAAAAAAAAAAAAAAAAAAAAAAAAAAAAAAAAAAAAAAAAAAAAAAAAAAAAAAAAAAAAAAAAAAAAAAAAAAAAAAAAAAAAAAAAAAAAAAAAAAAAAAAAAAAAAAAAAAAAAAAAAAAAAAAAAAAAAAAAAAAAAAAAAAAAAAAAAAAAAAAAAAAAAAAAAAAAAAAAAAAAAAAAAAAAAAAAAAAAAAAAAAAAAAAAAAAAAAAAAAAAAAAAAAAAAAAAAAAAAAAAAAAAAAAAAAAAAAAAAAAAAAAAAAAAAAAAAAAAAAAAAAAAAAAAAAAAAAAAAAAAAAAAAAAAAAAAAAAAAAAAAAAAAAAAAAAAAAAAAAAAAAAAAAAAAAAAAAAAAAAAAAAAAAAAAAAAAAAAAAAAAAAAAAAAAAAAAAAAAAAAAAAAAAAAAAAAAAAAAAAAAAAAAAAAAAAAAAAAAAAAAAAAAAAAAAAAAAAAAAAAAAAAAAAAAAAAAAAAAAAAAAAAAAAAAAAAAAAAAAAAAAAAAAAAAAAAAAAAAAAAAAAAAAAAAAAAAAD9Hs0Gmj1WPqY449SbnWQ+nt7m/gl/cj4UHhZsBBGAPsQpCFECCIs+L8gAIpYHlj62WNTgRmahPs2THCsKpqo+88h/RbjLsz5OtEvcoou8PnPWx10h/cM+iXq5jEo1yz6CEmNzOAPSPlmKMAKZONc+/U0P91ct3T4e8DfJ8+LhPuMvHBoDbeU+6pWNh+Mb6T4gfQxN2dPsPrVZe0tRPPA+wIy3A8X38T7WcUKFhZDzPrvFNfr3/PQ+as+UCP019j5E4M3kHTf3Pu15Y5im/vc+PHDEObeN+D7NT+mtRuj4PhNQ3TYFFfk+Kx5vfQkd+T5R2TndOQv5PpLGNORy6/g+92pugn3J+D5S0r0v9a/4PpeYZzhEp/g+Sx+1ntm0+D7JrM6tstr4Pvl72/hFF/k+iSweHdFl+T5aFwG0/775Puqs33bYGfo+Tr72Q9Vs+j5DN2jqA6/6PoSquDEK2fo+df9y++nl+j5/nYVCbNP6PkeIEDkqovo+X0P37j5V+j4JKjTuu/H5Pry4dMsCfvk+2Al7lSIB+T7+zDhzTIL4Ply1mzRkCPg+rATrhaaZ9z7FZ7gKWzv3PrjNwwGN8fY+Q7LoiM2+9j660pXXCaT2PrF60aeBoPY+AvKRcuWx9j7J8Bk8m9T2PnOSTFQfBPc+3cjPQHA79z7mJFnRc3X3Pg+RYMlGrfc+vPb5yW7e9z4A8BsW7QT4Pm0WP8Q2Hfg+KQOZDRsk+D4mvJZfohb4PiZjV6bw8fc+lAngOzOz9z5boJaZn1f3PgL4uFKE3PY+f4arIGs/9j7+BRCqSX71Pp+pWAa/l/Q+Bu/Mk1yL8z4VNY6u91nyPhBQqdn9BfE+Gk/AiHwn7z7ARWh0KRPsPsZuXNG93+g+n2rtLVKh5T5Zg4pOGG7iPn5TPkEmud4+3fy/AhUD2T6Ra3/9KNzTPhh8rgZCuM4+WQS5U2kdxz7EYOO8R+fAPliG2LcxAbg+JKeB5VSJsD4rDjYntBamPq7kGH+Jlpw+NcY3MlvqkT6tkNfZN7yFPgizfrbSg3k+At34Hb34bD44FgXcjs9fPg==\"},\"shape\":[200],\"dtype\":\"float64\",\"order\":\"little\"}]]}}},\"view\":{\"type\":\"object\",\"name\":\"CDSView\",\"id\":\"p1704\",\"attributes\":{\"filter\":{\"type\":\"object\",\"name\":\"AllIndices\",\"id\":\"p1705\"}}},\"glyph\":{\"type\":\"object\",\"name\":\"Patch\",\"id\":\"p1700\",\"attributes\":{\"tags\":[\"apply_ranges\"],\"x\":{\"type\":\"field\",\"field\":\"x\"},\"y\":{\"type\":\"field\",\"field\":\"y\"},\"fill_color\":\"#30a2da\",\"fill_alpha\":0.5,\"hatch_color\":\"#30a2da\"}},\"selection_glyph\":{\"type\":\"object\",\"name\":\"Patch\",\"id\":\"p1706\",\"attributes\":{\"tags\":[\"apply_ranges\"],\"x\":{\"type\":\"field\",\"field\":\"x\"},\"y\":{\"type\":\"field\",\"field\":\"y\"},\"fill_color\":\"#30a2da\",\"fill_alpha\":0.5,\"hatch_color\":\"#30a2da\"}},\"nonselection_glyph\":{\"type\":\"object\",\"name\":\"Patch\",\"id\":\"p1701\",\"attributes\":{\"tags\":[\"apply_ranges\"],\"x\":{\"type\":\"field\",\"field\":\"x\"},\"y\":{\"type\":\"field\",\"field\":\"y\"},\"line_alpha\":1,\"fill_color\":\"#30a2da\",\"fill_alpha\":0.5,\"hatch_color\":\"#30a2da\",\"hatch_alpha\":0.1}},\"muted_glyph\":{\"type\":\"object\",\"name\":\"Patch\",\"id\":\"p1702\",\"attributes\":{\"tags\":[\"apply_ranges\"],\"x\":{\"type\":\"field\",\"field\":\"x\"},\"y\":{\"type\":\"field\",\"field\":\"y\"},\"line_alpha\":0.2,\"fill_color\":\"#30a2da\",\"fill_alpha\":0.2,\"hatch_color\":\"#30a2da\",\"hatch_alpha\":0.2}}}}],\"tooltips\":[[\"sales\",\"@{sales}\"],[\"Density\",\"@{sales_density}\"]]}},{\"type\":\"object\",\"name\":\"HoverTool\",\"id\":\"p1711\",\"attributes\":{\"tags\":[\"hv_created\"],\"renderers\":[{\"type\":\"object\",\"name\":\"GlyphRenderer\",\"id\":\"p1752\",\"attributes\":{\"data_source\":{\"type\":\"object\",\"name\":\"ColumnDataSource\",\"id\":\"p1743\",\"attributes\":{\"selected\":{\"type\":\"object\",\"name\":\"Selection\",\"id\":\"p1744\",\"attributes\":{\"indices\":[],\"line_indices\":[]}},\"selection_policy\":{\"type\":\"object\",\"name\":\"UnionRenderers\",\"id\":\"p1745\"},\"data\":{\"type\":\"map\",\"entries\":[[\"x\",{\"type\":\"ndarray\",\"array\":{\"type\":\"bytes\",\"data\":\"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\"},\"shape\":[200],\"dtype\":\"float64\",\"order\":\"little\"}],[\"y\",{\"type\":\"ndarray\",\"array\":{\"type\":\"bytes\",\"data\":\"AAAAAAAAAAAAAAAAAAAAAAAAAAAAAAAAAAAAAAAAAAAAAAAAAAAAAAAAAAAAAAAAAAAAAAAAAAAAAAAAAAAAAAAAAAAAAAAAAAAAAAAAAAAAAAAAAAAAAAAAAAAAAAAAAAAAAAAAAAAAAAAAAAAAAAAAAAAAAAAAAAAAAAAAAAAAAAAAAAAAAAAAAAAAAAAAAAAAAAAAAAAAAAAAAAAAAAAAAAAAAAAAAAAAAAAAAAAAAAAAAAAAAAAAAAAAAAAAAAAAAAAAAAAAAAAAAAAAAAAAAAAAAAAAAAAAAAAAAAAAAAAAAAAAAAAAAAAAAAAAAAAAAAAAAAAAAAAAAAAAAAAAAAAAAAAAAAAAAAAAAAAAAAAAAAAAAAAAAAAAAAAAAAAAAAAAAAAAAAAAAAAAAAAAAAAAAAAAAAAAAAAAAAAAAAAAAAAAAAAAAAAAAAAAAAAAAAAAAAAAAAAAAAAAAAAAAAAAAAAAAAAAAAAAAAAAAAAAAAAAAAAAAAAAAAAAAAAAAAAAAAAAAAAAAAAAAAAAAAAAAAAAAAAAAAAAAAAAAAAAAAAAAAAAAAAAAAAAAAAAAAAAAAAAAAAAAAAAAAAAAAAAAAAAAAAAAAAAAAAAAAAAAAAAAAAAAAAAAAAAAAAAAAAAAAAAAAAAAAAAAAAAAAAAAAAAAAAAAAAAAAAAAAAAAAAAAAAAAAAAAAAAAAAAAAAAAAAAAAAAAAAAAAAAAAAAAAAAAAAAAAAAAAAAAAAAAAAAAAAAAAAAAAAAAAAAAAAAAAAAAAAAAAAAAAAAAAAAAAAAAAAAAAAAAAAAAAAAAAAAAAAAAAAAAAAAAAAAAAAAAAAAAAAAAAAAAAAAAAAAAAAAAAAAAAAAAAAAAAAAAAAAAAAAAAAAAAAAAAAAAAAAAAAAAAAAAAAAAAAAAAAAAAAAAAAAAAAAAAAAAAAAAAAAAAAAAAAAAAAAAAAAAAAAAAAAAAAAAAAAAAAAAAAAAAAAAAAAAAAAAAAAAAAAAAAAAAAAAAAAAAAAAAAAAAAAAAAAAAAAAAAAAAAAAAAAAAAAAAAAAAAAAAAxzoFsBVxsPixmlhMzynU+awgTkzRzgD6VL2nn3WeIPvFot6Z6ypE+bRBdn5B9mT594UMIjvKhPn7l0AJU16g+H94a/CbmsD44lhJUjZq2Pvm9+PgDur0+ourJB684wz4TksAfaXLIPo/Mm0e0lc4+EcA386TS0j6QcSvToMzWPtTOJGvwLts+oBeyBarp3z4ISlMWoXPiPp6EGgDHBuU+R/lCM6qf5z4cgx1hKC/qPqjNjn27puw+jdt7UZ357j7UAN4w5Y7wPk3FyM5hhvE+HtkOc/ph8j5OXI6uWCLzPj4UewTiyfM+QsU721Bc9D6k3szsKt70PuYmsr4mVPU+mOOLz5PC9T7jyuJ62Cz2PnCirTcVlfY+SPORXvf79j5ebRz2vmD3PqtUyyd0wfc++zSv+kIb+D4ZzVWO72r4Plf6UtBSrfg+UTATqM/f+D6K8pmfsgD5PhRasKhxD/k+XhIPI8YM+T6JZaoQoPr4PvUqStz12/g+wN7Eyne0+D7rJabYMIj4PmB4QEIgW/g+3u7wPNcw+D4yiFiKJQz4PhbbUaPd7vc+GjlBZ7bZ9z69kg69TMz3PouAP7RDxfc+gaiA3X3C9z7AY0Q9Z8H3Pu+yaelEv/c+Qk3HhH659z4BEMao1q33PkYIWe6Jmvc+x/UTaFB+9z7MSfBtQlj3Pr51BMymJ/c+NhgO0LTr9j73WL18V6P2Pju+Srb/TPY+tmltSpHm9T5/+YR6cm31PjU0NNC/3vQ+cwYLgp839D44hbaxqXXzPsIb+nNWl/I+Zn/7sWCc8T6NGY/tDYbwPkX1kkKdru4+aLjnY2Ep7D6sQ0xWSIjpPgPsszcy2eY+L51oeAUr5D4iM1d+nozhPoejEqqRF94+WooCY71o2T6F+7uFSB/VPpdyJFLVR9E+IJAkBPHRyz4mQT2UKwfGPvTJ8gdIJ8E+JJVi1tREuj5dUE2OdMazPhtiP9alRK0+xUuRk/5JpT4nfUiUPHCePnY5wA1qYpU+jcy/ucWGjT6QiPppnQeEPjVY729ts3o+LIfOEVB8cT5Eaegz+H9mPg==\"},\"shape\":[200],\"dtype\":\"float64\",\"order\":\"little\"}]]}}},\"view\":{\"type\":\"object\",\"name\":\"CDSView\",\"id\":\"p1753\",\"attributes\":{\"filter\":{\"type\":\"object\",\"name\":\"AllIndices\",\"id\":\"p1754\"}}},\"glyph\":{\"type\":\"object\",\"name\":\"Patch\",\"id\":\"p1749\",\"attributes\":{\"tags\":[\"apply_ranges\"],\"x\":{\"type\":\"field\",\"field\":\"x\"},\"y\":{\"type\":\"field\",\"field\":\"y\"},\"fill_color\":\"#30a2da\",\"fill_alpha\":0.5,\"hatch_color\":\"#30a2da\"}},\"selection_glyph\":{\"type\":\"object\",\"name\":\"Patch\",\"id\":\"p1755\",\"attributes\":{\"tags\":[\"apply_ranges\"],\"x\":{\"type\":\"field\",\"field\":\"x\"},\"y\":{\"type\":\"field\",\"field\":\"y\"},\"fill_color\":\"#30a2da\",\"fill_alpha\":0.5,\"hatch_color\":\"#30a2da\"}},\"nonselection_glyph\":{\"type\":\"object\",\"name\":\"Patch\",\"id\":\"p1750\",\"attributes\":{\"tags\":[\"apply_ranges\"],\"x\":{\"type\":\"field\",\"field\":\"x\"},\"y\":{\"type\":\"field\",\"field\":\"y\"},\"line_alpha\":1,\"fill_color\":\"#30a2da\",\"fill_alpha\":0.5,\"hatch_color\":\"#30a2da\",\"hatch_alpha\":0.1}},\"muted_glyph\":{\"type\":\"object\",\"name\":\"Patch\",\"id\":\"p1751\",\"attributes\":{\"tags\":[\"apply_ranges\"],\"x\":{\"type\":\"field\",\"field\":\"x\"},\"y\":{\"type\":\"field\",\"field\":\"y\"},\"line_alpha\":0.2,\"fill_color\":\"#30a2da\",\"fill_alpha\":0.2,\"hatch_color\":\"#30a2da\",\"hatch_alpha\":0.2}}}}],\"tooltips\":[[\"sales\",\"@{sales}\"],[\"Density\",\"@{sales_density}\"]]}},{\"type\":\"object\",\"name\":\"HoverTool\",\"id\":\"p1760\",\"attributes\":{\"tags\":[\"hv_created\"],\"renderers\":[{\"type\":\"object\",\"name\":\"GlyphRenderer\",\"id\":\"p1801\",\"attributes\":{\"data_source\":{\"type\":\"object\",\"name\":\"ColumnDataSource\",\"id\":\"p1792\",\"attributes\":{\"selected\":{\"type\":\"object\",\"name\":\"Selection\",\"id\":\"p1793\",\"attributes\":{\"indices\":[],\"line_indices\":[]}},\"selection_policy\":{\"type\":\"object\",\"name\":\"UnionRenderers\",\"id\":\"p1794\"},\"data\":{\"type\":\"map\",\"entries\":[[\"x\",{\"type\":\"ndarray\",\"array\":{\"type\":\"bytes\",\"data\":\"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\"},\"shape\":[200],\"dtype\":\"float64\",\"order\":\"little\"}],[\"y\",{\"type\":\"ndarray\",\"array\":{\"type\":\"bytes\",\"data\":\"AAAAAAAAAAAAAAAAAAAAAAAAAAAAAAAAAAAAAAAAAAAAAAAAAAAAAAAAAAAAAAAAAAAAAAAAAAAAAAAAAAAAAAAAAAAAAAAAAAAAAAAAAAAAAAAAAAAAAAAAAAAAAAAAAAAAAAAAAAAAAAAAAAAAAAAAAAAAAAAAAAAAAAAAAAAAAAAAAAAAAAAAAAAAAAAAAAAAAAAAAAAAAAAAAAAAAAAAAAAAAAAAAAAAAAAAAAAAAAAAAAAAAAAAAAAAAAAAAAAAAAAAAAAAAAAAAAAAAAAAAAAAAAAAAAAAAAAAAAAAAAAAAAAAAAAAAAAAAAAAAAAAAAAAAAAAAAAAAAAAAAAAAAAAAAAAAAAAAAAAAAAAAAAAAAAAAAAAAAAAAAAAAAAAAAAAAAAAAAAAAAAAAAAAAAAAAAAAAAAAAAAAAAAAAAAAAAAAAAAAAAAAAAAAAAAAAAAAAAAAAAAAAAAAAAAAAAAAAAAAAAAAAAAAAAAAAAAAAAAAAAAAAAAAAAAAAAAAAAAAAAAAAAAAAAAAAAAAAAAAAAAAAAAAAAAAAAAAAAAAAAAAAAAAAAAAAAAAAAAAAAAAAAAAAAAAAAAAAAAAAAAAAAAAAAAAAAAAAAAAAAAAAAAAAAAAAAAAAAAAAAAAAAAAAAAAAAAAAAAAAAAAAAAAAAAAAAAAAAAAAAAAAAAAAAAAAAAAAAAAAAAAAAAAAAAAAAAAAAAAAAAAAAAAAAAAAAAAAAAAAAAAAAAAAAAAAAAAAAAAAAAAAAAAAAAAAAAAAAAAAAAAAAAAAAAAAAAAAAAAAAAAAAAAAAAAAAAAAAAAAAAAAAAAAAAAAAAAAAAAAAAAAAAAAAAAAAAAAAAAAAAAAAAAAAAAAAAAAAAAAAAAAAAAAAAAAAAAAAAAAAAAAAAAAAAAAAAAAAAAAAAAAAAAAAAAAAAAAAAAAAAAAAAAAAAAAAAAAAAAAAAAAAAAAAAAAAAAAAAAAAAAAAAAAAAAAAAAAAAAAAAAAAAAAAAAAAAAAAAAAAAAAAAAAAAAAAAAAAAAAAAAAAAAAAAAAAAAAAAAAAAAAACipMq+tPNdPuEgV4omVGk+5MNWcG/ldD6Sx32rntKAPqXvR5xicIo+k5TydAVJlD5XWVRL3GaePu1Cuq8fQqY+b77uRezarz4fKJS50km2Pp2EbS10gr4+ZojKxKJvxD7osWv3es7KPp6fqWRtOdE+J0h56pey1T4fhYqXP8/aPpMsfI+wQeA+UlCBxCtd4z6MbwS3w6vmPjJiy4XjG+o+SWTzIq+Z7T45CmlHGYjwPpV5cjxPNfI+9KD+ubjK8z73pz3BuT/1PkYHLgw6jfY+8qLyDuOt9z4r03GZP574PjAy+6TCXPk++O98Yrvp+T4L8I0LO0f6Phn5bzTuePo+y9LRpeiD+j6qwaRIYW76PgpG5ClcP/o+abUbH0P++T7ZEsh6cbL5PjfVQGW7Yvk+oFfgivwU+T6z0E/cus34Pv1tNqfoj/g+4jXwlc1c+D7j67kJGTT4PtL7rPEaFPg+zU9K1Rv69z4/FMX0yeL3PkbhGECwyvc+xZcTEKyu9z5neBNbV4z3Pqha9gleYvc+6GAM+bUw9z6HNm5xsvj2PmByjCjuvPY+GN47pQqB9j5IouxWSUn2PpiJVQAJGvY+e95T7zf39T4iGwsqz+P1PmkCI9dq4fU+WF/gHRDw9T6UlbELKQ72PuYZyzu1OPY+WbZmK6Rr9j7N7Z1+RqL2PjN2ja2/1/Y+A5KadWIH9z7sC5fd5yz3PiOrNJd5RPc+8obRVZNK9z7zx/AtyTv3PvGZLPmIFPc+TUIcFfDQ9j6qLuZbzGz2PhtfssnW4/U+unnIKSky9T51sCsD4VT0PrDO5lXUSvM+xQx1JTQV8j42WWzt97fwPjj2X5bpc+4+RUYIESRJ6z5KYe/3PgboPj0E9QLJw+Q+lCQIrRea4T5CiqahWT7dPjtTyq7wydc+Ey4Wb17w0j7f3cbIS3/NPnh7e6STdcY+X99uBJm2wD6FwbZCoU24Pjxh60VYQrE+6m0wngPwpz5ihssL4DSgPof3WY6ia5U+9xgBHHGhiz7Mn3pkp2OBPoY4dfXlWnU+OPTqxXWVaT4bynaqluVdPg==\"},\"shape\":[200],\"dtype\":\"float64\",\"order\":\"little\"}]]}}},\"view\":{\"type\":\"object\",\"name\":\"CDSView\",\"id\":\"p1802\",\"attributes\":{\"filter\":{\"type\":\"object\",\"name\":\"AllIndices\",\"id\":\"p1803\"}}},\"glyph\":{\"type\":\"object\",\"name\":\"Patch\",\"id\":\"p1798\",\"attributes\":{\"tags\":[\"apply_ranges\"],\"x\":{\"type\":\"field\",\"field\":\"x\"},\"y\":{\"type\":\"field\",\"field\":\"y\"},\"fill_color\":\"#30a2da\",\"fill_alpha\":0.5,\"hatch_color\":\"#30a2da\"}},\"selection_glyph\":{\"type\":\"object\",\"name\":\"Patch\",\"id\":\"p1804\",\"attributes\":{\"tags\":[\"apply_ranges\"],\"x\":{\"type\":\"field\",\"field\":\"x\"},\"y\":{\"type\":\"field\",\"field\":\"y\"},\"fill_color\":\"#30a2da\",\"fill_alpha\":0.5,\"hatch_color\":\"#30a2da\"}},\"nonselection_glyph\":{\"type\":\"object\",\"name\":\"Patch\",\"id\":\"p1799\",\"attributes\":{\"tags\":[\"apply_ranges\"],\"x\":{\"type\":\"field\",\"field\":\"x\"},\"y\":{\"type\":\"field\",\"field\":\"y\"},\"line_alpha\":1,\"fill_color\":\"#30a2da\",\"fill_alpha\":0.5,\"hatch_color\":\"#30a2da\",\"hatch_alpha\":0.1}},\"muted_glyph\":{\"type\":\"object\",\"name\":\"Patch\",\"id\":\"p1800\",\"attributes\":{\"tags\":[\"apply_ranges\"],\"x\":{\"type\":\"field\",\"field\":\"x\"},\"y\":{\"type\":\"field\",\"field\":\"y\"},\"line_alpha\":0.2,\"fill_color\":\"#30a2da\",\"fill_alpha\":0.2,\"hatch_color\":\"#30a2da\",\"hatch_alpha\":0.2}}}}],\"tooltips\":[[\"sales\",\"@{sales}\"],[\"Density\",\"@{sales_density}\"]]}},{\"type\":\"object\",\"name\":\"HoverTool\",\"id\":\"p1809\",\"attributes\":{\"tags\":[\"hv_created\"],\"renderers\":[{\"type\":\"object\",\"name\":\"GlyphRenderer\",\"id\":\"p1850\",\"attributes\":{\"data_source\":{\"type\":\"object\",\"name\":\"ColumnDataSource\",\"id\":\"p1841\",\"attributes\":{\"selected\":{\"type\":\"object\",\"name\":\"Selection\",\"id\":\"p1842\",\"attributes\":{\"indices\":[],\"line_indices\":[]}},\"selection_policy\":{\"type\":\"object\",\"name\":\"UnionRenderers\",\"id\":\"p1843\"},\"data\":{\"type\":\"map\",\"entries\":[[\"x\",{\"type\":\"ndarray\",\"array\":{\"type\":\"bytes\",\"data\":\"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\"},\"shape\":[200],\"dtype\":\"float64\",\"order\":\"little\"}],[\"y\",{\"type\":\"ndarray\",\"array\":{\"type\":\"bytes\",\"data\":\"AAAAAAAAAAAAAAAAAAAAAAAAAAAAAAAAAAAAAAAAAAAAAAAAAAAAAAAAAAAAAAAAAAAAAAAAAAAAAAAAAAAAAAAAAAAAAAAAAAAAAAAAAAAAAAAAAAAAAAAAAAAAAAAAAAAAAAAAAAAAAAAAAAAAAAAAAAAAAAAAAAAAAAAAAAAAAAAAAAAAAAAAAAAAAAAAAAAAAAAAAAAAAAAAAAAAAAAAAAAAAAAAAAAAAAAAAAAAAAAAAAAAAAAAAAAAAAAAAAAAAAAAAAAAAAAAAAAAAAAAAAAAAAAAAAAAAAAAAAAAAAAAAAAAAAAAAAAAAAAAAAAAAAAAAAAAAAAAAAAAAAAAAAAAAAAAAAAAAAAAAAAAAAAAAAAAAAAAAAAAAAAAAAAAAAAAAAAAAAAAAAAAAAAAAAAAAAAAAAAAAAAAAAAAAAAAAAAAAAAAAAAAAAAAAAAAAAAAAAAAAAAAAAAAAAAAAAAAAAAAAAAAAAAAAAAAAAAAAAAAAAAAAAAAAAAAAAAAAAAAAAAAAAAAAAAAAAAAAAAAAAAAAAAAAAAAAAAAAAAAAAAAAAAAAAAAAAAAAAAAAAAAAAAAAAAAAAAAAAAAAAAAAAAAAAAAAAAAAAAAAAAAAAAAAAAAAAAAAAAAAAAAAAAAAAAAAAAAAAAAAAAAAAAAAAAAAAAAAAAAAAAAAAAAAAAAAAAAAAAAAAAAAAAAAAAAAAAAAAAAAAAAAAAAAAAAAAAAAAAAAAAAAAAAAAAAAAAAAAAAAAAAAAAAAAAAAAAAAAAAAAAAAAAAAAAAAAAAAAAAAAAAAAAAAAAAAAAAAAAAAAAAAAAAAAAAAAAAAAAAAAAAAAAAAAAAAAAAAAAAAAAAAAAAAAAAAAAAAAAAAAAAAAAAAAAAAAAAAAAAAAAAAAAAAAAAAAAAAAAAAAAAAAAAAAAAAAAAAAAAAAAAAAAAAAAAAAAAAAAAAAAAAAAAAAAAAAAAAAAAAAAAAAAAAAAAAAAAAAAAAAAAAAAAAAAAAAAAAAAAAAAAAAAAAAAAAAAAAAAAAAAAAAAAAAAAAAAAAAAAAAAAAAAGyxNhf+piPkYWljiULm8+OltaUIgeeT5ZIrGSt8eDPj3B1zKadI4+fpDqVgbtlj6AkBP4wOCgPjZU5rcKT6g+R5TGYp0gsT5EURSUnJ63PmvEXiKv4r8+2UZIJw8TxT4csc/LsEnLPol+/7HGT9E+Dtoh7XuI1T62z/fhEUXaPtJ+quQ1c98+7BM2JlR84j4JzOfOUVrlPuI2R/UJQeg+RaK3QDId6z50wmOSR9ztPv/ppqUCN/A+Ih1QbM5i8T4TKtsKRG3yPtgroKJwVPM+4Wy2NZ8Y9D7fdHXfD7z0PmRYBhyHQvU+QIar6caw9T6tDE5HAwz2PheP33NgWfY+kRlGqISd9j5xct5JQtz2PtzcgPJbGPc+v+aVsmFT9z7crtJ7po33PsrbNv5Mxvc+YTkFh2v79z5YfdfpRSr4PmcsguKaT/g+/qba+P9n+D5HbyNrRHD4PjCCDM/RZfg+DK8UlABH+D4m0CCYVxP4Pr8GXVqwy/c++tt6fzxy9z7r6MynbAr3PtQe4oK7mPY+sq7bS2Ii9j7YGNlm/az1Ps0brdQoPvU+OnIhxBzb9D52j6O4Uoj0PhGczm47SfQ+1R8Ongwg9D5MWwa8qw30PvMgi+e3EfQ+UsSySLEq9D466DbzN1b0PhAdIlxYkfQ+9bDBh9jY9D5fwb/+dyn1PpQU/e0VgPU+rgIlzrTZ9T7ENXdKWTP2Pjq2mAbKifY+ulAG/z3Z9j6A0cvZDR33PnW7wdZ/T/c+kVRKy8Rp9z7pv/4oNmT3PsfZKgzaNvc+GkUzeiTa9j5RY4YF30f2PqioeBQVfPU+rLQOyd119D5EhV2r3jfzPgvBe9FryPE+mmtfqjkx8D7El4SHTf3sPgSoaEtqfek+Wl5mW6//5T4eIFBwe5/iPss95RQW6d4+1fmL5tMi2T5VZB+qKwXUPpwU1ZxgOc8++d59dwnVxz4FQ1zQjczBPkxLw8ofAro+vJzgfq6Vsj49utvSzPipPhb1fE0lvqE+ng3qt42ylz4RySgCee+OPlrxZmy5u4M+0wCZebeZeD5dqPOAAPdtPg==\"},\"shape\":[200],\"dtype\":\"float64\",\"order\":\"little\"}]]}}},\"view\":{\"type\":\"object\",\"name\":\"CDSView\",\"id\":\"p1851\",\"attributes\":{\"filter\":{\"type\":\"object\",\"name\":\"AllIndices\",\"id\":\"p1852\"}}},\"glyph\":{\"type\":\"object\",\"name\":\"Patch\",\"id\":\"p1847\",\"attributes\":{\"tags\":[\"apply_ranges\"],\"x\":{\"type\":\"field\",\"field\":\"x\"},\"y\":{\"type\":\"field\",\"field\":\"y\"},\"fill_color\":\"#30a2da\",\"fill_alpha\":0.5,\"hatch_color\":\"#30a2da\"}},\"selection_glyph\":{\"type\":\"object\",\"name\":\"Patch\",\"id\":\"p1853\",\"attributes\":{\"tags\":[\"apply_ranges\"],\"x\":{\"type\":\"field\",\"field\":\"x\"},\"y\":{\"type\":\"field\",\"field\":\"y\"},\"fill_color\":\"#30a2da\",\"fill_alpha\":0.5,\"hatch_color\":\"#30a2da\"}},\"nonselection_glyph\":{\"type\":\"object\",\"name\":\"Patch\",\"id\":\"p1848\",\"attributes\":{\"tags\":[\"apply_ranges\"],\"x\":{\"type\":\"field\",\"field\":\"x\"},\"y\":{\"type\":\"field\",\"field\":\"y\"},\"line_alpha\":1,\"fill_color\":\"#30a2da\",\"fill_alpha\":0.5,\"hatch_color\":\"#30a2da\",\"hatch_alpha\":0.1}},\"muted_glyph\":{\"type\":\"object\",\"name\":\"Patch\",\"id\":\"p1849\",\"attributes\":{\"tags\":[\"apply_ranges\"],\"x\":{\"type\":\"field\",\"field\":\"x\"},\"y\":{\"type\":\"field\",\"field\":\"y\"},\"line_alpha\":0.2,\"fill_color\":\"#30a2da\",\"fill_alpha\":0.2,\"hatch_color\":\"#30a2da\",\"hatch_alpha\":0.2}}}}],\"tooltips\":[[\"sales\",\"@{sales}\"],[\"Density\",\"@{sales_density}\"]]}},{\"type\":\"object\",\"name\":\"HoverTool\",\"id\":\"p1858\",\"attributes\":{\"tags\":[\"hv_created\"],\"renderers\":[{\"type\":\"object\",\"name\":\"GlyphRenderer\",\"id\":\"p1899\",\"attributes\":{\"data_source\":{\"type\":\"object\",\"name\":\"ColumnDataSource\",\"id\":\"p1890\",\"attributes\":{\"selected\":{\"type\":\"object\",\"name\":\"Selection\",\"id\":\"p1891\",\"attributes\":{\"indices\":[],\"line_indices\":[]}},\"selection_policy\":{\"type\":\"object\",\"name\":\"UnionRenderers\",\"id\":\"p1892\"},\"data\":{\"type\":\"map\",\"entries\":[[\"x\",{\"type\":\"ndarray\",\"array\":{\"type\":\"bytes\",\"data\":\"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\"},\"shape\":[200],\"dtype\":\"float64\",\"order\":\"little\"}],[\"y\",{\"type\":\"ndarray\",\"array\":{\"type\":\"bytes\",\"data\":\"AAAAAAAAAAAAAAAAAAAAAAAAAAAAAAAAAAAAAAAAAAAAAAAAAAAAAAAAAAAAAAAAAAAAAAAAAAAAAAAAAAAAAAAAAAAAAAAAAAAAAAAAAAAAAAAAAAAAAAAAAAAAAAAAAAAAAAAAAAAAAAAAAAAAAAAAAAAAAAAAAAAAAAAAAAAAAAAAAAAAAAAAAAAAAAAAAAAAAAAAAAAAAAAAAAAAAAAAAAAAAAAAAAAAAAAAAAAAAAAAAAAAAAAAAAAAAAAAAAAAAAAAAAAAAAAAAAAAAAAAAAAAAAAAAAAAAAAAAAAAAAAAAAAAAAAAAAAAAAAAAAAAAAAAAAAAAAAAAAAAAAAAAAAAAAAAAAAAAAAAAAAAAAAAAAAAAAAAAAAAAAAAAAAAAAAAAAAAAAAAAAAAAAAAAAAAAAAAAAAAAAAAAAAAAAAAAAAAAAAAAAAAAAAAAAAAAAAAAAAAAAAAAAAAAAAAAAAAAAAAAAAAAAAAAAAAAAAAAAAAAAAAAAAAAAAAAAAAAAAAAAAAAAAAAAAAAAAAAAAAAAAAAAAAAAAAAAAAAAAAAAAAAAAAAAAAAAAAAAAAAAAAAAAAAAAAAAAAAAAAAAAAAAAAAAAAAAAAAAAAAAAAAAAAAAAAAAAAAAAAAAAAAAAAAAAAAAAAAAAAAAAAAAAAAAAAAAAAAAAAAAAAAAAAAAAAAAAAAAAAAAAAAAAAAAAAAAAAAAAAAAAAAAAAAAAAAAAAAAAAAAAAAAAAAAAAAAAAAAAAAAAAAAAAAAAAAAAAAAAAAAAAAAAAAAAAAAAAAAAAAAAAAAAAAAAAAAAAAAAAAAAAAAAAAAAAAAAAAAAAAAAAAAAAAAAAAAAAAAAAAAAAAAAAAAAAAAAAAAAAAAAAAAAAAAAAAAAAAAAAAAAAAAAAAAAAAAAAAAAAAAAAAAAAAAAAAAAAAAAAAAAAAAAAAAAAAAAAAAAAAAAAAAAAAAAAAAAAAAAAAAAAAAAAAAAAAAAAAAAAAAAAAAAAAAAAAAAAAAAAAAAAAAAAAAAAAAAAAAAAAAAAAAAAAAAAAAAAAAAAAAAAAAB7Y2wWob5gPrlIGZgDs28+KtD9eIDpfD6BQrNL7mqJPkEj8jXdi5U+NtbxTE+eoT5M8qLcYM6rPq8kgpu/L7U+j32/lfcwvz7YL8zjVzLGPpyEWIVYkM4+3G2qERxg1D5nZ4yLw1TaPhwfz6ZSguA+kXjCQQYd5D7p/B6M0dfnPjJv6tYBjOs+4vFlp3kT7z7fWU+KnSbxPvmkMBF9kPI+LtLGe4jA8z5Tx8jUTLX0Pu8zO6zxcfU+167Aoef89T7o1tbOY172PnRzxlP5nvY+tUnxiojG9j6J1VlDnNv2Pg2NGQQ04/Y+0ug3tevg9j5HnH8Ua9f2PltKvB0EyfY+R60KB2K49j4uPL9lIqn2Prz0DHQsoPY+XEocYZ6j9j6DL1S0Orr2PkHamrBe6vY+fhzyaa449z4unkRdwKb3Pn8ynTYeMvg+g1wBjeXT+D48S7xUM4H5PgHY4MNXLPo+gQinUqLG+j5PBfBzckL7Ptw/bE8qlfs+4wbJNqi4+z71vsKaBqz7Pn9e9wSJc/s+pmYyO8UX+z6cAzt7OaT6Puny8SOWJfo+C8UJFwio+T7IaxUyyjX5Pmuj028x1vg+1zIlrkuN+D4BkC5pCVz4Pi0YZ6bNQPg+d1I+nyw4+D4VjATvnz34Po7ZxeAHTPg+574X2u9d+D5edulprG34PgxXtIN+dfg+E2IVs+Zv+D5j51f3Olj4Pm2RriJrK/g+/BCZK7ro9z7QjdD0H5L3PrPy4mwRLPc+dtqhB5S89j5Szl1uuUn2PlsXStTV1/U+vZ4K8+Nn9T7OTunSifb0Pk5wO4QQfPQ+gt4mX2jt8z5jECbyEj7zPp4WIx2UYvI+1DxiEepS8T7n5ew7hwzwPrNffB3EJu0+HKBQEr/j6T4nshYON2/mPh7s21ue7uI+8kTi/w4R3z4YTz67Tb/YPvjnLkG4HdM+02cCkoibzD560VRKZLfEPk/A+kGjA70+RQoc5kqisz4PLwx1l6mpPnXlUTUVMKA+k4UoePazkz5DctJ9eyCHPvB5aYA2K3o+eioyDCuJbD44KRndg/pdPg==\"},\"shape\":[200],\"dtype\":\"float64\",\"order\":\"little\"}]]}}},\"view\":{\"type\":\"object\",\"name\":\"CDSView\",\"id\":\"p1900\",\"attributes\":{\"filter\":{\"type\":\"object\",\"name\":\"AllIndices\",\"id\":\"p1901\"}}},\"glyph\":{\"type\":\"object\",\"name\":\"Patch\",\"id\":\"p1896\",\"attributes\":{\"tags\":[\"apply_ranges\"],\"x\":{\"type\":\"field\",\"field\":\"x\"},\"y\":{\"type\":\"field\",\"field\":\"y\"},\"fill_color\":\"#30a2da\",\"fill_alpha\":0.5,\"hatch_color\":\"#30a2da\"}},\"selection_glyph\":{\"type\":\"object\",\"name\":\"Patch\",\"id\":\"p1902\",\"attributes\":{\"tags\":[\"apply_ranges\"],\"x\":{\"type\":\"field\",\"field\":\"x\"},\"y\":{\"type\":\"field\",\"field\":\"y\"},\"fill_color\":\"#30a2da\",\"fill_alpha\":0.5,\"hatch_color\":\"#30a2da\"}},\"nonselection_glyph\":{\"type\":\"object\",\"name\":\"Patch\",\"id\":\"p1897\",\"attributes\":{\"tags\":[\"apply_ranges\"],\"x\":{\"type\":\"field\",\"field\":\"x\"},\"y\":{\"type\":\"field\",\"field\":\"y\"},\"line_alpha\":1,\"fill_color\":\"#30a2da\",\"fill_alpha\":0.5,\"hatch_color\":\"#30a2da\",\"hatch_alpha\":0.1}},\"muted_glyph\":{\"type\":\"object\",\"name\":\"Patch\",\"id\":\"p1898\",\"attributes\":{\"tags\":[\"apply_ranges\"],\"x\":{\"type\":\"field\",\"field\":\"x\"},\"y\":{\"type\":\"field\",\"field\":\"y\"},\"line_alpha\":0.2,\"fill_color\":\"#30a2da\",\"fill_alpha\":0.2,\"hatch_color\":\"#30a2da\",\"hatch_alpha\":0.2}}}}],\"tooltips\":[[\"sales\",\"@{sales}\"],[\"Density\",\"@{sales_density}\"]]}},{\"type\":\"object\",\"name\":\"HoverTool\",\"id\":\"p1907\",\"attributes\":{\"tags\":[\"hv_created\"],\"renderers\":[{\"type\":\"object\",\"name\":\"GlyphRenderer\",\"id\":\"p1948\",\"attributes\":{\"data_source\":{\"type\":\"object\",\"name\":\"ColumnDataSource\",\"id\":\"p1939\",\"attributes\":{\"selected\":{\"type\":\"object\",\"name\":\"Selection\",\"id\":\"p1940\",\"attributes\":{\"indices\":[],\"line_indices\":[]}},\"selection_policy\":{\"type\":\"object\",\"name\":\"UnionRenderers\",\"id\":\"p1941\"},\"data\":{\"type\":\"map\",\"entries\":[[\"x\",{\"type\":\"ndarray\",\"array\":{\"type\":\"bytes\",\"data\":\"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\"},\"shape\":[200],\"dtype\":\"float64\",\"order\":\"little\"}],[\"y\",{\"type\":\"ndarray\",\"array\":{\"type\":\"bytes\",\"data\":\"AAAAAAAAAAAAAAAAAAAAAAAAAAAAAAAAAAAAAAAAAAAAAAAAAAAAAAAAAAAAAAAAAAAAAAAAAAAAAAAAAAAAAAAAAAAAAAAAAAAAAAAAAAAAAAAAAAAAAAAAAAAAAAAAAAAAAAAAAAAAAAAAAAAAAAAAAAAAAAAAAAAAAAAAAAAAAAAAAAAAAAAAAAAAAAAAAAAAAAAAAAAAAAAAAAAAAAAAAAAAAAAAAAAAAAAAAAAAAAAAAAAAAAAAAAAAAAAAAAAAAAAAAAAAAAAAAAAAAAAAAAAAAAAAAAAAAAAAAAAAAAAAAAAAAAAAAAAAAAAAAAAAAAAAAAAAAAAAAAAAAAAAAAAAAAAAAAAAAAAAAAAAAAAAAAAAAAAAAAAAAAAAAAAAAAAAAAAAAAAAAAAAAAAAAAAAAAAAAAAAAAAAAAAAAAAAAAAAAAAAAAAAAAAAAAAAAAAAAAAAAAAAAAAAAAAAAAAAAAAAAAAAAAAAAAAAAAAAAAAAAAAAAAAAAAAAAAAAAAAAAAAAAAAAAAAAAAAAAAAAAAAAAAAAAAAAAAAAAAAAAAAAAAAAAAAAAAAAAAAAAAAAAAAAAAAAAAAAAAAAAAAAAAAAAAAAAAAAAAAAAAAAAAAAAAAAAAAAAAAAAAAAAAAAAAAAAAAAAAAAAAAAAAAAAAAAAAAAAAAAAAAAAAAAAAAAAAAAAAAAAAAAAAAAAAAAAAAAAAAAAAAAAAAAAAAAAAAAAAAAAAAAAAAAAAAAAAAAAAAAAAAAAAAAAAAAAAAAAAAAAAAAAAAAAAAAAAAAAAAAAAAAAAAAAAAAAAAAAAAAAAAAAAAAAAAAAAAAAAAAAAAAAAAAAAAAAAAAAAAAAAAAAAAAAAAAAAAAAAAAAAAAAAAAAAAAAAAAAAAAAAAAAAAAAAAAAAAAAAAAAAAAAAAAAAAAAAAAAAAAAAAAAAAAAAAAAAAAAAAAAAAAAAAAAAAAAAAAAAAAAAAAAAAAAAAAAAAAAAAAAAAAAAAAAAAAAAAAAAAAAAAAAAAAAAAAAAAAAAAAAAAAAAAAAAAAAAAAAAAAAAAAAAAeEGslaCBjPppQSL92qnA+7iHRrRQ5fD604MCn9zmHPpSOXazwlJI+b0/SDfjonD66Z8lgmt+lPh5fF8fRGbA+0PBMB3gRtz6XDfNRnxbAPqSthUVF28U+ykgK0uPuzD7bgUV6savSPukYP/vdgdc+66tRPNPk3D5TGTbFnlnhPtfyFVLvYOQ+37RDDMZv5z41vMgbOW3qPkiBKMbsQu0+3hILg8Df7z6yNU5w6BzxPhqjZUS5J/I+/gpFD3wT8z7l5kDkpebzPgq/WvLMqfQ+Q81Hnzhm9T6O12ZcZyT2PpcMRGTC6vY+lYYQFKu89z7bbHtd+5n4PqQcNov/fvk+sXKtQt9k+j5FTVyPYEL7Ph0q2gbqDPw+Jfd4UKe5/D6EQ9aUsz79PrhqaRwulP0+Ig8ucx61/T4FL2G8D6D9PojxsftPV/0+Az0t+8jg/D7Xk1nKdEX8PhNShbJ9kPs++QfL6CXO+j67wUg4mwr6PhN6N2TcUPk+SmsH89Cp+D71uFUWqhv4PkJfWjqXqfc+JJrYSc1T9z6GCTbe1hf3PsZhdREe8fY+xJJ+953Z9j45TB3OqMr2PqDL5sGvvfY++wMXZfms9j5NQZIFNZT2PnzafLbbcPY+zZ8SxFRC9j7Wk5Zr2gn2PhKAo0EkyvU+oFrQG+WG9T55i7GsMET1PvHah5zfBfU+bb3u6AbP9D4QRqEXkaH0PqAf5/T+ffQ+ajA3yExj9D5MCjDu8k70Po9vQqb3PPQ+ck54AQwo9D5/R66ZtQn0Ph+eqbGO2vM+qJmdlqqS8z7QmFtzKSrzPpRRBWj8mfI+TzhJ08rc8T5vfzcW2e/wPlBChFCLp+8+F19bFeAZ7T57pV1c0EbqPuyJE8u0ROc+peTagg0u5D6B5KD61h7hPompNeloY9w+TH5/5sv61j5xAOH+1iXSPk/x3cI+8ss+YCX2u4z3xD7/lEnONaS+PqWL/mQWzLU+t7eAff0trj7goKt6dlOkPrCF4Z4QoZo+P3iEQyj2kD6ggFJGkQGFPmm4U9hVSXk+IP+8/+CUbT4GFOOoL9BgPg==\"},\"shape\":[200],\"dtype\":\"float64\",\"order\":\"little\"}]]}}},\"view\":{\"type\":\"object\",\"name\":\"CDSView\",\"id\":\"p1949\",\"attributes\":{\"filter\":{\"type\":\"object\",\"name\":\"AllIndices\",\"id\":\"p1950\"}}},\"glyph\":{\"type\":\"object\",\"name\":\"Patch\",\"id\":\"p1945\",\"attributes\":{\"tags\":[\"apply_ranges\"],\"x\":{\"type\":\"field\",\"field\":\"x\"},\"y\":{\"type\":\"field\",\"field\":\"y\"},\"fill_color\":\"#30a2da\",\"fill_alpha\":0.5,\"hatch_color\":\"#30a2da\"}},\"selection_glyph\":{\"type\":\"object\",\"name\":\"Patch\",\"id\":\"p1951\",\"attributes\":{\"tags\":[\"apply_ranges\"],\"x\":{\"type\":\"field\",\"field\":\"x\"},\"y\":{\"type\":\"field\",\"field\":\"y\"},\"fill_color\":\"#30a2da\",\"fill_alpha\":0.5,\"hatch_color\":\"#30a2da\"}},\"nonselection_glyph\":{\"type\":\"object\",\"name\":\"Patch\",\"id\":\"p1946\",\"attributes\":{\"tags\":[\"apply_ranges\"],\"x\":{\"type\":\"field\",\"field\":\"x\"},\"y\":{\"type\":\"field\",\"field\":\"y\"},\"line_alpha\":1,\"fill_color\":\"#30a2da\",\"fill_alpha\":0.5,\"hatch_color\":\"#30a2da\",\"hatch_alpha\":0.1}},\"muted_glyph\":{\"type\":\"object\",\"name\":\"Patch\",\"id\":\"p1947\",\"attributes\":{\"tags\":[\"apply_ranges\"],\"x\":{\"type\":\"field\",\"field\":\"x\"},\"y\":{\"type\":\"field\",\"field\":\"y\"},\"line_alpha\":0.2,\"fill_color\":\"#30a2da\",\"fill_alpha\":0.2,\"hatch_color\":\"#30a2da\",\"hatch_alpha\":0.2}}}}],\"tooltips\":[[\"sales\",\"@{sales}\"],[\"Density\",\"@{sales_density}\"]]}},{\"type\":\"object\",\"name\":\"HoverTool\",\"id\":\"p1956\",\"attributes\":{\"tags\":[\"hv_created\"],\"renderers\":[{\"type\":\"object\",\"name\":\"GlyphRenderer\",\"id\":\"p1997\",\"attributes\":{\"data_source\":{\"type\":\"object\",\"name\":\"ColumnDataSource\",\"id\":\"p1988\",\"attributes\":{\"selected\":{\"type\":\"object\",\"name\":\"Selection\",\"id\":\"p1989\",\"attributes\":{\"indices\":[],\"line_indices\":[]}},\"selection_policy\":{\"type\":\"object\",\"name\":\"UnionRenderers\",\"id\":\"p1990\"},\"data\":{\"type\":\"map\",\"entries\":[[\"x\",{\"type\":\"ndarray\",\"array\":{\"type\":\"bytes\",\"data\":\"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\"},\"shape\":[200],\"dtype\":\"float64\",\"order\":\"little\"}],[\"y\",{\"type\":\"ndarray\",\"array\":{\"type\":\"bytes\",\"data\":\"AAAAAAAAAAAAAAAAAAAAAAAAAAAAAAAAAAAAAAAAAAAAAAAAAAAAAAAAAAAAAAAAAAAAAAAAAAAAAAAAAAAAAAAAAAAAAAAAAAAAAAAAAAAAAAAAAAAAAAAAAAAAAAAAAAAAAAAAAAAAAAAAAAAAAAAAAAAAAAAAAAAAAAAAAAAAAAAAAAAAAAAAAAAAAAAAAAAAAAAAAAAAAAAAAAAAAAAAAAAAAAAAAAAAAAAAAAAAAAAAAAAAAAAAAAAAAAAAAAAAAAAAAAAAAAAAAAAAAAAAAAAAAAAAAAAAAAAAAAAAAAAAAAAAAAAAAAAAAAAAAAAAAAAAAAAAAAAAAAAAAAAAAAAAAAAAAAAAAAAAAAAAAAAAAAAAAAAAAAAAAAAAAAAAAAAAAAAAAAAAAAAAAAAAAAAAAAAAAAAAAAAAAAAAAAAAAAAAAAAAAAAAAAAAAAAAAAAAAAAAAAAAAAAAAAAAAAAAAAAAAAAAAAAAAAAAAAAAAAAAAAAAAAAAAAAAAAAAAAAAAAAAAAAAAAAAAAAAAAAAAAAAAAAAAAAAAAAAAAAAAAAAAAAAAAAAAAAAAAAAAAAAAAAAAAAAAAAAAAAAAAAAAAAAAAAAAAAAAAAAAAAAAAAAAAAAAAAAAAAAAAAAAAAAAAAAAAAAAAAAAAAAAAAAAAAAAAAAAAAAAAAAAAAAAAAAAAAAAAAAAAAAAAAAAAAAAAAAAAAAAAAAAAAAAAAAAAAAAAAAAAAAAAAAAAAAAAAAAAAAAAAAAAAAAAAAAAAAAAAAAAAAAAAAAAAAAAAAAAAAAAAAAAAAAAAAAAAAAAAAAAAAAAAAAAAAAAAAAAAAAAAAAAAAAAAAAAAAAAAAAAAAAAAAAAAAAAAAAAAAAAAAAAAAAAAAAAAAAAAAAAAAAAAAAAAAAAAAAAAAAAAAAAAAAAAAAAAAAAAAAAAAAAAAAAAAAAAAAAAAAAAAAAAAAAAAAAAAAAAAAAAAAAAAAAAAAAAAAAAAAAAAAAAAAAAAAAAAAAAAAAAAAAAAAAAAAAAAAAAAAAAAAAAAAAAAAAAAAAAAAAAAAAA0pMRJ9kVrPsSBXVuNonU+FBT+X0/IgD4lZqqrYnaJPhgd18VD5JI+qhyqMJ9rmz6uDvp5qHejPo5uMsXDC6s+7Oosbrlisj7eKtStzXe4PggBCPzt4b8+bcF5dWFYxD5sqI9IdHHJPnoQ/KW4Mc8+6duu4GPC0j6NmeFmuybWPhEfmpM2tNk+4QH+L/xX3T49FXqiK4DgPoAkb26NT+I+GCxXodkV5D7e1AA0QNLlPpXOkLWUh+c+gxK5ht876T4ZQnYmWvfqPp1RyC70wuw+F3EsBZWm7j5dh8pSrlPwPlMHhbgUY/E+Qa2BY1B/8j627lPscqPzPr/NJmsIyPQ+nZSMUq7j9T4gg1Cd8+v2PoX62Ttm1vc+GFlDy6uZ+D4i2OGZgi75Pk62vLGLkPk+ktjmUMa++T4wam2ur7v5Po/5krIFjfk+q1/+1jY7+T7RHik/k9D4PlD17AJaWPg+d/YnucDd9z6qZF4pEmv3Pg6pmNr7CPc+WGHtzBm+9j7WMUZqxY72Ps/VcmAiffY+wYsuc1uJ9j7qKnXv+7H2PiCYHylR9PY+LDyyW8JM9z6mmOGLE7f3Ph568AiQLvg+PkL78yCu+D5xsXvfWTD5Pj9uNtiHr/k+PBoFis0l+j50409FUo36PvnNbdeC4Po+QgIvWVwa+z5YGDQ1tDb7Pl8N+R5vMvs+ZUP4EJsL+z7kit4yZsH6PgzajFv0U/o+gNXuxBzE+T5HaRdtHxP5Pu9ISPBjQvg+oH2pqlFT9z7uvv0CS0f2PvBnyz7NH/U+RXRFM63e8z7Ul9G5YYbyPutQV8lIGvE+3XXZyag97z7l3vgqIjPsPl/pdIT+Iek+I03lVIMY5j6h8ccJVyXjPoPXOU99VuA+7iMvJrJw2z7fvR3XrqnWPgMeBfa7ZdI+OcUcByxYzT7ZXJ97H/vGPvSFK6GLqsE+mshQKOmmuj4LWR7Jo7izPodquOwxn6w+qSuS4A9dpD6IXk2CJ2ecPuzU/BeaaZM+AXRj7DcAij4IeBWBCw+BPj1/W+v77HU+90s0CKmZaz4bgqhh3wJhPg==\"},\"shape\":[200],\"dtype\":\"float64\",\"order\":\"little\"}]]}}},\"view\":{\"type\":\"object\",\"name\":\"CDSView\",\"id\":\"p1998\",\"attributes\":{\"filter\":{\"type\":\"object\",\"name\":\"AllIndices\",\"id\":\"p1999\"}}},\"glyph\":{\"type\":\"object\",\"name\":\"Patch\",\"id\":\"p1994\",\"attributes\":{\"tags\":[\"apply_ranges\"],\"x\":{\"type\":\"field\",\"field\":\"x\"},\"y\":{\"type\":\"field\",\"field\":\"y\"},\"fill_color\":\"#30a2da\",\"fill_alpha\":0.5,\"hatch_color\":\"#30a2da\"}},\"selection_glyph\":{\"type\":\"object\",\"name\":\"Patch\",\"id\":\"p2000\",\"attributes\":{\"tags\":[\"apply_ranges\"],\"x\":{\"type\":\"field\",\"field\":\"x\"},\"y\":{\"type\":\"field\",\"field\":\"y\"},\"fill_color\":\"#30a2da\",\"fill_alpha\":0.5,\"hatch_color\":\"#30a2da\"}},\"nonselection_glyph\":{\"type\":\"object\",\"name\":\"Patch\",\"id\":\"p1995\",\"attributes\":{\"tags\":[\"apply_ranges\"],\"x\":{\"type\":\"field\",\"field\":\"x\"},\"y\":{\"type\":\"field\",\"field\":\"y\"},\"line_alpha\":1,\"fill_color\":\"#30a2da\",\"fill_alpha\":0.5,\"hatch_color\":\"#30a2da\",\"hatch_alpha\":0.1}},\"muted_glyph\":{\"type\":\"object\",\"name\":\"Patch\",\"id\":\"p1996\",\"attributes\":{\"tags\":[\"apply_ranges\"],\"x\":{\"type\":\"field\",\"field\":\"x\"},\"y\":{\"type\":\"field\",\"field\":\"y\"},\"line_alpha\":0.2,\"fill_color\":\"#30a2da\",\"fill_alpha\":0.2,\"hatch_color\":\"#30a2da\",\"hatch_alpha\":0.2}}}}],\"tooltips\":[[\"sales\",\"@{sales}\"],[\"Density\",\"@{sales_density}\"]]}},{\"type\":\"object\",\"name\":\"HoverTool\",\"id\":\"p2005\",\"attributes\":{\"tags\":[\"hv_created\"],\"renderers\":[{\"type\":\"object\",\"name\":\"GlyphRenderer\",\"id\":\"p2046\",\"attributes\":{\"data_source\":{\"type\":\"object\",\"name\":\"ColumnDataSource\",\"id\":\"p2037\",\"attributes\":{\"selected\":{\"type\":\"object\",\"name\":\"Selection\",\"id\":\"p2038\",\"attributes\":{\"indices\":[],\"line_indices\":[]}},\"selection_policy\":{\"type\":\"object\",\"name\":\"UnionRenderers\",\"id\":\"p2039\"},\"data\":{\"type\":\"map\",\"entries\":[[\"x\",{\"type\":\"ndarray\",\"array\":{\"type\":\"bytes\",\"data\":\"lgClzxgAv8Djs3OHSY+8wDBnQj96HrrAfhoR96qtt8DLzd+u2zy1wBiBrmYMzLLAZjR9Hj1bsMBmz5es29SrwAA2NRw986bAmpzSi54RosBoBuD2/1+awKDTGtbCnJDAUINW1RZme8DAj3xbu01nQICJaRjpWYlAkPf5rDFwlkAsld9mtxmgQJAuQvdV+6RA+Mekh/TcqUBcYQcYk76uQGL9NNQY0LFAFEpmHOhAtEDGlpdkt7G2QHrjyKyGIrlALDD69FWTu0DefCs9JQS+QMlkrkJ6OsBAIwvH5uFywUB7sd+KSavCQNVX+C6x48NAL/4Q0xgcxUCHpCl3gFTGQOFKQhvojMdAO/Fav0/FyECTl3Njt/3JQO09jAcfNstAR+Skq4ZuzECfir1P7qbNQPkw1vNV385Aqmv3y94L0EDWvgOeEqjQQAISEHBGRNFAMGUcQnrg0UBcuCgUrnzSQIgLNebhGNNAtl5BuBW100DisU2KSVHUQA4FWlx97dRAPFhmLrGJ1UBoq3IA5SXWQJT+ftIYwtZAwlGLpExe10DupJd2gPrXQBr4o0i0lthASEuwGugy2UB0nrzsG8/ZQKDxyL5Pa9pAzkTVkIMH20D6l+Fit6PbQCbr7TTrP9xAVD76Bh/c3ECAkQbZUnjdQKzkEquGFN5A2jcffbqw3kAGiytP7kzfQDLeNyEi6d9AsBii+apC4EBGQqjixJDgQNxrrsve3uBAc5W0tPgs4UAJv7qdEnvhQJ/owIYsyeFANhLHb0YX4kDMO81YYGXiQGJl00F6s+JA+Y7ZKpQB40CPuN8Trk/jQCXi5fzHneNAvAvs5eHr40BSNfLO+znkQOle+LcViORAf4j+oC/W5EAVsgSKSSTlQKzbCnNjcuVAQgURXH3A5UDYLhdFlw7mQG9YHS6xXOZABYIjF8uq5kCbqykA5fjmQDLVL+n+RudAyP410hiV50BeKDy7MuPnQPVRQqRMMehAi3tIjWZ/6EAhpU52gM3oQLjOVF+aG+lATvhaSLRp6UDkIWExzrfpQHtLZxroBepAEXVtAwJU6kARdW0DAlTqQHtLZxroBepA5CFhMc636UBO+FpItGnpQLjOVF+aG+lAIaVOdoDN6ECLe0iNZn/oQPVRQqRMMehAXig8uzLj50DI/jXSGJXnQDLVL+n+RudAm6spAOX45kAFgiMXy6rmQG9YHS6xXOZA2C4XRZcO5kBCBRFcfcDlQKzbCnNjcuVAFbIEikkk5UB/iP6gL9bkQOle+LcViORAUjXyzvs55EC8C+zl4evjQCXi5fzHneNAj7jfE65P40D5jtkqlAHjQGJl00F6s+JAzDvNWGBl4kA2EsdvRhfiQJ/owIYsyeFACb+6nRJ74UBzlbS0+CzhQNxrrsve3uBARkKo4sSQ4ECwGKL5qkLgQDLeNyEi6d9ABosrT+5M30DaNx99urDeQKzkEquGFN5AgJEG2VJ43UBUPvoGH9zcQCbr7TTrP9xA+pfhYrej20DORNWQgwfbQKDxyL5Pa9pAdJ687BvP2UBIS7Aa6DLZQBr4o0i0lthA7qSXdoD610DCUYukTF7XQJT+ftIYwtZAaKtyAOUl1kA8WGYusYnVQA4FWlx97dRA4rFNiklR1EC2XkG4FbXTQIgLNebhGNNAXLgoFK580kAwZRxCeuDRQAISEHBGRNFA1r4DnhKo0ECqa/fL3gvQQPkw1vNV385An4q9T+6mzUBH5KSrhm7MQO09jAcfNstAk5dzY7f9yUA78Vq/T8XIQOFKQhvojMdAh6Qpd4BUxkAv/hDTGBzFQNVX+C6x48NAe7HfikmrwkAjC8fm4XLBQMlkrkJ6OsBA3nwrPSUEvkAsMPr0VZO7QHrjyKyGIrlAxpaXZLextkAUSmYc6EC0QGL9NNQY0LFAXGEHGJO+rkD4x6SH9NypQJAuQvdV+6RALJXfZrcZoECQ9/msMXCWQICJaRjpWYlAwI98W7tNZ0BQg1bVFmZ7wKDTGtbCnJDAaAbg9v9fmsCanNKLnhGiwAA2NRw986bAZs+XrNvUq8BmNH0ePVuwwBiBrmYMzLLAy83frts8tcB+GhH3qq23wDBnQj96HrrA47Nzh0mPvMCWAKXPGAC/wA==\"},\"shape\":[200],\"dtype\":\"float64\",\"order\":\"little\"}],[\"y\",{\"type\":\"ndarray\",\"array\":{\"type\":\"bytes\",\"data\":\"AAAAAAAAAAAAAAAAAAAAAAAAAAAAAAAAAAAAAAAAAAAAAAAAAAAAAAAAAAAAAAAAAAAAAAAAAAAAAAAAAAAAAAAAAAAAAAAAAAAAAAAAAAAAAAAAAAAAAAAAAAAAAAAAAAAAAAAAAAAAAAAAAAAAAAAAAAAAAAAAAAAAAAAAAAAAAAAAAAAAAAAAAAAAAAAAAAAAAAAAAAAAAAAAAAAAAAAAAAAAAAAAAAAAAAAAAAAAAAAAAAAAAAAAAAAAAAAAAAAAAAAAAAAAAAAAAAAAAAAAAAAAAAAAAAAAAAAAAAAAAAAAAAAAAAAAAAAAAAAAAAAAAAAAAAAAAAAAAAAAAAAAAAAAAAAAAAAAAAAAAAAAAAAAAAAAAAAAAAAAAAAAAAAAAAAAAAAAAAAAAAAAAAAAAAAAAAAAAAAAAAAAAAAAAAAAAAAAAAAAAAAAAAAAAAAAAAAAAAAAAAAAAAAAAAAAAAAAAAAAAAAAAAAAAAAAAAAAAAAAAAAAAAAAAAAAAAAAAAAAAAAAAAAAAAAAAAAAAAAAAAAAAAAAAAAAAAAAAAAAAAAAAAAAAAAAAAAAAAAAAAAAAAAAAAAAAAAAAAAAAAAAAAAAAAAAAAAAAAAAAAAAAAAAAAAAAAAAAAAAAAAAAAAAAAAAAAAAAAAAAAAAAAAAAAAAAAAAAAAAAAAAAAAAAAAAAAAAAAAAAAAAAAAAAAAAAAAAAAAAAAAAAAAAAAAAAAAAAAAAAAAAAAAAAAAAAAAAAAAAAAAAAAAAAAAAAAAAAAAAAAAAAAAAAAAAAAAAAAAAAAAAAAAAAAAAAAAAAAAAAAAAAAAAAAAAAAAAAAAAAAAAAAAAAAAAAAAAAAAAAAAAAAAAAAAAAAAAAAAAAAAAAAAAAAAAAAAAAAAAAAAAAAAAAAAAAAAAAAAAAAAAAAAAAAAAAAAAAAAAAAAAAAAAAAAAAAAAAAAAAAAAAAAAAAAAAAAAAAAAAAAAAAAAAAAAAAAAAAAAAAAAAAAAAAAAAAAAAAAAAAAAAAAAAAAAAAAAAAAAAAAAAAAAAAAAAAAAAAAAAAAAAAD0/Ei096VePlidRkre5W0+dMF4x8cEfD6IY7NY7TuJPiv9TEh/2ZU+Z/KCWKgyoj7whzVNUCytPhdZECikhLY+hYns1da/wD5ZrCS1nQfIPt1/EDFjo9A+gx54SBVD1j7hLTDrAdDcPvFybpLsDuI+s56Vkm/05T59fm8AHO7pPkKC38XRze0+8nP+67uz8D7REZ4rPkvyPoq3rNYLofM+3Gjo786v9D7rq0yKTXn1PqdwUw51BfY+Q5rCIaVg9j5PZBLQk5n2PgX+Xb8nv/Y+Q1wV+pje9j7vm05fEgL3PrGZTc7xL/c+8YGW+Kdq9z6rvaYmH7H3PpTNhOx+//c+6NUKGx1Q+D7wxT86cpz4Pu93Usj13fg+dSrVG9YO+T5POosWiyr5PjoUz5ZGLvk+cyNBhEIZ+T6yk1hZ5uz4PlRNyBC6rPg+EhYj7h1e+D5wNWxhxgf4PlwS1gMHsfc+nhzPZQNh9z4Rw74s5B33PjGwk2cw7PY+ZAlOuWXO9j4/eLZg38T2PkUVnnIOzvY+pyO1Jffm9j4VVowU2gv3PjsjZyrnOPc+6G5z49Rq9z45iYp4O5/3PsibrNSg1Pc+nNLL0DUK+D77f/i5Wj/4Pk1UcKwSc/g+cU7kMZWj+D5SFoJkKM74Pkkhqb5b7/g+NqTpwqAD+T4RAXfcIQj5PhELTnWh+/g+UrFFLSLf+D4CmtSxILb4PvjXSXo+hvg+O+NdwFxW+D7a7Q4iSC34PnXog28vEPg+Skde4y0B+D727WCuMP73Pq6YLsVyAPg+DG2EdrP89z6cB+I1MOT3PvT5AORLpvc+VWGnUrEy9z6J8dqLp3v2PowEYUdAePU+5aIJOQcm9D75mnKO5YnyPtew7SgIsPA+SVKysXxV7T6Vtqzl6CDpPo7PjcUx8uQ+BG44TrL24D6hzw1CtajaPmrhSldfTNQ++3Qv37zqzT4/Jqh2qVDFPtuCv5wNVr0+sWQNxjR7sz6qWgjivPKoPiNDnmimyJ4+9tcMa5NJkj506cnCuOiEPrdtpblv/nY+5S3YvVNPaD7MCdx7urJYPg==\"},\"shape\":[200],\"dtype\":\"float64\",\"order\":\"little\"}]]}}},\"view\":{\"type\":\"object\",\"name\":\"CDSView\",\"id\":\"p2047\",\"attributes\":{\"filter\":{\"type\":\"object\",\"name\":\"AllIndices\",\"id\":\"p2048\"}}},\"glyph\":{\"type\":\"object\",\"name\":\"Patch\",\"id\":\"p2043\",\"attributes\":{\"tags\":[\"apply_ranges\"],\"x\":{\"type\":\"field\",\"field\":\"x\"},\"y\":{\"type\":\"field\",\"field\":\"y\"},\"fill_color\":\"#30a2da\",\"fill_alpha\":0.5,\"hatch_color\":\"#30a2da\"}},\"selection_glyph\":{\"type\":\"object\",\"name\":\"Patch\",\"id\":\"p2049\",\"attributes\":{\"tags\":[\"apply_ranges\"],\"x\":{\"type\":\"field\",\"field\":\"x\"},\"y\":{\"type\":\"field\",\"field\":\"y\"},\"fill_color\":\"#30a2da\",\"fill_alpha\":0.5,\"hatch_color\":\"#30a2da\"}},\"nonselection_glyph\":{\"type\":\"object\",\"name\":\"Patch\",\"id\":\"p2044\",\"attributes\":{\"tags\":[\"apply_ranges\"],\"x\":{\"type\":\"field\",\"field\":\"x\"},\"y\":{\"type\":\"field\",\"field\":\"y\"},\"line_alpha\":1,\"fill_color\":\"#30a2da\",\"fill_alpha\":0.5,\"hatch_color\":\"#30a2da\",\"hatch_alpha\":0.1}},\"muted_glyph\":{\"type\":\"object\",\"name\":\"Patch\",\"id\":\"p2045\",\"attributes\":{\"tags\":[\"apply_ranges\"],\"x\":{\"type\":\"field\",\"field\":\"x\"},\"y\":{\"type\":\"field\",\"field\":\"y\"},\"line_alpha\":0.2,\"fill_color\":\"#30a2da\",\"fill_alpha\":0.2,\"hatch_color\":\"#30a2da\",\"hatch_alpha\":0.2}}}}],\"tooltips\":[[\"sales\",\"@{sales}\"],[\"Density\",\"@{sales_density}\"]]}},{\"type\":\"object\",\"name\":\"HoverTool\",\"id\":\"p2054\",\"attributes\":{\"tags\":[\"hv_created\"],\"renderers\":[{\"type\":\"object\",\"name\":\"GlyphRenderer\",\"id\":\"p2095\",\"attributes\":{\"data_source\":{\"type\":\"object\",\"name\":\"ColumnDataSource\",\"id\":\"p2086\",\"attributes\":{\"selected\":{\"type\":\"object\",\"name\":\"Selection\",\"id\":\"p2087\",\"attributes\":{\"indices\":[],\"line_indices\":[]}},\"selection_policy\":{\"type\":\"object\",\"name\":\"UnionRenderers\",\"id\":\"p2088\"},\"data\":{\"type\":\"map\",\"entries\":[[\"x\",{\"type\":\"ndarray\",\"array\":{\"type\":\"bytes\",\"data\":\"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\"},\"shape\":[200],\"dtype\":\"float64\",\"order\":\"little\"}],[\"y\",{\"type\":\"ndarray\",\"array\":{\"type\":\"bytes\",\"data\":\"AAAAAAAAAAAAAAAAAAAAAAAAAAAAAAAAAAAAAAAAAAAAAAAAAAAAAAAAAAAAAAAAAAAAAAAAAAAAAAAAAAAAAAAAAAAAAAAAAAAAAAAAAAAAAAAAAAAAAAAAAAAAAAAAAAAAAAAAAAAAAAAAAAAAAAAAAAAAAAAAAAAAAAAAAAAAAAAAAAAAAAAAAAAAAAAAAAAAAAAAAAAAAAAAAAAAAAAAAAAAAAAAAAAAAAAAAAAAAAAAAAAAAAAAAAAAAAAAAAAAAAAAAAAAAAAAAAAAAAAAAAAAAAAAAAAAAAAAAAAAAAAAAAAAAAAAAAAAAAAAAAAAAAAAAAAAAAAAAAAAAAAAAAAAAAAAAAAAAAAAAAAAAAAAAAAAAAAAAAAAAAAAAAAAAAAAAAAAAAAAAAAAAAAAAAAAAAAAAAAAAAAAAAAAAAAAAAAAAAAAAAAAAAAAAAAAAAAAAAAAAAAAAAAAAAAAAAAAAAAAAAAAAAAAAAAAAAAAAAAAAAAAAAAAAAAAAAAAAAAAAAAAAAAAAAAAAAAAAAAAAAAAAAAAAAAAAAAAAAAAAAAAAAAAAAAAAAAAAAAAAAAAAAAAAAAAAAAAAAAAAAAAAAAAAAAAAAAAAAAAAAAAAAAAAAAAAAAAAAAAAAAAAAAAAAAAAAAAAAAAAAAAAAAAAAAAAAAAAAAAAAAAAAAAAAAAAAAAAAAAAAAAAAAAAAAAAAAAAAAAAAAAAAAAAAAAAAAAAAAAAAAAAAAAAAAAAAAAAAAAAAAAAAAAAAAAAAAAAAAAAAAAAAAAAAAAAAAAAAAAAAAAAAAAAAAAAAAAAAAAAAAAAAAAAAAAAAAAAAAAAAAAAAAAAAAAAAAAAAAAAAAAAAAAAAAAAAAAAAAAAAAAAAAAAAAAAAAAAAAAAAAAAAAAAAAAAAAAAAAAAAAAAAAAAAAAAAAAAAAAAAAAAAAAAAAAAAAAAAAAAAAAAAAAAAAAAAAAAAAAAAAAAAAAAAAAAAAAAAAAAAAAAAAAAAAAAAAAAAAAAAAAAAAAAAAAAAAAAAAAAAAAAAAAAAAAAAAAAAAAAAAAAABLJmzvEMlePj8BQxepyWw+bjucqT77eT6T4HGUcKOGPtylaWABDZM+QsQhDbf6nj5i/KX/LlmoPoFFN8szgrI+xH5j34M7uz540R2YIWfDPoatfaC7zMo+Mr0LMwL10T4tMz87b1/XPswzdWSFld0+7CLRe3o74j5lg1GNw+rlPrKhP7C/vOk+kSoOgJ+T7T6NXbBRQKnwPmOUdZfib/I+eZw4TD4T9D5N92ZFYIv1PrRk8iKc0vY+M7+nzhjl9z5iL6VsacD4PhlkwsZmY/k+KdIoZVzO+T7raHjMcwP6PmlywYQmB/o+HQGVxXHg+T66+OSAk5j5PkbZgw89Ovk+rhoP31fQ+D7VGjIOo2T4PqO4NQSG/vc+gACtOWui9z53rTOl0VH3PnfcklsODPc+tHPcC4TP9j7X0+t585r2PguNu1SBbvY+E/QqUSRM9j5hqEo3Wzf2PrjAgGlANPY+nk3CB0BG9j6MFx/S0W72Pv0moG+YrPY+Oryseiz79j6pgxxAqlP3Pv/bkPPirfc+mNOlv+QB+D4QTHpwdUn4PuQd39gfgfg+bPh/eJKo+D43XIjnPML4PjtDyI5L0vg+g+eKu0jd+D7NRceDveb4PnqP45co8Pg+MPnB04f4+D7k9N75ivz4Pv7Qcvhc9/g+Z4xImM/j+D42tR69or34Pu9X+A+fgvg+3RCR3kkz+D5DbYeqD9P3PkPztcDdZ/c+RK5n3Dv59j67y307Co/2Plg2p44VMPY+1XFys7jg9T5LzZLrw6H1PpuzB93Zb/U+dET9FWRD9T4xG2BaLBH1PpSczF2Qy/Q++p58Oy5k9D4e2VRL1M3zPgBp6ltx/vI+5vPHr7zw8T6+qM8MUaXwPgmbSJUKRu4+CH7yM8/s6j7SGu0CymDnPuDMYFGcyOM+XLCHNBhL4D4/F7IPpRXaPusCjqo4RdQ+N1otJrGNzj4BxGxAsk/GPsfk6fA6jL8+kDH0diuUtT6pVZ0W54qsPlcBV/z4PaI+zXqMteOFlj6c4w2ZjtmKPq2Y+Nyy5H4+VuMIexImcT5W2dlbXF1iPg==\"},\"shape\":[200],\"dtype\":\"float64\",\"order\":\"little\"}]]}}},\"view\":{\"type\":\"object\",\"name\":\"CDSView\",\"id\":\"p2096\",\"attributes\":{\"filter\":{\"type\":\"object\",\"name\":\"AllIndices\",\"id\":\"p2097\"}}},\"glyph\":{\"type\":\"object\",\"name\":\"Patch\",\"id\":\"p2092\",\"attributes\":{\"tags\":[\"apply_ranges\"],\"x\":{\"type\":\"field\",\"field\":\"x\"},\"y\":{\"type\":\"field\",\"field\":\"y\"},\"fill_color\":\"#30a2da\",\"fill_alpha\":0.5,\"hatch_color\":\"#30a2da\"}},\"selection_glyph\":{\"type\":\"object\",\"name\":\"Patch\",\"id\":\"p2098\",\"attributes\":{\"tags\":[\"apply_ranges\"],\"x\":{\"type\":\"field\",\"field\":\"x\"},\"y\":{\"type\":\"field\",\"field\":\"y\"},\"fill_color\":\"#30a2da\",\"fill_alpha\":0.5,\"hatch_color\":\"#30a2da\"}},\"nonselection_glyph\":{\"type\":\"object\",\"name\":\"Patch\",\"id\":\"p2093\",\"attributes\":{\"tags\":[\"apply_ranges\"],\"x\":{\"type\":\"field\",\"field\":\"x\"},\"y\":{\"type\":\"field\",\"field\":\"y\"},\"line_alpha\":1,\"fill_color\":\"#30a2da\",\"fill_alpha\":0.5,\"hatch_color\":\"#30a2da\",\"hatch_alpha\":0.1}},\"muted_glyph\":{\"type\":\"object\",\"name\":\"Patch\",\"id\":\"p2094\",\"attributes\":{\"tags\":[\"apply_ranges\"],\"x\":{\"type\":\"field\",\"field\":\"x\"},\"y\":{\"type\":\"field\",\"field\":\"y\"},\"line_alpha\":0.2,\"fill_color\":\"#30a2da\",\"fill_alpha\":0.2,\"hatch_color\":\"#30a2da\",\"hatch_alpha\":0.2}}}}],\"tooltips\":[[\"sales\",\"@{sales}\"],[\"Density\",\"@{sales_density}\"]]}},{\"type\":\"object\",\"name\":\"HoverTool\",\"id\":\"p2103\",\"attributes\":{\"tags\":[\"hv_created\"],\"renderers\":[{\"type\":\"object\",\"name\":\"GlyphRenderer\",\"id\":\"p2144\",\"attributes\":{\"data_source\":{\"type\":\"object\",\"name\":\"ColumnDataSource\",\"id\":\"p2135\",\"attributes\":{\"selected\":{\"type\":\"object\",\"name\":\"Selection\",\"id\":\"p2136\",\"attributes\":{\"indices\":[],\"line_indices\":[]}},\"selection_policy\":{\"type\":\"object\",\"name\":\"UnionRenderers\",\"id\":\"p2137\"},\"data\":{\"type\":\"map\",\"entries\":[[\"x\",{\"type\":\"ndarray\",\"array\":{\"type\":\"bytes\",\"data\":\"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\"},\"shape\":[200],\"dtype\":\"float64\",\"order\":\"little\"}],[\"y\",{\"type\":\"ndarray\",\"array\":{\"type\":\"bytes\",\"data\":\"AAAAAAAAAAAAAAAAAAAAAAAAAAAAAAAAAAAAAAAAAAAAAAAAAAAAAAAAAAAAAAAAAAAAAAAAAAAAAAAAAAAAAAAAAAAAAAAAAAAAAAAAAAAAAAAAAAAAAAAAAAAAAAAAAAAAAAAAAAAAAAAAAAAAAAAAAAAAAAAAAAAAAAAAAAAAAAAAAAAAAAAAAAAAAAAAAAAAAAAAAAAAAAAAAAAAAAAAAAAAAAAAAAAAAAAAAAAAAAAAAAAAAAAAAAAAAAAAAAAAAAAAAAAAAAAAAAAAAAAAAAAAAAAAAAAAAAAAAAAAAAAAAAAAAAAAAAAAAAAAAAAAAAAAAAAAAAAAAAAAAAAAAAAAAAAAAAAAAAAAAAAAAAAAAAAAAAAAAAAAAAAAAAAAAAAAAAAAAAAAAAAAAAAAAAAAAAAAAAAAAAAAAAAAAAAAAAAAAAAAAAAAAAAAAAAAAAAAAAAAAAAAAAAAAAAAAAAAAAAAAAAAAAAAAAAAAAAAAAAAAAAAAAAAAAAAAAAAAAAAAAAAAAAAAAAAAAAAAAAAAAAAAAAAAAAAAAAAAAAAAAAAAAAAAAAAAAAAAAAAAAAAAAAAAAAAAAAAAAAAAAAAAAAAAAAAAAAAAAAAAAAAAAAAAAAAAAAAAAAAAAAAAAAAAAAAAAAAAAAAAAAAAAAAAAAAAAAAAAAAAAAAAAAAAAAAAAAAAAAAAAAAAAAAAAAAAAAAAAAAAAAAAAAAAAAAAAAAAAAAAAAAAAAAAAAAAAAAAAAAAAAAAAAAAAAAAAAAAAAAAAAAAAAAAAAAAAAAAAAAAAAAAAAAAAAAAAAAAAAAAAAAAAAAAAAAAAAAAAAAAAAAAAAAAAAAAAAAAAAAAAAAAAAAAAAAAAAAAAAAAAAAAAAAAAAAAAAAAAAAAAAAAAAAAAAAAAAAAAAAAAAAAAAAAAAAAAAAAAAAAAAAAAAAAAAAAAAAAAAAAAAAAAAAAAAAAAAAAAAAAAAAAAAAAAAAAAAAAAAAAAAAAAAAAAAAAAAAAAAAAAAAAAAAAAAAAAAAAAAAAAAAAAAAAAAAAAAAAAAAAAAAAABzFo/Ty59iPs2rieR/THE+6ioNdtQIfz48Po+h2+OKPtaYCLrEgpY+bKqLWUw2oj70aCnu9nysPknyaZE0jLU+UAydfFCJvz4umll3oVbGPkPUN3Jpps4+w/cV/wNh1D5lRpJk90jaPtShj879dOA+syLKIyIH5D5rPIFxq7fnPhWkifWTXus+w4kjoY/T7j7gQ0EfVvnwPu+xTkQZUPI+5IoHNZBl8z4OPr4H+jb0PvOHQRn0xvQ+F8Elxogc9T5amEDV9kH1PhW9PkpxQ/U+sYD51/4t9T7SeLGvhA71Prg58pH18PQ+hd24Spnf9D4vj4xIaOL0Pq1/BM2D/vQ+3PS7Rt019T492I5eIYf1PpbV0UD07fU+9fG2vH9j9j6lwbXZRd/2Pqx5WcMfWPc+SC9qd0vF9z5mwysYah/4Ptc7AFNTYfg+eOjZOqaI+D6gT5jWBJb4PoUmPnzujPg+sRk9ajdz+D70eDxhKlD4PiJP3XtxK/g+XaLCAPIL+D5QbYNKzvb3PvnRJji97vc+jhjWMdfz9z6uFcTV4AP4Pk/kEOgAG/g+FG+O47g0+D6KQo2p6kz4PjgNdX20YPg+p7p7C/Zu+D614Bk6Y3j4Ppwfp9Egf/g+DTGmOwCG+D4+TC3Iho/4PsXjqiT9nPg+PEH/ocet+D4OmKuMO7/4Po9CBf4Izfg+XBgjlCjS+D4z34IEFMr4PmPt/mH0sfg+7fkKrmuJ+D6Oo5GwtFL4PspqlT3/Efg+IKHp7SPM9z6x+Li8+YT3Ptjcz9e0Pfc+6DDnBrnz9j67Fa90M6D2Phmde6KlOPY+iizd0Few9T5hxOgPd/r0PtGVzl98DPQ+uYfPgmbg8j5DbF74U3bxPqlpNyVNqu8+FMS/dBMU7D5srhVt3E3oPiCOiRCKgOQ+V2AaUdLU4D7Qyeuhz9zaPsgurwib0NQ+8D4YXWlLzz43BuIwLM7GPrpuD4t/GcA+YU1+QwgCtj5jLlb0xBytPhZpJ0njn6I+lb7nCGYKlz7agCbZz4yLPoGu0U6F1H8+64ZHwyDDcT6zi3xzHCVjPg==\"},\"shape\":[200],\"dtype\":\"float64\",\"order\":\"little\"}]]}}},\"view\":{\"type\":\"object\",\"name\":\"CDSView\",\"id\":\"p2145\",\"attributes\":{\"filter\":{\"type\":\"object\",\"name\":\"AllIndices\",\"id\":\"p2146\"}}},\"glyph\":{\"type\":\"object\",\"name\":\"Patch\",\"id\":\"p2141\",\"attributes\":{\"tags\":[\"apply_ranges\"],\"x\":{\"type\":\"field\",\"field\":\"x\"},\"y\":{\"type\":\"field\",\"field\":\"y\"},\"fill_color\":\"#30a2da\",\"fill_alpha\":0.5,\"hatch_color\":\"#30a2da\"}},\"selection_glyph\":{\"type\":\"object\",\"name\":\"Patch\",\"id\":\"p2147\",\"attributes\":{\"tags\":[\"apply_ranges\"],\"x\":{\"type\":\"field\",\"field\":\"x\"},\"y\":{\"type\":\"field\",\"field\":\"y\"},\"fill_color\":\"#30a2da\",\"fill_alpha\":0.5,\"hatch_color\":\"#30a2da\"}},\"nonselection_glyph\":{\"type\":\"object\",\"name\":\"Patch\",\"id\":\"p2142\",\"attributes\":{\"tags\":[\"apply_ranges\"],\"x\":{\"type\":\"field\",\"field\":\"x\"},\"y\":{\"type\":\"field\",\"field\":\"y\"},\"line_alpha\":1,\"fill_color\":\"#30a2da\",\"fill_alpha\":0.5,\"hatch_color\":\"#30a2da\",\"hatch_alpha\":0.1}},\"muted_glyph\":{\"type\":\"object\",\"name\":\"Patch\",\"id\":\"p2143\",\"attributes\":{\"tags\":[\"apply_ranges\"],\"x\":{\"type\":\"field\",\"field\":\"x\"},\"y\":{\"type\":\"field\",\"field\":\"y\"},\"line_alpha\":0.2,\"fill_color\":\"#30a2da\",\"fill_alpha\":0.2,\"hatch_color\":\"#30a2da\",\"hatch_alpha\":0.2}}}}],\"tooltips\":[[\"sales\",\"@{sales}\"],[\"Density\",\"@{sales_density}\"]]}},{\"type\":\"object\",\"name\":\"HoverTool\",\"id\":\"p2152\",\"attributes\":{\"tags\":[\"hv_created\"],\"renderers\":[{\"type\":\"object\",\"name\":\"GlyphRenderer\",\"id\":\"p2193\",\"attributes\":{\"data_source\":{\"type\":\"object\",\"name\":\"ColumnDataSource\",\"id\":\"p2184\",\"attributes\":{\"selected\":{\"type\":\"object\",\"name\":\"Selection\",\"id\":\"p2185\",\"attributes\":{\"indices\":[],\"line_indices\":[]}},\"selection_policy\":{\"type\":\"object\",\"name\":\"UnionRenderers\",\"id\":\"p2186\"},\"data\":{\"type\":\"map\",\"entries\":[[\"x\",{\"type\":\"ndarray\",\"array\":{\"type\":\"bytes\",\"data\":\"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\"},\"shape\":[200],\"dtype\":\"float64\",\"order\":\"little\"}],[\"y\",{\"type\":\"ndarray\",\"array\":{\"type\":\"bytes\",\"data\":\"AAAAAAAAAAAAAAAAAAAAAAAAAAAAAAAAAAAAAAAAAAAAAAAAAAAAAAAAAAAAAAAAAAAAAAAAAAAAAAAAAAAAAAAAAAAAAAAAAAAAAAAAAAAAAAAAAAAAAAAAAAAAAAAAAAAAAAAAAAAAAAAAAAAAAAAAAAAAAAAAAAAAAAAAAAAAAAAAAAAAAAAAAAAAAAAAAAAAAAAAAAAAAAAAAAAAAAAAAAAAAAAAAAAAAAAAAAAAAAAAAAAAAAAAAAAAAAAAAAAAAAAAAAAAAAAAAAAAAAAAAAAAAAAAAAAAAAAAAAAAAAAAAAAAAAAAAAAAAAAAAAAAAAAAAAAAAAAAAAAAAAAAAAAAAAAAAAAAAAAAAAAAAAAAAAAAAAAAAAAAAAAAAAAAAAAAAAAAAAAAAAAAAAAAAAAAAAAAAAAAAAAAAAAAAAAAAAAAAAAAAAAAAAAAAAAAAAAAAAAAAAAAAAAAAAAAAAAAAAAAAAAAAAAAAAAAAAAAAAAAAAAAAAAAAAAAAAAAAAAAAAAAAAAAAAAAAAAAAAAAAAAAAAAAAAAAAAAAAAAAAAAAAAAAAAAAAAAAAAAAAAAAAAAAAAAAAAAAAAAAAAAAAAAAAAAAAAAAAAAAAAAAAAAAAAAAAAAAAAAAAAAAAAAAAAAAAAAAAAAAAAAAAAAAAAAAAAAAAAAAAAAAAAAAAAAAAAAAAAAAAAAAAAAAAAAAAAAAAAAAAAAAAAAAAAAAAAAAAAAAAAAAAAAAAAAAAAAAAAAAAAAAAAAAAAAAAAAAAAAAAAAAAAAAAAAAAAAAAAAAAAAAAAAAAAAAAAAAAAAAAAAAAAAAAAAAAAAAAAAAAAAAAAAAAAAAAAAAAAAAAAAAAAAAAAAAAAAAAAAAAAAAAAAAAAAAAAAAAAAAAAAAAAAAAAAAAAAAAAAAAAAAAAAAAAAAAAAAAAAAAAAAAAAAAAAAAAAAAAAAAAAAAAAAAAAAAAAAAAAAAAAAAAAAAAAAAAAAAAAAAAAAAAAAAAAAAAAAAAAAAAAAAAAAAAAAAAAAAAAAAAAAAAAAAAAAAAAAAAAAAAAAAADze2j/hHtgPuBFShp8i2s+BVxNbi50dj46zu7eANyBPv1WiNSUuYs+vQt0pkcBlT5XSnP9iBKfPkwmIuhHcaY+TOBivXiqrz52AAll+9O1Pu3Rdfobar0+4RILK1Rhwz7DAkjRO/zIPk9/29V7iM8+m9/zTjN+0z4qjh03zqDXPnujDCo1G9w++ewYRTZs4D4e9mB4xuDiPhMd6eUqYOU+VyQfydXg5z4gm4+Pw1vqPsulhbb1zOw+z0klxU8z7z45NSJy6cfwPoYBpdsq8vE+GzJM4vkY8z4+8/aZwTv0Ppq5pgcyWPU+jIMs3vdp9j519I7w2Wr3PveNJj4/U/g+MmzCiAwb+T4m4HdBt7r5Prj9asdgLPo+/Dq7o8ps+j6jP8b++nv6Pmx60H52Xfo+VWB7GwcY+j6NFcp0GrX5PsbahUPSP/k+ahrsxOvD+D4m7wc+pkz4Pn4DxwzN4/c+Hye7rgCR9z7KD2DxTVn3Pji9yJwVP/c+iUaqhDtC9z7RlBGUi2D3Pr8mEO0+lvc+xZZ/rIre9z6zX9bEJDT4PvP71r2wkfg+j0QZygzy+D4J4PNXflD5PnJQuvnCqPk+WoQjdQ73+T48I4iSADj6Ps8kLtScaPo++8VA0UuG+j6xRDD/6Y76PtieR+bigPo+cKi25FJb+j7xpPqwJR76Pk6lxbwlyvk+xS0VP/Fg+T5iz2RuzeT4PgU0Pw5XWPg+ZNte1Be+9z6rM4WJEBj3PnepbwJOZ/Y+KmpAIKGr9T7GykG3juP0Pu/u8H+DDPQ+yVtJb0sj8z57aeaTvSTyPrRV/RiBDvE+yPMi3pC/7z4328TuvTPtPvdj0u7YgOo+5Uvukr2y5z4kMZvH9djkPgqW4W9NBeI+TIdj8SeU3j7vkqE8qHDZPsS2Ej6PvNQ+qoSZeXmM0D52Cvu1K9jJPvk/ZwZkvMM+TqR1Hvp2vT6R7tqh/321PuBJcy2foK4+6Uu7gr5PpT4/VhwP7PScPtltjIv6M5M+xCsqS5PbiD7DR6WQY2Z/PjA54O+uWXM+TpIXtn9EZz4h0nU77EpbPg==\"},\"shape\":[200],\"dtype\":\"float64\",\"order\":\"little\"}]]}}},\"view\":{\"type\":\"object\",\"name\":\"CDSView\",\"id\":\"p2194\",\"attributes\":{\"filter\":{\"type\":\"object\",\"name\":\"AllIndices\",\"id\":\"p2195\"}}},\"glyph\":{\"type\":\"object\",\"name\":\"Patch\",\"id\":\"p2190\",\"attributes\":{\"tags\":[\"apply_ranges\"],\"x\":{\"type\":\"field\",\"field\":\"x\"},\"y\":{\"type\":\"field\",\"field\":\"y\"},\"fill_color\":\"#30a2da\",\"fill_alpha\":0.5,\"hatch_color\":\"#30a2da\"}},\"selection_glyph\":{\"type\":\"object\",\"name\":\"Patch\",\"id\":\"p2196\",\"attributes\":{\"tags\":[\"apply_ranges\"],\"x\":{\"type\":\"field\",\"field\":\"x\"},\"y\":{\"type\":\"field\",\"field\":\"y\"},\"fill_color\":\"#30a2da\",\"fill_alpha\":0.5,\"hatch_color\":\"#30a2da\"}},\"nonselection_glyph\":{\"type\":\"object\",\"name\":\"Patch\",\"id\":\"p2191\",\"attributes\":{\"tags\":[\"apply_ranges\"],\"x\":{\"type\":\"field\",\"field\":\"x\"},\"y\":{\"type\":\"field\",\"field\":\"y\"},\"line_alpha\":1,\"fill_color\":\"#30a2da\",\"fill_alpha\":0.5,\"hatch_color\":\"#30a2da\",\"hatch_alpha\":0.1}},\"muted_glyph\":{\"type\":\"object\",\"name\":\"Patch\",\"id\":\"p2192\",\"attributes\":{\"tags\":[\"apply_ranges\"],\"x\":{\"type\":\"field\",\"field\":\"x\"},\"y\":{\"type\":\"field\",\"field\":\"y\"},\"line_alpha\":0.2,\"fill_color\":\"#30a2da\",\"fill_alpha\":0.2,\"hatch_color\":\"#30a2da\",\"hatch_alpha\":0.2}}}}],\"tooltips\":[[\"sales\",\"@{sales}\"],[\"Density\",\"@{sales_density}\"]]}},{\"type\":\"object\",\"name\":\"HoverTool\",\"id\":\"p2201\",\"attributes\":{\"tags\":[\"hv_created\"],\"renderers\":[{\"type\":\"object\",\"name\":\"GlyphRenderer\",\"id\":\"p2242\",\"attributes\":{\"data_source\":{\"type\":\"object\",\"name\":\"ColumnDataSource\",\"id\":\"p2233\",\"attributes\":{\"selected\":{\"type\":\"object\",\"name\":\"Selection\",\"id\":\"p2234\",\"attributes\":{\"indices\":[],\"line_indices\":[]}},\"selection_policy\":{\"type\":\"object\",\"name\":\"UnionRenderers\",\"id\":\"p2235\"},\"data\":{\"type\":\"map\",\"entries\":[[\"x\",{\"type\":\"ndarray\",\"array\":{\"type\":\"bytes\",\"data\":\"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\"},\"shape\":[200],\"dtype\":\"float64\",\"order\":\"little\"}],[\"y\",{\"type\":\"ndarray\",\"array\":{\"type\":\"bytes\",\"data\":\"AAAAAAAAAAAAAAAAAAAAAAAAAAAAAAAAAAAAAAAAAAAAAAAAAAAAAAAAAAAAAAAAAAAAAAAAAAAAAAAAAAAAAAAAAAAAAAAAAAAAAAAAAAAAAAAAAAAAAAAAAAAAAAAAAAAAAAAAAAAAAAAAAAAAAAAAAAAAAAAAAAAAAAAAAAAAAAAAAAAAAAAAAAAAAAAAAAAAAAAAAAAAAAAAAAAAAAAAAAAAAAAAAAAAAAAAAAAAAAAAAAAAAAAAAAAAAAAAAAAAAAAAAAAAAAAAAAAAAAAAAAAAAAAAAAAAAAAAAAAAAAAAAAAAAAAAAAAAAAAAAAAAAAAAAAAAAAAAAAAAAAAAAAAAAAAAAAAAAAAAAAAAAAAAAAAAAAAAAAAAAAAAAAAAAAAAAAAAAAAAAAAAAAAAAAAAAAAAAAAAAAAAAAAAAAAAAAAAAAAAAAAAAAAAAAAAAAAAAAAAAAAAAAAAAAAAAAAAAAAAAAAAAAAAAAAAAAAAAAAAAAAAAAAAAAAAAAAAAAAAAAAAAAAAAAAAAAAAAAAAAAAAAAAAAAAAAAAAAAAAAAAAAAAAAAAAAAAAAAAAAAAAAAAAAAAAAAAAAAAAAAAAAAAAAAAAAAAAAAAAAAAAAAAAAAAAAAAAAAAAAAAAAAAAAAAAAAAAAAAAAAAAAAAAAAAAAAAAAAAAAAAAAAAAAAAAAAAAAAAAAAAAAAAAAAAAAAAAAAAAAAAAAAAAAAAAAAAAAAAAAAAAAAAAAAAAAAAAAAAAAAAAAAAAAAAAAAAAAAAAAAAAAAAAAAAAAAAAAAAAAAAAAAAAAAAAAAAAAAAAAAAAAAAAAAAAAAAAAAAAAAAAAAAAAAAAAAAAAAAAAAAAAAAAAAAAAAAAAAAAAAAAAAAAAAAAAAAAAAAAAAAAAAAAAAAAAAAAAAAAAAAAAAAAAAAAAAAAAAAAAAAAAAAAAAAAAAAAAAAAAAAAAAAAAAAAAAAAAAAAAAAAAAAAAAAAAAAAAAAAAAAAAAAAAAAAAAAAAAAAAAAAAAAAAAAAAAAAAAAAAAAAAAAAAAAAAAAAAAAAAAAAAABTVMSN+EtkPkDaVOHAZ3E+tE9VopsSfT59MW/Gh6aHPspXcD1HvpI+jpnKO3nynD5G+rZt0silPvAhBiIQ9q8+OvZgLTnctj4F81OaueS/PhGLoxCAtMU+7ziibf/UzD6FeCpTSbLSPjOmdF1Xr9c+vlv2uL9S3T4OXRtUEsDhPssGY442B+U+fV9y/A1l6D5wrXbEirzrPi/gncCu7+4+zn+71wnx8D4TSUsHoT3yPmbHzc1DVPM+MlNu/wwv9D4h2AEku8v0Pj8yw4aIK/U+ZzcqLcJS9T6GQTlkOUj1PqXYXOSoFPU+8Qf9NR7C9D4eQJmbbVv0Pti+WBWu6/M+sl0Oz7Z98z6o4gtnmBvzPnT/WA4SzvI+Uj8VQAqc8j5pGa3iGYryPipAQ5I8mvI+2k8YErjL8j7viPk1RxvzPpeGSQCLg/M+Ha72KLn98z4yXvUtdIL0PqbbHMCwCvU+XfTylIiQ9T4WMiIy3A/2PtDI8fSrhvY+8kUyRhv19j6TW4nVHV33PhcoMtLbwfc+q3C3ZeUm+D5EU8aIVY/4PnjiC3AH/fg+h9Mlrv9v+T5jLmjZIub5PkLds+NHW/o+nq779qXJ+j6DUle9jir7PhHxGe9Yd/s+wJo9HFaq+z7YEcWXq7/7Pp01Ku/ptfs+i2vFB0iO+z7Yp41adUz7Ppry1nwH9vo+Fki0a5eR+j7ljZAvsCX6PpH6zTy4t/k+sVBXPQBL+T5QuyqbHOD4PgAo9TqkdPg+zJ+rMWAD+D4L6NUm6IT3Ph9QkM+X8PY+KhBRd7099j72WYJm2WT1PqigzyHDYPQ+iOvnaYwv8z5yHv9oAtPxPtAc8bi6UPA+tde9b1Rj7T7gi8wvqQLqPgJ5deBkmeY+1n2GVetB4z4P/UcprxTgPiqdq/lfTNo+97wVhSoL1T75rtiUBnjQPi0gn1mlMsk+0WcfcLHVwj5Q0Giu+3+7PiQPhm6ZmbM+9VhiGHdEqz7YjSM0a4GiPknO56z7f5g+QHnPhR+hjz44zrOlfOeDPmq4aR3Iang+LsURkGAwbT4A3QIAl/9gPg==\"},\"shape\":[200],\"dtype\":\"float64\",\"order\":\"little\"}]]}}},\"view\":{\"type\":\"object\",\"name\":\"CDSView\",\"id\":\"p2243\",\"attributes\":{\"filter\":{\"type\":\"object\",\"name\":\"AllIndices\",\"id\":\"p2244\"}}},\"glyph\":{\"type\":\"object\",\"name\":\"Patch\",\"id\":\"p2239\",\"attributes\":{\"tags\":[\"apply_ranges\"],\"x\":{\"type\":\"field\",\"field\":\"x\"},\"y\":{\"type\":\"field\",\"field\":\"y\"},\"fill_color\":\"#30a2da\",\"fill_alpha\":0.5,\"hatch_color\":\"#30a2da\"}},\"selection_glyph\":{\"type\":\"object\",\"name\":\"Patch\",\"id\":\"p2245\",\"attributes\":{\"tags\":[\"apply_ranges\"],\"x\":{\"type\":\"field\",\"field\":\"x\"},\"y\":{\"type\":\"field\",\"field\":\"y\"},\"fill_color\":\"#30a2da\",\"fill_alpha\":0.5,\"hatch_color\":\"#30a2da\"}},\"nonselection_glyph\":{\"type\":\"object\",\"name\":\"Patch\",\"id\":\"p2240\",\"attributes\":{\"tags\":[\"apply_ranges\"],\"x\":{\"type\":\"field\",\"field\":\"x\"},\"y\":{\"type\":\"field\",\"field\":\"y\"},\"line_alpha\":1,\"fill_color\":\"#30a2da\",\"fill_alpha\":0.5,\"hatch_color\":\"#30a2da\",\"hatch_alpha\":0.1}},\"muted_glyph\":{\"type\":\"object\",\"name\":\"Patch\",\"id\":\"p2241\",\"attributes\":{\"tags\":[\"apply_ranges\"],\"x\":{\"type\":\"field\",\"field\":\"x\"},\"y\":{\"type\":\"field\",\"field\":\"y\"},\"line_alpha\":0.2,\"fill_color\":\"#30a2da\",\"fill_alpha\":0.2,\"hatch_color\":\"#30a2da\",\"hatch_alpha\":0.2}}}}],\"tooltips\":[[\"sales\",\"@{sales}\"],[\"Density\",\"@{sales_density}\"]]}}]}},{\"type\":\"object\",\"name\":\"SaveTool\",\"id\":\"p2251\"},{\"type\":\"object\",\"name\":\"ToolProxy\",\"id\":\"p2252\",\"attributes\":{\"tools\":[{\"type\":\"object\",\"name\":\"PanTool\",\"id\":\"p1441\"},{\"type\":\"object\",\"name\":\"PanTool\",\"id\":\"p1490\"},{\"type\":\"object\",\"name\":\"PanTool\",\"id\":\"p1539\"},{\"type\":\"object\",\"name\":\"PanTool\",\"id\":\"p1588\"},{\"type\":\"object\",\"name\":\"PanTool\",\"id\":\"p1637\"},{\"type\":\"object\",\"name\":\"PanTool\",\"id\":\"p1686\"},{\"type\":\"object\",\"name\":\"PanTool\",\"id\":\"p1735\"},{\"type\":\"object\",\"name\":\"PanTool\",\"id\":\"p1784\"},{\"type\":\"object\",\"name\":\"PanTool\",\"id\":\"p1833\"},{\"type\":\"object\",\"name\":\"PanTool\",\"id\":\"p1882\"},{\"type\":\"object\",\"name\":\"PanTool\",\"id\":\"p1931\"},{\"type\":\"object\",\"name\":\"PanTool\",\"id\":\"p1980\"},{\"type\":\"object\",\"name\":\"PanTool\",\"id\":\"p2029\"},{\"type\":\"object\",\"name\":\"PanTool\",\"id\":\"p2078\"},{\"type\":\"object\",\"name\":\"PanTool\",\"id\":\"p2127\"},{\"type\":\"object\",\"name\":\"PanTool\",\"id\":\"p2176\"},{\"type\":\"object\",\"name\":\"PanTool\",\"id\":\"p2225\"}]}},{\"type\":\"object\",\"name\":\"ToolProxy\",\"id\":\"p2253\",\"attributes\":{\"tools\":[{\"type\":\"object\",\"name\":\"BoxZoomTool\",\"id\":\"p1442\",\"attributes\":{\"overlay\":{\"type\":\"object\",\"name\":\"BoxAnnotation\",\"id\":\"p1443\",\"attributes\":{\"syncable\":false,\"level\":\"overlay\",\"visible\":false,\"left\":{\"type\":\"number\",\"value\":\"nan\"},\"right\":{\"type\":\"number\",\"value\":\"nan\"},\"top\":{\"type\":\"number\",\"value\":\"nan\"},\"bottom\":{\"type\":\"number\",\"value\":\"nan\"},\"left_units\":\"canvas\",\"right_units\":\"canvas\",\"top_units\":\"canvas\",\"bottom_units\":\"canvas\",\"line_color\":\"black\",\"line_alpha\":1.0,\"line_width\":2,\"line_dash\":[4,4],\"fill_color\":\"lightgrey\",\"fill_alpha\":0.5}}}},{\"type\":\"object\",\"name\":\"BoxZoomTool\",\"id\":\"p1491\",\"attributes\":{\"overlay\":{\"type\":\"object\",\"name\":\"BoxAnnotation\",\"id\":\"p1492\",\"attributes\":{\"syncable\":false,\"level\":\"overlay\",\"visible\":false,\"left\":{\"type\":\"number\",\"value\":\"nan\"},\"right\":{\"type\":\"number\",\"value\":\"nan\"},\"top\":{\"type\":\"number\",\"value\":\"nan\"},\"bottom\":{\"type\":\"number\",\"value\":\"nan\"},\"left_units\":\"canvas\",\"right_units\":\"canvas\",\"top_units\":\"canvas\",\"bottom_units\":\"canvas\",\"line_color\":\"black\",\"line_alpha\":1.0,\"line_width\":2,\"line_dash\":[4,4],\"fill_color\":\"lightgrey\",\"fill_alpha\":0.5}}}},{\"type\":\"object\",\"name\":\"BoxZoomTool\",\"id\":\"p1540\",\"attributes\":{\"overlay\":{\"type\":\"object\",\"name\":\"BoxAnnotation\",\"id\":\"p1541\",\"attributes\":{\"syncable\":false,\"level\":\"overlay\",\"visible\":false,\"left\":{\"type\":\"number\",\"value\":\"nan\"},\"right\":{\"type\":\"number\",\"value\":\"nan\"},\"top\":{\"type\":\"number\",\"value\":\"nan\"},\"bottom\":{\"type\":\"number\",\"value\":\"nan\"},\"left_units\":\"canvas\",\"right_units\":\"canvas\",\"top_units\":\"canvas\",\"bottom_units\":\"canvas\",\"line_color\":\"black\",\"line_alpha\":1.0,\"line_width\":2,\"line_dash\":[4,4],\"fill_color\":\"lightgrey\",\"fill_alpha\":0.5}}}},{\"type\":\"object\",\"name\":\"BoxZoomTool\",\"id\":\"p1589\",\"attributes\":{\"overlay\":{\"type\":\"object\",\"name\":\"BoxAnnotation\",\"id\":\"p1590\",\"attributes\":{\"syncable\":false,\"level\":\"overlay\",\"visible\":false,\"left\":{\"type\":\"number\",\"value\":\"nan\"},\"right\":{\"type\":\"number\",\"value\":\"nan\"},\"top\":{\"type\":\"number\",\"value\":\"nan\"},\"bottom\":{\"type\":\"number\",\"value\":\"nan\"},\"left_units\":\"canvas\",\"right_units\":\"canvas\",\"top_units\":\"canvas\",\"bottom_units\":\"canvas\",\"line_color\":\"black\",\"line_alpha\":1.0,\"line_width\":2,\"line_dash\":[4,4],\"fill_color\":\"lightgrey\",\"fill_alpha\":0.5}}}},{\"type\":\"object\",\"name\":\"BoxZoomTool\",\"id\":\"p1638\",\"attributes\":{\"overlay\":{\"type\":\"object\",\"name\":\"BoxAnnotation\",\"id\":\"p1639\",\"attributes\":{\"syncable\":false,\"level\":\"overlay\",\"visible\":false,\"left\":{\"type\":\"number\",\"value\":\"nan\"},\"right\":{\"type\":\"number\",\"value\":\"nan\"},\"top\":{\"type\":\"number\",\"value\":\"nan\"},\"bottom\":{\"type\":\"number\",\"value\":\"nan\"},\"left_units\":\"canvas\",\"right_units\":\"canvas\",\"top_units\":\"canvas\",\"bottom_units\":\"canvas\",\"line_color\":\"black\",\"line_alpha\":1.0,\"line_width\":2,\"line_dash\":[4,4],\"fill_color\":\"lightgrey\",\"fill_alpha\":0.5}}}},{\"type\":\"object\",\"name\":\"BoxZoomTool\",\"id\":\"p1687\",\"attributes\":{\"overlay\":{\"type\":\"object\",\"name\":\"BoxAnnotation\",\"id\":\"p1688\",\"attributes\":{\"syncable\":false,\"level\":\"overlay\",\"visible\":false,\"left\":{\"type\":\"number\",\"value\":\"nan\"},\"right\":{\"type\":\"number\",\"value\":\"nan\"},\"top\":{\"type\":\"number\",\"value\":\"nan\"},\"bottom\":{\"type\":\"number\",\"value\":\"nan\"},\"left_units\":\"canvas\",\"right_units\":\"canvas\",\"top_units\":\"canvas\",\"bottom_units\":\"canvas\",\"line_color\":\"black\",\"line_alpha\":1.0,\"line_width\":2,\"line_dash\":[4,4],\"fill_color\":\"lightgrey\",\"fill_alpha\":0.5}}}},{\"type\":\"object\",\"name\":\"BoxZoomTool\",\"id\":\"p1736\",\"attributes\":{\"overlay\":{\"type\":\"object\",\"name\":\"BoxAnnotation\",\"id\":\"p1737\",\"attributes\":{\"syncable\":false,\"level\":\"overlay\",\"visible\":false,\"left\":{\"type\":\"number\",\"value\":\"nan\"},\"right\":{\"type\":\"number\",\"value\":\"nan\"},\"top\":{\"type\":\"number\",\"value\":\"nan\"},\"bottom\":{\"type\":\"number\",\"value\":\"nan\"},\"left_units\":\"canvas\",\"right_units\":\"canvas\",\"top_units\":\"canvas\",\"bottom_units\":\"canvas\",\"line_color\":\"black\",\"line_alpha\":1.0,\"line_width\":2,\"line_dash\":[4,4],\"fill_color\":\"lightgrey\",\"fill_alpha\":0.5}}}},{\"type\":\"object\",\"name\":\"BoxZoomTool\",\"id\":\"p1785\",\"attributes\":{\"overlay\":{\"type\":\"object\",\"name\":\"BoxAnnotation\",\"id\":\"p1786\",\"attributes\":{\"syncable\":false,\"level\":\"overlay\",\"visible\":false,\"left\":{\"type\":\"number\",\"value\":\"nan\"},\"right\":{\"type\":\"number\",\"value\":\"nan\"},\"top\":{\"type\":\"number\",\"value\":\"nan\"},\"bottom\":{\"type\":\"number\",\"value\":\"nan\"},\"left_units\":\"canvas\",\"right_units\":\"canvas\",\"top_units\":\"canvas\",\"bottom_units\":\"canvas\",\"line_color\":\"black\",\"line_alpha\":1.0,\"line_width\":2,\"line_dash\":[4,4],\"fill_color\":\"lightgrey\",\"fill_alpha\":0.5}}}},{\"type\":\"object\",\"name\":\"BoxZoomTool\",\"id\":\"p1834\",\"attributes\":{\"overlay\":{\"type\":\"object\",\"name\":\"BoxAnnotation\",\"id\":\"p1835\",\"attributes\":{\"syncable\":false,\"level\":\"overlay\",\"visible\":false,\"left\":{\"type\":\"number\",\"value\":\"nan\"},\"right\":{\"type\":\"number\",\"value\":\"nan\"},\"top\":{\"type\":\"number\",\"value\":\"nan\"},\"bottom\":{\"type\":\"number\",\"value\":\"nan\"},\"left_units\":\"canvas\",\"right_units\":\"canvas\",\"top_units\":\"canvas\",\"bottom_units\":\"canvas\",\"line_color\":\"black\",\"line_alpha\":1.0,\"line_width\":2,\"line_dash\":[4,4],\"fill_color\":\"lightgrey\",\"fill_alpha\":0.5}}}},{\"type\":\"object\",\"name\":\"BoxZoomTool\",\"id\":\"p1883\",\"attributes\":{\"overlay\":{\"type\":\"object\",\"name\":\"BoxAnnotation\",\"id\":\"p1884\",\"attributes\":{\"syncable\":false,\"level\":\"overlay\",\"visible\":false,\"left\":{\"type\":\"number\",\"value\":\"nan\"},\"right\":{\"type\":\"number\",\"value\":\"nan\"},\"top\":{\"type\":\"number\",\"value\":\"nan\"},\"bottom\":{\"type\":\"number\",\"value\":\"nan\"},\"left_units\":\"canvas\",\"right_units\":\"canvas\",\"top_units\":\"canvas\",\"bottom_units\":\"canvas\",\"line_color\":\"black\",\"line_alpha\":1.0,\"line_width\":2,\"line_dash\":[4,4],\"fill_color\":\"lightgrey\",\"fill_alpha\":0.5}}}},{\"type\":\"object\",\"name\":\"BoxZoomTool\",\"id\":\"p1932\",\"attributes\":{\"overlay\":{\"type\":\"object\",\"name\":\"BoxAnnotation\",\"id\":\"p1933\",\"attributes\":{\"syncable\":false,\"level\":\"overlay\",\"visible\":false,\"left\":{\"type\":\"number\",\"value\":\"nan\"},\"right\":{\"type\":\"number\",\"value\":\"nan\"},\"top\":{\"type\":\"number\",\"value\":\"nan\"},\"bottom\":{\"type\":\"number\",\"value\":\"nan\"},\"left_units\":\"canvas\",\"right_units\":\"canvas\",\"top_units\":\"canvas\",\"bottom_units\":\"canvas\",\"line_color\":\"black\",\"line_alpha\":1.0,\"line_width\":2,\"line_dash\":[4,4],\"fill_color\":\"lightgrey\",\"fill_alpha\":0.5}}}},{\"type\":\"object\",\"name\":\"BoxZoomTool\",\"id\":\"p1981\",\"attributes\":{\"overlay\":{\"type\":\"object\",\"name\":\"BoxAnnotation\",\"id\":\"p1982\",\"attributes\":{\"syncable\":false,\"level\":\"overlay\",\"visible\":false,\"left\":{\"type\":\"number\",\"value\":\"nan\"},\"right\":{\"type\":\"number\",\"value\":\"nan\"},\"top\":{\"type\":\"number\",\"value\":\"nan\"},\"bottom\":{\"type\":\"number\",\"value\":\"nan\"},\"left_units\":\"canvas\",\"right_units\":\"canvas\",\"top_units\":\"canvas\",\"bottom_units\":\"canvas\",\"line_color\":\"black\",\"line_alpha\":1.0,\"line_width\":2,\"line_dash\":[4,4],\"fill_color\":\"lightgrey\",\"fill_alpha\":0.5}}}},{\"type\":\"object\",\"name\":\"BoxZoomTool\",\"id\":\"p2030\",\"attributes\":{\"overlay\":{\"type\":\"object\",\"name\":\"BoxAnnotation\",\"id\":\"p2031\",\"attributes\":{\"syncable\":false,\"level\":\"overlay\",\"visible\":false,\"left\":{\"type\":\"number\",\"value\":\"nan\"},\"right\":{\"type\":\"number\",\"value\":\"nan\"},\"top\":{\"type\":\"number\",\"value\":\"nan\"},\"bottom\":{\"type\":\"number\",\"value\":\"nan\"},\"left_units\":\"canvas\",\"right_units\":\"canvas\",\"top_units\":\"canvas\",\"bottom_units\":\"canvas\",\"line_color\":\"black\",\"line_alpha\":1.0,\"line_width\":2,\"line_dash\":[4,4],\"fill_color\":\"lightgrey\",\"fill_alpha\":0.5}}}},{\"type\":\"object\",\"name\":\"BoxZoomTool\",\"id\":\"p2079\",\"attributes\":{\"overlay\":{\"type\":\"object\",\"name\":\"BoxAnnotation\",\"id\":\"p2080\",\"attributes\":{\"syncable\":false,\"level\":\"overlay\",\"visible\":false,\"left\":{\"type\":\"number\",\"value\":\"nan\"},\"right\":{\"type\":\"number\",\"value\":\"nan\"},\"top\":{\"type\":\"number\",\"value\":\"nan\"},\"bottom\":{\"type\":\"number\",\"value\":\"nan\"},\"left_units\":\"canvas\",\"right_units\":\"canvas\",\"top_units\":\"canvas\",\"bottom_units\":\"canvas\",\"line_color\":\"black\",\"line_alpha\":1.0,\"line_width\":2,\"line_dash\":[4,4],\"fill_color\":\"lightgrey\",\"fill_alpha\":0.5}}}},{\"type\":\"object\",\"name\":\"BoxZoomTool\",\"id\":\"p2128\",\"attributes\":{\"overlay\":{\"type\":\"object\",\"name\":\"BoxAnnotation\",\"id\":\"p2129\",\"attributes\":{\"syncable\":false,\"level\":\"overlay\",\"visible\":false,\"left\":{\"type\":\"number\",\"value\":\"nan\"},\"right\":{\"type\":\"number\",\"value\":\"nan\"},\"top\":{\"type\":\"number\",\"value\":\"nan\"},\"bottom\":{\"type\":\"number\",\"value\":\"nan\"},\"left_units\":\"canvas\",\"right_units\":\"canvas\",\"top_units\":\"canvas\",\"bottom_units\":\"canvas\",\"line_color\":\"black\",\"line_alpha\":1.0,\"line_width\":2,\"line_dash\":[4,4],\"fill_color\":\"lightgrey\",\"fill_alpha\":0.5}}}},{\"type\":\"object\",\"name\":\"BoxZoomTool\",\"id\":\"p2177\",\"attributes\":{\"overlay\":{\"type\":\"object\",\"name\":\"BoxAnnotation\",\"id\":\"p2178\",\"attributes\":{\"syncable\":false,\"level\":\"overlay\",\"visible\":false,\"left\":{\"type\":\"number\",\"value\":\"nan\"},\"right\":{\"type\":\"number\",\"value\":\"nan\"},\"top\":{\"type\":\"number\",\"value\":\"nan\"},\"bottom\":{\"type\":\"number\",\"value\":\"nan\"},\"left_units\":\"canvas\",\"right_units\":\"canvas\",\"top_units\":\"canvas\",\"bottom_units\":\"canvas\",\"line_color\":\"black\",\"line_alpha\":1.0,\"line_width\":2,\"line_dash\":[4,4],\"fill_color\":\"lightgrey\",\"fill_alpha\":0.5}}}},{\"type\":\"object\",\"name\":\"BoxZoomTool\",\"id\":\"p2226\",\"attributes\":{\"overlay\":{\"type\":\"object\",\"name\":\"BoxAnnotation\",\"id\":\"p2227\",\"attributes\":{\"syncable\":false,\"level\":\"overlay\",\"visible\":false,\"left\":{\"type\":\"number\",\"value\":\"nan\"},\"right\":{\"type\":\"number\",\"value\":\"nan\"},\"top\":{\"type\":\"number\",\"value\":\"nan\"},\"bottom\":{\"type\":\"number\",\"value\":\"nan\"},\"left_units\":\"canvas\",\"right_units\":\"canvas\",\"top_units\":\"canvas\",\"bottom_units\":\"canvas\",\"line_color\":\"black\",\"line_alpha\":1.0,\"line_width\":2,\"line_dash\":[4,4],\"fill_color\":\"lightgrey\",\"fill_alpha\":0.5}}}}]}},{\"type\":\"object\",\"name\":\"ToolProxy\",\"id\":\"p2254\",\"attributes\":{\"tools\":[{\"type\":\"object\",\"name\":\"ResetTool\",\"id\":\"p1448\"},{\"type\":\"object\",\"name\":\"ResetTool\",\"id\":\"p1497\"},{\"type\":\"object\",\"name\":\"ResetTool\",\"id\":\"p1546\"},{\"type\":\"object\",\"name\":\"ResetTool\",\"id\":\"p1595\"},{\"type\":\"object\",\"name\":\"ResetTool\",\"id\":\"p1644\"},{\"type\":\"object\",\"name\":\"ResetTool\",\"id\":\"p1693\"},{\"type\":\"object\",\"name\":\"ResetTool\",\"id\":\"p1742\"},{\"type\":\"object\",\"name\":\"ResetTool\",\"id\":\"p1791\"},{\"type\":\"object\",\"name\":\"ResetTool\",\"id\":\"p1840\"},{\"type\":\"object\",\"name\":\"ResetTool\",\"id\":\"p1889\"},{\"type\":\"object\",\"name\":\"ResetTool\",\"id\":\"p1938\"},{\"type\":\"object\",\"name\":\"ResetTool\",\"id\":\"p1987\"},{\"type\":\"object\",\"name\":\"ResetTool\",\"id\":\"p2036\"},{\"type\":\"object\",\"name\":\"ResetTool\",\"id\":\"p2085\"},{\"type\":\"object\",\"name\":\"ResetTool\",\"id\":\"p2134\"},{\"type\":\"object\",\"name\":\"ResetTool\",\"id\":\"p2183\"},{\"type\":\"object\",\"name\":\"ResetTool\",\"id\":\"p2232\"}]}}]}},\"children\":[[{\"type\":\"object\",\"name\":\"Figure\",\"id\":\"p1418\",\"attributes\":{\"width\":700,\"height\":300,\"sizing_mode\":\"fixed\",\"align\":\"start\",\"x_range\":{\"type\":\"object\",\"name\":\"Range1d\",\"id\":\"p1411\",\"attributes\":{\"tags\":[[[\"sales\",null]],[]],\"start\":-13969.341753671928,\"end\":60521.20375367193,\"reset_start\":-13969.341753671928,\"reset_end\":60521.20375367193}},\"y_range\":{\"type\":\"object\",\"name\":\"Range1d\",\"id\":\"p1412\",\"attributes\":{\"tags\":[[[\"Density\",null]],{\"type\":\"map\",\"entries\":[[\"invert_yaxis\",false],[\"autorange\",false]]}],\"end\":3.116263714148807e-05,\"reset_start\":0.0,\"reset_end\":3.116263714148807e-05}},\"x_scale\":{\"type\":\"object\",\"name\":\"LinearScale\",\"id\":\"p1428\"},\"y_scale\":{\"type\":\"object\",\"name\":\"LinearScale\",\"id\":\"p1429\"},\"title\":{\"type\":\"object\",\"name\":\"Title\",\"id\":\"p1421\",\"attributes\":{\"text\":\"sub_category: Accessories\",\"text_color\":\"black\",\"text_font_size\":\"12pt\"}},\"renderers\":[{\"id\":\"p1458\"}],\"toolbar\":{\"type\":\"object\",\"name\":\"Toolbar\",\"id\":\"p1427\",\"attributes\":{\"tools\":[{\"id\":\"p1416\"},{\"id\":\"p1417\"},{\"type\":\"object\",\"name\":\"SaveTool\",\"id\":\"p1440\"},{\"id\":\"p1441\"},{\"id\":\"p1442\"},{\"id\":\"p1448\"}],\"active_drag\":{\"id\":\"p1441\"},\"active_scroll\":{\"id\":\"p1416\"}}},\"toolbar_location\":null,\"left\":[{\"type\":\"object\",\"name\":\"LinearAxis\",\"id\":\"p1435\",\"attributes\":{\"ticker\":{\"type\":\"object\",\"name\":\"BasicTicker\",\"id\":\"p1436\",\"attributes\":{\"mantissas\":[1,2,5]}},\"formatter\":{\"type\":\"object\",\"name\":\"BasicTickFormatter\",\"id\":\"p1437\"},\"axis_label\":\"Density\",\"major_label_policy\":{\"type\":\"object\",\"name\":\"AllLabels\",\"id\":\"p1438\"}}}],\"below\":[{\"type\":\"object\",\"name\":\"LinearAxis\",\"id\":\"p1430\",\"attributes\":{\"ticker\":{\"type\":\"object\",\"name\":\"BasicTicker\",\"id\":\"p1431\",\"attributes\":{\"mantissas\":[1,2,5]}},\"formatter\":{\"type\":\"object\",\"name\":\"BasicTickFormatter\",\"id\":\"p1432\"},\"axis_label\":\"sales\",\"major_label_policy\":{\"type\":\"object\",\"name\":\"AllLabels\",\"id\":\"p1433\"}}}],\"center\":[{\"type\":\"object\",\"name\":\"Grid\",\"id\":\"p1434\",\"attributes\":{\"axis\":{\"id\":\"p1430\"},\"grid_line_color\":null}},{\"type\":\"object\",\"name\":\"Grid\",\"id\":\"p1439\",\"attributes\":{\"dimension\":1,\"axis\":{\"id\":\"p1435\"},\"grid_line_color\":null}}],\"min_border_top\":10,\"min_border_bottom\":10,\"min_border_left\":10,\"min_border_right\":10,\"output_backend\":\"webgl\"}},0,0],[{\"type\":\"object\",\"name\":\"Figure\",\"id\":\"p1467\",\"attributes\":{\"width\":700,\"height\":300,\"sizing_mode\":\"fixed\",\"align\":\"start\",\"x_range\":{\"id\":\"p1411\"},\"y_range\":{\"id\":\"p1412\"},\"x_scale\":{\"type\":\"object\",\"name\":\"LinearScale\",\"id\":\"p1477\"},\"y_scale\":{\"type\":\"object\",\"name\":\"LinearScale\",\"id\":\"p1478\"},\"title\":{\"type\":\"object\",\"name\":\"Title\",\"id\":\"p1470\",\"attributes\":{\"text\":\"sub_category: Appliances\",\"text_color\":\"black\",\"text_font_size\":\"12pt\"}},\"renderers\":[{\"id\":\"p1507\"}],\"toolbar\":{\"type\":\"object\",\"name\":\"Toolbar\",\"id\":\"p1476\",\"attributes\":{\"tools\":[{\"id\":\"p1465\"},{\"id\":\"p1466\"},{\"type\":\"object\",\"name\":\"SaveTool\",\"id\":\"p1489\"},{\"id\":\"p1490\"},{\"id\":\"p1491\"},{\"id\":\"p1497\"}],\"active_drag\":{\"id\":\"p1490\"},\"active_scroll\":{\"id\":\"p1465\"}}},\"toolbar_location\":null,\"left\":[{\"type\":\"object\",\"name\":\"LinearAxis\",\"id\":\"p1484\",\"attributes\":{\"ticker\":{\"type\":\"object\",\"name\":\"BasicTicker\",\"id\":\"p1485\",\"attributes\":{\"mantissas\":[1,2,5]}},\"formatter\":{\"type\":\"object\",\"name\":\"BasicTickFormatter\",\"id\":\"p1486\"},\"axis_label\":\"Density\",\"major_label_policy\":{\"type\":\"object\",\"name\":\"AllLabels\",\"id\":\"p1487\"}}}],\"below\":[{\"type\":\"object\",\"name\":\"LinearAxis\",\"id\":\"p1479\",\"attributes\":{\"ticker\":{\"type\":\"object\",\"name\":\"BasicTicker\",\"id\":\"p1480\",\"attributes\":{\"mantissas\":[1,2,5]}},\"formatter\":{\"type\":\"object\",\"name\":\"BasicTickFormatter\",\"id\":\"p1481\"},\"axis_label\":\"sales\",\"major_label_policy\":{\"type\":\"object\",\"name\":\"AllLabels\",\"id\":\"p1482\"}}}],\"center\":[{\"type\":\"object\",\"name\":\"Grid\",\"id\":\"p1483\",\"attributes\":{\"axis\":{\"id\":\"p1479\"},\"grid_line_color\":null}},{\"type\":\"object\",\"name\":\"Grid\",\"id\":\"p1488\",\"attributes\":{\"dimension\":1,\"axis\":{\"id\":\"p1484\"},\"grid_line_color\":null}}],\"min_border_top\":10,\"min_border_bottom\":10,\"min_border_left\":10,\"min_border_right\":10,\"output_backend\":\"webgl\"}},0,1],[{\"type\":\"object\",\"name\":\"Figure\",\"id\":\"p1516\",\"attributes\":{\"width\":700,\"height\":300,\"sizing_mode\":\"fixed\",\"align\":\"start\",\"x_range\":{\"id\":\"p1411\"},\"y_range\":{\"id\":\"p1412\"},\"x_scale\":{\"type\":\"object\",\"name\":\"LinearScale\",\"id\":\"p1526\"},\"y_scale\":{\"type\":\"object\",\"name\":\"LinearScale\",\"id\":\"p1527\"},\"title\":{\"type\":\"object\",\"name\":\"Title\",\"id\":\"p1519\",\"attributes\":{\"text\":\"sub_category: Art\",\"text_color\":\"black\",\"text_font_size\":\"12pt\"}},\"renderers\":[{\"id\":\"p1556\"}],\"toolbar\":{\"type\":\"object\",\"name\":\"Toolbar\",\"id\":\"p1525\",\"attributes\":{\"tools\":[{\"id\":\"p1514\"},{\"id\":\"p1515\"},{\"type\":\"object\",\"name\":\"SaveTool\",\"id\":\"p1538\"},{\"id\":\"p1539\"},{\"id\":\"p1540\"},{\"id\":\"p1546\"}],\"active_drag\":{\"id\":\"p1539\"},\"active_scroll\":{\"id\":\"p1514\"}}},\"toolbar_location\":null,\"left\":[{\"type\":\"object\",\"name\":\"LinearAxis\",\"id\":\"p1533\",\"attributes\":{\"ticker\":{\"type\":\"object\",\"name\":\"BasicTicker\",\"id\":\"p1534\",\"attributes\":{\"mantissas\":[1,2,5]}},\"formatter\":{\"type\":\"object\",\"name\":\"BasicTickFormatter\",\"id\":\"p1535\"},\"axis_label\":\"Density\",\"major_label_policy\":{\"type\":\"object\",\"name\":\"AllLabels\",\"id\":\"p1536\"}}}],\"below\":[{\"type\":\"object\",\"name\":\"LinearAxis\",\"id\":\"p1528\",\"attributes\":{\"ticker\":{\"type\":\"object\",\"name\":\"BasicTicker\",\"id\":\"p1529\",\"attributes\":{\"mantissas\":[1,2,5]}},\"formatter\":{\"type\":\"object\",\"name\":\"BasicTickFormatter\",\"id\":\"p1530\"},\"axis_label\":\"sales\",\"major_label_policy\":{\"type\":\"object\",\"name\":\"AllLabels\",\"id\":\"p1531\"}}}],\"center\":[{\"type\":\"object\",\"name\":\"Grid\",\"id\":\"p1532\",\"attributes\":{\"axis\":{\"id\":\"p1528\"},\"grid_line_color\":null}},{\"type\":\"object\",\"name\":\"Grid\",\"id\":\"p1537\",\"attributes\":{\"dimension\":1,\"axis\":{\"id\":\"p1533\"},\"grid_line_color\":null}}],\"min_border_top\":10,\"min_border_bottom\":10,\"min_border_left\":10,\"min_border_right\":10,\"output_backend\":\"webgl\"}},0,2],[{\"type\":\"object\",\"name\":\"Figure\",\"id\":\"p1565\",\"attributes\":{\"width\":700,\"height\":300,\"sizing_mode\":\"fixed\",\"align\":\"start\",\"x_range\":{\"id\":\"p1411\"},\"y_range\":{\"id\":\"p1412\"},\"x_scale\":{\"type\":\"object\",\"name\":\"LinearScale\",\"id\":\"p1575\"},\"y_scale\":{\"type\":\"object\",\"name\":\"LinearScale\",\"id\":\"p1576\"},\"title\":{\"type\":\"object\",\"name\":\"Title\",\"id\":\"p1568\",\"attributes\":{\"text\":\"sub_category: Binders\",\"text_color\":\"black\",\"text_font_size\":\"12pt\"}},\"renderers\":[{\"id\":\"p1605\"}],\"toolbar\":{\"type\":\"object\",\"name\":\"Toolbar\",\"id\":\"p1574\",\"attributes\":{\"tools\":[{\"id\":\"p1563\"},{\"id\":\"p1564\"},{\"type\":\"object\",\"name\":\"SaveTool\",\"id\":\"p1587\"},{\"id\":\"p1588\"},{\"id\":\"p1589\"},{\"id\":\"p1595\"}],\"active_drag\":{\"id\":\"p1588\"},\"active_scroll\":{\"id\":\"p1563\"}}},\"toolbar_location\":null,\"left\":[{\"type\":\"object\",\"name\":\"LinearAxis\",\"id\":\"p1582\",\"attributes\":{\"ticker\":{\"type\":\"object\",\"name\":\"BasicTicker\",\"id\":\"p1583\",\"attributes\":{\"mantissas\":[1,2,5]}},\"formatter\":{\"type\":\"object\",\"name\":\"BasicTickFormatter\",\"id\":\"p1584\"},\"axis_label\":\"Density\",\"major_label_policy\":{\"type\":\"object\",\"name\":\"AllLabels\",\"id\":\"p1585\"}}}],\"below\":[{\"type\":\"object\",\"name\":\"LinearAxis\",\"id\":\"p1577\",\"attributes\":{\"ticker\":{\"type\":\"object\",\"name\":\"BasicTicker\",\"id\":\"p1578\",\"attributes\":{\"mantissas\":[1,2,5]}},\"formatter\":{\"type\":\"object\",\"name\":\"BasicTickFormatter\",\"id\":\"p1579\"},\"axis_label\":\"sales\",\"major_label_policy\":{\"type\":\"object\",\"name\":\"AllLabels\",\"id\":\"p1580\"}}}],\"center\":[{\"type\":\"object\",\"name\":\"Grid\",\"id\":\"p1581\",\"attributes\":{\"axis\":{\"id\":\"p1577\"},\"grid_line_color\":null}},{\"type\":\"object\",\"name\":\"Grid\",\"id\":\"p1586\",\"attributes\":{\"dimension\":1,\"axis\":{\"id\":\"p1582\"},\"grid_line_color\":null}}],\"min_border_top\":10,\"min_border_bottom\":10,\"min_border_left\":10,\"min_border_right\":10,\"output_backend\":\"webgl\"}},0,3],[{\"type\":\"object\",\"name\":\"Figure\",\"id\":\"p1614\",\"attributes\":{\"width\":700,\"height\":300,\"sizing_mode\":\"fixed\",\"align\":\"start\",\"x_range\":{\"id\":\"p1411\"},\"y_range\":{\"id\":\"p1412\"},\"x_scale\":{\"type\":\"object\",\"name\":\"LinearScale\",\"id\":\"p1624\"},\"y_scale\":{\"type\":\"object\",\"name\":\"LinearScale\",\"id\":\"p1625\"},\"title\":{\"type\":\"object\",\"name\":\"Title\",\"id\":\"p1617\",\"attributes\":{\"text\":\"sub_category: Bookcases\",\"text_color\":\"black\",\"text_font_size\":\"12pt\"}},\"renderers\":[{\"id\":\"p1654\"}],\"toolbar\":{\"type\":\"object\",\"name\":\"Toolbar\",\"id\":\"p1623\",\"attributes\":{\"tools\":[{\"id\":\"p1612\"},{\"id\":\"p1613\"},{\"type\":\"object\",\"name\":\"SaveTool\",\"id\":\"p1636\"},{\"id\":\"p1637\"},{\"id\":\"p1638\"},{\"id\":\"p1644\"}],\"active_drag\":{\"id\":\"p1637\"},\"active_scroll\":{\"id\":\"p1612\"}}},\"toolbar_location\":null,\"left\":[{\"type\":\"object\",\"name\":\"LinearAxis\",\"id\":\"p1631\",\"attributes\":{\"ticker\":{\"type\":\"object\",\"name\":\"BasicTicker\",\"id\":\"p1632\",\"attributes\":{\"mantissas\":[1,2,5]}},\"formatter\":{\"type\":\"object\",\"name\":\"BasicTickFormatter\",\"id\":\"p1633\"},\"axis_label\":\"Density\",\"major_label_policy\":{\"type\":\"object\",\"name\":\"AllLabels\",\"id\":\"p1634\"}}}],\"below\":[{\"type\":\"object\",\"name\":\"LinearAxis\",\"id\":\"p1626\",\"attributes\":{\"ticker\":{\"type\":\"object\",\"name\":\"BasicTicker\",\"id\":\"p1627\",\"attributes\":{\"mantissas\":[1,2,5]}},\"formatter\":{\"type\":\"object\",\"name\":\"BasicTickFormatter\",\"id\":\"p1628\"},\"axis_label\":\"sales\",\"major_label_policy\":{\"type\":\"object\",\"name\":\"AllLabels\",\"id\":\"p1629\"}}}],\"center\":[{\"type\":\"object\",\"name\":\"Grid\",\"id\":\"p1630\",\"attributes\":{\"axis\":{\"id\":\"p1626\"},\"grid_line_color\":null}},{\"type\":\"object\",\"name\":\"Grid\",\"id\":\"p1635\",\"attributes\":{\"dimension\":1,\"axis\":{\"id\":\"p1631\"},\"grid_line_color\":null}}],\"min_border_top\":10,\"min_border_bottom\":10,\"min_border_left\":10,\"min_border_right\":10,\"output_backend\":\"webgl\"}},1,0],[{\"type\":\"object\",\"name\":\"Figure\",\"id\":\"p1663\",\"attributes\":{\"width\":700,\"height\":300,\"sizing_mode\":\"fixed\",\"align\":\"start\",\"x_range\":{\"id\":\"p1411\"},\"y_range\":{\"id\":\"p1412\"},\"x_scale\":{\"type\":\"object\",\"name\":\"LinearScale\",\"id\":\"p1673\"},\"y_scale\":{\"type\":\"object\",\"name\":\"LinearScale\",\"id\":\"p1674\"},\"title\":{\"type\":\"object\",\"name\":\"Title\",\"id\":\"p1666\",\"attributes\":{\"text\":\"sub_category: Chairs\",\"text_color\":\"black\",\"text_font_size\":\"12pt\"}},\"renderers\":[{\"id\":\"p1703\"}],\"toolbar\":{\"type\":\"object\",\"name\":\"Toolbar\",\"id\":\"p1672\",\"attributes\":{\"tools\":[{\"id\":\"p1661\"},{\"id\":\"p1662\"},{\"type\":\"object\",\"name\":\"SaveTool\",\"id\":\"p1685\"},{\"id\":\"p1686\"},{\"id\":\"p1687\"},{\"id\":\"p1693\"}],\"active_drag\":{\"id\":\"p1686\"},\"active_scroll\":{\"id\":\"p1661\"}}},\"toolbar_location\":null,\"left\":[{\"type\":\"object\",\"name\":\"LinearAxis\",\"id\":\"p1680\",\"attributes\":{\"ticker\":{\"type\":\"object\",\"name\":\"BasicTicker\",\"id\":\"p1681\",\"attributes\":{\"mantissas\":[1,2,5]}},\"formatter\":{\"type\":\"object\",\"name\":\"BasicTickFormatter\",\"id\":\"p1682\"},\"axis_label\":\"Density\",\"major_label_policy\":{\"type\":\"object\",\"name\":\"AllLabels\",\"id\":\"p1683\"}}}],\"below\":[{\"type\":\"object\",\"name\":\"LinearAxis\",\"id\":\"p1675\",\"attributes\":{\"ticker\":{\"type\":\"object\",\"name\":\"BasicTicker\",\"id\":\"p1676\",\"attributes\":{\"mantissas\":[1,2,5]}},\"formatter\":{\"type\":\"object\",\"name\":\"BasicTickFormatter\",\"id\":\"p1677\"},\"axis_label\":\"sales\",\"major_label_policy\":{\"type\":\"object\",\"name\":\"AllLabels\",\"id\":\"p1678\"}}}],\"center\":[{\"type\":\"object\",\"name\":\"Grid\",\"id\":\"p1679\",\"attributes\":{\"axis\":{\"id\":\"p1675\"},\"grid_line_color\":null}},{\"type\":\"object\",\"name\":\"Grid\",\"id\":\"p1684\",\"attributes\":{\"dimension\":1,\"axis\":{\"id\":\"p1680\"},\"grid_line_color\":null}}],\"min_border_top\":10,\"min_border_bottom\":10,\"min_border_left\":10,\"min_border_right\":10,\"output_backend\":\"webgl\"}},1,1],[{\"type\":\"object\",\"name\":\"Figure\",\"id\":\"p1712\",\"attributes\":{\"width\":700,\"height\":300,\"sizing_mode\":\"fixed\",\"align\":\"start\",\"x_range\":{\"id\":\"p1411\"},\"y_range\":{\"id\":\"p1412\"},\"x_scale\":{\"type\":\"object\",\"name\":\"LinearScale\",\"id\":\"p1722\"},\"y_scale\":{\"type\":\"object\",\"name\":\"LinearScale\",\"id\":\"p1723\"},\"title\":{\"type\":\"object\",\"name\":\"Title\",\"id\":\"p1715\",\"attributes\":{\"text\":\"sub_category: Copiers\",\"text_color\":\"black\",\"text_font_size\":\"12pt\"}},\"renderers\":[{\"id\":\"p1752\"}],\"toolbar\":{\"type\":\"object\",\"name\":\"Toolbar\",\"id\":\"p1721\",\"attributes\":{\"tools\":[{\"id\":\"p1710\"},{\"id\":\"p1711\"},{\"type\":\"object\",\"name\":\"SaveTool\",\"id\":\"p1734\"},{\"id\":\"p1735\"},{\"id\":\"p1736\"},{\"id\":\"p1742\"}],\"active_drag\":{\"id\":\"p1735\"},\"active_scroll\":{\"id\":\"p1710\"}}},\"toolbar_location\":null,\"left\":[{\"type\":\"object\",\"name\":\"LinearAxis\",\"id\":\"p1729\",\"attributes\":{\"ticker\":{\"type\":\"object\",\"name\":\"BasicTicker\",\"id\":\"p1730\",\"attributes\":{\"mantissas\":[1,2,5]}},\"formatter\":{\"type\":\"object\",\"name\":\"BasicTickFormatter\",\"id\":\"p1731\"},\"axis_label\":\"Density\",\"major_label_policy\":{\"type\":\"object\",\"name\":\"AllLabels\",\"id\":\"p1732\"}}}],\"below\":[{\"type\":\"object\",\"name\":\"LinearAxis\",\"id\":\"p1724\",\"attributes\":{\"ticker\":{\"type\":\"object\",\"name\":\"BasicTicker\",\"id\":\"p1725\",\"attributes\":{\"mantissas\":[1,2,5]}},\"formatter\":{\"type\":\"object\",\"name\":\"BasicTickFormatter\",\"id\":\"p1726\"},\"axis_label\":\"sales\",\"major_label_policy\":{\"type\":\"object\",\"name\":\"AllLabels\",\"id\":\"p1727\"}}}],\"center\":[{\"type\":\"object\",\"name\":\"Grid\",\"id\":\"p1728\",\"attributes\":{\"axis\":{\"id\":\"p1724\"},\"grid_line_color\":null}},{\"type\":\"object\",\"name\":\"Grid\",\"id\":\"p1733\",\"attributes\":{\"dimension\":1,\"axis\":{\"id\":\"p1729\"},\"grid_line_color\":null}}],\"min_border_top\":10,\"min_border_bottom\":10,\"min_border_left\":10,\"min_border_right\":10,\"output_backend\":\"webgl\"}},1,2],[{\"type\":\"object\",\"name\":\"Figure\",\"id\":\"p1761\",\"attributes\":{\"width\":700,\"height\":300,\"sizing_mode\":\"fixed\",\"align\":\"start\",\"x_range\":{\"id\":\"p1411\"},\"y_range\":{\"id\":\"p1412\"},\"x_scale\":{\"type\":\"object\",\"name\":\"LinearScale\",\"id\":\"p1771\"},\"y_scale\":{\"type\":\"object\",\"name\":\"LinearScale\",\"id\":\"p1772\"},\"title\":{\"type\":\"object\",\"name\":\"Title\",\"id\":\"p1764\",\"attributes\":{\"text\":\"sub_category: Envelopes\",\"text_color\":\"black\",\"text_font_size\":\"12pt\"}},\"renderers\":[{\"id\":\"p1801\"}],\"toolbar\":{\"type\":\"object\",\"name\":\"Toolbar\",\"id\":\"p1770\",\"attributes\":{\"tools\":[{\"id\":\"p1759\"},{\"id\":\"p1760\"},{\"type\":\"object\",\"name\":\"SaveTool\",\"id\":\"p1783\"},{\"id\":\"p1784\"},{\"id\":\"p1785\"},{\"id\":\"p1791\"}],\"active_drag\":{\"id\":\"p1784\"},\"active_scroll\":{\"id\":\"p1759\"}}},\"toolbar_location\":null,\"left\":[{\"type\":\"object\",\"name\":\"LinearAxis\",\"id\":\"p1778\",\"attributes\":{\"ticker\":{\"type\":\"object\",\"name\":\"BasicTicker\",\"id\":\"p1779\",\"attributes\":{\"mantissas\":[1,2,5]}},\"formatter\":{\"type\":\"object\",\"name\":\"BasicTickFormatter\",\"id\":\"p1780\"},\"axis_label\":\"Density\",\"major_label_policy\":{\"type\":\"object\",\"name\":\"AllLabels\",\"id\":\"p1781\"}}}],\"below\":[{\"type\":\"object\",\"name\":\"LinearAxis\",\"id\":\"p1773\",\"attributes\":{\"ticker\":{\"type\":\"object\",\"name\":\"BasicTicker\",\"id\":\"p1774\",\"attributes\":{\"mantissas\":[1,2,5]}},\"formatter\":{\"type\":\"object\",\"name\":\"BasicTickFormatter\",\"id\":\"p1775\"},\"axis_label\":\"sales\",\"major_label_policy\":{\"type\":\"object\",\"name\":\"AllLabels\",\"id\":\"p1776\"}}}],\"center\":[{\"type\":\"object\",\"name\":\"Grid\",\"id\":\"p1777\",\"attributes\":{\"axis\":{\"id\":\"p1773\"},\"grid_line_color\":null}},{\"type\":\"object\",\"name\":\"Grid\",\"id\":\"p1782\",\"attributes\":{\"dimension\":1,\"axis\":{\"id\":\"p1778\"},\"grid_line_color\":null}}],\"min_border_top\":10,\"min_border_bottom\":10,\"min_border_left\":10,\"min_border_right\":10,\"output_backend\":\"webgl\"}},1,3],[{\"type\":\"object\",\"name\":\"Figure\",\"id\":\"p1810\",\"attributes\":{\"width\":700,\"height\":300,\"sizing_mode\":\"fixed\",\"align\":\"start\",\"x_range\":{\"id\":\"p1411\"},\"y_range\":{\"id\":\"p1412\"},\"x_scale\":{\"type\":\"object\",\"name\":\"LinearScale\",\"id\":\"p1820\"},\"y_scale\":{\"type\":\"object\",\"name\":\"LinearScale\",\"id\":\"p1821\"},\"title\":{\"type\":\"object\",\"name\":\"Title\",\"id\":\"p1813\",\"attributes\":{\"text\":\"sub_category: Fasteners\",\"text_color\":\"black\",\"text_font_size\":\"12pt\"}},\"renderers\":[{\"id\":\"p1850\"}],\"toolbar\":{\"type\":\"object\",\"name\":\"Toolbar\",\"id\":\"p1819\",\"attributes\":{\"tools\":[{\"id\":\"p1808\"},{\"id\":\"p1809\"},{\"type\":\"object\",\"name\":\"SaveTool\",\"id\":\"p1832\"},{\"id\":\"p1833\"},{\"id\":\"p1834\"},{\"id\":\"p1840\"}],\"active_drag\":{\"id\":\"p1833\"},\"active_scroll\":{\"id\":\"p1808\"}}},\"toolbar_location\":null,\"left\":[{\"type\":\"object\",\"name\":\"LinearAxis\",\"id\":\"p1827\",\"attributes\":{\"ticker\":{\"type\":\"object\",\"name\":\"BasicTicker\",\"id\":\"p1828\",\"attributes\":{\"mantissas\":[1,2,5]}},\"formatter\":{\"type\":\"object\",\"name\":\"BasicTickFormatter\",\"id\":\"p1829\"},\"axis_label\":\"Density\",\"major_label_policy\":{\"type\":\"object\",\"name\":\"AllLabels\",\"id\":\"p1830\"}}}],\"below\":[{\"type\":\"object\",\"name\":\"LinearAxis\",\"id\":\"p1822\",\"attributes\":{\"ticker\":{\"type\":\"object\",\"name\":\"BasicTicker\",\"id\":\"p1823\",\"attributes\":{\"mantissas\":[1,2,5]}},\"formatter\":{\"type\":\"object\",\"name\":\"BasicTickFormatter\",\"id\":\"p1824\"},\"axis_label\":\"sales\",\"major_label_policy\":{\"type\":\"object\",\"name\":\"AllLabels\",\"id\":\"p1825\"}}}],\"center\":[{\"type\":\"object\",\"name\":\"Grid\",\"id\":\"p1826\",\"attributes\":{\"axis\":{\"id\":\"p1822\"},\"grid_line_color\":null}},{\"type\":\"object\",\"name\":\"Grid\",\"id\":\"p1831\",\"attributes\":{\"dimension\":1,\"axis\":{\"id\":\"p1827\"},\"grid_line_color\":null}}],\"min_border_top\":10,\"min_border_bottom\":10,\"min_border_left\":10,\"min_border_right\":10,\"output_backend\":\"webgl\"}},2,0],[{\"type\":\"object\",\"name\":\"Figure\",\"id\":\"p1859\",\"attributes\":{\"width\":700,\"height\":300,\"sizing_mode\":\"fixed\",\"align\":\"start\",\"x_range\":{\"id\":\"p1411\"},\"y_range\":{\"id\":\"p1412\"},\"x_scale\":{\"type\":\"object\",\"name\":\"LinearScale\",\"id\":\"p1869\"},\"y_scale\":{\"type\":\"object\",\"name\":\"LinearScale\",\"id\":\"p1870\"},\"title\":{\"type\":\"object\",\"name\":\"Title\",\"id\":\"p1862\",\"attributes\":{\"text\":\"sub_category: Furnishings\",\"text_color\":\"black\",\"text_font_size\":\"12pt\"}},\"renderers\":[{\"id\":\"p1899\"}],\"toolbar\":{\"type\":\"object\",\"name\":\"Toolbar\",\"id\":\"p1868\",\"attributes\":{\"tools\":[{\"id\":\"p1857\"},{\"id\":\"p1858\"},{\"type\":\"object\",\"name\":\"SaveTool\",\"id\":\"p1881\"},{\"id\":\"p1882\"},{\"id\":\"p1883\"},{\"id\":\"p1889\"}],\"active_drag\":{\"id\":\"p1882\"},\"active_scroll\":{\"id\":\"p1857\"}}},\"toolbar_location\":null,\"left\":[{\"type\":\"object\",\"name\":\"LinearAxis\",\"id\":\"p1876\",\"attributes\":{\"ticker\":{\"type\":\"object\",\"name\":\"BasicTicker\",\"id\":\"p1877\",\"attributes\":{\"mantissas\":[1,2,5]}},\"formatter\":{\"type\":\"object\",\"name\":\"BasicTickFormatter\",\"id\":\"p1878\"},\"axis_label\":\"Density\",\"major_label_policy\":{\"type\":\"object\",\"name\":\"AllLabels\",\"id\":\"p1879\"}}}],\"below\":[{\"type\":\"object\",\"name\":\"LinearAxis\",\"id\":\"p1871\",\"attributes\":{\"ticker\":{\"type\":\"object\",\"name\":\"BasicTicker\",\"id\":\"p1872\",\"attributes\":{\"mantissas\":[1,2,5]}},\"formatter\":{\"type\":\"object\",\"name\":\"BasicTickFormatter\",\"id\":\"p1873\"},\"axis_label\":\"sales\",\"major_label_policy\":{\"type\":\"object\",\"name\":\"AllLabels\",\"id\":\"p1874\"}}}],\"center\":[{\"type\":\"object\",\"name\":\"Grid\",\"id\":\"p1875\",\"attributes\":{\"axis\":{\"id\":\"p1871\"},\"grid_line_color\":null}},{\"type\":\"object\",\"name\":\"Grid\",\"id\":\"p1880\",\"attributes\":{\"dimension\":1,\"axis\":{\"id\":\"p1876\"},\"grid_line_color\":null}}],\"min_border_top\":10,\"min_border_bottom\":10,\"min_border_left\":10,\"min_border_right\":10,\"output_backend\":\"webgl\"}},2,1],[{\"type\":\"object\",\"name\":\"Figure\",\"id\":\"p1908\",\"attributes\":{\"width\":700,\"height\":300,\"sizing_mode\":\"fixed\",\"align\":\"start\",\"x_range\":{\"id\":\"p1411\"},\"y_range\":{\"id\":\"p1412\"},\"x_scale\":{\"type\":\"object\",\"name\":\"LinearScale\",\"id\":\"p1918\"},\"y_scale\":{\"type\":\"object\",\"name\":\"LinearScale\",\"id\":\"p1919\"},\"title\":{\"type\":\"object\",\"name\":\"Title\",\"id\":\"p1911\",\"attributes\":{\"text\":\"sub_category: Labels\",\"text_color\":\"black\",\"text_font_size\":\"12pt\"}},\"renderers\":[{\"id\":\"p1948\"}],\"toolbar\":{\"type\":\"object\",\"name\":\"Toolbar\",\"id\":\"p1917\",\"attributes\":{\"tools\":[{\"id\":\"p1906\"},{\"id\":\"p1907\"},{\"type\":\"object\",\"name\":\"SaveTool\",\"id\":\"p1930\"},{\"id\":\"p1931\"},{\"id\":\"p1932\"},{\"id\":\"p1938\"}],\"active_drag\":{\"id\":\"p1931\"},\"active_scroll\":{\"id\":\"p1906\"}}},\"toolbar_location\":null,\"left\":[{\"type\":\"object\",\"name\":\"LinearAxis\",\"id\":\"p1925\",\"attributes\":{\"ticker\":{\"type\":\"object\",\"name\":\"BasicTicker\",\"id\":\"p1926\",\"attributes\":{\"mantissas\":[1,2,5]}},\"formatter\":{\"type\":\"object\",\"name\":\"BasicTickFormatter\",\"id\":\"p1927\"},\"axis_label\":\"Density\",\"major_label_policy\":{\"type\":\"object\",\"name\":\"AllLabels\",\"id\":\"p1928\"}}}],\"below\":[{\"type\":\"object\",\"name\":\"LinearAxis\",\"id\":\"p1920\",\"attributes\":{\"ticker\":{\"type\":\"object\",\"name\":\"BasicTicker\",\"id\":\"p1921\",\"attributes\":{\"mantissas\":[1,2,5]}},\"formatter\":{\"type\":\"object\",\"name\":\"BasicTickFormatter\",\"id\":\"p1922\"},\"axis_label\":\"sales\",\"major_label_policy\":{\"type\":\"object\",\"name\":\"AllLabels\",\"id\":\"p1923\"}}}],\"center\":[{\"type\":\"object\",\"name\":\"Grid\",\"id\":\"p1924\",\"attributes\":{\"axis\":{\"id\":\"p1920\"},\"grid_line_color\":null}},{\"type\":\"object\",\"name\":\"Grid\",\"id\":\"p1929\",\"attributes\":{\"dimension\":1,\"axis\":{\"id\":\"p1925\"},\"grid_line_color\":null}}],\"min_border_top\":10,\"min_border_bottom\":10,\"min_border_left\":10,\"min_border_right\":10,\"output_backend\":\"webgl\"}},2,2],[{\"type\":\"object\",\"name\":\"Figure\",\"id\":\"p1957\",\"attributes\":{\"width\":700,\"height\":300,\"sizing_mode\":\"fixed\",\"align\":\"start\",\"x_range\":{\"id\":\"p1411\"},\"y_range\":{\"id\":\"p1412\"},\"x_scale\":{\"type\":\"object\",\"name\":\"LinearScale\",\"id\":\"p1967\"},\"y_scale\":{\"type\":\"object\",\"name\":\"LinearScale\",\"id\":\"p1968\"},\"title\":{\"type\":\"object\",\"name\":\"Title\",\"id\":\"p1960\",\"attributes\":{\"text\":\"sub_category: Machines\",\"text_color\":\"black\",\"text_font_size\":\"12pt\"}},\"renderers\":[{\"id\":\"p1997\"}],\"toolbar\":{\"type\":\"object\",\"name\":\"Toolbar\",\"id\":\"p1966\",\"attributes\":{\"tools\":[{\"id\":\"p1955\"},{\"id\":\"p1956\"},{\"type\":\"object\",\"name\":\"SaveTool\",\"id\":\"p1979\"},{\"id\":\"p1980\"},{\"id\":\"p1981\"},{\"id\":\"p1987\"}],\"active_drag\":{\"id\":\"p1980\"},\"active_scroll\":{\"id\":\"p1955\"}}},\"toolbar_location\":null,\"left\":[{\"type\":\"object\",\"name\":\"LinearAxis\",\"id\":\"p1974\",\"attributes\":{\"ticker\":{\"type\":\"object\",\"name\":\"BasicTicker\",\"id\":\"p1975\",\"attributes\":{\"mantissas\":[1,2,5]}},\"formatter\":{\"type\":\"object\",\"name\":\"BasicTickFormatter\",\"id\":\"p1976\"},\"axis_label\":\"Density\",\"major_label_policy\":{\"type\":\"object\",\"name\":\"AllLabels\",\"id\":\"p1977\"}}}],\"below\":[{\"type\":\"object\",\"name\":\"LinearAxis\",\"id\":\"p1969\",\"attributes\":{\"ticker\":{\"type\":\"object\",\"name\":\"BasicTicker\",\"id\":\"p1970\",\"attributes\":{\"mantissas\":[1,2,5]}},\"formatter\":{\"type\":\"object\",\"name\":\"BasicTickFormatter\",\"id\":\"p1971\"},\"axis_label\":\"sales\",\"major_label_policy\":{\"type\":\"object\",\"name\":\"AllLabels\",\"id\":\"p1972\"}}}],\"center\":[{\"type\":\"object\",\"name\":\"Grid\",\"id\":\"p1973\",\"attributes\":{\"axis\":{\"id\":\"p1969\"},\"grid_line_color\":null}},{\"type\":\"object\",\"name\":\"Grid\",\"id\":\"p1978\",\"attributes\":{\"dimension\":1,\"axis\":{\"id\":\"p1974\"},\"grid_line_color\":null}}],\"min_border_top\":10,\"min_border_bottom\":10,\"min_border_left\":10,\"min_border_right\":10,\"output_backend\":\"webgl\"}},2,3],[{\"type\":\"object\",\"name\":\"Figure\",\"id\":\"p2006\",\"attributes\":{\"width\":700,\"height\":300,\"sizing_mode\":\"fixed\",\"align\":\"start\",\"x_range\":{\"id\":\"p1411\"},\"y_range\":{\"id\":\"p1412\"},\"x_scale\":{\"type\":\"object\",\"name\":\"LinearScale\",\"id\":\"p2016\"},\"y_scale\":{\"type\":\"object\",\"name\":\"LinearScale\",\"id\":\"p2017\"},\"title\":{\"type\":\"object\",\"name\":\"Title\",\"id\":\"p2009\",\"attributes\":{\"text\":\"sub_category: Paper\",\"text_color\":\"black\",\"text_font_size\":\"12pt\"}},\"renderers\":[{\"id\":\"p2046\"}],\"toolbar\":{\"type\":\"object\",\"name\":\"Toolbar\",\"id\":\"p2015\",\"attributes\":{\"tools\":[{\"id\":\"p2004\"},{\"id\":\"p2005\"},{\"type\":\"object\",\"name\":\"SaveTool\",\"id\":\"p2028\"},{\"id\":\"p2029\"},{\"id\":\"p2030\"},{\"id\":\"p2036\"}],\"active_drag\":{\"id\":\"p2029\"},\"active_scroll\":{\"id\":\"p2004\"}}},\"toolbar_location\":null,\"left\":[{\"type\":\"object\",\"name\":\"LinearAxis\",\"id\":\"p2023\",\"attributes\":{\"ticker\":{\"type\":\"object\",\"name\":\"BasicTicker\",\"id\":\"p2024\",\"attributes\":{\"mantissas\":[1,2,5]}},\"formatter\":{\"type\":\"object\",\"name\":\"BasicTickFormatter\",\"id\":\"p2025\"},\"axis_label\":\"Density\",\"major_label_policy\":{\"type\":\"object\",\"name\":\"AllLabels\",\"id\":\"p2026\"}}}],\"below\":[{\"type\":\"object\",\"name\":\"LinearAxis\",\"id\":\"p2018\",\"attributes\":{\"ticker\":{\"type\":\"object\",\"name\":\"BasicTicker\",\"id\":\"p2019\",\"attributes\":{\"mantissas\":[1,2,5]}},\"formatter\":{\"type\":\"object\",\"name\":\"BasicTickFormatter\",\"id\":\"p2020\"},\"axis_label\":\"sales\",\"major_label_policy\":{\"type\":\"object\",\"name\":\"AllLabels\",\"id\":\"p2021\"}}}],\"center\":[{\"type\":\"object\",\"name\":\"Grid\",\"id\":\"p2022\",\"attributes\":{\"axis\":{\"id\":\"p2018\"},\"grid_line_color\":null}},{\"type\":\"object\",\"name\":\"Grid\",\"id\":\"p2027\",\"attributes\":{\"dimension\":1,\"axis\":{\"id\":\"p2023\"},\"grid_line_color\":null}}],\"min_border_top\":10,\"min_border_bottom\":10,\"min_border_left\":10,\"min_border_right\":10,\"output_backend\":\"webgl\"}},3,0],[{\"type\":\"object\",\"name\":\"Figure\",\"id\":\"p2055\",\"attributes\":{\"width\":700,\"height\":300,\"sizing_mode\":\"fixed\",\"align\":\"start\",\"x_range\":{\"id\":\"p1411\"},\"y_range\":{\"id\":\"p1412\"},\"x_scale\":{\"type\":\"object\",\"name\":\"LinearScale\",\"id\":\"p2065\"},\"y_scale\":{\"type\":\"object\",\"name\":\"LinearScale\",\"id\":\"p2066\"},\"title\":{\"type\":\"object\",\"name\":\"Title\",\"id\":\"p2058\",\"attributes\":{\"text\":\"sub_category: Phones\",\"text_color\":\"black\",\"text_font_size\":\"12pt\"}},\"renderers\":[{\"id\":\"p2095\"}],\"toolbar\":{\"type\":\"object\",\"name\":\"Toolbar\",\"id\":\"p2064\",\"attributes\":{\"tools\":[{\"id\":\"p2053\"},{\"id\":\"p2054\"},{\"type\":\"object\",\"name\":\"SaveTool\",\"id\":\"p2077\"},{\"id\":\"p2078\"},{\"id\":\"p2079\"},{\"id\":\"p2085\"}],\"active_drag\":{\"id\":\"p2078\"},\"active_scroll\":{\"id\":\"p2053\"}}},\"toolbar_location\":null,\"left\":[{\"type\":\"object\",\"name\":\"LinearAxis\",\"id\":\"p2072\",\"attributes\":{\"ticker\":{\"type\":\"object\",\"name\":\"BasicTicker\",\"id\":\"p2073\",\"attributes\":{\"mantissas\":[1,2,5]}},\"formatter\":{\"type\":\"object\",\"name\":\"BasicTickFormatter\",\"id\":\"p2074\"},\"axis_label\":\"Density\",\"major_label_policy\":{\"type\":\"object\",\"name\":\"AllLabels\",\"id\":\"p2075\"}}}],\"below\":[{\"type\":\"object\",\"name\":\"LinearAxis\",\"id\":\"p2067\",\"attributes\":{\"ticker\":{\"type\":\"object\",\"name\":\"BasicTicker\",\"id\":\"p2068\",\"attributes\":{\"mantissas\":[1,2,5]}},\"formatter\":{\"type\":\"object\",\"name\":\"BasicTickFormatter\",\"id\":\"p2069\"},\"axis_label\":\"sales\",\"major_label_policy\":{\"type\":\"object\",\"name\":\"AllLabels\",\"id\":\"p2070\"}}}],\"center\":[{\"type\":\"object\",\"name\":\"Grid\",\"id\":\"p2071\",\"attributes\":{\"axis\":{\"id\":\"p2067\"},\"grid_line_color\":null}},{\"type\":\"object\",\"name\":\"Grid\",\"id\":\"p2076\",\"attributes\":{\"dimension\":1,\"axis\":{\"id\":\"p2072\"},\"grid_line_color\":null}}],\"min_border_top\":10,\"min_border_bottom\":10,\"min_border_left\":10,\"min_border_right\":10,\"output_backend\":\"webgl\"}},3,1],[{\"type\":\"object\",\"name\":\"Figure\",\"id\":\"p2104\",\"attributes\":{\"width\":700,\"height\":300,\"sizing_mode\":\"fixed\",\"align\":\"start\",\"x_range\":{\"id\":\"p1411\"},\"y_range\":{\"id\":\"p1412\"},\"x_scale\":{\"type\":\"object\",\"name\":\"LinearScale\",\"id\":\"p2114\"},\"y_scale\":{\"type\":\"object\",\"name\":\"LinearScale\",\"id\":\"p2115\"},\"title\":{\"type\":\"object\",\"name\":\"Title\",\"id\":\"p2107\",\"attributes\":{\"text\":\"sub_category: Storage\",\"text_color\":\"black\",\"text_font_size\":\"12pt\"}},\"renderers\":[{\"id\":\"p2144\"}],\"toolbar\":{\"type\":\"object\",\"name\":\"Toolbar\",\"id\":\"p2113\",\"attributes\":{\"tools\":[{\"id\":\"p2102\"},{\"id\":\"p2103\"},{\"type\":\"object\",\"name\":\"SaveTool\",\"id\":\"p2126\"},{\"id\":\"p2127\"},{\"id\":\"p2128\"},{\"id\":\"p2134\"}],\"active_drag\":{\"id\":\"p2127\"},\"active_scroll\":{\"id\":\"p2102\"}}},\"toolbar_location\":null,\"left\":[{\"type\":\"object\",\"name\":\"LinearAxis\",\"id\":\"p2121\",\"attributes\":{\"ticker\":{\"type\":\"object\",\"name\":\"BasicTicker\",\"id\":\"p2122\",\"attributes\":{\"mantissas\":[1,2,5]}},\"formatter\":{\"type\":\"object\",\"name\":\"BasicTickFormatter\",\"id\":\"p2123\"},\"axis_label\":\"Density\",\"major_label_policy\":{\"type\":\"object\",\"name\":\"AllLabels\",\"id\":\"p2124\"}}}],\"below\":[{\"type\":\"object\",\"name\":\"LinearAxis\",\"id\":\"p2116\",\"attributes\":{\"ticker\":{\"type\":\"object\",\"name\":\"BasicTicker\",\"id\":\"p2117\",\"attributes\":{\"mantissas\":[1,2,5]}},\"formatter\":{\"type\":\"object\",\"name\":\"BasicTickFormatter\",\"id\":\"p2118\"},\"axis_label\":\"sales\",\"major_label_policy\":{\"type\":\"object\",\"name\":\"AllLabels\",\"id\":\"p2119\"}}}],\"center\":[{\"type\":\"object\",\"name\":\"Grid\",\"id\":\"p2120\",\"attributes\":{\"axis\":{\"id\":\"p2116\"},\"grid_line_color\":null}},{\"type\":\"object\",\"name\":\"Grid\",\"id\":\"p2125\",\"attributes\":{\"dimension\":1,\"axis\":{\"id\":\"p2121\"},\"grid_line_color\":null}}],\"min_border_top\":10,\"min_border_bottom\":10,\"min_border_left\":10,\"min_border_right\":10,\"output_backend\":\"webgl\"}},3,2],[{\"type\":\"object\",\"name\":\"Figure\",\"id\":\"p2153\",\"attributes\":{\"width\":700,\"height\":300,\"sizing_mode\":\"fixed\",\"align\":\"start\",\"x_range\":{\"id\":\"p1411\"},\"y_range\":{\"id\":\"p1412\"},\"x_scale\":{\"type\":\"object\",\"name\":\"LinearScale\",\"id\":\"p2163\"},\"y_scale\":{\"type\":\"object\",\"name\":\"LinearScale\",\"id\":\"p2164\"},\"title\":{\"type\":\"object\",\"name\":\"Title\",\"id\":\"p2156\",\"attributes\":{\"text\":\"sub_category: Supplies\",\"text_color\":\"black\",\"text_font_size\":\"12pt\"}},\"renderers\":[{\"id\":\"p2193\"}],\"toolbar\":{\"type\":\"object\",\"name\":\"Toolbar\",\"id\":\"p2162\",\"attributes\":{\"tools\":[{\"id\":\"p2151\"},{\"id\":\"p2152\"},{\"type\":\"object\",\"name\":\"SaveTool\",\"id\":\"p2175\"},{\"id\":\"p2176\"},{\"id\":\"p2177\"},{\"id\":\"p2183\"}],\"active_drag\":{\"id\":\"p2176\"},\"active_scroll\":{\"id\":\"p2151\"}}},\"toolbar_location\":null,\"left\":[{\"type\":\"object\",\"name\":\"LinearAxis\",\"id\":\"p2170\",\"attributes\":{\"ticker\":{\"type\":\"object\",\"name\":\"BasicTicker\",\"id\":\"p2171\",\"attributes\":{\"mantissas\":[1,2,5]}},\"formatter\":{\"type\":\"object\",\"name\":\"BasicTickFormatter\",\"id\":\"p2172\"},\"axis_label\":\"Density\",\"major_label_policy\":{\"type\":\"object\",\"name\":\"AllLabels\",\"id\":\"p2173\"}}}],\"below\":[{\"type\":\"object\",\"name\":\"LinearAxis\",\"id\":\"p2165\",\"attributes\":{\"ticker\":{\"type\":\"object\",\"name\":\"BasicTicker\",\"id\":\"p2166\",\"attributes\":{\"mantissas\":[1,2,5]}},\"formatter\":{\"type\":\"object\",\"name\":\"BasicTickFormatter\",\"id\":\"p2167\"},\"axis_label\":\"sales\",\"major_label_policy\":{\"type\":\"object\",\"name\":\"AllLabels\",\"id\":\"p2168\"}}}],\"center\":[{\"type\":\"object\",\"name\":\"Grid\",\"id\":\"p2169\",\"attributes\":{\"axis\":{\"id\":\"p2165\"},\"grid_line_color\":null}},{\"type\":\"object\",\"name\":\"Grid\",\"id\":\"p2174\",\"attributes\":{\"dimension\":1,\"axis\":{\"id\":\"p2170\"},\"grid_line_color\":null}}],\"min_border_top\":10,\"min_border_bottom\":10,\"min_border_left\":10,\"min_border_right\":10,\"output_backend\":\"webgl\"}},3,3],[{\"type\":\"object\",\"name\":\"Figure\",\"id\":\"p2202\",\"attributes\":{\"width\":700,\"height\":300,\"sizing_mode\":\"fixed\",\"align\":\"start\",\"x_range\":{\"id\":\"p1411\"},\"y_range\":{\"id\":\"p1412\"},\"x_scale\":{\"type\":\"object\",\"name\":\"LinearScale\",\"id\":\"p2212\"},\"y_scale\":{\"type\":\"object\",\"name\":\"LinearScale\",\"id\":\"p2213\"},\"title\":{\"type\":\"object\",\"name\":\"Title\",\"id\":\"p2205\",\"attributes\":{\"text\":\"sub_category: Tables\",\"text_color\":\"black\",\"text_font_size\":\"12pt\"}},\"renderers\":[{\"id\":\"p2242\"}],\"toolbar\":{\"type\":\"object\",\"name\":\"Toolbar\",\"id\":\"p2211\",\"attributes\":{\"tools\":[{\"id\":\"p2200\"},{\"id\":\"p2201\"},{\"type\":\"object\",\"name\":\"SaveTool\",\"id\":\"p2224\"},{\"id\":\"p2225\"},{\"id\":\"p2226\"},{\"id\":\"p2232\"}],\"active_drag\":{\"id\":\"p2225\"},\"active_scroll\":{\"id\":\"p2200\"}}},\"toolbar_location\":null,\"left\":[{\"type\":\"object\",\"name\":\"LinearAxis\",\"id\":\"p2219\",\"attributes\":{\"ticker\":{\"type\":\"object\",\"name\":\"BasicTicker\",\"id\":\"p2220\",\"attributes\":{\"mantissas\":[1,2,5]}},\"formatter\":{\"type\":\"object\",\"name\":\"BasicTickFormatter\",\"id\":\"p2221\"},\"axis_label\":\"Density\",\"major_label_policy\":{\"type\":\"object\",\"name\":\"AllLabels\",\"id\":\"p2222\"}}}],\"below\":[{\"type\":\"object\",\"name\":\"LinearAxis\",\"id\":\"p2214\",\"attributes\":{\"ticker\":{\"type\":\"object\",\"name\":\"BasicTicker\",\"id\":\"p2215\",\"attributes\":{\"mantissas\":[1,2,5]}},\"formatter\":{\"type\":\"object\",\"name\":\"BasicTickFormatter\",\"id\":\"p2216\"},\"axis_label\":\"sales\",\"major_label_policy\":{\"type\":\"object\",\"name\":\"AllLabels\",\"id\":\"p2217\"}}}],\"center\":[{\"type\":\"object\",\"name\":\"Grid\",\"id\":\"p2218\",\"attributes\":{\"axis\":{\"id\":\"p2214\"},\"grid_line_color\":null}},{\"type\":\"object\",\"name\":\"Grid\",\"id\":\"p2223\",\"attributes\":{\"dimension\":1,\"axis\":{\"id\":\"p2219\"},\"grid_line_color\":null}}],\"min_border_top\":10,\"min_border_bottom\":10,\"min_border_left\":10,\"min_border_right\":10,\"output_backend\":\"webgl\"}},4,0]]}},{\"type\":\"object\",\"name\":\"Spacer\",\"id\":\"p2257\",\"attributes\":{\"name\":\"HSpacer01924\",\"stylesheets\":[\"\\n:host(.pn-loading):before, .pn-loading:before {\\n  background-color: #c3c3c3;\\n  mask-size: auto calc(min(50%, 400px));\\n  -webkit-mask-size: auto calc(min(50%, 400px));\\n}\",{\"id\":\"p1409\"},{\"id\":\"p1407\"},{\"id\":\"p1408\"}],\"margin\":0,\"sizing_mode\":\"stretch_width\",\"align\":\"start\"}}]}}],\"defs\":[{\"type\":\"model\",\"name\":\"ReactiveHTML1\"},{\"type\":\"model\",\"name\":\"FlexBox1\",\"properties\":[{\"name\":\"align_content\",\"kind\":\"Any\",\"default\":\"flex-start\"},{\"name\":\"align_items\",\"kind\":\"Any\",\"default\":\"flex-start\"},{\"name\":\"flex_direction\",\"kind\":\"Any\",\"default\":\"row\"},{\"name\":\"flex_wrap\",\"kind\":\"Any\",\"default\":\"wrap\"},{\"name\":\"gap\",\"kind\":\"Any\",\"default\":\"\"},{\"name\":\"justify_content\",\"kind\":\"Any\",\"default\":\"flex-start\"}]},{\"type\":\"model\",\"name\":\"FloatPanel1\",\"properties\":[{\"name\":\"config\",\"kind\":\"Any\",\"default\":{\"type\":\"map\"}},{\"name\":\"contained\",\"kind\":\"Any\",\"default\":true},{\"name\":\"position\",\"kind\":\"Any\",\"default\":\"right-top\"},{\"name\":\"offsetx\",\"kind\":\"Any\",\"default\":null},{\"name\":\"offsety\",\"kind\":\"Any\",\"default\":null},{\"name\":\"theme\",\"kind\":\"Any\",\"default\":\"primary\"},{\"name\":\"status\",\"kind\":\"Any\",\"default\":\"normalized\"}]},{\"type\":\"model\",\"name\":\"GridStack1\",\"properties\":[{\"name\":\"mode\",\"kind\":\"Any\",\"default\":\"warn\"},{\"name\":\"ncols\",\"kind\":\"Any\",\"default\":null},{\"name\":\"nrows\",\"kind\":\"Any\",\"default\":null},{\"name\":\"allow_resize\",\"kind\":\"Any\",\"default\":true},{\"name\":\"allow_drag\",\"kind\":\"Any\",\"default\":true},{\"name\":\"state\",\"kind\":\"Any\",\"default\":[]}]},{\"type\":\"model\",\"name\":\"drag1\",\"properties\":[{\"name\":\"slider_width\",\"kind\":\"Any\",\"default\":5},{\"name\":\"slider_color\",\"kind\":\"Any\",\"default\":\"black\"},{\"name\":\"value\",\"kind\":\"Any\",\"default\":50}]},{\"type\":\"model\",\"name\":\"click1\",\"properties\":[{\"name\":\"terminal_output\",\"kind\":\"Any\",\"default\":\"\"},{\"name\":\"debug_name\",\"kind\":\"Any\",\"default\":\"\"},{\"name\":\"clears\",\"kind\":\"Any\",\"default\":0}]},{\"type\":\"model\",\"name\":\"FastWrapper1\",\"properties\":[{\"name\":\"object\",\"kind\":\"Any\",\"default\":null},{\"name\":\"style\",\"kind\":\"Any\",\"default\":null}]},{\"type\":\"model\",\"name\":\"NotificationAreaBase1\",\"properties\":[{\"name\":\"js_events\",\"kind\":\"Any\",\"default\":{\"type\":\"map\"}},{\"name\":\"position\",\"kind\":\"Any\",\"default\":\"bottom-right\"},{\"name\":\"_clear\",\"kind\":\"Any\",\"default\":0}]},{\"type\":\"model\",\"name\":\"NotificationArea1\",\"properties\":[{\"name\":\"js_events\",\"kind\":\"Any\",\"default\":{\"type\":\"map\"}},{\"name\":\"notifications\",\"kind\":\"Any\",\"default\":[]},{\"name\":\"position\",\"kind\":\"Any\",\"default\":\"bottom-right\"},{\"name\":\"_clear\",\"kind\":\"Any\",\"default\":0},{\"name\":\"types\",\"kind\":\"Any\",\"default\":[{\"type\":\"map\",\"entries\":[[\"type\",\"warning\"],[\"background\",\"#ffc107\"],[\"icon\",{\"type\":\"map\",\"entries\":[[\"className\",\"fas fa-exclamation-triangle\"],[\"tagName\",\"i\"],[\"color\",\"white\"]]}]]},{\"type\":\"map\",\"entries\":[[\"type\",\"info\"],[\"background\",\"#007bff\"],[\"icon\",{\"type\":\"map\",\"entries\":[[\"className\",\"fas fa-info-circle\"],[\"tagName\",\"i\"],[\"color\",\"white\"]]}]]}]}]},{\"type\":\"model\",\"name\":\"Notification\",\"properties\":[{\"name\":\"background\",\"kind\":\"Any\",\"default\":null},{\"name\":\"duration\",\"kind\":\"Any\",\"default\":3000},{\"name\":\"icon\",\"kind\":\"Any\",\"default\":null},{\"name\":\"message\",\"kind\":\"Any\",\"default\":\"\"},{\"name\":\"notification_type\",\"kind\":\"Any\",\"default\":null},{\"name\":\"_destroyed\",\"kind\":\"Any\",\"default\":false}]},{\"type\":\"model\",\"name\":\"TemplateActions1\",\"properties\":[{\"name\":\"open_modal\",\"kind\":\"Any\",\"default\":0},{\"name\":\"close_modal\",\"kind\":\"Any\",\"default\":0}]},{\"type\":\"model\",\"name\":\"BootstrapTemplateActions1\",\"properties\":[{\"name\":\"open_modal\",\"kind\":\"Any\",\"default\":0},{\"name\":\"close_modal\",\"kind\":\"Any\",\"default\":0}]},{\"type\":\"model\",\"name\":\"TemplateEditor1\",\"properties\":[{\"name\":\"layout\",\"kind\":\"Any\",\"default\":[]}]},{\"type\":\"model\",\"name\":\"MaterialTemplateActions1\",\"properties\":[{\"name\":\"open_modal\",\"kind\":\"Any\",\"default\":0},{\"name\":\"close_modal\",\"kind\":\"Any\",\"default\":0}]},{\"type\":\"model\",\"name\":\"copy_to_clipboard1\",\"properties\":[{\"name\":\"fill\",\"kind\":\"Any\",\"default\":\"none\"},{\"name\":\"value\",\"kind\":\"Any\",\"default\":null}]}]}};\n",
       "  var render_items = [{\"docid\":\"f11fcae7-195a-47cc-9fb1-ddf3e2dfee98\",\"roots\":{\"p1406\":\"c3ec7c54-fa38-481d-92fe-1df44b1a3441\"},\"root_ids\":[\"p1406\"]}];\n",
       "  var docs = Object.values(docs_json)\n",
       "  if (!docs) {\n",
       "    return\n",
       "  }\n",
       "  const py_version = docs[0].version.replace('rc', '-rc.').replace('.dev', '-dev.')\n",
       "  async function embed_document(root) {\n",
       "    var Bokeh = get_bokeh(root)\n",
       "    await Bokeh.embed.embed_items_notebook(docs_json, render_items);\n",
       "    for (const render_item of render_items) {\n",
       "      for (const root_id of render_item.root_ids) {\n",
       "\tconst id_el = document.getElementById(root_id)\n",
       "\tif (id_el.children.length && id_el.children[0].hasAttribute('data-root-id')) {\n",
       "\t  const root_el = id_el.children[0]\n",
       "\t  root_el.id = root_el.id + '-rendered'\n",
       "\t  for (const child of root_el.children) {\n",
       "            // Ensure JupyterLab does not capture keyboard shortcuts\n",
       "            // see: https://jupyterlab.readthedocs.io/en/4.1.x/extension/notebook.html#keyboard-interaction-model\n",
       "\t    child.setAttribute('data-lm-suppress-shortcuts', 'true')\n",
       "\t  }\n",
       "\t}\n",
       "      }\n",
       "    }\n",
       "  }\n",
       "  function get_bokeh(root) {\n",
       "    if (root.Bokeh === undefined) {\n",
       "      return null\n",
       "    } else if (root.Bokeh.version !== py_version) {\n",
       "      if (root.Bokeh.versions === undefined || !root.Bokeh.versions.has(py_version)) {\n",
       "\treturn null\n",
       "      }\n",
       "      return root.Bokeh.versions.get(py_version);\n",
       "    } else if (root.Bokeh.version === py_version) {\n",
       "      return root.Bokeh\n",
       "    }\n",
       "    return null\n",
       "  }\n",
       "  function is_loaded(root) {\n",
       "    var Bokeh = get_bokeh(root)\n",
       "    return (Bokeh != null && Bokeh.Panel !== undefined)\n",
       "  }\n",
       "  if (is_loaded(root)) {\n",
       "    embed_document(root);\n",
       "  } else {\n",
       "    var attempts = 0;\n",
       "    var timer = setInterval(function(root) {\n",
       "      if (is_loaded(root)) {\n",
       "        clearInterval(timer);\n",
       "        embed_document(root);\n",
       "      } else if (document.readyState == \"complete\") {\n",
       "        attempts++;\n",
       "        if (attempts > 200) {\n",
       "          clearInterval(timer);\n",
       "\t  var Bokeh = get_bokeh(root)\n",
       "\t  if (Bokeh == null || Bokeh.Panel == null) {\n",
       "            console.warn(\"Panel: ERROR: Unable to run Panel code because Bokeh or Panel library is missing\");\n",
       "\t  } else {\n",
       "\t    console.warn(\"Panel: WARNING: Attempting to render but not all required libraries could be resolved.\")\n",
       "\t    embed_document(root)\n",
       "\t  }\n",
       "        }\n",
       "      }\n",
       "    }, 25, root)\n",
       "  }\n",
       "})(window);</script>"
      ],
      "text/plain": [
       ":NdLayout   [sub_category]\n",
       "   :Distribution   [sales]   (Density)"
      ]
     },
     "execution_count": 22,
     "metadata": {
      "application/vnd.holoviews_exec.v0+json": {
       "id": "p1406"
      }
     },
     "output_type": "execute_result"
    }
   ],
   "source": [
    "df.hvplot.kde(y='sales', by=\"sub_category\", subplots=True).opts(width=800, height=600)"
   ]
  },
  {
   "cell_type": "code",
   "execution_count": 23,
   "id": "86963301-7fbf-431c-8002-f2ba50a63fa1",
   "metadata": {},
   "outputs": [
    {
     "data": {
      "text/plain": [
       "'Appliances'"
      ]
     },
     "metadata": {},
     "output_type": "display_data"
    },
    {
     "data": {
      "text/plain": [
       "count      459.000000\n",
       "mean     22579.911765\n",
       "std      12663.538443\n",
       "min       1032.233000\n",
       "25%      11797.605000\n",
       "50%      22251.810000\n",
       "75%      32775.080000\n",
       "max      44896.370000\n",
       "Name: sales, dtype: float64"
      ]
     },
     "metadata": {},
     "output_type": "display_data"
    },
    {
     "data": {
      "text/plain": [
       "'Bookcases'"
      ]
     },
     "metadata": {},
     "output_type": "display_data"
    },
    {
     "data": {
      "text/plain": [
       "count      226.000000\n",
       "mean     23686.751155\n",
       "std      11970.653117\n",
       "min       1169.509000\n",
       "25%      12954.672500\n",
       "50%      24383.490000\n",
       "75%      33679.222500\n",
       "max      44736.680000\n",
       "Name: sales, dtype: float64"
      ]
     },
     "metadata": {},
     "output_type": "display_data"
    },
    {
     "data": {
      "text/plain": [
       "'Phones'"
      ]
     },
     "metadata": {},
     "output_type": "display_data"
    },
    {
     "data": {
      "text/plain": [
       "count      876.000000\n",
       "mean     23222.906346\n",
       "std      12693.116145\n",
       "min       1073.054000\n",
       "25%      12668.252500\n",
       "50%      22862.615000\n",
       "75%      35027.645000\n",
       "max      44990.440000\n",
       "Name: sales, dtype: float64"
      ]
     },
     "metadata": {},
     "output_type": "display_data"
    },
    {
     "data": {
      "text/plain": [
       "'Binders'"
      ]
     },
     "metadata": {},
     "output_type": "display_data"
    },
    {
     "data": {
      "text/plain": [
       "count     1492.000000\n",
       "mean     22729.205293\n",
       "std      12648.437302\n",
       "min       1002.794000\n",
       "25%      11602.850000\n",
       "50%      22551.955000\n",
       "75%      33505.270000\n",
       "max      44992.430000\n",
       "Name: sales, dtype: float64"
      ]
     },
     "metadata": {},
     "output_type": "display_data"
    },
    {
     "data": {
      "text/plain": [
       "'Fasteners'"
      ]
     },
     "metadata": {},
     "output_type": "display_data"
    },
    {
     "data": {
      "text/plain": [
       "count      214.000000\n",
       "mean     22146.975341\n",
       "std      13343.590286\n",
       "min       1046.917000\n",
       "25%      10535.027500\n",
       "50%      23032.550000\n",
       "75%      33699.880000\n",
       "max      44688.630000\n",
       "Name: sales, dtype: float64"
      ]
     },
     "metadata": {},
     "output_type": "display_data"
    },
    {
     "data": {
      "text/plain": [
       "'Chairs'"
      ]
     },
     "metadata": {},
     "output_type": "display_data"
    },
    {
     "data": {
      "text/plain": [
       "count      607.000000\n",
       "mean     23271.306198\n",
       "std      12319.924047\n",
       "min       1063.685000\n",
       "25%      12523.230000\n",
       "50%      23831.500000\n",
       "75%      34127.100000\n",
       "max      44983.640000\n",
       "Name: sales, dtype: float64"
      ]
     },
     "metadata": {},
     "output_type": "display_data"
    },
    {
     "data": {
      "text/plain": [
       "'Paper'"
      ]
     },
     "metadata": {},
     "output_type": "display_data"
    },
    {
     "data": {
      "text/plain": [
       "count     1338.000000\n",
       "mean     22937.793924\n",
       "std      12587.128366\n",
       "min       1012.536000\n",
       "25%      12294.505000\n",
       "50%      22813.425000\n",
       "75%      33681.140000\n",
       "max      44971.430000\n",
       "Name: sales, dtype: float64"
      ]
     },
     "metadata": {},
     "output_type": "display_data"
    },
    {
     "data": {
      "text/plain": [
       "'Furnishings'"
      ]
     },
     "metadata": {},
     "output_type": "display_data"
    },
    {
     "data": {
      "text/plain": [
       "count      931.000000\n",
       "mean     23163.336149\n",
       "std      12406.285415\n",
       "min       1054.155000\n",
       "25%      12487.095000\n",
       "50%      23286.620000\n",
       "75%      33668.420000\n",
       "max      44986.260000\n",
       "Name: sales, dtype: float64"
      ]
     },
     "metadata": {},
     "output_type": "display_data"
    },
    {
     "data": {
      "text/plain": [
       "'Art'"
      ]
     },
     "metadata": {},
     "output_type": "display_data"
    },
    {
     "data": {
      "text/plain": [
       "count      785.000000\n",
       "mean     22716.513772\n",
       "std      12585.959000\n",
       "min       1021.593000\n",
       "25%      11487.450000\n",
       "50%      22173.510000\n",
       "75%      33533.620000\n",
       "max      44986.160000\n",
       "Name: sales, dtype: float64"
      ]
     },
     "metadata": {},
     "output_type": "display_data"
    },
    {
     "data": {
      "text/plain": [
       "'Storage'"
      ]
     },
     "metadata": {},
     "output_type": "display_data"
    },
    {
     "data": {
      "text/plain": [
       "count      832.000000\n",
       "mean     22707.697303\n",
       "std      12758.414223\n",
       "min       1160.219000\n",
       "25%      11844.487500\n",
       "50%      22190.055000\n",
       "75%      33228.830000\n",
       "max      44958.420000\n",
       "Name: sales, dtype: float64"
      ]
     },
     "metadata": {},
     "output_type": "display_data"
    },
    {
     "data": {
      "text/plain": [
       "'Labels'"
      ]
     },
     "metadata": {},
     "output_type": "display_data"
    },
    {
     "data": {
      "text/plain": [
       "count      357.000000\n",
       "mean     23721.531557\n",
       "std      12526.018921\n",
       "min       1070.142000\n",
       "25%      13462.940000\n",
       "50%      24898.900000\n",
       "75%      33754.580000\n",
       "max      44982.710000\n",
       "Name: sales, dtype: float64"
      ]
     },
     "metadata": {},
     "output_type": "display_data"
    },
    {
     "data": {
      "text/plain": [
       "'Accessories'"
      ]
     },
     "metadata": {},
     "output_type": "display_data"
    },
    {
     "data": {
      "text/plain": [
       "count      756.000000\n",
       "mean     22850.459716\n",
       "std      12750.349489\n",
       "min       1003.082000\n",
       "25%      11740.542500\n",
       "50%      22839.210000\n",
       "75%      34062.495000\n",
       "max      44819.860000\n",
       "Name: sales, dtype: float64"
      ]
     },
     "metadata": {},
     "output_type": "display_data"
    },
    {
     "data": {
      "text/plain": [
       "'Tables'"
      ]
     },
     "metadata": {},
     "output_type": "display_data"
    },
    {
     "data": {
      "text/plain": [
       "count      314.000000\n",
       "mean     22261.283303\n",
       "std      12859.042512\n",
       "min       1003.457000\n",
       "25%      12206.915000\n",
       "50%      21213.165000\n",
       "75%      33767.487500\n",
       "max      44716.810000\n",
       "Name: sales, dtype: float64"
      ]
     },
     "metadata": {},
     "output_type": "display_data"
    },
    {
     "data": {
      "text/plain": [
       "'Supplies'"
      ]
     },
     "metadata": {},
     "output_type": "display_data"
    },
    {
     "data": {
      "text/plain": [
       "count      184.000000\n",
       "mean     22800.558815\n",
       "std      12260.274383\n",
       "min       1021.104000\n",
       "25%      12790.450000\n",
       "50%      22334.970000\n",
       "75%      33414.172500\n",
       "max      44995.410000\n",
       "Name: sales, dtype: float64"
      ]
     },
     "metadata": {},
     "output_type": "display_data"
    },
    {
     "data": {
      "text/plain": [
       "'Machines'"
      ]
     },
     "metadata": {},
     "output_type": "display_data"
    },
    {
     "data": {
      "text/plain": [
       "count      115.000000\n",
       "mean     22061.570061\n",
       "std      12456.676865\n",
       "min       1096.997000\n",
       "25%      11307.435000\n",
       "50%      20735.850000\n",
       "75%      32300.040000\n",
       "max      44794.020000\n",
       "Name: sales, dtype: float64"
      ]
     },
     "metadata": {},
     "output_type": "display_data"
    },
    {
     "data": {
      "text/plain": [
       "'Copiers'"
      ]
     },
     "metadata": {},
     "output_type": "display_data"
    },
    {
     "data": {
      "text/plain": [
       "count       66.000000\n",
       "mean     23374.989621\n",
       "std      12674.199281\n",
       "min       2479.412000\n",
       "25%      12721.182500\n",
       "50%      23944.560000\n",
       "75%      32518.087500\n",
       "max      44072.450000\n",
       "Name: sales, dtype: float64"
      ]
     },
     "metadata": {},
     "output_type": "display_data"
    },
    {
     "data": {
      "text/plain": [
       "'Envelopes'"
      ]
     },
     "metadata": {},
     "output_type": "display_data"
    },
    {
     "data": {
      "text/plain": [
       "count      248.000000\n",
       "mean     23409.891379\n",
       "std      12642.667645\n",
       "min       1349.644000\n",
       "25%      12318.267500\n",
       "50%      23956.990000\n",
       "75%      34663.007500\n",
       "max      44878.760000\n",
       "Name: sales, dtype: float64"
      ]
     },
     "metadata": {},
     "output_type": "display_data"
    }
   ],
   "source": [
    "for by in df['sub_category'].unique():\n",
    "    display(by)\n",
    "    display(df[df['sub_category'] == by]['sales'].describe())"
   ]
  },
  {
   "cell_type": "markdown",
   "id": "867ab80d-0f1b-4cf3-bfcc-3ff3eadc32df",
   "metadata": {},
   "source": [
    "Обзор распределения sales по подкатегориям."
   ]
  },
  {
   "cell_type": "markdown",
   "id": "f9e225e3-49e3-46cb-b7e6-dde88680ab68",
   "metadata": {},
   "source": [
    "### Вывод\n",
    "\n",
    "Sales распределено равномерно как на всём интервале, так и при группировке по любому категориальному признаку. Устранять выбросы нет необходимости."
   ]
  },
  {
   "cell_type": "markdown",
   "id": "c65620a7-4d76-4101-9303-e79b835c320b",
   "metadata": {},
   "source": [
    "# Задание 3\n",
    "\n",
    "Для этого задания необходимо разбить все покупки на энное количество групп “Sale_group” (Допустим маленькие продажи, средние и высокие) на основе Sales\n",
    "Сгруппировать данные на основе региона и группы продаж (Region, Sale_group). Определить основные тенденции и паттерны. Выделить наиболее «прибыльную» группу."
   ]
  },
  {
   "cell_type": "markdown",
   "id": "8696cf6a-4dcf-43c0-bdd2-55c1d7f7b2ef",
   "metadata": {},
   "source": [
    "Разбиение происходит по квартилям в рамках каждого региона: 1-й квартиль, 2-3 квартиль, 4 квартиль."
   ]
  },
  {
   "cell_type": "code",
   "execution_count": 24,
   "id": "e1848399-7461-46db-a105-5ffebce56578",
   "metadata": {},
   "outputs": [],
   "source": [
    "df[\"sale_group\"] = \"small\""
   ]
  },
  {
   "cell_type": "code",
   "execution_count": 25,
   "id": "d273ac80-c3a0-4c97-adc5-12f3be7071a5",
   "metadata": {},
   "outputs": [],
   "source": [
    "for by in df['region'].unique():\n",
    "    reg_sales = df[df['region'] == by]['sales']\n",
    "    df.loc[(df[\"sales\"] >= reg_sales.quantile(0.25)) & (df.index.isin(reg_sales.index)), \"sale_group\"] = \"medium\"\n",
    "    df.loc[(df[\"sales\"] >= reg_sales.quantile(0.75)) & (df.index.isin(reg_sales.index)), \"sale_group\"] = \"big\""
   ]
  },
  {
   "cell_type": "code",
   "execution_count": 26,
   "id": "300662b0-ab9c-40ee-992b-dac336c88747",
   "metadata": {},
   "outputs": [],
   "source": [
    "reg_sales_sum = df.pivot_table(index=\"region\", values=\"sales\", aggfunc=\"sum\")"
   ]
  },
  {
   "cell_type": "code",
   "execution_count": 27,
   "id": "73c9362c-762d-4177-860c-0287c75e58b8",
   "metadata": {},
   "outputs": [
    {
     "data": {
      "text/html": [
       "<div>\n",
       "<style scoped>\n",
       "    .dataframe tbody tr th:only-of-type {\n",
       "        vertical-align: middle;\n",
       "    }\n",
       "\n",
       "    .dataframe tbody tr th {\n",
       "        vertical-align: top;\n",
       "    }\n",
       "\n",
       "    .dataframe thead tr th {\n",
       "        text-align: left;\n",
       "    }\n",
       "\n",
       "    .dataframe thead tr:last-of-type th {\n",
       "        text-align: right;\n",
       "    }\n",
       "</style>\n",
       "<table border=\"1\" class=\"dataframe\">\n",
       "  <thead>\n",
       "    <tr>\n",
       "      <th></th>\n",
       "      <th></th>\n",
       "      <th>sum</th>\n",
       "    </tr>\n",
       "    <tr>\n",
       "      <th></th>\n",
       "      <th></th>\n",
       "      <th>sales</th>\n",
       "    </tr>\n",
       "    <tr>\n",
       "      <th>region</th>\n",
       "      <th>sale_group</th>\n",
       "      <th></th>\n",
       "    </tr>\n",
       "  </thead>\n",
       "  <tbody>\n",
       "    <tr>\n",
       "      <th rowspan=\"3\" valign=\"top\">Владивосток</th>\n",
       "      <th>big</th>\n",
       "      <td>2.751928e+07</td>\n",
       "    </tr>\n",
       "    <tr>\n",
       "      <th>medium</th>\n",
       "      <td>3.201702e+07</td>\n",
       "    </tr>\n",
       "    <tr>\n",
       "      <th>small</th>\n",
       "      <td>4.416384e+06</td>\n",
       "    </tr>\n",
       "    <tr>\n",
       "      <th rowspan=\"3\" valign=\"top\">Калиниград</th>\n",
       "      <th>big</th>\n",
       "      <td>3.078471e+07</td>\n",
       "    </tr>\n",
       "    <tr>\n",
       "      <th>medium</th>\n",
       "      <td>3.580728e+07</td>\n",
       "    </tr>\n",
       "    <tr>\n",
       "      <th>small</th>\n",
       "      <td>5.338313e+06</td>\n",
       "    </tr>\n",
       "    <tr>\n",
       "      <th rowspan=\"3\" valign=\"top\">Москва</th>\n",
       "      <th>big</th>\n",
       "      <td>1.575436e+07</td>\n",
       "    </tr>\n",
       "    <tr>\n",
       "      <th>medium</th>\n",
       "      <td>1.851146e+07</td>\n",
       "    </tr>\n",
       "    <tr>\n",
       "      <th>small</th>\n",
       "      <td>2.625824e+06</td>\n",
       "    </tr>\n",
       "    <tr>\n",
       "      <th rowspan=\"3\" valign=\"top\">Урал</th>\n",
       "      <th>big</th>\n",
       "      <td>2.231204e+07</td>\n",
       "    </tr>\n",
       "    <tr>\n",
       "      <th>medium</th>\n",
       "      <td>2.582963e+07</td>\n",
       "    </tr>\n",
       "    <tr>\n",
       "      <th>small</th>\n",
       "      <td>3.716921e+06</td>\n",
       "    </tr>\n",
       "  </tbody>\n",
       "</table>\n",
       "</div>"
      ],
      "text/plain": [
       "                                 sum\n",
       "                               sales\n",
       "region      sale_group              \n",
       "Владивосток big         2.751928e+07\n",
       "            medium      3.201702e+07\n",
       "            small       4.416384e+06\n",
       "Калиниград  big         3.078471e+07\n",
       "            medium      3.580728e+07\n",
       "            small       5.338313e+06\n",
       "Москва      big         1.575436e+07\n",
       "            medium      1.851146e+07\n",
       "            small       2.625824e+06\n",
       "Урал        big         2.231204e+07\n",
       "            medium      2.582963e+07\n",
       "            small       3.716921e+06"
      ]
     },
     "execution_count": 27,
     "metadata": {},
     "output_type": "execute_result"
    }
   ],
   "source": [
    "reg_group_sales_sum = df.pivot_table(index=[\"region\", \"sale_group\"], values=\"sales\", aggfunc=[\"sum\"])\n",
    "reg_group_sales_sum"
   ]
  },
  {
   "cell_type": "code",
   "execution_count": 28,
   "id": "daec3430-27ca-493a-a66b-44ab73b4b77b",
   "metadata": {},
   "outputs": [],
   "source": [
    "reg_group_sales_sum['percent'] = reg_group_sales_sum[\"sum\"][\"sales\"] / reg_group_sales_sum.index.get_level_values(0).map(reg_sales_sum.to_dict()[\"sales\"]).values"
   ]
  },
  {
   "cell_type": "code",
   "execution_count": 29,
   "id": "bdca4820-69c7-42a1-82ed-f31478e3c08c",
   "metadata": {},
   "outputs": [
    {
     "data": {
      "text/html": [
       "<div>\n",
       "<style scoped>\n",
       "    .dataframe tbody tr th:only-of-type {\n",
       "        vertical-align: middle;\n",
       "    }\n",
       "\n",
       "    .dataframe tbody tr th {\n",
       "        vertical-align: top;\n",
       "    }\n",
       "\n",
       "    .dataframe thead tr th {\n",
       "        text-align: left;\n",
       "    }\n",
       "\n",
       "    .dataframe thead tr:last-of-type th {\n",
       "        text-align: right;\n",
       "    }\n",
       "</style>\n",
       "<table border=\"1\" class=\"dataframe\">\n",
       "  <thead>\n",
       "    <tr>\n",
       "      <th></th>\n",
       "      <th></th>\n",
       "      <th>sum</th>\n",
       "      <th>percent</th>\n",
       "    </tr>\n",
       "    <tr>\n",
       "      <th></th>\n",
       "      <th></th>\n",
       "      <th>sales</th>\n",
       "      <th></th>\n",
       "    </tr>\n",
       "    <tr>\n",
       "      <th>region</th>\n",
       "      <th>sale_group</th>\n",
       "      <th></th>\n",
       "      <th></th>\n",
       "    </tr>\n",
       "  </thead>\n",
       "  <tbody>\n",
       "    <tr>\n",
       "      <th rowspan=\"3\" valign=\"top\">Владивосток</th>\n",
       "      <th>big</th>\n",
       "      <td>2.751928e+07</td>\n",
       "      <td>0.430307</td>\n",
       "    </tr>\n",
       "    <tr>\n",
       "      <th>medium</th>\n",
       "      <td>3.201702e+07</td>\n",
       "      <td>0.500636</td>\n",
       "    </tr>\n",
       "    <tr>\n",
       "      <th>small</th>\n",
       "      <td>4.416384e+06</td>\n",
       "      <td>0.069057</td>\n",
       "    </tr>\n",
       "    <tr>\n",
       "      <th rowspan=\"3\" valign=\"top\">Калиниград</th>\n",
       "      <th>big</th>\n",
       "      <td>3.078471e+07</td>\n",
       "      <td>0.427980</td>\n",
       "    </tr>\n",
       "    <tr>\n",
       "      <th>medium</th>\n",
       "      <td>3.580728e+07</td>\n",
       "      <td>0.497805</td>\n",
       "    </tr>\n",
       "    <tr>\n",
       "      <th>small</th>\n",
       "      <td>5.338313e+06</td>\n",
       "      <td>0.074215</td>\n",
       "    </tr>\n",
       "    <tr>\n",
       "      <th rowspan=\"3\" valign=\"top\">Москва</th>\n",
       "      <th>big</th>\n",
       "      <td>1.575436e+07</td>\n",
       "      <td>0.427044</td>\n",
       "    </tr>\n",
       "    <tr>\n",
       "      <th>medium</th>\n",
       "      <td>1.851146e+07</td>\n",
       "      <td>0.501779</td>\n",
       "    </tr>\n",
       "    <tr>\n",
       "      <th>small</th>\n",
       "      <td>2.625824e+06</td>\n",
       "      <td>0.071177</td>\n",
       "    </tr>\n",
       "    <tr>\n",
       "      <th rowspan=\"3\" valign=\"top\">Урал</th>\n",
       "      <th>big</th>\n",
       "      <td>2.231204e+07</td>\n",
       "      <td>0.430248</td>\n",
       "    </tr>\n",
       "    <tr>\n",
       "      <th>medium</th>\n",
       "      <td>2.582963e+07</td>\n",
       "      <td>0.498078</td>\n",
       "    </tr>\n",
       "    <tr>\n",
       "      <th>small</th>\n",
       "      <td>3.716921e+06</td>\n",
       "      <td>0.071674</td>\n",
       "    </tr>\n",
       "  </tbody>\n",
       "</table>\n",
       "</div>"
      ],
      "text/plain": [
       "                                 sum   percent\n",
       "                               sales          \n",
       "region      sale_group                        \n",
       "Владивосток big         2.751928e+07  0.430307\n",
       "            medium      3.201702e+07  0.500636\n",
       "            small       4.416384e+06  0.069057\n",
       "Калиниград  big         3.078471e+07  0.427980\n",
       "            medium      3.580728e+07  0.497805\n",
       "            small       5.338313e+06  0.074215\n",
       "Москва      big         1.575436e+07  0.427044\n",
       "            medium      1.851146e+07  0.501779\n",
       "            small       2.625824e+06  0.071177\n",
       "Урал        big         2.231204e+07  0.430248\n",
       "            medium      2.582963e+07  0.498078\n",
       "            small       3.716921e+06  0.071674"
      ]
     },
     "execution_count": 29,
     "metadata": {},
     "output_type": "execute_result"
    }
   ],
   "source": [
    "reg_group_sales_sum"
   ]
  },
  {
   "cell_type": "code",
   "execution_count": 30,
   "id": "a37e1abf-629d-4a9c-866c-78b6557bee03",
   "metadata": {},
   "outputs": [
    {
     "data": {},
     "metadata": {},
     "output_type": "display_data"
    },
    {
     "data": {
      "application/vnd.holoviews_exec.v0+json": "",
      "text/html": [
       "<div id='p2295'>\n",
       "  <div id=\"d6cfdc0c-485d-4dfe-86b8-40f8e2452d7c\" data-root-id=\"p2295\" style=\"display: contents;\"></div>\n",
       "</div>\n",
       "<script type=\"application/javascript\">(function(root) {\n",
       "  var docs_json = {\"47066377-14a1-4afc-abd6-fff365941260\":{\"version\":\"3.4.1\",\"title\":\"Bokeh Application\",\"roots\":[{\"type\":\"object\",\"name\":\"Row\",\"id\":\"p2295\",\"attributes\":{\"name\":\"Row03114\",\"tags\":[\"embedded\"],\"stylesheets\":[\"\\n:host(.pn-loading):before, .pn-loading:before {\\n  background-color: #c3c3c3;\\n  mask-size: auto calc(min(50%, 400px));\\n  -webkit-mask-size: auto calc(min(50%, 400px));\\n}\",{\"type\":\"object\",\"name\":\"ImportedStyleSheet\",\"id\":\"p2298\",\"attributes\":{\"url\":\"https://cdn.holoviz.org/panel/1.4.4/dist/css/loading.css\"}},{\"type\":\"object\",\"name\":\"ImportedStyleSheet\",\"id\":\"p2355\",\"attributes\":{\"url\":\"https://cdn.holoviz.org/panel/1.4.4/dist/css/listpanel.css\"}},{\"type\":\"object\",\"name\":\"ImportedStyleSheet\",\"id\":\"p2296\",\"attributes\":{\"url\":\"https://cdn.holoviz.org/panel/1.4.4/dist/bundled/theme/default.css\"}},{\"type\":\"object\",\"name\":\"ImportedStyleSheet\",\"id\":\"p2297\",\"attributes\":{\"url\":\"https://cdn.holoviz.org/panel/1.4.4/dist/bundled/theme/native.css\"}}],\"min_width\":700,\"margin\":0,\"sizing_mode\":\"stretch_width\",\"align\":\"start\",\"children\":[{\"type\":\"object\",\"name\":\"Spacer\",\"id\":\"p2299\",\"attributes\":{\"name\":\"HSpacer03121\",\"stylesheets\":[\"\\n:host(.pn-loading):before, .pn-loading:before {\\n  background-color: #c3c3c3;\\n  mask-size: auto calc(min(50%, 400px));\\n  -webkit-mask-size: auto calc(min(50%, 400px));\\n}\",{\"id\":\"p2298\"},{\"id\":\"p2296\"},{\"id\":\"p2297\"}],\"margin\":0,\"sizing_mode\":\"stretch_width\",\"align\":\"start\"}},{\"type\":\"object\",\"name\":\"Figure\",\"id\":\"p2307\",\"attributes\":{\"width\":700,\"height\":300,\"margin\":[5,10],\"sizing_mode\":\"fixed\",\"align\":\"start\",\"x_range\":{\"type\":\"object\",\"name\":\"FactorRange\",\"id\":\"p2300\",\"attributes\":{\"tags\":[[[\"region\",null],[\"sale_group\",null]],[]],\"factors\":[[\"\\u0412\\u043b\\u0430\\u0434\\u0438\\u0432\\u043e\\u0441\\u0442\\u043e\\u043a\",\"big\"],[\"\\u0412\\u043b\\u0430\\u0434\\u0438\\u0432\\u043e\\u0441\\u0442\\u043e\\u043a\",\"medium\"],[\"\\u0412\\u043b\\u0430\\u0434\\u0438\\u0432\\u043e\\u0441\\u0442\\u043e\\u043a\",\"small\"],[\"\\u041a\\u0430\\u043b\\u0438\\u043d\\u0438\\u0433\\u0440\\u0430\\u0434\",\"big\"],[\"\\u041a\\u0430\\u043b\\u0438\\u043d\\u0438\\u0433\\u0440\\u0430\\u0434\",\"medium\"],[\"\\u041a\\u0430\\u043b\\u0438\\u043d\\u0438\\u0433\\u0440\\u0430\\u0434\",\"small\"],[\"\\u041c\\u043e\\u0441\\u043a\\u0432\\u0430\",\"big\"],[\"\\u041c\\u043e\\u0441\\u043a\\u0432\\u0430\",\"medium\"],[\"\\u041c\\u043e\\u0441\\u043a\\u0432\\u0430\",\"small\"],[\"\\u0423\\u0440\\u0430\\u043b\",\"big\"],[\"\\u0423\\u0440\\u0430\\u043b\",\"medium\"],[\"\\u0423\\u0440\\u0430\\u043b\",\"small\"]]}},\"y_range\":{\"type\":\"object\",\"name\":\"Range1d\",\"id\":\"p2301\",\"attributes\":{\"tags\":[[[\"sales\",null]],{\"type\":\"map\",\"entries\":[[\"invert_yaxis\",false],[\"autorange\",false]]}],\"end\":39125425.4136,\"reset_start\":0.0,\"reset_end\":39125425.4136}},\"x_scale\":{\"type\":\"object\",\"name\":\"CategoricalScale\",\"id\":\"p2317\"},\"y_scale\":{\"type\":\"object\",\"name\":\"LinearScale\",\"id\":\"p2318\"},\"title\":{\"type\":\"object\",\"name\":\"Title\",\"id\":\"p2310\",\"attributes\":{\"text\":\"Region / Sales\",\"text_color\":\"black\",\"text_font_size\":\"12pt\"}},\"renderers\":[{\"type\":\"object\",\"name\":\"GlyphRenderer\",\"id\":\"p2348\",\"attributes\":{\"data_source\":{\"type\":\"object\",\"name\":\"ColumnDataSource\",\"id\":\"p2339\",\"attributes\":{\"selected\":{\"type\":\"object\",\"name\":\"Selection\",\"id\":\"p2340\",\"attributes\":{\"indices\":[],\"line_indices\":[]}},\"selection_policy\":{\"type\":\"object\",\"name\":\"UnionRenderers\",\"id\":\"p2341\"},\"data\":{\"type\":\"map\",\"entries\":[[\"xoffsets\",[[\"\\u0412\\u043b\\u0430\\u0434\\u0438\\u0432\\u043e\\u0441\\u0442\\u043e\\u043a\",\"big\"],[\"\\u041a\\u0430\\u043b\\u0438\\u043d\\u0438\\u0433\\u0440\\u0430\\u0434\",\"big\"],[\"\\u041c\\u043e\\u0441\\u043a\\u0432\\u0430\",\"big\"],[\"\\u0423\\u0440\\u0430\\u043b\",\"big\"],[\"\\u0412\\u043b\\u0430\\u0434\\u0438\\u0432\\u043e\\u0441\\u0442\\u043e\\u043a\",\"medium\"],[\"\\u041a\\u0430\\u043b\\u0438\\u043d\\u0438\\u0433\\u0440\\u0430\\u0434\",\"medium\"],[\"\\u041c\\u043e\\u0441\\u043a\\u0432\\u0430\",\"medium\"],[\"\\u0423\\u0440\\u0430\\u043b\",\"medium\"],[\"\\u0412\\u043b\\u0430\\u0434\\u0438\\u0432\\u043e\\u0441\\u0442\\u043e\\u043a\",\"small\"],[\"\\u041a\\u0430\\u043b\\u0438\\u043d\\u0438\\u0433\\u0440\\u0430\\u0434\",\"small\"],[\"\\u041c\\u043e\\u0441\\u043a\\u0432\\u0430\",\"small\"],[\"\\u0423\\u0440\\u0430\\u043b\",\"small\"]]],[\"sales\",{\"type\":\"ndarray\",\"array\":{\"type\":\"bytes\",\"data\":\"16Nw9ZI+ekEAAAAwzFt9QXsUrmePDG5BmpmZMUZHdUFSuB71p4h+QWZmZn4BE4FBXI/CiWancUEpXI/yD6J4QWZmZg7g2FBBmG4SOzJdVEG28/3UjwhEQRfZzrecW0xB\"},\"shape\":[12],\"dtype\":\"float64\",\"order\":\"little\"}],[\"region\",[\"\\u0412\\u043b\\u0430\\u0434\\u0438\\u0432\\u043e\\u0441\\u0442\\u043e\\u043a\",\"\\u041a\\u0430\\u043b\\u0438\\u043d\\u0438\\u0433\\u0440\\u0430\\u0434\",\"\\u041c\\u043e\\u0441\\u043a\\u0432\\u0430\",\"\\u0423\\u0440\\u0430\\u043b\",\"\\u0412\\u043b\\u0430\\u0434\\u0438\\u0432\\u043e\\u0441\\u0442\\u043e\\u043a\",\"\\u041a\\u0430\\u043b\\u0438\\u043d\\u0438\\u0433\\u0440\\u0430\\u0434\",\"\\u041c\\u043e\\u0441\\u043a\\u0432\\u0430\",\"\\u0423\\u0440\\u0430\\u043b\",\"\\u0412\\u043b\\u0430\\u0434\\u0438\\u0432\\u043e\\u0441\\u0442\\u043e\\u043a\",\"\\u041a\\u0430\\u043b\\u0438\\u043d\\u0438\\u0433\\u0440\\u0430\\u0434\",\"\\u041c\\u043e\\u0441\\u043a\\u0432\\u0430\",\"\\u0423\\u0440\\u0430\\u043b\"]],[\"sale_group\",[\"big\",\"big\",\"big\",\"big\",\"medium\",\"medium\",\"medium\",\"medium\",\"small\",\"small\",\"small\",\"small\"]]]}}},\"view\":{\"type\":\"object\",\"name\":\"CDSView\",\"id\":\"p2349\",\"attributes\":{\"filter\":{\"type\":\"object\",\"name\":\"AllIndices\",\"id\":\"p2350\"}}},\"glyph\":{\"type\":\"object\",\"name\":\"VBar\",\"id\":\"p2345\",\"attributes\":{\"tags\":[\"apply_ranges\"],\"x\":{\"type\":\"field\",\"field\":\"xoffsets\"},\"width\":{\"type\":\"value\",\"value\":0.8},\"top\":{\"type\":\"field\",\"field\":\"sales\"},\"fill_color\":{\"type\":\"field\",\"field\":\"sale_group\",\"transform\":{\"type\":\"object\",\"name\":\"CategoricalColorMapper\",\"id\":\"p2338\",\"attributes\":{\"palette\":[\"#30a2da\",\"#fc4f30\",\"#e5ae38\"],\"factors\":[\"big\",\"medium\",\"small\"]}}},\"hatch_color\":{\"type\":\"field\",\"field\":\"sale_group\",\"transform\":{\"id\":\"p2338\"}}}},\"selection_glyph\":{\"type\":\"object\",\"name\":\"VBar\",\"id\":\"p2351\",\"attributes\":{\"tags\":[\"apply_ranges\"],\"x\":{\"type\":\"field\",\"field\":\"xoffsets\"},\"width\":{\"type\":\"value\",\"value\":0.8},\"bottom\":{\"type\":\"value\",\"value\":0},\"top\":{\"type\":\"field\",\"field\":\"sales\"},\"line_color\":{\"type\":\"value\",\"value\":\"black\"},\"line_alpha\":{\"type\":\"value\",\"value\":1.0},\"line_width\":{\"type\":\"value\",\"value\":1},\"line_join\":{\"type\":\"value\",\"value\":\"bevel\"},\"line_cap\":{\"type\":\"value\",\"value\":\"butt\"},\"line_dash\":{\"type\":\"value\",\"value\":[]},\"line_dash_offset\":{\"type\":\"value\",\"value\":0},\"fill_color\":{\"type\":\"field\",\"field\":\"sale_group\",\"transform\":{\"id\":\"p2338\"}},\"fill_alpha\":{\"type\":\"value\",\"value\":1.0},\"hatch_color\":{\"type\":\"field\",\"field\":\"sale_group\",\"transform\":{\"id\":\"p2338\"}},\"hatch_alpha\":{\"type\":\"value\",\"value\":1.0},\"hatch_scale\":{\"type\":\"value\",\"value\":12.0},\"hatch_pattern\":{\"type\":\"value\",\"value\":null},\"hatch_weight\":{\"type\":\"value\",\"value\":1.0}}},\"nonselection_glyph\":{\"type\":\"object\",\"name\":\"VBar\",\"id\":\"p2346\",\"attributes\":{\"tags\":[\"apply_ranges\"],\"x\":{\"type\":\"field\",\"field\":\"xoffsets\"},\"width\":{\"type\":\"value\",\"value\":0.8},\"top\":{\"type\":\"field\",\"field\":\"sales\"},\"line_alpha\":{\"type\":\"value\",\"value\":0.1},\"fill_color\":{\"type\":\"field\",\"field\":\"sale_group\",\"transform\":{\"id\":\"p2338\"}},\"fill_alpha\":{\"type\":\"value\",\"value\":0.1},\"hatch_color\":{\"type\":\"field\",\"field\":\"sale_group\",\"transform\":{\"id\":\"p2338\"}},\"hatch_alpha\":{\"type\":\"value\",\"value\":0.1}}},\"muted_glyph\":{\"type\":\"object\",\"name\":\"VBar\",\"id\":\"p2347\",\"attributes\":{\"tags\":[\"apply_ranges\"],\"x\":{\"type\":\"field\",\"field\":\"xoffsets\"},\"width\":{\"type\":\"value\",\"value\":0.8},\"top\":{\"type\":\"field\",\"field\":\"sales\"},\"line_alpha\":{\"type\":\"value\",\"value\":0.2},\"fill_color\":{\"type\":\"field\",\"field\":\"sale_group\",\"transform\":{\"id\":\"p2338\"}},\"fill_alpha\":{\"type\":\"value\",\"value\":0.2},\"hatch_color\":{\"type\":\"field\",\"field\":\"sale_group\",\"transform\":{\"id\":\"p2338\"}},\"hatch_alpha\":{\"type\":\"value\",\"value\":0.2}}}}}],\"toolbar\":{\"type\":\"object\",\"name\":\"Toolbar\",\"id\":\"p2316\",\"attributes\":{\"tools\":[{\"type\":\"object\",\"name\":\"WheelZoomTool\",\"id\":\"p2305\",\"attributes\":{\"tags\":[\"hv_created\"],\"renderers\":\"auto\",\"zoom_together\":\"none\"}},{\"type\":\"object\",\"name\":\"HoverTool\",\"id\":\"p2306\",\"attributes\":{\"tags\":[\"hv_created\"],\"renderers\":[{\"id\":\"p2348\"}],\"tooltips\":[[\"region\",\"@{region}\"],[\"sale_group\",\"@{sale_group}\"],[\"sales\",\"@{sales}\"]]}},{\"type\":\"object\",\"name\":\"SaveTool\",\"id\":\"p2329\"},{\"type\":\"object\",\"name\":\"PanTool\",\"id\":\"p2330\"},{\"type\":\"object\",\"name\":\"BoxZoomTool\",\"id\":\"p2331\",\"attributes\":{\"overlay\":{\"type\":\"object\",\"name\":\"BoxAnnotation\",\"id\":\"p2332\",\"attributes\":{\"syncable\":false,\"level\":\"overlay\",\"visible\":false,\"left\":{\"type\":\"number\",\"value\":\"nan\"},\"right\":{\"type\":\"number\",\"value\":\"nan\"},\"top\":{\"type\":\"number\",\"value\":\"nan\"},\"bottom\":{\"type\":\"number\",\"value\":\"nan\"},\"left_units\":\"canvas\",\"right_units\":\"canvas\",\"top_units\":\"canvas\",\"bottom_units\":\"canvas\",\"line_color\":\"black\",\"line_alpha\":1.0,\"line_width\":2,\"line_dash\":[4,4],\"fill_color\":\"lightgrey\",\"fill_alpha\":0.5}}}},{\"type\":\"object\",\"name\":\"ResetTool\",\"id\":\"p2337\"}],\"active_drag\":{\"id\":\"p2330\"},\"active_scroll\":{\"id\":\"p2305\"}}},\"left\":[{\"type\":\"object\",\"name\":\"LinearAxis\",\"id\":\"p2324\",\"attributes\":{\"ticker\":{\"type\":\"object\",\"name\":\"BasicTicker\",\"id\":\"p2325\",\"attributes\":{\"mantissas\":[1,2,5]}},\"formatter\":{\"type\":\"object\",\"name\":\"NumeralTickFormatter\",\"id\":\"p1004\",\"attributes\":{\"format\":\"0.00\"}},\"axis_label\":\"sales\",\"major_label_policy\":{\"type\":\"object\",\"name\":\"AllLabels\",\"id\":\"p2327\"}}}],\"below\":[{\"type\":\"object\",\"name\":\"CategoricalAxis\",\"id\":\"p2319\",\"attributes\":{\"ticker\":{\"type\":\"object\",\"name\":\"CategoricalTicker\",\"id\":\"p2320\"},\"formatter\":{\"type\":\"object\",\"name\":\"CategoricalTickFormatter\",\"id\":\"p2321\"},\"axis_label\":\"region, sale_group\",\"major_label_policy\":{\"type\":\"object\",\"name\":\"AllLabels\",\"id\":\"p2322\"}}}],\"center\":[{\"type\":\"object\",\"name\":\"Grid\",\"id\":\"p2323\",\"attributes\":{\"axis\":{\"id\":\"p2319\"},\"grid_line_color\":null}},{\"type\":\"object\",\"name\":\"Grid\",\"id\":\"p2328\",\"attributes\":{\"dimension\":1,\"axis\":{\"id\":\"p2324\"},\"grid_line_color\":null}}],\"min_border_top\":10,\"min_border_bottom\":10,\"min_border_left\":10,\"min_border_right\":10,\"output_backend\":\"webgl\"}},{\"type\":\"object\",\"name\":\"Spacer\",\"id\":\"p2353\",\"attributes\":{\"name\":\"HSpacer03122\",\"stylesheets\":[\"\\n:host(.pn-loading):before, .pn-loading:before {\\n  background-color: #c3c3c3;\\n  mask-size: auto calc(min(50%, 400px));\\n  -webkit-mask-size: auto calc(min(50%, 400px));\\n}\",{\"id\":\"p2298\"},{\"id\":\"p2296\"},{\"id\":\"p2297\"}],\"margin\":0,\"sizing_mode\":\"stretch_width\",\"align\":\"start\"}}]}}],\"defs\":[{\"type\":\"model\",\"name\":\"ReactiveHTML1\"},{\"type\":\"model\",\"name\":\"FlexBox1\",\"properties\":[{\"name\":\"align_content\",\"kind\":\"Any\",\"default\":\"flex-start\"},{\"name\":\"align_items\",\"kind\":\"Any\",\"default\":\"flex-start\"},{\"name\":\"flex_direction\",\"kind\":\"Any\",\"default\":\"row\"},{\"name\":\"flex_wrap\",\"kind\":\"Any\",\"default\":\"wrap\"},{\"name\":\"gap\",\"kind\":\"Any\",\"default\":\"\"},{\"name\":\"justify_content\",\"kind\":\"Any\",\"default\":\"flex-start\"}]},{\"type\":\"model\",\"name\":\"FloatPanel1\",\"properties\":[{\"name\":\"config\",\"kind\":\"Any\",\"default\":{\"type\":\"map\"}},{\"name\":\"contained\",\"kind\":\"Any\",\"default\":true},{\"name\":\"position\",\"kind\":\"Any\",\"default\":\"right-top\"},{\"name\":\"offsetx\",\"kind\":\"Any\",\"default\":null},{\"name\":\"offsety\",\"kind\":\"Any\",\"default\":null},{\"name\":\"theme\",\"kind\":\"Any\",\"default\":\"primary\"},{\"name\":\"status\",\"kind\":\"Any\",\"default\":\"normalized\"}]},{\"type\":\"model\",\"name\":\"GridStack1\",\"properties\":[{\"name\":\"mode\",\"kind\":\"Any\",\"default\":\"warn\"},{\"name\":\"ncols\",\"kind\":\"Any\",\"default\":null},{\"name\":\"nrows\",\"kind\":\"Any\",\"default\":null},{\"name\":\"allow_resize\",\"kind\":\"Any\",\"default\":true},{\"name\":\"allow_drag\",\"kind\":\"Any\",\"default\":true},{\"name\":\"state\",\"kind\":\"Any\",\"default\":[]}]},{\"type\":\"model\",\"name\":\"drag1\",\"properties\":[{\"name\":\"slider_width\",\"kind\":\"Any\",\"default\":5},{\"name\":\"slider_color\",\"kind\":\"Any\",\"default\":\"black\"},{\"name\":\"value\",\"kind\":\"Any\",\"default\":50}]},{\"type\":\"model\",\"name\":\"click1\",\"properties\":[{\"name\":\"terminal_output\",\"kind\":\"Any\",\"default\":\"\"},{\"name\":\"debug_name\",\"kind\":\"Any\",\"default\":\"\"},{\"name\":\"clears\",\"kind\":\"Any\",\"default\":0}]},{\"type\":\"model\",\"name\":\"FastWrapper1\",\"properties\":[{\"name\":\"object\",\"kind\":\"Any\",\"default\":null},{\"name\":\"style\",\"kind\":\"Any\",\"default\":null}]},{\"type\":\"model\",\"name\":\"NotificationAreaBase1\",\"properties\":[{\"name\":\"js_events\",\"kind\":\"Any\",\"default\":{\"type\":\"map\"}},{\"name\":\"position\",\"kind\":\"Any\",\"default\":\"bottom-right\"},{\"name\":\"_clear\",\"kind\":\"Any\",\"default\":0}]},{\"type\":\"model\",\"name\":\"NotificationArea1\",\"properties\":[{\"name\":\"js_events\",\"kind\":\"Any\",\"default\":{\"type\":\"map\"}},{\"name\":\"notifications\",\"kind\":\"Any\",\"default\":[]},{\"name\":\"position\",\"kind\":\"Any\",\"default\":\"bottom-right\"},{\"name\":\"_clear\",\"kind\":\"Any\",\"default\":0},{\"name\":\"types\",\"kind\":\"Any\",\"default\":[{\"type\":\"map\",\"entries\":[[\"type\",\"warning\"],[\"background\",\"#ffc107\"],[\"icon\",{\"type\":\"map\",\"entries\":[[\"className\",\"fas fa-exclamation-triangle\"],[\"tagName\",\"i\"],[\"color\",\"white\"]]}]]},{\"type\":\"map\",\"entries\":[[\"type\",\"info\"],[\"background\",\"#007bff\"],[\"icon\",{\"type\":\"map\",\"entries\":[[\"className\",\"fas fa-info-circle\"],[\"tagName\",\"i\"],[\"color\",\"white\"]]}]]}]}]},{\"type\":\"model\",\"name\":\"Notification\",\"properties\":[{\"name\":\"background\",\"kind\":\"Any\",\"default\":null},{\"name\":\"duration\",\"kind\":\"Any\",\"default\":3000},{\"name\":\"icon\",\"kind\":\"Any\",\"default\":null},{\"name\":\"message\",\"kind\":\"Any\",\"default\":\"\"},{\"name\":\"notification_type\",\"kind\":\"Any\",\"default\":null},{\"name\":\"_destroyed\",\"kind\":\"Any\",\"default\":false}]},{\"type\":\"model\",\"name\":\"TemplateActions1\",\"properties\":[{\"name\":\"open_modal\",\"kind\":\"Any\",\"default\":0},{\"name\":\"close_modal\",\"kind\":\"Any\",\"default\":0}]},{\"type\":\"model\",\"name\":\"BootstrapTemplateActions1\",\"properties\":[{\"name\":\"open_modal\",\"kind\":\"Any\",\"default\":0},{\"name\":\"close_modal\",\"kind\":\"Any\",\"default\":0}]},{\"type\":\"model\",\"name\":\"TemplateEditor1\",\"properties\":[{\"name\":\"layout\",\"kind\":\"Any\",\"default\":[]}]},{\"type\":\"model\",\"name\":\"MaterialTemplateActions1\",\"properties\":[{\"name\":\"open_modal\",\"kind\":\"Any\",\"default\":0},{\"name\":\"close_modal\",\"kind\":\"Any\",\"default\":0}]},{\"type\":\"model\",\"name\":\"copy_to_clipboard1\",\"properties\":[{\"name\":\"fill\",\"kind\":\"Any\",\"default\":\"none\"},{\"name\":\"value\",\"kind\":\"Any\",\"default\":null}]}]}};\n",
       "  var render_items = [{\"docid\":\"47066377-14a1-4afc-abd6-fff365941260\",\"roots\":{\"p2295\":\"d6cfdc0c-485d-4dfe-86b8-40f8e2452d7c\"},\"root_ids\":[\"p2295\"]}];\n",
       "  var docs = Object.values(docs_json)\n",
       "  if (!docs) {\n",
       "    return\n",
       "  }\n",
       "  const py_version = docs[0].version.replace('rc', '-rc.').replace('.dev', '-dev.')\n",
       "  async function embed_document(root) {\n",
       "    var Bokeh = get_bokeh(root)\n",
       "    await Bokeh.embed.embed_items_notebook(docs_json, render_items);\n",
       "    for (const render_item of render_items) {\n",
       "      for (const root_id of render_item.root_ids) {\n",
       "\tconst id_el = document.getElementById(root_id)\n",
       "\tif (id_el.children.length && id_el.children[0].hasAttribute('data-root-id')) {\n",
       "\t  const root_el = id_el.children[0]\n",
       "\t  root_el.id = root_el.id + '-rendered'\n",
       "\t  for (const child of root_el.children) {\n",
       "            // Ensure JupyterLab does not capture keyboard shortcuts\n",
       "            // see: https://jupyterlab.readthedocs.io/en/4.1.x/extension/notebook.html#keyboard-interaction-model\n",
       "\t    child.setAttribute('data-lm-suppress-shortcuts', 'true')\n",
       "\t  }\n",
       "\t}\n",
       "      }\n",
       "    }\n",
       "  }\n",
       "  function get_bokeh(root) {\n",
       "    if (root.Bokeh === undefined) {\n",
       "      return null\n",
       "    } else if (root.Bokeh.version !== py_version) {\n",
       "      if (root.Bokeh.versions === undefined || !root.Bokeh.versions.has(py_version)) {\n",
       "\treturn null\n",
       "      }\n",
       "      return root.Bokeh.versions.get(py_version);\n",
       "    } else if (root.Bokeh.version === py_version) {\n",
       "      return root.Bokeh\n",
       "    }\n",
       "    return null\n",
       "  }\n",
       "  function is_loaded(root) {\n",
       "    var Bokeh = get_bokeh(root)\n",
       "    return (Bokeh != null && Bokeh.Panel !== undefined)\n",
       "  }\n",
       "  if (is_loaded(root)) {\n",
       "    embed_document(root);\n",
       "  } else {\n",
       "    var attempts = 0;\n",
       "    var timer = setInterval(function(root) {\n",
       "      if (is_loaded(root)) {\n",
       "        clearInterval(timer);\n",
       "        embed_document(root);\n",
       "      } else if (document.readyState == \"complete\") {\n",
       "        attempts++;\n",
       "        if (attempts > 200) {\n",
       "          clearInterval(timer);\n",
       "\t  var Bokeh = get_bokeh(root)\n",
       "\t  if (Bokeh == null || Bokeh.Panel == null) {\n",
       "            console.warn(\"Panel: ERROR: Unable to run Panel code because Bokeh or Panel library is missing\");\n",
       "\t  } else {\n",
       "\t    console.warn(\"Panel: WARNING: Attempting to render but not all required libraries could be resolved.\")\n",
       "\t    embed_document(root)\n",
       "\t  }\n",
       "        }\n",
       "      }\n",
       "    }, 25, root)\n",
       "  }\n",
       "})(window);</script>"
      ],
      "text/plain": [
       ":Bars   [region,sale_group]   (sales)"
      ]
     },
     "execution_count": 30,
     "metadata": {
      "application/vnd.holoviews_exec.v0+json": {
       "id": "p2295"
      }
     },
     "output_type": "execute_result"
    }
   ],
   "source": [
    "df.pivot_table(index=[\"region\", \"sale_group\"], values=\"sales\", aggfunc=\"sum\").hvplot(kind=\"bar\", title=\"Region / Sales\", yformatter=float_format)"
   ]
  },
  {
   "cell_type": "markdown",
   "id": "90d293cb-bf64-45e5-811e-fe18ce9db7a1",
   "metadata": {},
   "source": [
    "### Вывод\n",
    "\n",
    "Основные тенденции и паттерны:\n",
    "- в каждом регионе доля продаж среднего объёма составляет около 50%;\n",
    "- в каждом регионе доля низкого объём продаж составляет около 7%;\n",
    "- в каждом регионе доля высокого объёма продаж составляет около 43%;\n",
    "- абсолютный показатель продаж возрастает по регионам в порядке: Москва, Урал, Владивосток, Калиниград.\n",
    "\n",
    "Визуально можно определить наиболее прибыльную группу - средние продажи."
   ]
  },
  {
   "cell_type": "code",
   "execution_count": null,
   "id": "0514e85c-f15f-478f-a9b8-6e8f6efbdbfc",
   "metadata": {},
   "outputs": [],
   "source": []
  }
 ],
 "metadata": {
  "kernelspec": {
   "display_name": "Python 3 (ipykernel)",
   "language": "python",
   "name": "python3"
  },
  "language_info": {
   "codemirror_mode": {
    "name": "ipython",
    "version": 3
   },
   "file_extension": ".py",
   "mimetype": "text/x-python",
   "name": "python",
   "nbconvert_exporter": "python",
   "pygments_lexer": "ipython3",
   "version": "3.12.4"
  }
 },
 "nbformat": 4,
 "nbformat_minor": 5
}
